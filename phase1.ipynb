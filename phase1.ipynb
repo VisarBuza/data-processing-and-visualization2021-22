{
  "nbformat": 4,
  "nbformat_minor": 0,
  "metadata": {
    "colab": {
      "name": "phase1.ipynb",
      "provenance": [],
      "collapsed_sections": [],
      "include_colab_link": true
    },
    "kernelspec": {
      "name": "python3",
      "display_name": "Python 3"
    },
    "language_info": {
      "name": "python"
    }
  },
  "cells": [
    {
      "cell_type": "markdown",
      "metadata": {
        "id": "view-in-github",
        "colab_type": "text"
      },
      "source": [
        "<a href=\"https://colab.research.google.com/github/VisarBuza/data-processing-and-visualization2021-22/blob/main/phase1.ipynb\" target=\"_parent\"><img src=\"https://colab.research.google.com/assets/colab-badge.svg\" alt=\"Open In Colab\"/></a>"
      ]
    },
    {
      "cell_type": "code",
      "execution_count": null,
      "metadata": {
        "id": "q1xmO0xutOC6"
      },
      "outputs": [],
      "source": [
        "import pandas as pd \n",
        "import collections\n",
        "\n",
        "df = pd.read_csv(\"/content/sample_data/amazon_prime_titles.csv\")"
      ]
    },
    {
      "cell_type": "markdown",
      "source": [
        "Sample output of the first five rows"
      ],
      "metadata": {
        "id": "nCao039gxScj"
      }
    },
    {
      "cell_type": "code",
      "source": [
        "df.head()"
      ],
      "metadata": {
        "id": "i9u2ueYjxU6f",
        "colab": {
          "base_uri": "https://localhost:8080/",
          "height": 293
        },
        "outputId": "9acddaa4-e2d4-46a4-e411-b284019434d0"
      },
      "execution_count": null,
      "outputs": [
        {
          "output_type": "execute_result",
          "data": {
            "text/html": [
              "<div>\n",
              "<style scoped>\n",
              "    .dataframe tbody tr th:only-of-type {\n",
              "        vertical-align: middle;\n",
              "    }\n",
              "\n",
              "    .dataframe tbody tr th {\n",
              "        vertical-align: top;\n",
              "    }\n",
              "\n",
              "    .dataframe thead th {\n",
              "        text-align: right;\n",
              "    }\n",
              "</style>\n",
              "<table border=\"1\" class=\"dataframe\">\n",
              "  <thead>\n",
              "    <tr style=\"text-align: right;\">\n",
              "      <th></th>\n",
              "      <th>show_id</th>\n",
              "      <th>type</th>\n",
              "      <th>title</th>\n",
              "      <th>director</th>\n",
              "      <th>cast</th>\n",
              "      <th>country</th>\n",
              "      <th>date_added</th>\n",
              "      <th>release_year</th>\n",
              "      <th>rating</th>\n",
              "      <th>duration</th>\n",
              "      <th>listed_in</th>\n",
              "      <th>description</th>\n",
              "    </tr>\n",
              "  </thead>\n",
              "  <tbody>\n",
              "    <tr>\n",
              "      <th>0</th>\n",
              "      <td>s1</td>\n",
              "      <td>Movie</td>\n",
              "      <td>The Grand Seduction</td>\n",
              "      <td>Don McKellar</td>\n",
              "      <td>Brendan Gleeson, Taylor Kitsch, Gordon Pinsent</td>\n",
              "      <td>Canada</td>\n",
              "      <td>March 30, 2021</td>\n",
              "      <td>2014</td>\n",
              "      <td>NaN</td>\n",
              "      <td>113 min</td>\n",
              "      <td>Comedy, Drama</td>\n",
              "      <td>A small fishing village must procure a local d...</td>\n",
              "    </tr>\n",
              "    <tr>\n",
              "      <th>1</th>\n",
              "      <td>s2</td>\n",
              "      <td>Movie</td>\n",
              "      <td>Take Care Good Night</td>\n",
              "      <td>Girish Joshi</td>\n",
              "      <td>Mahesh Manjrekar, Abhay Mahajan, Sachin Khedekar</td>\n",
              "      <td>India</td>\n",
              "      <td>March 30, 2021</td>\n",
              "      <td>2018</td>\n",
              "      <td>13+</td>\n",
              "      <td>110 min</td>\n",
              "      <td>Drama, International</td>\n",
              "      <td>A Metro Family decides to fight a Cyber Crimin...</td>\n",
              "    </tr>\n",
              "    <tr>\n",
              "      <th>2</th>\n",
              "      <td>s3</td>\n",
              "      <td>Movie</td>\n",
              "      <td>Secrets of Deception</td>\n",
              "      <td>Josh Webber</td>\n",
              "      <td>Tom Sizemore, Lorenzo Lamas, Robert LaSardo, R...</td>\n",
              "      <td>United States</td>\n",
              "      <td>March 30, 2021</td>\n",
              "      <td>2017</td>\n",
              "      <td>NaN</td>\n",
              "      <td>74 min</td>\n",
              "      <td>Action, Drama, Suspense</td>\n",
              "      <td>After a man discovers his wife is cheating on ...</td>\n",
              "    </tr>\n",
              "    <tr>\n",
              "      <th>3</th>\n",
              "      <td>s4</td>\n",
              "      <td>Movie</td>\n",
              "      <td>Pink: Staying True</td>\n",
              "      <td>Sonia Anderson</td>\n",
              "      <td>Interviews with: Pink, Adele, Beyoncé, Britney...</td>\n",
              "      <td>United States</td>\n",
              "      <td>March 30, 2021</td>\n",
              "      <td>2014</td>\n",
              "      <td>NaN</td>\n",
              "      <td>69 min</td>\n",
              "      <td>Documentary</td>\n",
              "      <td>Pink breaks the mold once again, bringing her ...</td>\n",
              "    </tr>\n",
              "    <tr>\n",
              "      <th>4</th>\n",
              "      <td>s5</td>\n",
              "      <td>Movie</td>\n",
              "      <td>Monster Maker</td>\n",
              "      <td>Giles Foster</td>\n",
              "      <td>Harry Dean Stanton, Kieran O'Brien, George Cos...</td>\n",
              "      <td>United Kingdom</td>\n",
              "      <td>March 30, 2021</td>\n",
              "      <td>1989</td>\n",
              "      <td>NaN</td>\n",
              "      <td>45 min</td>\n",
              "      <td>Drama, Fantasy</td>\n",
              "      <td>Teenage Matt Banting wants to work with a famo...</td>\n",
              "    </tr>\n",
              "  </tbody>\n",
              "</table>\n",
              "</div>"
            ],
            "text/plain": [
              "  show_id  ...                                        description\n",
              "0      s1  ...  A small fishing village must procure a local d...\n",
              "1      s2  ...  A Metro Family decides to fight a Cyber Crimin...\n",
              "2      s3  ...  After a man discovers his wife is cheating on ...\n",
              "3      s4  ...  Pink breaks the mold once again, bringing her ...\n",
              "4      s5  ...  Teenage Matt Banting wants to work with a famo...\n",
              "\n",
              "[5 rows x 12 columns]"
            ]
          },
          "metadata": {},
          "execution_count": 150
        }
      ]
    },
    {
      "cell_type": "markdown",
      "source": [
        "Info about columns"
      ],
      "metadata": {
        "id": "R7wRpSOC0kfS"
      }
    },
    {
      "cell_type": "code",
      "source": [
        "df.info()"
      ],
      "metadata": {
        "id": "4NJKOQQNxfyQ",
        "colab": {
          "base_uri": "https://localhost:8080/"
        },
        "outputId": "95ba3523-a748-4f47-9f24-0497f12f443b"
      },
      "execution_count": null,
      "outputs": [
        {
          "output_type": "stream",
          "name": "stdout",
          "text": [
            "<class 'pandas.core.frame.DataFrame'>\n",
            "RangeIndex: 9668 entries, 0 to 9667\n",
            "Data columns (total 12 columns):\n",
            " #   Column        Non-Null Count  Dtype \n",
            "---  ------        --------------  ----- \n",
            " 0   show_id       9668 non-null   object\n",
            " 1   type          9668 non-null   object\n",
            " 2   title         9668 non-null   object\n",
            " 3   director      7586 non-null   object\n",
            " 4   cast          8435 non-null   object\n",
            " 5   country       672 non-null    object\n",
            " 6   date_added    155 non-null    object\n",
            " 7   release_year  9668 non-null   int64 \n",
            " 8   rating        9331 non-null   object\n",
            " 9   duration      9668 non-null   object\n",
            " 10  listed_in     9668 non-null   object\n",
            " 11  description   9668 non-null   object\n",
            "dtypes: int64(1), object(11)\n",
            "memory usage: 906.5+ KB\n"
          ]
        }
      ]
    },
    {
      "cell_type": "code",
      "source": [
        "df.nunique()"
      ],
      "metadata": {
        "colab": {
          "base_uri": "https://localhost:8080/"
        },
        "id": "o60w6fuanznD",
        "outputId": "a0498459-a794-44c1-f480-bec3d20bc774"
      },
      "execution_count": null,
      "outputs": [
        {
          "output_type": "execute_result",
          "data": {
            "text/plain": [
              "show_id         9668\n",
              "type               2\n",
              "title           9668\n",
              "director        5774\n",
              "cast            7927\n",
              "country           86\n",
              "date_added        84\n",
              "release_year     100\n",
              "rating            24\n",
              "duration         203\n",
              "listed_in        518\n",
              "description     9414\n",
              "year_added         1\n",
              "month_added        8\n",
              "season_count      18\n",
              "dtype: int64"
            ]
          },
          "metadata": {},
          "execution_count": 198
        }
      ]
    },
    {
      "cell_type": "markdown",
      "source": [
        "Add features to the dataset\n"
      ],
      "metadata": {
        "id": "KqaE1Ir3G9rn"
      }
    },
    {
      "cell_type": "code",
      "source": [
        "df.drop_duplicates()\n",
        "\n",
        "## add new features in the dataset\n",
        "df[\"date_added\"] = pd.to_datetime(df['date_added'])\n",
        "df['year_added'] = df['date_added'].dt.year\n",
        "df['month_added'] = df['date_added'].dt.month\n",
        "\n",
        "df['season_count'] = df.apply(lambda x : x['duration'].split(\" \")[0] if \"Season\" in x['duration'] else \"\", axis = 1)\n",
        "df['duration'] = df.apply(lambda x : x['duration'].split(\" \")[0] if \"Season\" not in x['duration'] else \"\", axis = 1)\n",
        "df.info()"
      ],
      "metadata": {
        "colab": {
          "base_uri": "https://localhost:8080/"
        },
        "id": "STmHFPQlG_v4",
        "outputId": "64531ea4-8bcf-4879-8407-97a39a3c4d9a"
      },
      "execution_count": null,
      "outputs": [
        {
          "output_type": "stream",
          "name": "stdout",
          "text": [
            "<class 'pandas.core.frame.DataFrame'>\n",
            "RangeIndex: 9668 entries, 0 to 9667\n",
            "Data columns (total 15 columns):\n",
            " #   Column        Non-Null Count  Dtype         \n",
            "---  ------        --------------  -----         \n",
            " 0   show_id       9668 non-null   object        \n",
            " 1   type          9668 non-null   object        \n",
            " 2   title         9668 non-null   object        \n",
            " 3   director      7586 non-null   object        \n",
            " 4   cast          8435 non-null   object        \n",
            " 5   country       672 non-null    object        \n",
            " 6   date_added    155 non-null    datetime64[ns]\n",
            " 7   release_year  9668 non-null   int64         \n",
            " 8   rating        9331 non-null   object        \n",
            " 9   duration      9668 non-null   object        \n",
            " 10  listed_in     9668 non-null   object        \n",
            " 11  description   9668 non-null   object        \n",
            " 12  year_added    155 non-null    float64       \n",
            " 13  month_added   155 non-null    float64       \n",
            " 14  season_count  9668 non-null   object        \n",
            "dtypes: datetime64[ns](1), float64(2), int64(1), object(11)\n",
            "memory usage: 1.1+ MB\n"
          ]
        }
      ]
    },
    {
      "cell_type": "markdown",
      "source": [
        "TV shows"
      ],
      "metadata": {
        "id": "LFTpK7EF6KgA"
      }
    },
    {
      "cell_type": "code",
      "source": [
        "tvshows = df[df['type'] == 'TV Show']\n",
        "tvshows.info()"
      ],
      "metadata": {
        "colab": {
          "base_uri": "https://localhost:8080/"
        },
        "id": "ffu7hVeY0qfA",
        "outputId": "d34ca795-9acc-4b1a-b8ee-fb7875831f42"
      },
      "execution_count": 199,
      "outputs": [
        {
          "output_type": "stream",
          "name": "stdout",
          "text": [
            "<class 'pandas.core.frame.DataFrame'>\n",
            "Int64Index: 1854 entries, 17 to 9666\n",
            "Data columns (total 15 columns):\n",
            " #   Column        Non-Null Count  Dtype         \n",
            "---  ------        --------------  -----         \n",
            " 0   show_id       1854 non-null   object        \n",
            " 1   type          1854 non-null   object        \n",
            " 2   title         1854 non-null   object        \n",
            " 3   director      0 non-null      object        \n",
            " 4   cast          1385 non-null   object        \n",
            " 5   country       103 non-null    object        \n",
            " 6   date_added    139 non-null    datetime64[ns]\n",
            " 7   release_year  1854 non-null   int64         \n",
            " 8   rating        1848 non-null   object        \n",
            " 9   duration      1854 non-null   object        \n",
            " 10  listed_in     1854 non-null   object        \n",
            " 11  description   1854 non-null   object        \n",
            " 12  year_added    139 non-null    float64       \n",
            " 13  month_added   139 non-null    float64       \n",
            " 14  season_count  1854 non-null   object        \n",
            "dtypes: datetime64[ns](1), float64(2), int64(1), object(11)\n",
            "memory usage: 231.8+ KB\n"
          ]
        }
      ]
    },
    {
      "cell_type": "markdown",
      "source": [
        "Movies"
      ],
      "metadata": {
        "id": "Qwcap6p-9hHj"
      }
    },
    {
      "cell_type": "code",
      "source": [
        "movies = df[df['type'] == 'Movie']\n",
        "movies.info()"
      ],
      "metadata": {
        "colab": {
          "base_uri": "https://localhost:8080/"
        },
        "id": "TDSCoIhT9jL1",
        "outputId": "83b8df64-fb4e-4e8e-c14e-332f9d2be985"
      },
      "execution_count": 200,
      "outputs": [
        {
          "output_type": "stream",
          "name": "stdout",
          "text": [
            "<class 'pandas.core.frame.DataFrame'>\n",
            "Int64Index: 7814 entries, 0 to 9667\n",
            "Data columns (total 15 columns):\n",
            " #   Column        Non-Null Count  Dtype         \n",
            "---  ------        --------------  -----         \n",
            " 0   show_id       7814 non-null   object        \n",
            " 1   type          7814 non-null   object        \n",
            " 2   title         7814 non-null   object        \n",
            " 3   director      7586 non-null   object        \n",
            " 4   cast          7050 non-null   object        \n",
            " 5   country       569 non-null    object        \n",
            " 6   date_added    16 non-null     datetime64[ns]\n",
            " 7   release_year  7814 non-null   int64         \n",
            " 8   rating        7483 non-null   object        \n",
            " 9   duration      7814 non-null   object        \n",
            " 10  listed_in     7814 non-null   object        \n",
            " 11  description   7814 non-null   object        \n",
            " 12  year_added    16 non-null     float64       \n",
            " 13  month_added   16 non-null     float64       \n",
            " 14  season_count  7814 non-null   object        \n",
            "dtypes: datetime64[ns](1), float64(2), int64(1), object(11)\n",
            "memory usage: 976.8+ KB\n"
          ]
        }
      ]
    },
    {
      "cell_type": "markdown",
      "source": [
        "Oldest TV Shows in Amazon\n"
      ],
      "metadata": {
        "id": "B3rJudxo6O61"
      }
    },
    {
      "cell_type": "code",
      "source": [
        "small = tvshows.sort_values(\"release_year\", ascending = True)\n",
        "small[['title', \"release_year\"]][:15]"
      ],
      "metadata": {
        "id": "0fo7pCmG542D",
        "colab": {
          "base_uri": "https://localhost:8080/",
          "height": 520
        },
        "outputId": "429aeeaa-4c92-4250-d7c6-4d8d09bb9ba5"
      },
      "execution_count": null,
      "outputs": [
        {
          "output_type": "execute_result",
          "data": {
            "text/html": [
              "<div>\n",
              "<style scoped>\n",
              "    .dataframe tbody tr th:only-of-type {\n",
              "        vertical-align: middle;\n",
              "    }\n",
              "\n",
              "    .dataframe tbody tr th {\n",
              "        vertical-align: top;\n",
              "    }\n",
              "\n",
              "    .dataframe thead th {\n",
              "        text-align: right;\n",
              "    }\n",
              "</style>\n",
              "<table border=\"1\" class=\"dataframe\">\n",
              "  <thead>\n",
              "    <tr style=\"text-align: right;\">\n",
              "      <th></th>\n",
              "      <th>title</th>\n",
              "      <th>release_year</th>\n",
              "    </tr>\n",
              "  </thead>\n",
              "  <tbody>\n",
              "    <tr>\n",
              "      <th>9014</th>\n",
              "      <td>Last Frontier</td>\n",
              "      <td>1932</td>\n",
              "    </tr>\n",
              "    <tr>\n",
              "      <th>743</th>\n",
              "      <td>The Best of The Three Stooges in Color!</td>\n",
              "      <td>1936</td>\n",
              "    </tr>\n",
              "    <tr>\n",
              "      <th>1994</th>\n",
              "      <td>Jungle Queen: 2K Restored Special Edition</td>\n",
              "      <td>1945</td>\n",
              "    </tr>\n",
              "    <tr>\n",
              "      <th>3142</th>\n",
              "      <td>Basil Rathbone Sherlock Holmes in Color!</td>\n",
              "      <td>1946</td>\n",
              "    </tr>\n",
              "    <tr>\n",
              "      <th>1861</th>\n",
              "      <td>Life with Elizabeth</td>\n",
              "      <td>1954</td>\n",
              "    </tr>\n",
              "    <tr>\n",
              "      <th>1529</th>\n",
              "      <td>Napoleon Hill's Master Key</td>\n",
              "      <td>1954</td>\n",
              "    </tr>\n",
              "    <tr>\n",
              "      <th>9080</th>\n",
              "      <td>The Best of I Love Lucy</td>\n",
              "      <td>1954</td>\n",
              "    </tr>\n",
              "    <tr>\n",
              "      <th>129</th>\n",
              "      <td>What's My Line?</td>\n",
              "      <td>1955</td>\n",
              "    </tr>\n",
              "    <tr>\n",
              "      <th>7996</th>\n",
              "      <td>The Californians</td>\n",
              "      <td>1959</td>\n",
              "    </tr>\n",
              "    <tr>\n",
              "      <th>56</th>\n",
              "      <td>Yancy Derringer</td>\n",
              "      <td>1959</td>\n",
              "    </tr>\n",
              "    <tr>\n",
              "      <th>2829</th>\n",
              "      <td>Classic Popeye</td>\n",
              "      <td>1960</td>\n",
              "    </tr>\n",
              "    <tr>\n",
              "      <th>319</th>\n",
              "      <td>To Tell The Truth with Bud Collyer</td>\n",
              "      <td>1961</td>\n",
              "    </tr>\n",
              "    <tr>\n",
              "      <th>2139</th>\n",
              "      <td>I've Got A Secret</td>\n",
              "      <td>1962</td>\n",
              "    </tr>\n",
              "    <tr>\n",
              "      <th>742</th>\n",
              "      <td>The Beverly Hillbillies</td>\n",
              "      <td>1963</td>\n",
              "    </tr>\n",
              "    <tr>\n",
              "      <th>691</th>\n",
              "      <td>The Dick Van Dyke Show</td>\n",
              "      <td>1963</td>\n",
              "    </tr>\n",
              "  </tbody>\n",
              "</table>\n",
              "</div>"
            ],
            "text/plain": [
              "                                          title  release_year\n",
              "9014                              Last Frontier          1932\n",
              "743     The Best of The Three Stooges in Color!          1936\n",
              "1994  Jungle Queen: 2K Restored Special Edition          1945\n",
              "3142   Basil Rathbone Sherlock Holmes in Color!          1946\n",
              "1861                        Life with Elizabeth          1954\n",
              "1529                 Napoleon Hill's Master Key          1954\n",
              "9080                    The Best of I Love Lucy          1954\n",
              "129                             What's My Line?          1955\n",
              "7996                           The Californians          1959\n",
              "56                              Yancy Derringer          1959\n",
              "2829                             Classic Popeye          1960\n",
              "319          To Tell The Truth with Bud Collyer          1961\n",
              "2139                          I've Got A Secret          1962\n",
              "742                     The Beverly Hillbillies          1963\n",
              "691                      The Dick Van Dyke Show          1963"
            ]
          },
          "metadata": {},
          "execution_count": 178
        }
      ]
    },
    {
      "cell_type": "markdown",
      "source": [
        "Oldest Movies in Amazon\n"
      ],
      "metadata": {
        "id": "jg6QjIpY6URz"
      }
    },
    {
      "cell_type": "code",
      "source": [
        "small = movies.sort_values(\"release_year\", ascending = True)\n",
        "small = small[small['duration'] != \"\"]\n",
        "small[['title', \"release_year\"]][:15]"
      ],
      "metadata": {
        "id": "BNjn_gnb6WQj",
        "colab": {
          "base_uri": "https://localhost:8080/",
          "height": 520
        },
        "outputId": "6755aaf9-2777-4f49-a813-35f9e50c196a"
      },
      "execution_count": null,
      "outputs": [
        {
          "output_type": "execute_result",
          "data": {
            "text/html": [
              "<div>\n",
              "<style scoped>\n",
              "    .dataframe tbody tr th:only-of-type {\n",
              "        vertical-align: middle;\n",
              "    }\n",
              "\n",
              "    .dataframe tbody tr th {\n",
              "        vertical-align: top;\n",
              "    }\n",
              "\n",
              "    .dataframe thead th {\n",
              "        text-align: right;\n",
              "    }\n",
              "</style>\n",
              "<table border=\"1\" class=\"dataframe\">\n",
              "  <thead>\n",
              "    <tr style=\"text-align: right;\">\n",
              "      <th></th>\n",
              "      <th>title</th>\n",
              "      <th>release_year</th>\n",
              "    </tr>\n",
              "  </thead>\n",
              "  <tbody>\n",
              "    <tr>\n",
              "      <th>83</th>\n",
              "      <td>Within Our Gates</td>\n",
              "      <td>1920</td>\n",
              "    </tr>\n",
              "    <tr>\n",
              "      <th>1474</th>\n",
              "      <td>Nomads Of The North</td>\n",
              "      <td>1920</td>\n",
              "    </tr>\n",
              "    <tr>\n",
              "      <th>1284</th>\n",
              "      <td>Pollyanna</td>\n",
              "      <td>1920</td>\n",
              "    </tr>\n",
              "    <tr>\n",
              "      <th>1143</th>\n",
              "      <td>Robin Hood (Silent)</td>\n",
              "      <td>1922</td>\n",
              "    </tr>\n",
              "    <tr>\n",
              "      <th>1425</th>\n",
              "      <td>One Exciting Night</td>\n",
              "      <td>1922</td>\n",
              "    </tr>\n",
              "    <tr>\n",
              "      <th>1684</th>\n",
              "      <td>Merry-Go-Round</td>\n",
              "      <td>1923</td>\n",
              "    </tr>\n",
              "    <tr>\n",
              "      <th>1134</th>\n",
              "      <td>Romola</td>\n",
              "      <td>1924</td>\n",
              "    </tr>\n",
              "    <tr>\n",
              "      <th>1776</th>\n",
              "      <td>Madame Behave</td>\n",
              "      <td>1925</td>\n",
              "    </tr>\n",
              "    <tr>\n",
              "      <th>7618</th>\n",
              "      <td>Lon Chaney in The Unholy Three - The Original ...</td>\n",
              "      <td>1925</td>\n",
              "    </tr>\n",
              "    <tr>\n",
              "      <th>7598</th>\n",
              "      <td>The Monster - Lon Chaney's Uncut Horror Classic!</td>\n",
              "      <td>1925</td>\n",
              "    </tr>\n",
              "    <tr>\n",
              "      <th>8590</th>\n",
              "      <td>Tumbleweeds</td>\n",
              "      <td>1925</td>\n",
              "    </tr>\n",
              "    <tr>\n",
              "      <th>485</th>\n",
              "      <td>The Phantom of the Opera (Silent)</td>\n",
              "      <td>1925</td>\n",
              "    </tr>\n",
              "    <tr>\n",
              "      <th>2629</th>\n",
              "      <td>Don Q, Son of Zorro (Silent)</td>\n",
              "      <td>1925</td>\n",
              "    </tr>\n",
              "    <tr>\n",
              "      <th>685</th>\n",
              "      <td>The Eagle (No Dialog)</td>\n",
              "      <td>1925</td>\n",
              "    </tr>\n",
              "    <tr>\n",
              "      <th>6627</th>\n",
              "      <td>Sir Arthur Conan Doyle's The Lost World</td>\n",
              "      <td>1925</td>\n",
              "    </tr>\n",
              "  </tbody>\n",
              "</table>\n",
              "</div>"
            ],
            "text/plain": [
              "                                                  title  release_year\n",
              "83                                     Within Our Gates          1920\n",
              "1474                                Nomads Of The North          1920\n",
              "1284                                          Pollyanna          1920\n",
              "1143                                Robin Hood (Silent)          1922\n",
              "1425                                 One Exciting Night          1922\n",
              "1684                                     Merry-Go-Round          1923\n",
              "1134                                             Romola          1924\n",
              "1776                                      Madame Behave          1925\n",
              "7618  Lon Chaney in The Unholy Three - The Original ...          1925\n",
              "7598   The Monster - Lon Chaney's Uncut Horror Classic!          1925\n",
              "8590                                        Tumbleweeds          1925\n",
              "485                   The Phantom of the Opera (Silent)          1925\n",
              "2629                       Don Q, Son of Zorro (Silent)          1925\n",
              "685                               The Eagle (No Dialog)          1925\n",
              "6627            Sir Arthur Conan Doyle's The Lost World          1925"
            ]
          },
          "metadata": {},
          "execution_count": 179
        }
      ]
    },
    {
      "cell_type": "markdown",
      "source": [
        "Content type on Amazon"
      ],
      "metadata": {
        "id": "gPsRhXaz9vil"
      }
    },
    {
      "cell_type": "code",
      "source": [
        "col = \"type\"\n",
        "grouped = df[col].value_counts().reset_index()\n",
        "grouped = grouped.rename(columns = {col : \"count\", \"index\" : col})\n",
        "\n",
        "## plot\n",
        "trace = go.Pie(labels=grouped[col], values=grouped['count'], pull=[0.05, 0], marker=dict(colors=[\"#6ad49b\", \"#a678de\"]))\n",
        "layout = go.Layout(title=\"\", height=400, legend=dict(x=0.1, y=1.1))\n",
        "fig = go.Figure(data = [trace], layout = layout)\n",
        "iplot(fig)"
      ],
      "metadata": {
        "id": "G-xj5LoJ9y0Q",
        "colab": {
          "base_uri": "https://localhost:8080/",
          "height": 417
        },
        "outputId": "9b421f3f-0a35-4202-83ec-5d7a49577e33"
      },
      "execution_count": null,
      "outputs": [
        {
          "output_type": "display_data",
          "data": {
            "text/html": [
              "<html>\n",
              "<head><meta charset=\"utf-8\" /></head>\n",
              "<body>\n",
              "    <div>\n",
              "            <script src=\"https://cdnjs.cloudflare.com/ajax/libs/mathjax/2.7.5/MathJax.js?config=TeX-AMS-MML_SVG\"></script><script type=\"text/javascript\">if (window.MathJax) {MathJax.Hub.Config({SVG: {font: \"STIX-Web\"}});}</script>\n",
              "                <script type=\"text/javascript\">window.PlotlyConfig = {MathJaxConfig: 'local'};</script>\n",
              "        <script src=\"https://cdn.plot.ly/plotly-latest.min.js\"></script>    \n",
              "            <div id=\"e6fabf96-0353-4a1e-8e09-ea4afd9ea1bc\" class=\"plotly-graph-div\" style=\"height:400px; width:100%;\"></div>\n",
              "            <script type=\"text/javascript\">\n",
              "                \n",
              "                    window.PLOTLYENV=window.PLOTLYENV || {};\n",
              "                    \n",
              "                if (document.getElementById(\"e6fabf96-0353-4a1e-8e09-ea4afd9ea1bc\")) {\n",
              "                    Plotly.newPlot(\n",
              "                        'e6fabf96-0353-4a1e-8e09-ea4afd9ea1bc',\n",
              "                        [{\"labels\": [\"Movie\", \"TV Show\"], \"marker\": {\"colors\": [\"#6ad49b\", \"#a678de\"]}, \"pull\": [0.05, 0], \"type\": \"pie\", \"values\": [7814, 1854]}],\n",
              "                        {\"height\": 400, \"legend\": {\"x\": 0.1, \"y\": 1.1}, \"template\": {\"data\": {\"bar\": [{\"error_x\": {\"color\": \"#2a3f5f\"}, \"error_y\": {\"color\": \"#2a3f5f\"}, \"marker\": {\"line\": {\"color\": \"#E5ECF6\", \"width\": 0.5}}, \"type\": \"bar\"}], \"barpolar\": [{\"marker\": {\"line\": {\"color\": \"#E5ECF6\", \"width\": 0.5}}, \"type\": \"barpolar\"}], \"carpet\": [{\"aaxis\": {\"endlinecolor\": \"#2a3f5f\", \"gridcolor\": \"white\", \"linecolor\": \"white\", \"minorgridcolor\": \"white\", \"startlinecolor\": \"#2a3f5f\"}, \"baxis\": {\"endlinecolor\": \"#2a3f5f\", \"gridcolor\": \"white\", \"linecolor\": \"white\", \"minorgridcolor\": \"white\", \"startlinecolor\": \"#2a3f5f\"}, \"type\": \"carpet\"}], \"choropleth\": [{\"colorbar\": {\"outlinewidth\": 0, \"ticks\": \"\"}, \"type\": \"choropleth\"}], \"contour\": [{\"colorbar\": {\"outlinewidth\": 0, \"ticks\": \"\"}, \"colorscale\": [[0.0, \"#0d0887\"], [0.1111111111111111, \"#46039f\"], [0.2222222222222222, \"#7201a8\"], [0.3333333333333333, \"#9c179e\"], [0.4444444444444444, \"#bd3786\"], [0.5555555555555556, \"#d8576b\"], [0.6666666666666666, \"#ed7953\"], [0.7777777777777778, \"#fb9f3a\"], [0.8888888888888888, \"#fdca26\"], [1.0, \"#f0f921\"]], \"type\": \"contour\"}], \"contourcarpet\": [{\"colorbar\": {\"outlinewidth\": 0, \"ticks\": \"\"}, \"type\": \"contourcarpet\"}], \"heatmap\": [{\"colorbar\": {\"outlinewidth\": 0, \"ticks\": \"\"}, \"colorscale\": [[0.0, \"#0d0887\"], [0.1111111111111111, \"#46039f\"], [0.2222222222222222, \"#7201a8\"], [0.3333333333333333, \"#9c179e\"], [0.4444444444444444, \"#bd3786\"], [0.5555555555555556, \"#d8576b\"], [0.6666666666666666, \"#ed7953\"], [0.7777777777777778, \"#fb9f3a\"], [0.8888888888888888, \"#fdca26\"], [1.0, \"#f0f921\"]], \"type\": \"heatmap\"}], \"heatmapgl\": [{\"colorbar\": {\"outlinewidth\": 0, \"ticks\": \"\"}, \"colorscale\": [[0.0, \"#0d0887\"], [0.1111111111111111, \"#46039f\"], [0.2222222222222222, \"#7201a8\"], [0.3333333333333333, \"#9c179e\"], [0.4444444444444444, \"#bd3786\"], [0.5555555555555556, \"#d8576b\"], [0.6666666666666666, \"#ed7953\"], [0.7777777777777778, \"#fb9f3a\"], [0.8888888888888888, \"#fdca26\"], [1.0, \"#f0f921\"]], \"type\": \"heatmapgl\"}], \"histogram\": [{\"marker\": {\"colorbar\": {\"outlinewidth\": 0, \"ticks\": \"\"}}, \"type\": \"histogram\"}], \"histogram2d\": [{\"colorbar\": {\"outlinewidth\": 0, \"ticks\": \"\"}, \"colorscale\": [[0.0, \"#0d0887\"], [0.1111111111111111, \"#46039f\"], [0.2222222222222222, \"#7201a8\"], [0.3333333333333333, \"#9c179e\"], [0.4444444444444444, \"#bd3786\"], [0.5555555555555556, \"#d8576b\"], [0.6666666666666666, \"#ed7953\"], [0.7777777777777778, \"#fb9f3a\"], [0.8888888888888888, \"#fdca26\"], [1.0, \"#f0f921\"]], \"type\": \"histogram2d\"}], \"histogram2dcontour\": [{\"colorbar\": {\"outlinewidth\": 0, \"ticks\": \"\"}, \"colorscale\": [[0.0, \"#0d0887\"], [0.1111111111111111, \"#46039f\"], [0.2222222222222222, \"#7201a8\"], [0.3333333333333333, \"#9c179e\"], [0.4444444444444444, \"#bd3786\"], [0.5555555555555556, \"#d8576b\"], [0.6666666666666666, \"#ed7953\"], [0.7777777777777778, \"#fb9f3a\"], [0.8888888888888888, \"#fdca26\"], [1.0, \"#f0f921\"]], \"type\": \"histogram2dcontour\"}], \"mesh3d\": [{\"colorbar\": {\"outlinewidth\": 0, \"ticks\": \"\"}, \"type\": \"mesh3d\"}], \"parcoords\": [{\"line\": {\"colorbar\": {\"outlinewidth\": 0, \"ticks\": \"\"}}, \"type\": \"parcoords\"}], \"pie\": [{\"automargin\": true, \"type\": \"pie\"}], \"scatter\": [{\"marker\": {\"colorbar\": {\"outlinewidth\": 0, \"ticks\": \"\"}}, \"type\": \"scatter\"}], \"scatter3d\": [{\"line\": {\"colorbar\": {\"outlinewidth\": 0, \"ticks\": \"\"}}, \"marker\": {\"colorbar\": {\"outlinewidth\": 0, \"ticks\": \"\"}}, \"type\": \"scatter3d\"}], \"scattercarpet\": [{\"marker\": {\"colorbar\": {\"outlinewidth\": 0, \"ticks\": \"\"}}, \"type\": \"scattercarpet\"}], \"scattergeo\": [{\"marker\": {\"colorbar\": {\"outlinewidth\": 0, \"ticks\": \"\"}}, \"type\": \"scattergeo\"}], \"scattergl\": [{\"marker\": {\"colorbar\": {\"outlinewidth\": 0, \"ticks\": \"\"}}, \"type\": \"scattergl\"}], \"scattermapbox\": [{\"marker\": {\"colorbar\": {\"outlinewidth\": 0, \"ticks\": \"\"}}, \"type\": \"scattermapbox\"}], \"scatterpolar\": [{\"marker\": {\"colorbar\": {\"outlinewidth\": 0, \"ticks\": \"\"}}, \"type\": \"scatterpolar\"}], \"scatterpolargl\": [{\"marker\": {\"colorbar\": {\"outlinewidth\": 0, \"ticks\": \"\"}}, \"type\": \"scatterpolargl\"}], \"scatterternary\": [{\"marker\": {\"colorbar\": {\"outlinewidth\": 0, \"ticks\": \"\"}}, \"type\": \"scatterternary\"}], \"surface\": [{\"colorbar\": {\"outlinewidth\": 0, \"ticks\": \"\"}, \"colorscale\": [[0.0, \"#0d0887\"], [0.1111111111111111, \"#46039f\"], [0.2222222222222222, \"#7201a8\"], [0.3333333333333333, \"#9c179e\"], [0.4444444444444444, \"#bd3786\"], [0.5555555555555556, \"#d8576b\"], [0.6666666666666666, \"#ed7953\"], [0.7777777777777778, \"#fb9f3a\"], [0.8888888888888888, \"#fdca26\"], [1.0, \"#f0f921\"]], \"type\": \"surface\"}], \"table\": [{\"cells\": {\"fill\": {\"color\": \"#EBF0F8\"}, \"line\": {\"color\": \"white\"}}, \"header\": {\"fill\": {\"color\": \"#C8D4E3\"}, \"line\": {\"color\": \"white\"}}, \"type\": \"table\"}]}, \"layout\": {\"annotationdefaults\": {\"arrowcolor\": \"#2a3f5f\", \"arrowhead\": 0, \"arrowwidth\": 1}, \"coloraxis\": {\"colorbar\": {\"outlinewidth\": 0, \"ticks\": \"\"}}, \"colorscale\": {\"diverging\": [[0, \"#8e0152\"], [0.1, \"#c51b7d\"], [0.2, \"#de77ae\"], [0.3, \"#f1b6da\"], [0.4, \"#fde0ef\"], [0.5, \"#f7f7f7\"], [0.6, \"#e6f5d0\"], [0.7, \"#b8e186\"], [0.8, \"#7fbc41\"], [0.9, \"#4d9221\"], [1, \"#276419\"]], \"sequential\": [[0.0, \"#0d0887\"], [0.1111111111111111, \"#46039f\"], [0.2222222222222222, \"#7201a8\"], [0.3333333333333333, \"#9c179e\"], [0.4444444444444444, \"#bd3786\"], [0.5555555555555556, \"#d8576b\"], [0.6666666666666666, \"#ed7953\"], [0.7777777777777778, \"#fb9f3a\"], [0.8888888888888888, \"#fdca26\"], [1.0, \"#f0f921\"]], \"sequentialminus\": [[0.0, \"#0d0887\"], [0.1111111111111111, \"#46039f\"], [0.2222222222222222, \"#7201a8\"], [0.3333333333333333, \"#9c179e\"], [0.4444444444444444, \"#bd3786\"], [0.5555555555555556, \"#d8576b\"], [0.6666666666666666, \"#ed7953\"], [0.7777777777777778, \"#fb9f3a\"], [0.8888888888888888, \"#fdca26\"], [1.0, \"#f0f921\"]]}, \"colorway\": [\"#636efa\", \"#EF553B\", \"#00cc96\", \"#ab63fa\", \"#FFA15A\", \"#19d3f3\", \"#FF6692\", \"#B6E880\", \"#FF97FF\", \"#FECB52\"], \"font\": {\"color\": \"#2a3f5f\"}, \"geo\": {\"bgcolor\": \"white\", \"lakecolor\": \"white\", \"landcolor\": \"#E5ECF6\", \"showlakes\": true, \"showland\": true, \"subunitcolor\": \"white\"}, \"hoverlabel\": {\"align\": \"left\"}, \"hovermode\": \"closest\", \"mapbox\": {\"style\": \"light\"}, \"paper_bgcolor\": \"white\", \"plot_bgcolor\": \"#E5ECF6\", \"polar\": {\"angularaxis\": {\"gridcolor\": \"white\", \"linecolor\": \"white\", \"ticks\": \"\"}, \"bgcolor\": \"#E5ECF6\", \"radialaxis\": {\"gridcolor\": \"white\", \"linecolor\": \"white\", \"ticks\": \"\"}}, \"scene\": {\"xaxis\": {\"backgroundcolor\": \"#E5ECF6\", \"gridcolor\": \"white\", \"gridwidth\": 2, \"linecolor\": \"white\", \"showbackground\": true, \"ticks\": \"\", \"zerolinecolor\": \"white\"}, \"yaxis\": {\"backgroundcolor\": \"#E5ECF6\", \"gridcolor\": \"white\", \"gridwidth\": 2, \"linecolor\": \"white\", \"showbackground\": true, \"ticks\": \"\", \"zerolinecolor\": \"white\"}, \"zaxis\": {\"backgroundcolor\": \"#E5ECF6\", \"gridcolor\": \"white\", \"gridwidth\": 2, \"linecolor\": \"white\", \"showbackground\": true, \"ticks\": \"\", \"zerolinecolor\": \"white\"}}, \"shapedefaults\": {\"line\": {\"color\": \"#2a3f5f\"}}, \"ternary\": {\"aaxis\": {\"gridcolor\": \"white\", \"linecolor\": \"white\", \"ticks\": \"\"}, \"baxis\": {\"gridcolor\": \"white\", \"linecolor\": \"white\", \"ticks\": \"\"}, \"bgcolor\": \"#E5ECF6\", \"caxis\": {\"gridcolor\": \"white\", \"linecolor\": \"white\", \"ticks\": \"\"}}, \"title\": {\"x\": 0.05}, \"xaxis\": {\"automargin\": true, \"gridcolor\": \"white\", \"linecolor\": \"white\", \"ticks\": \"\", \"title\": {\"standoff\": 15}, \"zerolinecolor\": \"white\", \"zerolinewidth\": 2}, \"yaxis\": {\"automargin\": true, \"gridcolor\": \"white\", \"linecolor\": \"white\", \"ticks\": \"\", \"title\": {\"standoff\": 15}, \"zerolinecolor\": \"white\", \"zerolinewidth\": 2}}}, \"title\": {\"text\": \"\"}},\n",
              "                        {\"responsive\": true}\n",
              "                    ).then(function(){\n",
              "                            \n",
              "var gd = document.getElementById('e6fabf96-0353-4a1e-8e09-ea4afd9ea1bc');\n",
              "var x = new MutationObserver(function (mutations, observer) {{\n",
              "        var display = window.getComputedStyle(gd).display;\n",
              "        if (!display || display === 'none') {{\n",
              "            console.log([gd, 'removed!']);\n",
              "            Plotly.purge(gd);\n",
              "            observer.disconnect();\n",
              "        }}\n",
              "}});\n",
              "\n",
              "// Listen for the removal of the full notebook cells\n",
              "var notebookContainer = gd.closest('#notebook-container');\n",
              "if (notebookContainer) {{\n",
              "    x.observe(notebookContainer, {childList: true});\n",
              "}}\n",
              "\n",
              "// Listen for the clearing of the current output cell\n",
              "var outputEl = gd.closest('.output');\n",
              "if (outputEl) {{\n",
              "    x.observe(outputEl, {childList: true});\n",
              "}}\n",
              "\n",
              "                        })\n",
              "                };\n",
              "                \n",
              "            </script>\n",
              "        </div>\n",
              "</body>\n",
              "</html>"
            ]
          },
          "metadata": {}
        }
      ]
    },
    {
      "cell_type": "code",
      "source": [
        "col = \"release_year\"\n",
        "\n",
        "vc1 = tvshows[col].value_counts().reset_index()\n",
        "vc1 = vc1.rename(columns = {col : \"count\", \"index\" : col})\n",
        "vc1['percent'] = vc1['count'].apply(lambda x : 100*x/sum(vc1['count']))\n",
        "vc1 = vc1.sort_values(col)\n",
        "\n",
        "vc2 = movies[col].value_counts().reset_index()\n",
        "vc2 = vc2.rename(columns = {col : \"count\", \"index\" : col})\n",
        "vc2['percent'] = vc2['count'].apply(lambda x : 100*x/sum(vc2['count']))\n",
        "vc2 = vc2.sort_values(col)\n",
        "\n",
        "trace1 = go.Bar(x=vc1[col], y=vc1[\"count\"], name=\"TV Shows\", marker=dict(color=\"#a678de\"))\n",
        "trace2 = go.Bar(x=vc2[col], y=vc2[\"count\"], name=\"Movies\", marker=dict(color=\"#6ad49b\"))\n",
        "data = [trace1, trace2]\n",
        "layout = go.Layout(title=\"Content added over the years\", legend=dict(x=0.1, y=1.1, orientation=\"h\"))\n",
        "fig = go.Figure(data, layout=layout)\n",
        "fig.show()"
      ],
      "metadata": {
        "colab": {
          "base_uri": "https://localhost:8080/",
          "height": 542
        },
        "id": "o93DxN-5GTh-",
        "outputId": "4b445e77-676d-4628-dc52-a293ed7c1620"
      },
      "execution_count": null,
      "outputs": [
        {
          "output_type": "display_data",
          "data": {
            "text/html": [
              "<html>\n",
              "<head><meta charset=\"utf-8\" /></head>\n",
              "<body>\n",
              "    <div>\n",
              "            <script src=\"https://cdnjs.cloudflare.com/ajax/libs/mathjax/2.7.5/MathJax.js?config=TeX-AMS-MML_SVG\"></script><script type=\"text/javascript\">if (window.MathJax) {MathJax.Hub.Config({SVG: {font: \"STIX-Web\"}});}</script>\n",
              "                <script type=\"text/javascript\">window.PlotlyConfig = {MathJaxConfig: 'local'};</script>\n",
              "        <script src=\"https://cdn.plot.ly/plotly-latest.min.js\"></script>    \n",
              "            <div id=\"73c374c9-d984-4e36-a9b4-93bd368a216d\" class=\"plotly-graph-div\" style=\"height:525px; width:100%;\"></div>\n",
              "            <script type=\"text/javascript\">\n",
              "                \n",
              "                    window.PLOTLYENV=window.PLOTLYENV || {};\n",
              "                    \n",
              "                if (document.getElementById(\"73c374c9-d984-4e36-a9b4-93bd368a216d\")) {\n",
              "                    Plotly.newPlot(\n",
              "                        '73c374c9-d984-4e36-a9b4-93bd368a216d',\n",
              "                        [{\"marker\": {\"color\": \"#a678de\"}, \"name\": \"TV Shows\", \"type\": \"bar\", \"x\": [1932, 1936, 1945, 1946, 1954, 1955, 1959, 1960, 1961, 1962, 1963, 1967, 1968, 1969, 1972, 1974, 1975, 1978, 1979, 1981, 1983, 1984, 1985, 1986, 1987, 1988, 1989, 1990, 1991, 1992, 1993, 1994, 1995, 1996, 1997, 1998, 1999, 2000, 2001, 2002, 2003, 2004, 2005, 2006, 2007, 2008, 2009, 2010, 2011, 2012, 2013, 2014, 2015, 2016, 2017, 2018, 2019, 2020, 2021], \"y\": [1, 1, 1, 1, 3, 1, 2, 1, 1, 1, 2, 2, 1, 2, 1, 3, 1, 5, 1, 3, 1, 3, 2, 4, 1, 2, 6, 4, 3, 4, 3, 3, 10, 2, 6, 7, 9, 9, 9, 9, 13, 14, 21, 18, 19, 33, 32, 34, 40, 55, 62, 96, 96, 119, 158, 185, 199, 226, 303]}, {\"marker\": {\"color\": \"#6ad49b\"}, \"name\": \"Movies\", \"type\": \"bar\", \"x\": [1920, 1922, 1923, 1924, 1925, 1926, 1927, 1929, 1930, 1931, 1932, 1933, 1934, 1935, 1936, 1937, 1938, 1939, 1940, 1941, 1942, 1943, 1944, 1945, 1946, 1947, 1948, 1949, 1950, 1951, 1952, 1953, 1954, 1955, 1956, 1957, 1958, 1959, 1960, 1961, 1962, 1963, 1964, 1965, 1966, 1967, 1968, 1969, 1970, 1971, 1972, 1973, 1974, 1975, 1976, 1977, 1978, 1979, 1980, 1981, 1982, 1983, 1984, 1985, 1986, 1987, 1988, 1989, 1990, 1991, 1992, 1993, 1994, 1995, 1996, 1997, 1998, 1999, 2000, 2001, 2002, 2003, 2004, 2005, 2006, 2007, 2008, 2009, 2010, 2011, 2012, 2013, 2014, 2015, 2016, 2017, 2018, 2019, 2020, 2021], \"y\": [3, 2, 1, 1, 8, 2, 1, 4, 5, 3, 7, 5, 12, 15, 28, 24, 15, 21, 16, 22, 16, 21, 12, 13, 20, 22, 15, 14, 21, 18, 16, 21, 12, 8, 17, 5, 15, 16, 11, 10, 11, 18, 13, 9, 10, 15, 18, 14, 25, 16, 19, 17, 21, 26, 12, 14, 18, 15, 25, 19, 17, 16, 25, 26, 36, 32, 42, 39, 36, 42, 52, 54, 60, 62, 60, 53, 52, 55, 72, 73, 83, 68, 89, 91, 120, 157, 138, 117, 152, 212, 197, 227, 295, 282, 402, 404, 438, 730, 736, 1139]}],\n",
              "                        {\"legend\": {\"orientation\": \"h\", \"x\": 0.1, \"y\": 1.1}, \"template\": {\"data\": {\"bar\": [{\"error_x\": {\"color\": \"#2a3f5f\"}, \"error_y\": {\"color\": \"#2a3f5f\"}, \"marker\": {\"line\": {\"color\": \"#E5ECF6\", \"width\": 0.5}}, \"type\": \"bar\"}], \"barpolar\": [{\"marker\": {\"line\": {\"color\": \"#E5ECF6\", \"width\": 0.5}}, \"type\": \"barpolar\"}], \"carpet\": [{\"aaxis\": {\"endlinecolor\": \"#2a3f5f\", \"gridcolor\": \"white\", \"linecolor\": \"white\", \"minorgridcolor\": \"white\", \"startlinecolor\": \"#2a3f5f\"}, \"baxis\": {\"endlinecolor\": \"#2a3f5f\", \"gridcolor\": \"white\", \"linecolor\": \"white\", \"minorgridcolor\": \"white\", \"startlinecolor\": \"#2a3f5f\"}, \"type\": \"carpet\"}], \"choropleth\": [{\"colorbar\": {\"outlinewidth\": 0, \"ticks\": \"\"}, \"type\": \"choropleth\"}], \"contour\": [{\"colorbar\": {\"outlinewidth\": 0, \"ticks\": \"\"}, \"colorscale\": [[0.0, \"#0d0887\"], [0.1111111111111111, \"#46039f\"], [0.2222222222222222, \"#7201a8\"], [0.3333333333333333, \"#9c179e\"], [0.4444444444444444, \"#bd3786\"], [0.5555555555555556, \"#d8576b\"], [0.6666666666666666, \"#ed7953\"], [0.7777777777777778, \"#fb9f3a\"], [0.8888888888888888, \"#fdca26\"], [1.0, \"#f0f921\"]], \"type\": \"contour\"}], \"contourcarpet\": [{\"colorbar\": {\"outlinewidth\": 0, \"ticks\": \"\"}, \"type\": \"contourcarpet\"}], \"heatmap\": [{\"colorbar\": {\"outlinewidth\": 0, \"ticks\": \"\"}, \"colorscale\": [[0.0, \"#0d0887\"], [0.1111111111111111, \"#46039f\"], [0.2222222222222222, \"#7201a8\"], [0.3333333333333333, \"#9c179e\"], [0.4444444444444444, \"#bd3786\"], [0.5555555555555556, \"#d8576b\"], [0.6666666666666666, \"#ed7953\"], [0.7777777777777778, \"#fb9f3a\"], [0.8888888888888888, \"#fdca26\"], [1.0, \"#f0f921\"]], \"type\": \"heatmap\"}], \"heatmapgl\": [{\"colorbar\": {\"outlinewidth\": 0, \"ticks\": \"\"}, \"colorscale\": [[0.0, \"#0d0887\"], [0.1111111111111111, \"#46039f\"], [0.2222222222222222, \"#7201a8\"], [0.3333333333333333, \"#9c179e\"], [0.4444444444444444, \"#bd3786\"], [0.5555555555555556, \"#d8576b\"], [0.6666666666666666, \"#ed7953\"], [0.7777777777777778, \"#fb9f3a\"], [0.8888888888888888, \"#fdca26\"], [1.0, \"#f0f921\"]], \"type\": \"heatmapgl\"}], \"histogram\": [{\"marker\": {\"colorbar\": {\"outlinewidth\": 0, \"ticks\": \"\"}}, \"type\": \"histogram\"}], \"histogram2d\": [{\"colorbar\": {\"outlinewidth\": 0, \"ticks\": \"\"}, \"colorscale\": [[0.0, \"#0d0887\"], [0.1111111111111111, \"#46039f\"], [0.2222222222222222, \"#7201a8\"], [0.3333333333333333, \"#9c179e\"], [0.4444444444444444, \"#bd3786\"], [0.5555555555555556, \"#d8576b\"], [0.6666666666666666, \"#ed7953\"], [0.7777777777777778, \"#fb9f3a\"], [0.8888888888888888, \"#fdca26\"], [1.0, \"#f0f921\"]], \"type\": \"histogram2d\"}], \"histogram2dcontour\": [{\"colorbar\": {\"outlinewidth\": 0, \"ticks\": \"\"}, \"colorscale\": [[0.0, \"#0d0887\"], [0.1111111111111111, \"#46039f\"], [0.2222222222222222, \"#7201a8\"], [0.3333333333333333, \"#9c179e\"], [0.4444444444444444, \"#bd3786\"], [0.5555555555555556, \"#d8576b\"], [0.6666666666666666, \"#ed7953\"], [0.7777777777777778, \"#fb9f3a\"], [0.8888888888888888, \"#fdca26\"], [1.0, \"#f0f921\"]], \"type\": \"histogram2dcontour\"}], \"mesh3d\": [{\"colorbar\": {\"outlinewidth\": 0, \"ticks\": \"\"}, \"type\": \"mesh3d\"}], \"parcoords\": [{\"line\": {\"colorbar\": {\"outlinewidth\": 0, \"ticks\": \"\"}}, \"type\": \"parcoords\"}], \"pie\": [{\"automargin\": true, \"type\": \"pie\"}], \"scatter\": [{\"marker\": {\"colorbar\": {\"outlinewidth\": 0, \"ticks\": \"\"}}, \"type\": \"scatter\"}], \"scatter3d\": [{\"line\": {\"colorbar\": {\"outlinewidth\": 0, \"ticks\": \"\"}}, \"marker\": {\"colorbar\": {\"outlinewidth\": 0, \"ticks\": \"\"}}, \"type\": \"scatter3d\"}], \"scattercarpet\": [{\"marker\": {\"colorbar\": {\"outlinewidth\": 0, \"ticks\": \"\"}}, \"type\": \"scattercarpet\"}], \"scattergeo\": [{\"marker\": {\"colorbar\": {\"outlinewidth\": 0, \"ticks\": \"\"}}, \"type\": \"scattergeo\"}], \"scattergl\": [{\"marker\": {\"colorbar\": {\"outlinewidth\": 0, \"ticks\": \"\"}}, \"type\": \"scattergl\"}], \"scattermapbox\": [{\"marker\": {\"colorbar\": {\"outlinewidth\": 0, \"ticks\": \"\"}}, \"type\": \"scattermapbox\"}], \"scatterpolar\": [{\"marker\": {\"colorbar\": {\"outlinewidth\": 0, \"ticks\": \"\"}}, \"type\": \"scatterpolar\"}], \"scatterpolargl\": [{\"marker\": {\"colorbar\": {\"outlinewidth\": 0, \"ticks\": \"\"}}, \"type\": \"scatterpolargl\"}], \"scatterternary\": [{\"marker\": {\"colorbar\": {\"outlinewidth\": 0, \"ticks\": \"\"}}, \"type\": \"scatterternary\"}], \"surface\": [{\"colorbar\": {\"outlinewidth\": 0, \"ticks\": \"\"}, \"colorscale\": [[0.0, \"#0d0887\"], [0.1111111111111111, \"#46039f\"], [0.2222222222222222, \"#7201a8\"], [0.3333333333333333, \"#9c179e\"], [0.4444444444444444, \"#bd3786\"], [0.5555555555555556, \"#d8576b\"], [0.6666666666666666, \"#ed7953\"], [0.7777777777777778, \"#fb9f3a\"], [0.8888888888888888, \"#fdca26\"], [1.0, \"#f0f921\"]], \"type\": \"surface\"}], \"table\": [{\"cells\": {\"fill\": {\"color\": \"#EBF0F8\"}, \"line\": {\"color\": \"white\"}}, \"header\": {\"fill\": {\"color\": \"#C8D4E3\"}, \"line\": {\"color\": \"white\"}}, \"type\": \"table\"}]}, \"layout\": {\"annotationdefaults\": {\"arrowcolor\": \"#2a3f5f\", \"arrowhead\": 0, \"arrowwidth\": 1}, \"coloraxis\": {\"colorbar\": {\"outlinewidth\": 0, \"ticks\": \"\"}}, \"colorscale\": {\"diverging\": [[0, \"#8e0152\"], [0.1, \"#c51b7d\"], [0.2, \"#de77ae\"], [0.3, \"#f1b6da\"], [0.4, \"#fde0ef\"], [0.5, \"#f7f7f7\"], [0.6, \"#e6f5d0\"], [0.7, \"#b8e186\"], [0.8, \"#7fbc41\"], [0.9, \"#4d9221\"], [1, \"#276419\"]], \"sequential\": [[0.0, \"#0d0887\"], [0.1111111111111111, \"#46039f\"], [0.2222222222222222, \"#7201a8\"], [0.3333333333333333, \"#9c179e\"], [0.4444444444444444, \"#bd3786\"], [0.5555555555555556, \"#d8576b\"], [0.6666666666666666, \"#ed7953\"], [0.7777777777777778, \"#fb9f3a\"], [0.8888888888888888, \"#fdca26\"], [1.0, \"#f0f921\"]], \"sequentialminus\": [[0.0, \"#0d0887\"], [0.1111111111111111, \"#46039f\"], [0.2222222222222222, \"#7201a8\"], [0.3333333333333333, \"#9c179e\"], [0.4444444444444444, \"#bd3786\"], [0.5555555555555556, \"#d8576b\"], [0.6666666666666666, \"#ed7953\"], [0.7777777777777778, \"#fb9f3a\"], [0.8888888888888888, \"#fdca26\"], [1.0, \"#f0f921\"]]}, \"colorway\": [\"#636efa\", \"#EF553B\", \"#00cc96\", \"#ab63fa\", \"#FFA15A\", \"#19d3f3\", \"#FF6692\", \"#B6E880\", \"#FF97FF\", \"#FECB52\"], \"font\": {\"color\": \"#2a3f5f\"}, \"geo\": {\"bgcolor\": \"white\", \"lakecolor\": \"white\", \"landcolor\": \"#E5ECF6\", \"showlakes\": true, \"showland\": true, \"subunitcolor\": \"white\"}, \"hoverlabel\": {\"align\": \"left\"}, \"hovermode\": \"closest\", \"mapbox\": {\"style\": \"light\"}, \"paper_bgcolor\": \"white\", \"plot_bgcolor\": \"#E5ECF6\", \"polar\": {\"angularaxis\": {\"gridcolor\": \"white\", \"linecolor\": \"white\", \"ticks\": \"\"}, \"bgcolor\": \"#E5ECF6\", \"radialaxis\": {\"gridcolor\": \"white\", \"linecolor\": \"white\", \"ticks\": \"\"}}, \"scene\": {\"xaxis\": {\"backgroundcolor\": \"#E5ECF6\", \"gridcolor\": \"white\", \"gridwidth\": 2, \"linecolor\": \"white\", \"showbackground\": true, \"ticks\": \"\", \"zerolinecolor\": \"white\"}, \"yaxis\": {\"backgroundcolor\": \"#E5ECF6\", \"gridcolor\": \"white\", \"gridwidth\": 2, \"linecolor\": \"white\", \"showbackground\": true, \"ticks\": \"\", \"zerolinecolor\": \"white\"}, \"zaxis\": {\"backgroundcolor\": \"#E5ECF6\", \"gridcolor\": \"white\", \"gridwidth\": 2, \"linecolor\": \"white\", \"showbackground\": true, \"ticks\": \"\", \"zerolinecolor\": \"white\"}}, \"shapedefaults\": {\"line\": {\"color\": \"#2a3f5f\"}}, \"ternary\": {\"aaxis\": {\"gridcolor\": \"white\", \"linecolor\": \"white\", \"ticks\": \"\"}, \"baxis\": {\"gridcolor\": \"white\", \"linecolor\": \"white\", \"ticks\": \"\"}, \"bgcolor\": \"#E5ECF6\", \"caxis\": {\"gridcolor\": \"white\", \"linecolor\": \"white\", \"ticks\": \"\"}}, \"title\": {\"x\": 0.05}, \"xaxis\": {\"automargin\": true, \"gridcolor\": \"white\", \"linecolor\": \"white\", \"ticks\": \"\", \"title\": {\"standoff\": 15}, \"zerolinecolor\": \"white\", \"zerolinewidth\": 2}, \"yaxis\": {\"automargin\": true, \"gridcolor\": \"white\", \"linecolor\": \"white\", \"ticks\": \"\", \"title\": {\"standoff\": 15}, \"zerolinecolor\": \"white\", \"zerolinewidth\": 2}}}, \"title\": {\"text\": \"Content added over the years\"}},\n",
              "                        {\"responsive\": true}\n",
              "                    ).then(function(){\n",
              "                            \n",
              "var gd = document.getElementById('73c374c9-d984-4e36-a9b4-93bd368a216d');\n",
              "var x = new MutationObserver(function (mutations, observer) {{\n",
              "        var display = window.getComputedStyle(gd).display;\n",
              "        if (!display || display === 'none') {{\n",
              "            console.log([gd, 'removed!']);\n",
              "            Plotly.purge(gd);\n",
              "            observer.disconnect();\n",
              "        }}\n",
              "}});\n",
              "\n",
              "// Listen for the removal of the full notebook cells\n",
              "var notebookContainer = gd.closest('#notebook-container');\n",
              "if (notebookContainer) {{\n",
              "    x.observe(notebookContainer, {childList: true});\n",
              "}}\n",
              "\n",
              "// Listen for the clearing of the current output cell\n",
              "var outputEl = gd.closest('.output');\n",
              "if (outputEl) {{\n",
              "    x.observe(outputEl, {childList: true});\n",
              "}}\n",
              "\n",
              "                        })\n",
              "                };\n",
              "                \n",
              "            </script>\n",
              "        </div>\n",
              "</body>\n",
              "</html>"
            ]
          },
          "metadata": {}
        }
      ]
    },
    {
      "cell_type": "code",
      "source": [
        "col = 'month_added'\n",
        "vc1 = tvshows[col].value_counts().reset_index()\n",
        "vc1 = vc1.rename(columns = {col : \"count\", \"index\" : col})\n",
        "vc1['percent'] = vc1['count'].apply(lambda x : 100*x/sum(vc1['count']))\n",
        "vc1 = vc1.sort_values(col)\n",
        "\n",
        "trace1 = go.Bar(x=vc1[col], y=vc1[\"count\"], name=\"TV Shows\", marker=dict(color=\"#a678de\"))\n",
        "data = [trace1]\n",
        "layout = go.Layout(title=\"In which month, the conent is added the most?\", legend=dict(x=0.1, y=1.1, orientation=\"h\"))\n",
        "fig = go.Figure(data, layout=layout)\n",
        "fig.show()"
      ],
      "metadata": {
        "id": "4s61H7MbGbXZ",
        "colab": {
          "base_uri": "https://localhost:8080/",
          "height": 542
        },
        "outputId": "096699d4-15f2-45a5-87c6-8d5bef48f517"
      },
      "execution_count": null,
      "outputs": [
        {
          "output_type": "display_data",
          "data": {
            "text/html": [
              "<html>\n",
              "<head><meta charset=\"utf-8\" /></head>\n",
              "<body>\n",
              "    <div>\n",
              "            <script src=\"https://cdnjs.cloudflare.com/ajax/libs/mathjax/2.7.5/MathJax.js?config=TeX-AMS-MML_SVG\"></script><script type=\"text/javascript\">if (window.MathJax) {MathJax.Hub.Config({SVG: {font: \"STIX-Web\"}});}</script>\n",
              "                <script type=\"text/javascript\">window.PlotlyConfig = {MathJaxConfig: 'local'};</script>\n",
              "        <script src=\"https://cdn.plot.ly/plotly-latest.min.js\"></script>    \n",
              "            <div id=\"f7681afd-d7c8-424e-b5c1-83d081e4368a\" class=\"plotly-graph-div\" style=\"height:525px; width:100%;\"></div>\n",
              "            <script type=\"text/javascript\">\n",
              "                \n",
              "                    window.PLOTLYENV=window.PLOTLYENV || {};\n",
              "                    \n",
              "                if (document.getElementById(\"f7681afd-d7c8-424e-b5c1-83d081e4368a\")) {\n",
              "                    Plotly.newPlot(\n",
              "                        'f7681afd-d7c8-424e-b5c1-83d081e4368a',\n",
              "                        [{\"marker\": {\"color\": \"#a678de\"}, \"name\": \"TV Shows\", \"type\": \"bar\", \"x\": [3.0, 4.0, 5.0, 6.0, 7.0, 8.0, 9.0, 10.0], \"y\": [5, 10, 11, 25, 16, 24, 29, 19]}],\n",
              "                        {\"legend\": {\"orientation\": \"h\", \"x\": 0.1, \"y\": 1.1}, \"template\": {\"data\": {\"bar\": [{\"error_x\": {\"color\": \"#2a3f5f\"}, \"error_y\": {\"color\": \"#2a3f5f\"}, \"marker\": {\"line\": {\"color\": \"#E5ECF6\", \"width\": 0.5}}, \"type\": \"bar\"}], \"barpolar\": [{\"marker\": {\"line\": {\"color\": \"#E5ECF6\", \"width\": 0.5}}, \"type\": \"barpolar\"}], \"carpet\": [{\"aaxis\": {\"endlinecolor\": \"#2a3f5f\", \"gridcolor\": \"white\", \"linecolor\": \"white\", \"minorgridcolor\": \"white\", \"startlinecolor\": \"#2a3f5f\"}, \"baxis\": {\"endlinecolor\": \"#2a3f5f\", \"gridcolor\": \"white\", \"linecolor\": \"white\", \"minorgridcolor\": \"white\", \"startlinecolor\": \"#2a3f5f\"}, \"type\": \"carpet\"}], \"choropleth\": [{\"colorbar\": {\"outlinewidth\": 0, \"ticks\": \"\"}, \"type\": \"choropleth\"}], \"contour\": [{\"colorbar\": {\"outlinewidth\": 0, \"ticks\": \"\"}, \"colorscale\": [[0.0, \"#0d0887\"], [0.1111111111111111, \"#46039f\"], [0.2222222222222222, \"#7201a8\"], [0.3333333333333333, \"#9c179e\"], [0.4444444444444444, \"#bd3786\"], [0.5555555555555556, \"#d8576b\"], [0.6666666666666666, \"#ed7953\"], [0.7777777777777778, \"#fb9f3a\"], [0.8888888888888888, \"#fdca26\"], [1.0, \"#f0f921\"]], \"type\": \"contour\"}], \"contourcarpet\": [{\"colorbar\": {\"outlinewidth\": 0, \"ticks\": \"\"}, \"type\": \"contourcarpet\"}], \"heatmap\": [{\"colorbar\": {\"outlinewidth\": 0, \"ticks\": \"\"}, \"colorscale\": [[0.0, \"#0d0887\"], [0.1111111111111111, \"#46039f\"], [0.2222222222222222, \"#7201a8\"], [0.3333333333333333, \"#9c179e\"], [0.4444444444444444, \"#bd3786\"], [0.5555555555555556, \"#d8576b\"], [0.6666666666666666, \"#ed7953\"], [0.7777777777777778, \"#fb9f3a\"], [0.8888888888888888, \"#fdca26\"], [1.0, \"#f0f921\"]], \"type\": \"heatmap\"}], \"heatmapgl\": [{\"colorbar\": {\"outlinewidth\": 0, \"ticks\": \"\"}, \"colorscale\": [[0.0, \"#0d0887\"], [0.1111111111111111, \"#46039f\"], [0.2222222222222222, \"#7201a8\"], [0.3333333333333333, \"#9c179e\"], [0.4444444444444444, \"#bd3786\"], [0.5555555555555556, \"#d8576b\"], [0.6666666666666666, \"#ed7953\"], [0.7777777777777778, \"#fb9f3a\"], [0.8888888888888888, \"#fdca26\"], [1.0, \"#f0f921\"]], \"type\": \"heatmapgl\"}], \"histogram\": [{\"marker\": {\"colorbar\": {\"outlinewidth\": 0, \"ticks\": \"\"}}, \"type\": \"histogram\"}], \"histogram2d\": [{\"colorbar\": {\"outlinewidth\": 0, \"ticks\": \"\"}, \"colorscale\": [[0.0, \"#0d0887\"], [0.1111111111111111, \"#46039f\"], [0.2222222222222222, \"#7201a8\"], [0.3333333333333333, \"#9c179e\"], [0.4444444444444444, \"#bd3786\"], [0.5555555555555556, \"#d8576b\"], [0.6666666666666666, \"#ed7953\"], [0.7777777777777778, \"#fb9f3a\"], [0.8888888888888888, \"#fdca26\"], [1.0, \"#f0f921\"]], \"type\": \"histogram2d\"}], \"histogram2dcontour\": [{\"colorbar\": {\"outlinewidth\": 0, \"ticks\": \"\"}, \"colorscale\": [[0.0, \"#0d0887\"], [0.1111111111111111, \"#46039f\"], [0.2222222222222222, \"#7201a8\"], [0.3333333333333333, \"#9c179e\"], [0.4444444444444444, \"#bd3786\"], [0.5555555555555556, \"#d8576b\"], [0.6666666666666666, \"#ed7953\"], [0.7777777777777778, \"#fb9f3a\"], [0.8888888888888888, \"#fdca26\"], [1.0, \"#f0f921\"]], \"type\": \"histogram2dcontour\"}], \"mesh3d\": [{\"colorbar\": {\"outlinewidth\": 0, \"ticks\": \"\"}, \"type\": \"mesh3d\"}], \"parcoords\": [{\"line\": {\"colorbar\": {\"outlinewidth\": 0, \"ticks\": \"\"}}, \"type\": \"parcoords\"}], \"pie\": [{\"automargin\": true, \"type\": \"pie\"}], \"scatter\": [{\"marker\": {\"colorbar\": {\"outlinewidth\": 0, \"ticks\": \"\"}}, \"type\": \"scatter\"}], \"scatter3d\": [{\"line\": {\"colorbar\": {\"outlinewidth\": 0, \"ticks\": \"\"}}, \"marker\": {\"colorbar\": {\"outlinewidth\": 0, \"ticks\": \"\"}}, \"type\": \"scatter3d\"}], \"scattercarpet\": [{\"marker\": {\"colorbar\": {\"outlinewidth\": 0, \"ticks\": \"\"}}, \"type\": \"scattercarpet\"}], \"scattergeo\": [{\"marker\": {\"colorbar\": {\"outlinewidth\": 0, \"ticks\": \"\"}}, \"type\": \"scattergeo\"}], \"scattergl\": [{\"marker\": {\"colorbar\": {\"outlinewidth\": 0, \"ticks\": \"\"}}, \"type\": \"scattergl\"}], \"scattermapbox\": [{\"marker\": {\"colorbar\": {\"outlinewidth\": 0, \"ticks\": \"\"}}, \"type\": \"scattermapbox\"}], \"scatterpolar\": [{\"marker\": {\"colorbar\": {\"outlinewidth\": 0, \"ticks\": \"\"}}, \"type\": \"scatterpolar\"}], \"scatterpolargl\": [{\"marker\": {\"colorbar\": {\"outlinewidth\": 0, \"ticks\": \"\"}}, \"type\": \"scatterpolargl\"}], \"scatterternary\": [{\"marker\": {\"colorbar\": {\"outlinewidth\": 0, \"ticks\": \"\"}}, \"type\": \"scatterternary\"}], \"surface\": [{\"colorbar\": {\"outlinewidth\": 0, \"ticks\": \"\"}, \"colorscale\": [[0.0, \"#0d0887\"], [0.1111111111111111, \"#46039f\"], [0.2222222222222222, \"#7201a8\"], [0.3333333333333333, \"#9c179e\"], [0.4444444444444444, \"#bd3786\"], [0.5555555555555556, \"#d8576b\"], [0.6666666666666666, \"#ed7953\"], [0.7777777777777778, \"#fb9f3a\"], [0.8888888888888888, \"#fdca26\"], [1.0, \"#f0f921\"]], \"type\": \"surface\"}], \"table\": [{\"cells\": {\"fill\": {\"color\": \"#EBF0F8\"}, \"line\": {\"color\": \"white\"}}, \"header\": {\"fill\": {\"color\": \"#C8D4E3\"}, \"line\": {\"color\": \"white\"}}, \"type\": \"table\"}]}, \"layout\": {\"annotationdefaults\": {\"arrowcolor\": \"#2a3f5f\", \"arrowhead\": 0, \"arrowwidth\": 1}, \"coloraxis\": {\"colorbar\": {\"outlinewidth\": 0, \"ticks\": \"\"}}, \"colorscale\": {\"diverging\": [[0, \"#8e0152\"], [0.1, \"#c51b7d\"], [0.2, \"#de77ae\"], [0.3, \"#f1b6da\"], [0.4, \"#fde0ef\"], [0.5, \"#f7f7f7\"], [0.6, \"#e6f5d0\"], [0.7, \"#b8e186\"], [0.8, \"#7fbc41\"], [0.9, \"#4d9221\"], [1, \"#276419\"]], \"sequential\": [[0.0, \"#0d0887\"], [0.1111111111111111, \"#46039f\"], [0.2222222222222222, \"#7201a8\"], [0.3333333333333333, \"#9c179e\"], [0.4444444444444444, \"#bd3786\"], [0.5555555555555556, \"#d8576b\"], [0.6666666666666666, \"#ed7953\"], [0.7777777777777778, \"#fb9f3a\"], [0.8888888888888888, \"#fdca26\"], [1.0, \"#f0f921\"]], \"sequentialminus\": [[0.0, \"#0d0887\"], [0.1111111111111111, \"#46039f\"], [0.2222222222222222, \"#7201a8\"], [0.3333333333333333, \"#9c179e\"], [0.4444444444444444, \"#bd3786\"], [0.5555555555555556, \"#d8576b\"], [0.6666666666666666, \"#ed7953\"], [0.7777777777777778, \"#fb9f3a\"], [0.8888888888888888, \"#fdca26\"], [1.0, \"#f0f921\"]]}, \"colorway\": [\"#636efa\", \"#EF553B\", \"#00cc96\", \"#ab63fa\", \"#FFA15A\", \"#19d3f3\", \"#FF6692\", \"#B6E880\", \"#FF97FF\", \"#FECB52\"], \"font\": {\"color\": \"#2a3f5f\"}, \"geo\": {\"bgcolor\": \"white\", \"lakecolor\": \"white\", \"landcolor\": \"#E5ECF6\", \"showlakes\": true, \"showland\": true, \"subunitcolor\": \"white\"}, \"hoverlabel\": {\"align\": \"left\"}, \"hovermode\": \"closest\", \"mapbox\": {\"style\": \"light\"}, \"paper_bgcolor\": \"white\", \"plot_bgcolor\": \"#E5ECF6\", \"polar\": {\"angularaxis\": {\"gridcolor\": \"white\", \"linecolor\": \"white\", \"ticks\": \"\"}, \"bgcolor\": \"#E5ECF6\", \"radialaxis\": {\"gridcolor\": \"white\", \"linecolor\": \"white\", \"ticks\": \"\"}}, \"scene\": {\"xaxis\": {\"backgroundcolor\": \"#E5ECF6\", \"gridcolor\": \"white\", \"gridwidth\": 2, \"linecolor\": \"white\", \"showbackground\": true, \"ticks\": \"\", \"zerolinecolor\": \"white\"}, \"yaxis\": {\"backgroundcolor\": \"#E5ECF6\", \"gridcolor\": \"white\", \"gridwidth\": 2, \"linecolor\": \"white\", \"showbackground\": true, \"ticks\": \"\", \"zerolinecolor\": \"white\"}, \"zaxis\": {\"backgroundcolor\": \"#E5ECF6\", \"gridcolor\": \"white\", \"gridwidth\": 2, \"linecolor\": \"white\", \"showbackground\": true, \"ticks\": \"\", \"zerolinecolor\": \"white\"}}, \"shapedefaults\": {\"line\": {\"color\": \"#2a3f5f\"}}, \"ternary\": {\"aaxis\": {\"gridcolor\": \"white\", \"linecolor\": \"white\", \"ticks\": \"\"}, \"baxis\": {\"gridcolor\": \"white\", \"linecolor\": \"white\", \"ticks\": \"\"}, \"bgcolor\": \"#E5ECF6\", \"caxis\": {\"gridcolor\": \"white\", \"linecolor\": \"white\", \"ticks\": \"\"}}, \"title\": {\"x\": 0.05}, \"xaxis\": {\"automargin\": true, \"gridcolor\": \"white\", \"linecolor\": \"white\", \"ticks\": \"\", \"title\": {\"standoff\": 15}, \"zerolinecolor\": \"white\", \"zerolinewidth\": 2}, \"yaxis\": {\"automargin\": true, \"gridcolor\": \"white\", \"linecolor\": \"white\", \"ticks\": \"\", \"title\": {\"standoff\": 15}, \"zerolinecolor\": \"white\", \"zerolinewidth\": 2}}}, \"title\": {\"text\": \"In which month, the conent is added the most?\"}},\n",
              "                        {\"responsive\": true}\n",
              "                    ).then(function(){\n",
              "                            \n",
              "var gd = document.getElementById('f7681afd-d7c8-424e-b5c1-83d081e4368a');\n",
              "var x = new MutationObserver(function (mutations, observer) {{\n",
              "        var display = window.getComputedStyle(gd).display;\n",
              "        if (!display || display === 'none') {{\n",
              "            console.log([gd, 'removed!']);\n",
              "            Plotly.purge(gd);\n",
              "            observer.disconnect();\n",
              "        }}\n",
              "}});\n",
              "\n",
              "// Listen for the removal of the full notebook cells\n",
              "var notebookContainer = gd.closest('#notebook-container');\n",
              "if (notebookContainer) {{\n",
              "    x.observe(notebookContainer, {childList: true});\n",
              "}}\n",
              "\n",
              "// Listen for the clearing of the current output cell\n",
              "var outputEl = gd.closest('.output');\n",
              "if (outputEl) {{\n",
              "    x.observe(outputEl, {childList: true});\n",
              "}}\n",
              "\n",
              "                        })\n",
              "                };\n",
              "                \n",
              "            </script>\n",
              "        </div>\n",
              "</body>\n",
              "</html>"
            ]
          },
          "metadata": {}
        }
      ]
    },
    {
      "cell_type": "code",
      "source": [
        "import plotly.figure_factory as ff\n",
        "x1 = movies['duration'].fillna(0.0).astype(float)\n",
        "fig = ff.create_distplot([x1], ['a'], bin_size=0.7, curve_type='normal', colors=[\"#6ad49b\"])\n",
        "fig.update_layout(title_text='Distplot with Normal Distribution')\n",
        "fig.show()"
      ],
      "metadata": {
        "colab": {
          "base_uri": "https://localhost:8080/",
          "height": 542
        },
        "id": "ZGnxjUd3IALm",
        "outputId": "a1402dbf-d6e4-426f-8ae9-bfb9a90356a4"
      },
      "execution_count": null,
      "outputs": [
        {
          "output_type": "display_data",
          "data": {
            "text/html": [
              "<html>\n",
              "<head><meta charset=\"utf-8\" /></head>\n",
              "<body>\n",
              "    <div>\n",
              "            <script src=\"https://cdnjs.cloudflare.com/ajax/libs/mathjax/2.7.5/MathJax.js?config=TeX-AMS-MML_SVG\"></script><script type=\"text/javascript\">if (window.MathJax) {MathJax.Hub.Config({SVG: {font: \"STIX-Web\"}});}</script>\n",
              "                <script type=\"text/javascript\">window.PlotlyConfig = {MathJaxConfig: 'local'};</script>\n",
              "        <script src=\"https://cdn.plot.ly/plotly-latest.min.js\"></script>    \n",
              "            <div id=\"21d2d7eb-6f16-4e7e-a2c2-e60c521e9064\" class=\"plotly-graph-div\" style=\"height:525px; width:100%;\"></div>\n",
              "            <script type=\"text/javascript\">\n",
              "                \n",
              "                    window.PLOTLYENV=window.PLOTLYENV || {};\n",
              "                    \n",
              "                if (document.getElementById(\"21d2d7eb-6f16-4e7e-a2c2-e60c521e9064\")) {\n",
              "                    Plotly.newPlot(\n",
              "                        '21d2d7eb-6f16-4e7e-a2c2-e60c521e9064',\n",
              "                        [{\"autobinx\": false, \"histnorm\": \"probability density\", \"legendgroup\": \"a\", \"marker\": {\"color\": \"#6ad49b\"}, \"name\": \"a\", \"opacity\": 0.7, \"type\": \"histogram\", \"x\": [113.0, 110.0, 74.0, 69.0, 45.0, 52.0, 98.0, 131.0, 87.0, 92.0, 88.0, 93.0, 94.0, 46.0, 74.0, 96.0, 87.0, 104.0, 62.0, 94.0, 50.0, 86.0, 36.0, 37.0, 103.0, 98.0, 9.0, 18.0, 14.0, 20.0, 19.0, 18.0, 20.0, 20.0, 22.0, 60.0, 6.0, 54.0, 5.0, 84.0, 126.0, 125.0, 109.0, 89.0, 85.0, 56.0, 40.0, 111.0, 33.0, 34.0, 95.0, 99.0, 104.0, 111.0, 78.0, 77.0, 55.0, 126.0, 53.0, 115.0, 55.0, 58.0, 49.0, 104.0, 95.0, 109.0, 135.0, 91.0, 99.0, 64.0, 131.0, 59.0, 52.0, 48.0, 109.0, 62.0, 84.0, 85.0, 22.0, 22.0, 22.0, 22.0, 122.0, 103.0, 9.0, 92.0, 90.0, 102.0, 65.0, 114.0, 56.0, 59.0, 136.0, 70.0, 138.0, 89.0, 113.0, 100.0, 480.0, 4.0, 30.0, 104.0, 65.0, 152.0, 152.0, 55.0, 86.0, 68.0, 57.0, 89.0, 77.0, 92.0, 96.0, 109.0, 85.0, 98.0, 94.0, 88.0, 90.0, 31.0, 151.0, 92.0, 149.0, 111.0, 86.0, 113.0, 53.0, 125.0, 141.0, 121.0, 48.0, 99.0, 88.0, 79.0, 111.0, 140.0, 140.0, 140.0, 90.0, 46.0, 51.0, 51.0, 106.0, 75.0, 93.0, 60.0, 27.0, 90.0, 104.0, 60.0, 88.0, 69.0, 107.0, 108.0, 108.0, 91.0, 115.0, 93.0, 38.0, 104.0, 92.0, 102.0, 157.0, 43.0, 91.0, 91.0, 118.0, 139.0, 112.0, 15.0, 93.0, 87.0, 110.0, 27.0, 107.0, 95.0, 126.0, 72.0, 86.0, 93.0, 88.0, 87.0, 89.0, 88.0, 65.0, 116.0, 93.0, 142.0, 104.0, 75.0, 57.0, 84.0, 71.0, 104.0, 65.0, 91.0, 56.0, 57.0, 60.0, 42.0, 55.0, 81.0, 100.0, 46.0, 95.0, 95.0, 106.0, 57.0, 32.0, 52.0, 87.0, 95.0, 54.0, 66.0, 127.0, 96.0, 43.0, 159.0, 67.0, 92.0, 94.0, 29.0, 132.0, 101.0, 89.0, 164.0, 152.0, 116.0, 90.0, 73.0, 95.0, 57.0, 61.0, 60.0, 60.0, 62.0, 115.0, 91.0, 91.0, 118.0, 71.0, 93.0, 136.0, 99.0, 96.0, 92.0, 95.0, 60.0, 60.0, 60.0, 66.0, 110.0, 19.0, 65.0, 87.0, 99.0, 96.0, 104.0, 91.0, 88.0, 80.0, 61.0, 91.0, 79.0, 90.0, 91.0, 62.0, 85.0, 99.0, 75.0, 110.0, 89.0, 83.0, 106.0, 107.0, 91.0, 75.0, 44.0, 110.0, 45.0, 54.0, 91.0, 91.0, 94.0, 87.0, 94.0, 120.0, 113.0, 79.0, 69.0, 56.0, 90.0, 95.0, 93.0, 102.0, 111.0, 53.0, 91.0, 26.0, 97.0, 80.0, 107.0, 90.0, 93.0, 97.0, 48.0, 66.0, 104.0, 97.0, 36.0, 109.0, 93.0, 30.0, 79.0, 84.0, 86.0, 89.0, 59.0, 91.0, 102.0, 87.0, 22.0, 97.0, 74.0, 86.0, 97.0, 58.0, 23.0, 105.0, 107.0, 106.0, 89.0, 93.0, 49.0, 58.0, 55.0, 91.0, 56.0, 56.0, 26.0, 77.0, 82.0, 106.0, 88.0, 102.0, 78.0, 87.0, 11.0, 60.0, 95.0, 80.0, 74.0, 56.0, 53.0, 50.0, 50.0, 127.0, 127.0, 96.0, 89.0, 107.0, 9.0, 116.0, 103.0, 53.0, 80.0, 84.0, 82.0, 140.0, 93.0, 111.0, 89.0, 69.0, 105.0, 148.0, 121.0, 125.0, 88.0, 96.0, 109.0, 115.0, 88.0, 68.0, 82.0, 109.0, 95.0, 45.0, 70.0, 96.0, 86.0, 116.0, 99.0, 103.0, 57.0, 113.0, 106.0, 77.0, 101.0, 90.0, 99.0, 92.0, 91.0, 91.0, 88.0, 48.0, 71.0, 69.0, 97.0, 91.0, 110.0, 85.0, 89.0, 110.0, 83.0, 161.0, 73.0, 72.0, 78.0, 89.0, 68.0, 57.0, 111.0, 95.0, 97.0, 68.0, 81.0, 91.0, 100.0, 55.0, 68.0, 100.0, 82.0, 56.0, 91.0, 33.0, 90.0, 98.0, 92.0, 34.0, 123.0, 116.0, 77.0, 95.0, 95.0, 94.0, 99.0, 93.0, 107.0, 90.0, 64.0, 98.0, 80.0, 83.0, 96.0, 81.0, 92.0, 54.0, 92.0, 95.0, 101.0, 66.0, 103.0, 94.0, 104.0, 91.0, 126.0, 90.0, 98.0, 89.0, 52.0, 100.0, 90.0, 102.0, 43.0, 91.0, 103.0, 67.0, 89.0, 93.0, 103.0, 56.0, 103.0, 110.0, 79.0, 29.0, 77.0, 88.0, 93.0, 73.0, 107.0, 118.0, 103.0, 105.0, 87.0, 96.0, 92.0, 98.0, 103.0, 49.0, 36.0, 83.0, 112.0, 54.0, 62.0, 105.0, 58.0, 102.0, 66.0, 112.0, 94.0, 102.0, 142.0, 142.0, 56.0, 55.0, 0.0, 98.0, 56.0, 90.0, 72.0, 84.0, 96.0, 124.0, 86.0, 80.0, 59.0, 45.0, 45.0, 86.0, 86.0, 70.0, 49.0, 22.0, 138.0, 98.0, 34.0, 90.0, 143.0, 85.0, 35.0, 60.0, 47.0, 82.0, 81.0, 170.0, 170.0, 170.0, 170.0, 74.0, 34.0, 103.0, 52.0, 103.0, 99.0, 3.0, 60.0, 60.0, 60.0, 60.0, 59.0, 141.0, 99.0, 55.0, 30.0, 101.0, 70.0, 90.0, 84.0, 122.0, 123.0, 146.0, 96.0, 99.0, 114.0, 85.0, 48.0, 38.0, 99.0, 88.0, 86.0, 82.0, 103.0, 85.0, 27.0, 72.0, 65.0, 73.0, 84.0, 56.0, 106.0, 90.0, 89.0, 73.0, 88.0, 88.0, 91.0, 96.0, 135.0, 53.0, 100.0, 71.0, 96.0, 78.0, 109.0, 53.0, 94.0, 60.0, 601.0, 480.0, 60.0, 138.0, 88.0, 24.0, 53.0, 53.0, 60.0, 71.0, 96.0, 91.0, 88.0, 111.0, 42.0, 90.0, 101.0, 83.0, 83.0, 96.0, 94.0, 36.0, 4.0, 84.0, 89.0, 95.0, 92.0, 132.0, 104.0, 110.0, 87.0, 55.0, 88.0, 90.0, 78.0, 62.0, 109.0, 90.0, 87.0, 64.0, 53.0, 83.0, 157.0, 52.0, 30.0, 33.0, 60.0, 59.0, 45.0, 47.0, 35.0, 95.0, 90.0, 84.0, 98.0, 59.0, 70.0, 115.0, 85.0, 126.0, 126.0, 29.0, 105.0, 35.0, 99.0, 123.0, 154.0, 60.0, 100.0, 69.0, 71.0, 88.0, 61.0, 86.0, 85.0, 54.0, 33.0, 100.0, 65.0, 127.0, 103.0, 44.0, 128.0, 133.0, 92.0, 106.0, 93.0, 86.0, 97.0, 98.0, 74.0, 92.0, 123.0, 55.0, 57.0, 50.0, 95.0, 14.0, 110.0, 74.0, 29.0, 78.0, 107.0, 89.0, 95.0, 153.0, 148.0, 34.0, 95.0, 85.0, 73.0, 67.0, 72.0, 94.0, 53.0, 119.0, 92.0, 63.0, 124.0, 95.0, 72.0, 170.0, 170.0, 170.0, 169.0, 26.0, 110.0, 148.0, 127.0, 101.0, 111.0, 92.0, 102.0, 78.0, 22.0, 95.0, 94.0, 118.0, 53.0, 118.0, 68.0, 88.0, 121.0, 94.0, 60.0, 96.0, 74.0, 49.0, 91.0, 70.0, 59.0, 93.0, 115.0, 59.0, 55.0, 57.0, 59.0, 53.0, 18.0, 53.0, 4.0, 84.0, 93.0, 101.0, 56.0, 57.0, 63.0, 60.0, 60.0, 60.0, 70.0, 90.0, 90.0, 90.0, 91.0, 94.0, 54.0, 90.0, 73.0, 53.0, 174.0, 93.0, 85.0, 128.0, 144.0, 52.0, 88.0, 7.0, 111.0, 72.0, 110.0, 92.0, 159.0, 137.0, 60.0, 76.0, 112.0, 104.0, 102.0, 39.0, 92.0, 68.0, 88.0, 73.0, 48.0, 46.0, 72.0, 86.0, 132.0, 98.0, 19.0, 106.0, 110.0, 93.0, 42.0, 82.0, 93.0, 98.0, 22.0, 59.0, 60.0, 50.0, 125.0, 43.0, 100.0, 81.0, 94.0, 67.0, 78.0, 58.0, 109.0, 80.0, 115.0, 127.0, 70.0, 63.0, 148.0, 132.0, 132.0, 84.0, 48.0, 93.0, 94.0, 76.0, 27.0, 140.0, 118.0, 100.0, 64.0, 75.0, 62.0, 71.0, 101.0, 134.0, 91.0, 0.0, 53.0, 97.0, 78.0, 96.0, 73.0, 149.0, 163.0, 61.0, 138.0, 138.0, 161.0, 38.0, 73.0, 82.0, 91.0, 99.0, 139.0, 92.0, 120.0, 1.0, 87.0, 105.0, 83.0, 159.0, 60.0, 60.0, 113.0, 145.0, 110.0, 69.0, 85.0, 73.0, 58.0, 84.0, 55.0, 98.0, 120.0, 112.0, 90.0, 162.0, 162.0, 32.0, 95.0, 97.0, 47.0, 50.0, 47.0, 53.0, 49.0, 53.0, 46.0, 39.0, 49.0, 50.0, 67.0, 33.0, 41.0, 39.0, 103.0, 97.0, 112.0, 144.0, 91.0, 109.0, 78.0, 101.0, 91.0, 48.0, 126.0, 126.0, 93.0, 86.0, 93.0, 114.0, 65.0, 52.0, 52.0, 45.0, 60.0, 43.0, 56.0, 46.0, 64.0, 97.0, 50.0, 76.0, 147.0, 97.0, 86.0, 95.0, 31.0, 58.0, 62.0, 111.0, 90.0, 90.0, 44.0, 110.0, 61.0, 87.0, 53.0, 53.0, 53.0, 53.0, 53.0, 53.0, 69.0, 80.0, 98.0, 105.0, 155.0, 117.0, 167.0, 125.0, 121.0, 72.0, 66.0, 79.0, 75.0, 60.0, 92.0, 117.0, 93.0, 15.0, 84.0, 99.0, 93.0, 91.0, 106.0, 100.0, 54.0, 53.0, 92.0, 70.0, 57.0, 58.0, 139.0, 90.0, 111.0, 74.0, 69.0, 87.0, 55.0, 125.0, 59.0, 1.0, 1.0, 0.0, 85.0, 109.0, 89.0, 88.0, 87.0, 96.0, 45.0, 51.0, 52.0, 27.0, 30.0, 28.0, 49.0, 25.0, 31.0, 58.0, 120.0, 180.0, 50.0, 90.0, 53.0, 113.0, 117.0, 33.0, 94.0, 61.0, 30.0, 2.0, 3.0, 138.0, 100.0, 88.0, 66.0, 98.0, 96.0, 97.0, 120.0, 71.0, 81.0, 85.0, 89.0, 88.0, 66.0, 89.0, 88.0, 48.0, 42.0, 41.0, 32.0, 57.0, 76.0, 480.0, 541.0, 90.0, 240.0, 136.0, 41.0, 60.0, 78.0, 83.0, 113.0, 61.0, 88.0, 14.0, 67.0, 97.0, 68.0, 101.0, 86.0, 94.0, 135.0, 127.0, 95.0, 138.0, 86.0, 88.0, 42.0, 44.0, 45.0, 43.0, 64.0, 66.0, 70.0, 129.0, 101.0, 178.0, 178.0, 178.0, 178.0, 178.0, 178.0, 89.0, 94.0, 95.0, 90.0, 86.0, 113.0, 33.0, 18.0, 124.0, 104.0, 75.0, 50.0, 82.0, 118.0, 88.0, 106.0, 127.0, 120.0, 85.0, 82.0, 70.0, 106.0, 89.0, 24.0, 107.0, 104.0, 36.0, 82.0, 151.0, 81.0, 171.0, 49.0, 57.0, 111.0, 21.0, 55.0, 92.0, 87.0, 105.0, 126.0, 107.0, 91.0, 93.0, 109.0, 56.0, 172.0, 173.0, 172.0, 83.0, 86.0, 133.0, 90.0, 92.0, 44.0, 61.0, 86.0, 90.0, 94.0, 97.0, 103.0, 80.0, 78.0, 101.0, 108.0, 101.0, 60.0, 88.0, 49.0, 50.0, 95.0, 140.0, 69.0, 50.0, 24.0, 90.0, 133.0, 93.0, 77.0, 139.0, 21.0, 37.0, 33.0, 31.0, 26.0, 33.0, 89.0, 99.0, 55.0, 81.0, 25.0, 120.0, 95.0, 113.0, 34.0, 85.0, 107.0, 91.0, 96.0, 44.0, 50.0, 68.0, 73.0, 55.0, 104.0, 93.0, 67.0, 27.0, 91.0, 38.0, 37.0, 60.0, 7.0, 30.0, 10.0, 9.0, 120.0, 107.0, 92.0, 97.0, 96.0, 90.0, 84.0, 59.0, 59.0, 104.0, 153.0, 90.0, 92.0, 114.0, 114.0, 78.0, 95.0, 91.0, 86.0, 100.0, 55.0, 102.0, 87.0, 53.0, 77.0, 28.0, 30.0, 26.0, 30.0, 92.0, 123.0, 85.0, 57.0, 81.0, 83.0, 68.0, 153.0, 83.0, 65.0, 97.0, 154.0, 127.0, 137.0, 137.0, 58.0, 52.0, 60.0, 166.0, 123.0, 148.0, 137.0, 137.0, 164.0, 160.0, 161.0, 161.0, 53.0, 155.0, 155.0, 154.0, 155.0, 84.0, 100.0, 94.0, 55.0, 60.0, 81.0, 92.0, 60.0, 103.0, 93.0, 60.0, 42.0, 112.0, 75.0, 63.0, 110.0, 95.0, 51.0, 66.0, 66.0, 90.0, 57.0, 58.0, 39.0, 76.0, 60.0, 68.0, 63.0, 62.0, 41.0, 105.0, 57.0, 59.0, 59.0, 94.0, 58.0, 58.0, 58.0, 80.0, 97.0, 84.0, 61.0, 106.0, 63.0, 64.0, 54.0, 130.0, 62.0, 84.0, 65.0, 56.0, 104.0, 54.0, 129.0, 134.0, 91.0, 52.0, 80.0, 104.0, 87.0, 31.0, 77.0, 83.0, 157.0, 57.0, 479.0, 88.0, 118.0, 133.0, 132.0, 82.0, 93.0, 77.0, 140.0, 80.0, 53.0, 120.0, 84.0, 61.0, 105.0, 53.0, 13.0, 103.0, 107.0, 10.0, 63.0, 106.0, 91.0, 89.0, 65.0, 129.0, 104.0, 11.0, 98.0, 100.0, 1.0, 93.0, 90.0, 75.0, 60.0, 126.0, 38.0, 28.0, 86.0, 89.0, 108.0, 84.0, 90.0, 57.0, 54.0, 74.0, 77.0, 98.0, 51.0, 38.0, 80.0, 61.0, 113.0, 61.0, 77.0, 8.0, 68.0, 120.0, 73.0, 52.0, 141.0, 112.0, 56.0, 43.0, 82.0, 57.0, 76.0, 126.0, 92.0, 84.0, 111.0, 38.0, 84.0, 57.0, 90.0, 95.0, 17.0, 72.0, 99.0, 84.0, 103.0, 87.0, 26.0, 85.0, 106.0, 141.0, 86.0, 110.0, 87.0, 70.0, 96.0, 99.0, 56.0, 71.0, 79.0, 106.0, 118.0, 159.0, 56.0, 97.0, 94.0, 58.0, 105.0, 136.0, 99.0, 60.0, 111.0, 114.0, 110.0, 99.0, 108.0, 30.0, 107.0, 85.0, 128.0, 81.0, 85.0, 52.0, 92.0, 35.0, 101.0, 102.0, 104.0, 99.0, 93.0, 100.0, 112.0, 109.0, 85.0, 92.0, 76.0, 120.0, 91.0, 115.0, 139.0, 75.0, 125.0, 46.0, 141.0, 74.0, 70.0, 61.0, 91.0, 82.0, 153.0, 88.0, 99.0, 118.0, 60.0, 95.0, 101.0, 142.0, 85.0, 146.0, 108.0, 83.0, 86.0, 99.0, 26.0, 32.0, 35.0, 20.0, 31.0, 34.0, 32.0, 23.0, 34.0, 92.0, 111.0, 94.0, 135.0, 70.0, 77.0, 92.0, 69.0, 58.0, 68.0, 109.0, 55.0, 65.0, 84.0, 98.0, 93.0, 7.0, 134.0, 138.0, 103.0, 91.0, 87.0, 91.0, 63.0, 541.0, 541.0, 106.0, 119.0, 39.0, 40.0, 48.0, 41.0, 35.0, 40.0, 33.0, 105.0, 87.0, 48.0, 61.0, 58.0, 125.0, 93.0, 58.0, 58.0, 63.0, 58.0, 54.0, 58.0, 58.0, 60.0, 57.0, 53.0, 148.0, 104.0, 108.0, 2.0, 38.0, 20.0, 53.0, 57.0, 94.0, 83.0, 117.0, 86.0, 58.0, 117.0, 74.0, 114.0, 115.0, 86.0, 97.0, 88.0, 75.0, 95.0, 110.0, 58.0, 112.0, 95.0, 75.0, 92.0, 16.0, 89.0, 126.0, 106.0, 106.0, 89.0, 27.0, 60.0, 126.0, 106.0, 112.0, 48.0, 94.0, 114.0, 42.0, 55.0, 90.0, 82.0, 56.0, 95.0, 103.0, 63.0, 50.0, 40.0, 76.0, 116.0, 97.0, 103.0, 77.0, 90.0, 96.0, 101.0, 145.0, 92.0, 98.0, 81.0, 128.0, 34.0, 66.0, 148.0, 71.0, 92.0, 89.0, 58.0, 109.0, 49.0, 39.0, 36.0, 86.0, 87.0, 53.0, 65.0, 91.0, 55.0, 90.0, 78.0, 54.0, 58.0, 94.0, 98.0, 101.0, 60.0, 44.0, 151.0, 93.0, 106.0, 98.0, 60.0, 88.0, 105.0, 100.0, 51.0, 63.0, 66.0, 70.0, 80.0, 133.0, 33.0, 113.0, 102.0, 98.0, 64.0, 59.0, 73.0, 96.0, 95.0, 106.0, 36.0, 106.0, 90.0, 104.0, 72.0, 68.0, 75.0, 141.0, 120.0, 14.0, 153.0, 92.0, 90.0, 82.0, 109.0, 91.0, 39.0, 98.0, 80.0, 59.0, 60.0, 71.0, 61.0, 80.0, 86.0, 82.0, 109.0, 81.0, 72.0, 111.0, 59.0, 97.0, 40.0, 99.0, 101.0, 60.0, 92.0, 59.0, 48.0, 98.0, 87.0, 79.0, 79.0, 98.0, 91.0, 31.0, 95.0, 26.0, 2.0, 83.0, 89.0, 77.0, 110.0, 99.0, 6.0, 56.0, 90.0, 61.0, 86.0, 107.0, 140.0, 129.0, 137.0, 85.0, 94.0, 93.0, 27.0, 53.0, 100.0, 52.0, 91.0, 79.0, 27.0, 94.0, 167.0, 89.0, 100.0, 26.0, 92.0, 92.0, 28.0, 91.0, 94.0, 36.0, 92.0, 94.0, 76.0, 70.0, 107.0, 158.0, 158.0, 158.0, 59.0, 84.0, 78.0, 65.0, 85.0, 97.0, 55.0, 61.0, 76.0, 43.0, 82.0, 58.0, 53.0, 55.0, 42.0, 87.0, 52.0, 100.0, 56.0, 10.0, 80.0, 90.0, 94.0, 62.0, 103.0, 97.0, 89.0, 107.0, 82.0, 90.0, 92.0, 100.0, 58.0, 129.0, 73.0, 58.0, 95.0, 53.0, 135.0, 102.0, 68.0, 90.0, 79.0, 131.0, 3.0, 72.0, 95.0, 54.0, 100.0, 10.0, 56.0, 105.0, 88.0, 66.0, 96.0, 93.0, 85.0, 74.0, 4.0, 183.0, 12.0, 89.0, 72.0, 48.0, 35.0, 27.0, 35.0, 90.0, 83.0, 92.0, 126.0, 79.0, 89.0, 37.0, 88.0, 88.0, 93.0, 20.0, 93.0, 22.0, 89.0, 61.0, 61.0, 71.0, 132.0, 93.0, 91.0, 119.0, 76.0, 53.0, 92.0, 107.0, 83.0, 97.0, 88.0, 89.0, 80.0, 136.0, 62.0, 79.0, 103.0, 93.0, 97.0, 101.0, 107.0, 94.0, 88.0, 30.0, 52.0, 122.0, 97.0, 116.0, 59.0, 183.0, 85.0, 90.0, 83.0, 53.0, 78.0, 96.0, 74.0, 53.0, 76.0, 83.0, 104.0, 71.0, 52.0, 97.0, 96.0, 84.0, 97.0, 95.0, 98.0, 98.0, 90.0, 106.0, 58.0, 78.0, 90.0, 84.0, 95.0, 31.0, 49.0, 97.0, 21.0, 120.0, 102.0, 58.0, 64.0, 46.0, 69.0, 30.0, 85.0, 78.0, 88.0, 10.0, 114.0, 82.0, 65.0, 30.0, 102.0, 61.0, 60.0, 89.0, 77.0, 105.0, 103.0, 78.0, 62.0, 62.0, 111.0, 145.0, 102.0, 59.0, 88.0, 90.0, 69.0, 44.0, 64.0, 62.0, 57.0, 65.0, 55.0, 109.0, 51.0, 101.0, 91.0, 79.0, 89.0, 94.0, 100.0, 62.0, 87.0, 67.0, 29.0, 71.0, 48.0, 92.0, 40.0, 86.0, 67.0, 92.0, 94.0, 137.0, 98.0, 75.0, 39.0, 105.0, 70.0, 55.0, 101.0, 91.0, 97.0, 48.0, 86.0, 76.0, 90.0, 120.0, 30.0, 86.0, 71.0, 108.0, 81.0, 56.0, 178.0, 77.0, 80.0, 30.0, 110.0, 98.0, 141.0, 155.0, 137.0, 82.0, 110.0, 62.0, 54.0, 99.0, 104.0, 114.0, 86.0, 60.0, 90.0, 96.0, 122.0, 82.0, 87.0, 54.0, 99.0, 64.0, 81.0, 50.0, 96.0, 83.0, 102.0, 73.0, 30.0, 60.0, 30.0, 60.0, 62.0, 59.0, 89.0, 95.0, 129.0, 87.0, 96.0, 124.0, 96.0, 139.0, 71.0, 96.0, 76.0, 78.0, 102.0, 60.0, 46.0, 98.0, 164.0, 88.0, 78.0, 84.0, 92.0, 83.0, 101.0, 93.0, 85.0, 91.0, 90.0, 100.0, 63.0, 72.0, 25.0, 48.0, 12.0, 84.0, 106.0, 60.0, 148.0, 5.0, 87.0, 112.0, 46.0, 31.0, 59.0, 90.0, 99.0, 112.0, 37.0, 91.0, 54.0, 82.0, 131.0, 21.0, 22.0, 21.0, 21.0, 23.0, 22.0, 21.0, 22.0, 21.0, 60.0, 90.0, 30.0, 62.0, 61.0, 42.0, 87.0, 74.0, 113.0, 54.0, 51.0, 86.0, 98.0, 107.0, 102.0, 140.0, 81.0, 103.0, 87.0, 99.0, 77.0, 82.0, 47.0, 108.0, 90.0, 146.0, 101.0, 100.0, 59.0, 109.0, 47.0, 46.0, 87.0, 94.0, 74.0, 82.0, 94.0, 118.0, 89.0, 60.0, 53.0, 53.0, 114.0, 54.0, 52.0, 54.0, 114.0, 53.0, 117.0, 138.0, 24.0, 31.0, 76.0, 89.0, 148.0, 104.0, 7.0, 85.0, 60.0, 54.0, 62.0, 88.0, 83.0, 89.0, 113.0, 64.0, 107.0, 101.0, 67.0, 101.0, 48.0, 87.0, 106.0, 90.0, 70.0, 95.0, 145.0, 133.0, 87.0, 90.0, 51.0, 140.0, 61.0, 111.0, 86.0, 57.0, 100.0, 97.0, 89.0, 27.0, 89.0, 17.0, 150.0, 65.0, 127.0, 86.0, 82.0, 89.0, 73.0, 93.0, 93.0, 6.0, 3.0, 60.0, 60.0, 60.0, 60.0, 137.0, 91.0, 113.0, 94.0, 63.0, 81.0, 93.0, 56.0, 89.0, 122.0, 60.0, 73.0, 89.0, 89.0, 108.0, 60.0, 60.0, 87.0, 110.0, 85.0, 77.0, 84.0, 74.0, 133.0, 105.0, 92.0, 51.0, 51.0, 112.0, 96.0, 91.0, 106.0, 97.0, 94.0, 57.0, 87.0, 89.0, 86.0, 101.0, 100.0, 112.0, 91.0, 102.0, 92.0, 30.0, 104.0, 74.0, 10.0, 541.0, 8.0, 481.0, 480.0, 89.0, 104.0, 7.0, 89.0, 6.0, 98.0, 108.0, 83.0, 5.0, 45.0, 81.0, 85.0, 92.0, 83.0, 90.0, 94.0, 30.0, 80.0, 30.0, 30.0, 30.0, 30.0, 30.0, 30.0, 30.0, 30.0, 30.0, 100.0, 10.0, 71.0, 108.0, 99.0, 92.0, 55.0, 141.0, 141.0, 141.0, 48.0, 52.0, 16.0, 22.0, 20.0, 21.0, 19.0, 21.0, 22.0, 21.0, 19.0, 19.0, 17.0, 17.0, 17.0, 20.0, 18.0, 20.0, 18.0, 20.0, 25.0, 20.0, 22.0, 22.0, 18.0, 20.0, 20.0, 19.0, 20.0, 22.0, 22.0, 22.0, 18.0, 23.0, 17.0, 19.0, 19.0, 20.0, 20.0, 18.0, 24.0, 21.0, 21.0, 15.0, 98.0, 15.0, 15.0, 15.0, 15.0, 106.0, 90.0, 104.0, 109.0, 23.0, 31.0, 75.0, 84.0, 101.0, 101.0, 106.0, 91.0, 92.0, 120.0, 91.0, 67.0, 80.0, 87.0, 52.0, 111.0, 52.0, 67.0, 106.0, 89.0, 109.0, 149.0, 91.0, 119.0, 92.0, 120.0, 100.0, 99.0, 44.0, 101.0, 96.0, 89.0, 91.0, 96.0, 101.0, 92.0, 91.0, 102.0, 100.0, 94.0, 92.0, 91.0, 64.0, 81.0, 103.0, 88.0, 147.0, 97.0, 150.0, 107.0, 95.0, 85.0, 105.0, 98.0, 91.0, 95.0, 97.0, 88.0, 105.0, 81.0, 98.0, 116.0, 94.0, 94.0, 91.0, 80.0, 114.0, 181.0, 87.0, 94.0, 91.0, 4.0, 93.0, 96.0, 88.0, 80.0, 86.0, 106.0, 103.0, 25.0, 61.0, 124.0, 124.0, 142.0, 70.0, 121.0, 82.0, 156.0, 52.0, 92.0, 53.0, 105.0, 74.0, 110.0, 97.0, 47.0, 94.0, 90.0, 94.0, 95.0, 87.0, 108.0, 88.0, 88.0, 89.0, 67.0, 102.0, 92.0, 99.0, 111.0, 70.0, 84.0, 540.0, 105.0, 93.0, 169.0, 59.0, 139.0, 89.0, 111.0, 123.0, 114.0, 111.0, 86.0, 50.0, 13.0, 105.0, 52.0, 61.0, 88.0, 57.0, 91.0, 83.0, 145.0, 90.0, 96.0, 139.0, 102.0, 96.0, 94.0, 480.0, 59.0, 32.0, 61.0, 73.0, 82.0, 71.0, 88.0, 90.0, 96.0, 94.0, 129.0, 77.0, 90.0, 89.0, 49.0, 88.0, 139.0, 88.0, 108.0, 121.0, 107.0, 89.0, 107.0, 146.0, 106.0, 85.0, 100.0, 86.0, 58.0, 58.0, 58.0, 34.0, 84.0, 73.0, 89.0, 138.0, 57.0, 91.0, 112.0, 50.0, 55.0, 101.0, 88.0, 87.0, 86.0, 139.0, 107.0, 105.0, 150.0, 21.0, 82.0, 95.0, 42.0, 94.0, 118.0, 85.0, 89.0, 74.0, 107.0, 90.0, 140.0, 89.0, 110.0, 91.0, 89.0, 89.0, 97.0, 98.0, 96.0, 97.0, 133.0, 129.0, 92.0, 118.0, 106.0, 120.0, 89.0, 92.0, 153.0, 112.0, 82.0, 97.0, 540.0, 96.0, 94.0, 57.0, 52.0, 62.0, 68.0, 84.0, 71.0, 116.0, 94.0, 108.0, 110.0, 101.0, 90.0, 103.0, 133.0, 58.0, 103.0, 141.0, 177.0, 99.0, 104.0, 67.0, 86.0, 94.0, 96.0, 103.0, 95.0, 60.0, 95.0, 53.0, 81.0, 81.0, 64.0, 135.0, 63.0, 155.0, 82.0, 57.0, 58.0, 69.0, 94.0, 103.0, 89.0, 151.0, 131.0, 89.0, 113.0, 97.0, 90.0, 550.0, 78.0, 99.0, 116.0, 90.0, 105.0, 57.0, 63.0, 154.0, 59.0, 133.0, 145.0, 87.0, 53.0, 100.0, 112.0, 96.0, 136.0, 109.0, 98.0, 85.0, 86.0, 103.0, 104.0, 89.0, 118.0, 93.0, 480.0, 115.0, 58.0, 86.0, 96.0, 90.0, 89.0, 156.0, 133.0, 60.0, 79.0, 78.0, 92.0, 130.0, 148.0, 59.0, 140.0, 90.0, 91.0, 135.0, 102.0, 96.0, 58.0, 119.0, 78.0, 109.0, 485.0, 75.0, 139.0, 118.0, 90.0, 540.0, 109.0, 83.0, 58.0, 69.0, 49.0, 101.0, 102.0, 31.0, 54.0, 103.0, 56.0, 139.0, 99.0, 105.0, 106.0, 86.0, 84.0, 59.0, 71.0, 90.0, 93.0, 89.0, 107.0, 87.0, 86.0, 81.0, 87.0, 87.0, 109.0, 20.0, 23.0, 17.0, 18.0, 150.0, 111.0, 88.0, 31.0, 105.0, 86.0, 96.0, 93.0, 100.0, 108.0, 100.0, 93.0, 95.0, 154.0, 69.0, 94.0, 98.0, 91.0, 43.0, 240.0, 60.0, 89.0, 30.0, 108.0, 104.0, 75.0, 103.0, 85.0, 38.0, 106.0, 129.0, 62.0, 136.0, 28.0, 95.0, 127.0, 69.0, 101.0, 69.0, 83.0, 48.0, 88.0, 108.0, 82.0, 98.0, 147.0, 79.0, 81.0, 90.0, 42.0, 88.0, 82.0, 101.0, 34.0, 103.0, 105.0, 149.0, 55.0, 64.0, 88.0, 60.0, 55.0, 79.0, 42.0, 95.0, 101.0, 94.0, 105.0, 88.0, 81.0, 114.0, 114.0, 52.0, 15.0, 71.0, 42.0, 81.0, 81.0, 54.0, 112.0, 69.0, 148.0, 95.0, 82.0, 58.0, 112.0, 115.0, 52.0, 60.0, 56.0, 57.0, 109.0, 151.0, 91.0, 18.0, 18.0, 22.0, 88.0, 89.0, 107.0, 85.0, 76.0, 90.0, 109.0, 46.0, 90.0, 152.0, 93.0, 100.0, 89.0, 89.0, 94.0, 95.0, 90.0, 145.0, 107.0, 90.0, 97.0, 76.0, 83.0, 59.0, 87.0, 125.0, 87.0, 110.0, 35.0, 88.0, 93.0, 85.0, 111.0, 89.0, 90.0, 72.0, 92.0, 53.0, 119.0, 84.0, 44.0, 49.0, 90.0, 86.0, 90.0, 541.0, 87.0, 176.0, 120.0, 82.0, 89.0, 95.0, 61.0, 105.0, 90.0, 120.0, 113.0, 90.0, 159.0, 94.0, 97.0, 136.0, 89.0, 116.0, 50.0, 55.0, 91.0, 95.0, 95.0, 115.0, 99.0, 81.0, 88.0, 108.0, 481.0, 33.0, 96.0, 100.0, 99.0, 35.0, 57.0, 86.0, 80.0, 541.0, 96.0, 111.0, 95.0, 136.0, 94.0, 85.0, 109.0, 94.0, 49.0, 109.0, 62.0, 57.0, 102.0, 46.0, 111.0, 82.0, 95.0, 74.0, 140.0, 90.0, 44.0, 98.0, 88.0, 120.0, 98.0, 89.0, 121.0, 89.0, 29.0, 83.0, 54.0, 84.0, 42.0, 89.0, 60.0, 120.0, 97.0, 102.0, 81.0, 26.0, 102.0, 65.0, 136.0, 93.0, 86.0, 88.0, 30.0, 18.0, 23.0, 20.0, 103.0, 102.0, 137.0, 81.0, 115.0, 114.0, 61.0, 90.0, 64.0, 106.0, 61.0, 102.0, 51.0, 49.0, 53.0, 85.0, 37.0, 47.0, 114.0, 117.0, 88.0, 99.0, 56.0, 59.0, 27.0, 87.0, 98.0, 109.0, 18.0, 22.0, 134.0, 104.0, 94.0, 97.0, 135.0, 124.0, 67.0, 94.0, 59.0, 96.0, 90.0, 51.0, 88.0, 57.0, 86.0, 80.0, 88.0, 91.0, 97.0, 10.0, 105.0, 45.0, 133.0, 49.0, 96.0, 27.0, 88.0, 97.0, 34.0, 57.0, 75.0, 101.0, 147.0, 106.0, 98.0, 94.0, 103.0, 26.0, 87.0, 96.0, 97.0, 95.0, 94.0, 140.0, 92.0, 90.0, 19.0, 21.0, 159.0, 75.0, 140.0, 102.0, 55.0, 108.0, 87.0, 129.0, 114.0, 58.0, 84.0, 87.0, 115.0, 541.0, 79.0, 91.0, 87.0, 75.0, 146.0, 47.0, 80.0, 130.0, 53.0, 91.0, 76.0, 94.0, 41.0, 90.0, 94.0, 99.0, 60.0, 64.0, 98.0, 81.0, 88.0, 81.0, 129.0, 115.0, 54.0, 80.0, 83.0, 30.0, 93.0, 84.0, 89.0, 99.0, 67.0, 61.0, 65.0, 70.0, 41.0, 42.0, 100.0, 96.0, 86.0, 115.0, 131.0, 59.0, 108.0, 119.0, 89.0, 88.0, 104.0, 118.0, 74.0, 69.0, 111.0, 75.0, 88.0, 74.0, 82.0, 144.0, 92.0, 142.0, 64.0, 67.0, 93.0, 88.0, 114.0, 82.0, 89.0, 89.0, 103.0, 88.0, 60.0, 80.0, 159.0, 159.0, 91.0, 86.0, 97.0, 145.0, 60.0, 193.0, 169.0, 104.0, 60.0, 132.0, 59.0, 29.0, 54.0, 49.0, 132.0, 119.0, 90.0, 77.0, 89.0, 95.0, 128.0, 70.0, 109.0, 83.0, 97.0, 120.0, 83.0, 82.0, 103.0, 53.0, 83.0, 91.0, 99.0, 45.0, 118.0, 81.0, 131.0, 90.0, 134.0, 158.0, 88.0, 89.0, 84.0, 108.0, 102.0, 154.0, 93.0, 96.0, 87.0, 104.0, 84.0, 79.0, 86.0, 85.0, 86.0, 78.0, 161.0, 92.0, 68.0, 56.0, 113.0, 151.0, 133.0, 94.0, 86.0, 80.0, 58.0, 55.0, 55.0, 136.0, 41.0, 107.0, 75.0, 94.0, 110.0, 116.0, 115.0, 85.0, 99.0, 95.0, 89.0, 104.0, 51.0, 94.0, 123.0, 56.0, 133.0, 102.0, 87.0, 95.0, 103.0, 94.0, 118.0, 95.0, 84.0, 102.0, 104.0, 100.0, 93.0, 94.0, 122.0, 93.0, 59.0, 82.0, 59.0, 93.0, 87.0, 54.0, 88.0, 111.0, 62.0, 131.0, 88.0, 106.0, 123.0, 109.0, 85.0, 86.0, 37.0, 85.0, 146.0, 95.0, 104.0, 60.0, 69.0, 85.0, 144.0, 98.0, 118.0, 106.0, 101.0, 105.0, 104.0, 134.0, 99.0, 151.0, 83.0, 83.0, 101.0, 96.0, 82.0, 95.0, 83.0, 84.0, 92.0, 117.0, 97.0, 77.0, 87.0, 99.0, 103.0, 1.0, 45.0, 88.0, 90.0, 78.0, 100.0, 82.0, 98.0, 143.0, 88.0, 88.0, 29.0, 61.0, 93.0, 48.0, 83.0, 87.0, 87.0, 98.0, 122.0, 88.0, 37.0, 70.0, 119.0, 107.0, 92.0, 97.0, 57.0, 85.0, 83.0, 70.0, 97.0, 89.0, 165.0, 165.0, 85.0, 99.0, 480.0, 171.0, 170.0, 66.0, 58.0, 91.0, 40.0, 85.0, 125.0, 51.0, 122.0, 51.0, 89.0, 71.0, 102.0, 111.0, 110.0, 91.0, 99.0, 541.0, 109.0, 86.0, 55.0, 128.0, 55.0, 177.0, 133.0, 91.0, 100.0, 79.0, 106.0, 75.0, 107.0, 64.0, 90.0, 163.0, 73.0, 131.0, 87.0, 87.0, 104.0, 18.0, 13.0, 91.0, 100.0, 88.0, 57.0, 96.0, 116.0, 5.0, 122.0, 57.0, 175.0, 165.0, 66.0, 131.0, 141.0, 84.0, 74.0, 100.0, 99.0, 124.0, 126.0, 86.0, 78.0, 116.0, 98.0, 6.0, 122.0, 88.0, 132.0, 131.0, 133.0, 89.0, 90.0, 87.0, 94.0, 118.0, 105.0, 126.0, 51.0, 79.0, 86.0, 95.0, 152.0, 74.0, 100.0, 100.0, 89.0, 50.0, 107.0, 97.0, 85.0, 105.0, 88.0, 125.0, 96.0, 99.0, 65.0, 135.0, 61.0, 70.0, 127.0, 111.0, 130.0, 98.0, 146.0, 100.0, 102.0, 96.0, 89.0, 86.0, 47.0, 90.0, 87.0, 92.0, 72.0, 63.0, 137.0, 78.0, 167.0, 80.0, 81.0, 86.0, 45.0, 89.0, 0.0, 109.0, 89.0, 153.0, 109.0, 89.0, 89.0, 91.0, 86.0, 126.0, 87.0, 103.0, 145.0, 111.0, 69.0, 90.0, 74.0, 110.0, 98.0, 114.0, 45.0, 61.0, 77.0, 85.0, 167.0, 96.0, 87.0, 46.0, 118.0, 80.0, 79.0, 122.0, 93.0, 97.0, 99.0, 94.0, 137.0, 80.0, 102.0, 99.0, 130.0, 101.0, 78.0, 122.0, 88.0, 81.0, 87.0, 78.0, 79.0, 102.0, 85.0, 112.0, 90.0, 95.0, 69.0, 94.0, 77.0, 71.0, 70.0, 109.0, 85.0, 61.0, 92.0, 95.0, 103.0, 79.0, 80.0, 110.0, 77.0, 126.0, 89.0, 112.0, 90.0, 84.0, 88.0, 100.0, 86.0, 84.0, 118.0, 113.0, 106.0, 74.0, 112.0, 92.0, 71.0, 104.0, 138.0, 88.0, 13.0, 121.0, 94.0, 142.0, 90.0, 93.0, 92.0, 99.0, 80.0, 91.0, 97.0, 139.0, 78.0, 79.0, 87.0, 104.0, 133.0, 105.0, 81.0, 98.0, 91.0, 112.0, 79.0, 60.0, 89.0, 142.0, 60.0, 79.0, 105.0, 91.0, 85.0, 89.0, 14.0, 21.0, 59.0, 143.0, 133.0, 93.0, 56.0, 100.0, 99.0, 100.0, 100.0, 48.0, 90.0, 79.0, 41.0, 54.0, 84.0, 129.0, 31.0, 74.0, 98.0, 81.0, 64.0, 94.0, 94.0, 75.0, 15.0, 80.0, 93.0, 90.0, 103.0, 80.0, 117.0, 93.0, 40.0, 85.0, 91.0, 24.0, 99.0, 114.0, 99.0, 94.0, 163.0, 127.0, 106.0, 170.0, 89.0, 117.0, 86.0, 112.0, 52.0, 71.0, 104.0, 96.0, 92.0, 93.0, 91.0, 102.0, 80.0, 101.0, 54.0, 86.0, 59.0, 94.0, 102.0, 109.0, 87.0, 61.0, 52.0, 92.0, 2.0, 75.0, 82.0, 48.0, 71.0, 76.0, 73.0, 97.0, 45.0, 23.0, 540.0, 150.0, 92.0, 87.0, 96.0, 92.0, 156.0, 85.0, 117.0, 92.0, 51.0, 51.0, 52.0, 52.0, 58.0, 52.0, 52.0, 149.0, 95.0, 136.0, 89.0, 129.0, 138.0, 53.0, 139.0, 41.0, 137.0, 22.0, 107.0, 93.0, 16.0, 150.0, 112.0, 78.0, 113.0, 100.0, 84.0, 105.0, 99.0, 82.0, 43.0, 97.0, 94.0, 120.0, 118.0, 100.0, 131.0, 99.0, 118.0, 108.0, 33.0, 63.0, 44.0, 109.0, 111.0, 80.0, 85.0, 103.0, 75.0, 104.0, 114.0, 83.0, 92.0, 91.0, 132.0, 98.0, 117.0, 86.0, 110.0, 105.0, 131.0, 89.0, 91.0, 91.0, 129.0, 92.0, 123.0, 93.0, 92.0, 67.0, 80.0, 124.0, 85.0, 89.0, 151.0, 88.0, 91.0, 61.0, 118.0, 107.0, 109.0, 86.0, 131.0, 28.0, 69.0, 148.0, 91.0, 87.0, 81.0, 102.0, 117.0, 59.0, 104.0, 92.0, 80.0, 93.0, 45.0, 158.0, 86.0, 139.0, 85.0, 87.0, 45.0, 94.0, 101.0, 91.0, 95.0, 94.0, 150.0, 92.0, 101.0, 91.0, 83.0, 92.0, 90.0, 83.0, 124.0, 139.0, 116.0, 105.0, 21.0, 130.0, 105.0, 15.0, 131.0, 50.0, 59.0, 86.0, 104.0, 49.0, 65.0, 155.0, 84.0, 86.0, 76.0, 103.0, 87.0, 58.0, 93.0, 120.0, 113.0, 82.0, 81.0, 18.0, 129.0, 85.0, 114.0, 75.0, 19.0, 98.0, 103.0, 74.0, 101.0, 84.0, 93.0, 82.0, 98.0, 157.0, 104.0, 85.0, 77.0, 109.0, 75.0, 104.0, 125.0, 90.0, 47.0, 51.0, 36.0, 118.0, 93.0, 152.0, 79.0, 92.0, 86.0, 94.0, 88.0, 96.0, 43.0, 100.0, 91.0, 87.0, 58.0, 60.0, 79.0, 92.0, 141.0, 27.0, 58.0, 44.0, 36.0, 88.0, 147.0, 92.0, 120.0, 89.0, 57.0, 105.0, 83.0, 104.0, 98.0, 127.0, 138.0, 147.0, 139.0, 0.0, 95.0, 9.0, 108.0, 101.0, 99.0, 127.0, 100.0, 31.0, 73.0, 138.0, 106.0, 158.0, 82.0, 98.0, 102.0, 92.0, 79.0, 12.0, 109.0, 89.0, 86.0, 46.0, 89.0, 91.0, 0.0, 75.0, 125.0, 91.0, 96.0, 164.0, 88.0, 89.0, 78.0, 92.0, 30.0, 96.0, 36.0, 102.0, 90.0, 45.0, 107.0, 75.0, 81.0, 96.0, 541.0, 99.0, 88.0, 82.0, 73.0, 107.0, 123.0, 111.0, 120.0, 125.0, 171.0, 30.0, 34.0, 171.0, 29.0, 65.0, 55.0, 88.0, 44.0, 104.0, 97.0, 154.0, 120.0, 130.0, 150.0, 156.0, 123.0, 147.0, 131.0, 180.0, 126.0, 152.0, 130.0, 158.0, 122.0, 150.0, 164.0, 128.0, 142.0, 123.0, 132.0, 99.0, 135.0, 45.0, 120.0, 126.0, 105.0, 105.0, 117.0, 139.0, 169.0, 90.0, 113.0, 136.0, 91.0, 188.0, 118.0, 187.0, 105.0, 173.0, 143.0, 162.0, 129.0, 176.0, 143.0, 128.0, 116.0, 116.0, 118.0, 150.0, 136.0, 168.0, 138.0, 169.0, 190.0, 146.0, 104.0, 152.0, 138.0, 177.0, 146.0, 180.0, 128.0, 130.0, 139.0, 139.0, 152.0, 156.0, 119.0, 138.0, 143.0, 150.0, 141.0, 99.0, 128.0, 50.0, 87.0, 78.0, 93.0, 141.0, 86.0, 53.0, 110.0, 87.0, 48.0, 95.0, 48.0, 47.0, 77.0, 95.0, 33.0, 130.0, 98.0, 30.0, 28.0, 21.0, 11.0, 121.0, 48.0, 91.0, 32.0, 31.0, 102.0, 131.0, 58.0, 76.0, 99.0, 160.0, 144.0, 80.0, 25.0, 112.0, 34.0, 31.0, 97.0, 37.0, 110.0, 97.0, 49.0, 31.0, 32.0, 126.0, 117.0, 22.0, 21.0, 21.0, 54.0, 37.0, 112.0, 89.0, 20.0, 79.0, 104.0, 94.0, 89.0, 10.0, 99.0, 98.0, 91.0, 42.0, 125.0, 115.0, 92.0, 97.0, 42.0, 91.0, 83.0, 41.0, 59.0, 97.0, 75.0, 110.0, 166.0, 118.0, 115.0, 113.0, 82.0, 90.0, 91.0, 91.0, 71.0, 44.0, 119.0, 89.0, 33.0, 84.0, 29.0, 117.0, 28.0, 98.0, 87.0, 23.0, 96.0, 122.0, 88.0, 127.0, 134.0, 10.0, 112.0, 94.0, 111.0, 129.0, 159.0, 117.0, 86.0, 30.0, 80.0, 81.0, 165.0, 51.0, 104.0, 171.0, 160.0, 80.0, 88.0, 97.0, 102.0, 87.0, 63.0, 116.0, 118.0, 142.0, 79.0, 97.0, 137.0, 105.0, 9.0, 136.0, 149.0, 111.0, 86.0, 76.0, 10.0, 83.0, 59.0, 35.0, 29.0, 9.0, 96.0, 21.0, 44.0, 75.0, 92.0, 118.0, 97.0, 96.0, 93.0, 116.0, 88.0, 70.0, 87.0, 96.0, 71.0, 70.0, 86.0, 87.0, 91.0, 71.0, 114.0, 97.0, 71.0, 101.0, 80.0, 46.0, 97.0, 94.0, 140.0, 92.0, 112.0, 94.0, 98.0, 81.0, 44.0, 98.0, 71.0, 107.0, 89.0, 82.0, 87.0, 98.0, 118.0, 83.0, 111.0, 124.0, 84.0, 89.0, 109.0, 44.0, 93.0, 109.0, 98.0, 95.0, 106.0, 87.0, 17.0, 84.0, 62.0, 82.0, 101.0, 71.0, 95.0, 120.0, 86.0, 56.0, 101.0, 106.0, 90.0, 48.0, 100.0, 113.0, 92.0, 94.0, 94.0, 117.0, 88.0, 72.0, 52.0, 89.0, 91.0, 85.0, 86.0, 44.0, 94.0, 99.0, 59.0, 114.0, 86.0, 49.0, 66.0, 36.0, 35.0, 52.0, 84.0, 119.0, 98.0, 120.0, 84.0, 85.0, 87.0, 109.0, 90.0, 52.0, 97.0, 108.0, 100.0, 109.0, 93.0, 92.0, 58.0, 135.0, 84.0, 109.0, 88.0, 22.0, 19.0, 59.0, 105.0, 86.0, 21.0, 114.0, 85.0, 89.0, 133.0, 95.0, 85.0, 103.0, 119.0, 95.0, 104.0, 87.0, 146.0, 27.0, 138.0, 78.0, 106.0, 121.0, 36.0, 81.0, 12.0, 52.0, 107.0, 94.0, 95.0, 99.0, 92.0, 84.0, 83.0, 117.0, 71.0, 90.0, 46.0, 49.0, 32.0, 95.0, 95.0, 116.0, 129.0, 58.0, 97.0, 114.0, 101.0, 109.0, 130.0, 86.0, 98.0, 105.0, 118.0, 119.0, 104.0, 96.0, 101.0, 120.0, 87.0, 86.0, 79.0, 91.0, 91.0, 105.0, 90.0, 88.0, 108.0, 90.0, 92.0, 125.0, 95.0, 106.0, 73.0, 94.0, 92.0, 72.0, 90.0, 86.0, 150.0, 85.0, 61.0, 130.0, 75.0, 82.0, 80.0, 127.0, 51.0, 149.0, 0.0, 72.0, 22.0, 138.0, 85.0, 72.0, 113.0, 81.0, 91.0, 79.0, 92.0, 95.0, 88.0, 81.0, 83.0, 86.0, 82.0, 100.0, 108.0, 61.0, 89.0, 89.0, 72.0, 11.0, 52.0, 65.0, 107.0, 125.0, 80.0, 50.0, 86.0, 106.0, 115.0, 125.0, 125.0, 47.0, 91.0, 30.0, 40.0, 41.0, 100.0, 52.0, 38.0, 41.0, 34.0, 53.0, 23.0, 25.0, 91.0, 92.0, 105.0, 86.0, 104.0, 98.0, 88.0, 87.0, 101.0, 90.0, 143.0, 91.0, 117.0, 99.0, 75.0, 70.0, 145.0, 97.0, 99.0, 41.0, 103.0, 15.0, 92.0, 121.0, 99.0, 62.0, 80.0, 87.0, 118.0, 93.0, 151.0, 65.0, 128.0, 84.0, 103.0, 71.0, 137.0, 89.0, 125.0, 94.0, 95.0, 97.0, 87.0, 41.0, 50.0, 52.0, 75.0, 13.0, 116.0, 132.0, 117.0, 80.0, 89.0, 87.0, 68.0, 146.0, 79.0, 72.0, 101.0, 15.0, 84.0, 104.0, 73.0, 48.0, 101.0, 145.0, 125.0, 97.0, 88.0, 82.0, 97.0, 83.0, 86.0, 99.0, 70.0, 83.0, 94.0, 99.0, 95.0, 99.0, 120.0, 151.0, 129.0, 94.0, 73.0, 158.0, 86.0, 88.0, 85.0, 132.0, 88.0, 112.0, 86.0, 52.0, 116.0, 53.0, 152.0, 92.0, 59.0, 87.0, 117.0, 119.0, 91.0, 94.0, 110.0, 134.0, 148.0, 44.0, 100.0, 90.0, 57.0, 74.0, 66.0, 53.0, 53.0, 124.0, 84.0, 23.0, 30.0, 31.0, 70.0, 91.0, 114.0, 88.0, 90.0, 102.0, 16.0, 82.0, 92.0, 107.0, 87.0, 91.0, 22.0, 91.0, 13.0, 83.0, 14.0, 15.0, 131.0, 90.0, 143.0, 97.0, 86.0, 79.0, 20.0, 20.0, 22.0, 126.0, 23.0, 97.0, 70.0, 185.0, 81.0, 26.0, 136.0, 138.0, 209.0, 192.0, 86.0, 126.0, 131.0, 85.0, 131.0, 14.0, 135.0, 23.0, 149.0, 10.0, 144.0, 86.0, 13.0, 117.0, 82.0, 165.0, 170.0, 82.0, 54.0, 72.0, 81.0, 14.0, 11.0, 16.0, 112.0, 131.0, 155.0, 99.0, 79.0, 136.0, 15.0, 174.0, 86.0, 96.0, 81.0, 90.0, 106.0, 98.0, 72.0, 94.0, 111.0, 71.0, 156.0, 82.0, 126.0, 96.0, 131.0, 60.0, 25.0, 88.0, 86.0, 62.0, 157.0, 86.0, 111.0, 132.0, 117.0, 158.0, 100.0, 133.0, 45.0, 91.0, 93.0, 85.0, 83.0, 102.0, 17.0, 51.0, 92.0, 52.0, 90.0, 128.0, 165.0, 121.0, 90.0, 154.0, 91.0, 96.0, 78.0, 85.0, 121.0, 110.0, 110.0, 95.0, 83.0, 101.0, 87.0, 99.0, 50.0, 91.0, 93.0, 118.0, 109.0, 96.0, 61.0, 89.0, 133.0, 89.0, 47.0, 90.0, 100.0, 56.0, 87.0, 98.0, 98.0, 106.0, 111.0, 61.0, 86.0, 64.0, 99.0, 92.0, 115.0, 102.0, 82.0, 69.0, 77.0, 82.0, 123.0, 160.0, 90.0, 84.0, 89.0, 122.0, 133.0, 72.0, 108.0, 113.0, 144.0, 84.0, 133.0, 83.0, 21.0, 120.0, 43.0, 104.0, 82.0, 119.0, 116.0, 82.0, 93.0, 112.0, 14.0, 120.0, 122.0, 98.0, 101.0, 99.0, 19.0, 105.0, 91.0, 100.0, 107.0, 98.0, 111.0, 133.0, 79.0, 80.0, 92.0, 88.0, 91.0, 31.0, 60.0, 77.0, 114.0, 58.0, 40.0, 84.0, 149.0, 91.0, 107.0, 81.0, 80.0, 46.0, 98.0, 98.0, 70.0, 42.0, 85.0, 102.0, 77.0, 138.0, 42.0, 112.0, 127.0, 43.0, 43.0, 9.0, 85.0, 157.0, 48.0, 96.0, 95.0, 120.0, 124.0, 37.0, 46.0, 48.0, 107.0, 29.0, 52.0, 73.0, 127.0, 88.0, 42.0, 91.0, 106.0, 91.0, 102.0, 90.0, 108.0, 96.0, 86.0, 93.0, 95.0, 91.0, 114.0, 86.0, 107.0, 99.0, 81.0, 83.0, 125.0, 88.0, 71.0, 89.0, 79.0, 70.0, 114.0, 89.0, 67.0, 97.0, 91.0, 109.0, 101.0, 82.0, 86.0, 106.0, 0.0, 96.0, 172.0, 52.0, 89.0, 100.0, 41.0, 91.0, 64.0, 113.0, 88.0, 70.0, 67.0, 79.0, 47.0, 97.0, 100.0, 106.0, 71.0, 101.0, 118.0, 112.0, 34.0, 102.0, 54.0, 96.0, 107.0, 84.0, 109.0, 109.0, 90.0, 98.0, 96.0, 70.0, 77.0, 91.0, 109.0, 68.0, 175.0, 97.0, 94.0, 103.0, 82.0, 91.0, 138.0, 121.0, 82.0, 84.0, 103.0, 75.0, 106.0, 45.0, 30.0, 87.0, 122.0, 36.0, 82.0, 104.0, 115.0, 93.0, 107.0, 70.0, 131.0, 88.0, 119.0, 50.0, 87.0, 91.0, 101.0, 96.0, 158.0, 60.0, 60.0, 60.0, 56.0, 75.0, 89.0, 104.0, 99.0, 145.0, 113.0, 63.0, 97.0, 103.0, 61.0, 140.0, 116.0, 22.0, 71.0, 80.0, 105.0, 72.0, 45.0, 75.0, 46.0, 5.0, 49.0, 92.0, 147.0, 75.0, 65.0, 153.0, 102.0, 96.0, 23.0, 99.0, 94.0, 78.0, 10.0, 82.0, 102.0, 74.0, 80.0, 80.0, 118.0, 56.0, 90.0, 70.0, 80.0, 99.0, 92.0, 85.0, 98.0, 70.0, 104.0, 96.0, 90.0, 103.0, 116.0, 148.0, 17.0, 84.0, 19.0, 102.0, 86.0, 53.0, 92.0, 106.0, 98.0, 92.0, 101.0, 91.0, 93.0, 90.0, 88.0, 74.0, 74.0, 98.0, 120.0, 90.0, 60.0, 65.0, 56.0, 107.0, 85.0, 75.0, 99.0, 90.0, 97.0, 127.0, 132.0, 41.0, 93.0, 55.0, 114.0, 54.0, 88.0, 138.0, 105.0, 108.0, 96.0, 126.0, 43.0, 23.0, 20.0, 71.0, 88.0, 102.0, 3.0, 75.0, 131.0, 125.0, 150.0, 52.0, 130.0, 103.0, 63.0, 78.0, 104.0, 74.0, 98.0, 82.0, 137.0, 93.0, 57.0, 89.0, 64.0, 58.0, 93.0, 111.0, 97.0, 83.0, 40.0, 70.0, 91.0, 159.0, 137.0, 138.0, 93.0, 26.0, 98.0, 100.0, 120.0, 140.0, 73.0, 86.0, 32.0, 111.0, 79.0, 87.0, 151.0, 93.0, 136.0, 120.0, 90.0, 71.0, 110.0, 87.0, 128.0, 134.0, 132.0, 154.0, 150.0, 113.0, 138.0, 133.0, 164.0, 161.0, 122.0, 122.0, 144.0, 103.0, 160.0, 122.0, 106.0, 160.0, 153.0, 103.0, 115.0, 18.0, 74.0, 66.0, 80.0, 35.0, 92.0, 99.0, 28.0, 83.0, 96.0, 80.0, 100.0, 85.0, 62.0, 103.0, 96.0, 67.0, 87.0, 93.0, 41.0, 77.0, 157.0, 82.0, 147.0, 162.0, 72.0, 88.0, 90.0, 5.0, 74.0, 133.0, 96.0, 93.0, 70.0, 149.0, 174.0, 12.0, 141.0, 85.0, 83.0, 155.0, 93.0, 107.0, 140.0, 84.0, 83.0, 117.0, 83.0, 65.0, 98.0, 165.0, 144.0, 81.0, 77.0, 119.0, 93.0, 80.0, 117.0, 122.0, 71.0, 90.0, 120.0, 112.0, 2.0, 103.0, 103.0, 80.0, 107.0, 103.0, 89.0, 86.0, 90.0, 61.0, 106.0, 100.0, 127.0, 78.0, 92.0, 83.0, 90.0, 99.0, 124.0, 149.0, 153.0, 132.0, 100.0, 88.0, 87.0, 85.0, 89.0, 108.0, 92.0, 79.0, 142.0, 97.0, 104.0, 100.0, 118.0, 102.0, 161.0, 161.0, 88.0, 83.0, 100.0, 82.0, 75.0, 71.0, 88.0, 91.0, 80.0, 34.0, 68.0, 60.0, 91.0, 120.0, 153.0, 107.0, 151.0, 105.0, 69.0, 122.0, 92.0, 138.0, 57.0, 111.0, 94.0, 87.0, 89.0, 135.0, 136.0, 157.0, 68.0, 91.0, 94.0, 170.0, 97.0, 92.0, 136.0, 171.0, 44.0, 129.0, 48.0, 78.0, 90.0, 95.0, 87.0, 71.0, 107.0, 91.0, 89.0, 92.0, 83.0, 99.0, 110.0, 158.0, 82.0, 149.0, 96.0, 74.0, 53.0, 57.0, 96.0, 148.0, 89.0, 94.0, 129.0, 90.0, 77.0, 90.0, 78.0, 107.0, 158.0, 85.0, 49.0, 81.0, 86.0, 99.0, 95.0, 80.0, 118.0, 94.0, 96.0, 126.0, 105.0, 46.0, 89.0, 69.0, 74.0, 90.0, 100.0, 103.0, 76.0, 98.0, 114.0, 121.0, 130.0, 73.0, 81.0, 63.0, 89.0, 91.0, 124.0, 93.0, 93.0, 78.0, 95.0, 76.0, 46.0, 72.0, 105.0, 72.0, 95.0, 132.0, 111.0, 90.0, 91.0, 125.0, 101.0, 85.0, 58.0, 114.0, 75.0, 182.0, 100.0, 90.0, 40.0, 85.0, 89.0, 45.0, 100.0, 89.0, 88.0, 144.0, 107.0, 112.0, 111.0, 136.0, 133.0, 100.0, 87.0, 94.0, 157.0, 168.0, 95.0, 158.0, 90.0, 93.0, 51.0, 154.0, 91.0, 91.0, 95.0, 138.0, 152.0, 28.0, 101.0, 95.0, 94.0, 9.0, 94.0, 99.0, 99.0, 122.0, 94.0, 83.0, 97.0, 98.0, 84.0, 86.0, 149.0, 109.0, 104.0, 99.0, 88.0, 84.0, 61.0, 86.0, 100.0, 97.0, 104.0, 22.0, 80.0, 110.0, 81.0, 121.0, 104.0, 67.0, 95.0, 98.0, 94.0, 91.0, 8.0, 59.0, 63.0, 16.0, 85.0, 81.0, 3.0, 57.0, 155.0, 53.0, 97.0, 139.0, 60.0, 77.0, 85.0, 159.0, 108.0, 86.0, 145.0, 79.0, 35.0, 26.0, 121.0, 27.0, 72.0, 117.0, 91.0, 93.0, 94.0, 80.0, 95.0, 165.0, 92.0, 105.0, 91.0, 106.0, 74.0, 26.0, 111.0, 79.0, 125.0, 88.0, 79.0, 88.0, 66.0, 110.0, 123.0, 138.0, 94.0, 78.0, 182.0, 119.0, 49.0, 102.0, 131.0, 104.0, 67.0, 91.0, 40.0, 135.0, 110.0, 97.0, 111.0, 100.0, 83.0, 47.0, 101.0, 89.0, 86.0, 52.0, 95.0, 1.0, 80.0, 87.0, 116.0, 92.0, 117.0, 82.0, 82.0, 90.0, 85.0, 107.0, 90.0, 69.0, 61.0, 114.0, 103.0, 104.0, 105.0, 96.0, 85.0, 79.0, 78.0, 167.0, 91.0, 91.0, 43.0, 123.0, 76.0, 101.0, 94.0, 46.0, 58.0, 91.0, 70.0, 83.0, 83.0, 88.0, 83.0, 80.0, 119.0, 106.0, 95.0, 101.0, 130.0, 84.0, 92.0, 95.0, 84.0, 104.0, 93.0, 99.0, 141.0, 120.0, 80.0, 109.0, 91.0, 207.0, 70.0, 86.0, 120.0, 70.0, 93.0, 162.0, 94.0, 133.0, 123.0, 62.0, 93.0, 93.0, 139.0, 114.0, 95.0, 108.0, 127.0, 127.0, 159.0, 102.0, 96.0, 140.0, 57.0, 85.0, 125.0, 97.0, 154.0, 95.0, 117.0, 159.0, 94.0, 76.0, 110.0, 59.0, 131.0, 65.0, 94.0, 105.0, 100.0, 109.0, 84.0, 130.0, 92.0, 70.0, 101.0, 92.0, 73.0, 116.0, 81.0, 90.0, 100.0, 124.0, 103.0, 83.0, 106.0, 84.0, 141.0, 84.0, 72.0, 72.0, 22.0, 96.0, 93.0, 92.0, 113.0, 99.0, 65.0, 123.0, 112.0, 103.0, 144.0, 86.0, 104.0, 89.0, 128.0, 85.0, 120.0, 83.0, 103.0, 94.0, 44.0, 111.0, 101.0, 108.0, 129.0, 102.0, 24.0, 90.0, 88.0, 99.0, 100.0, 141.0, 93.0, 68.0, 107.0, 124.0, 123.0, 94.0, 86.0, 48.0, 162.0, 145.0, 95.0, 102.0, 92.0, 121.0, 93.0, 95.0, 104.0, 97.0, 150.0, 85.0, 150.0, 101.0, 109.0, 102.0, 106.0, 166.0, 91.0, 93.0, 143.0, 44.0, 91.0, 76.0, 113.0, 93.0, 93.0, 104.0, 109.0, 98.0, 91.0, 99.0, 88.0, 61.0, 61.0, 93.0, 144.0, 90.0, 95.0, 123.0, 86.0, 104.0, 54.0, 3.0, 104.0, 63.0, 91.0, 105.0, 91.0, 78.0, 83.0, 106.0, 93.0, 85.0, 70.0, 110.0, 66.0, 105.0, 85.0, 93.0, 89.0, 113.0, 82.0, 101.0, 113.0, 95.0, 80.0, 92.0, 108.0, 61.0, 89.0, 100.0, 81.0, 102.0, 82.0, 91.0, 102.0, 97.0, 88.0, 83.0, 125.0, 68.0, 94.0, 92.0, 102.0, 100.0, 131.0, 109.0, 92.0, 100.0, 125.0, 135.0, 158.0, 142.0, 98.0, 69.0, 119.0, 74.0, 93.0, 175.0, 99.0, 123.0, 134.0, 159.0, 117.0, 128.0, 114.0, 135.0, 93.0, 158.0, 141.0, 156.0, 154.0, 46.0, 116.0, 103.0, 96.0, 126.0, 171.0, 101.0, 106.0, 116.0, 149.0, 122.0, 61.0, 61.0, 72.0, 145.0, 50.0, 97.0, 132.0, 61.0, 78.0, 74.0, 109.0, 137.0, 107.0, 70.0, 136.0, 123.0, 90.0, 79.0, 61.0, 167.0, 83.0, 115.0, 97.0, 91.0, 105.0, 84.0, 60.0, 85.0, 48.0, 95.0, 84.0, 67.0, 98.0, 85.0, 75.0, 75.0, 99.0, 121.0, 65.0, 75.0, 60.0, 80.0, 134.0, 74.0, 77.0, 80.0, 71.0, 71.0, 78.0, 95.0, 94.0, 86.0, 73.0, 81.0, 89.0, 88.0, 96.0, 71.0, 78.0, 92.0, 90.0, 91.0, 87.0, 59.0, 122.0, 91.0, 46.0, 88.0, 84.0, 87.0, 115.0, 90.0, 85.0, 82.0, 92.0, 124.0, 122.0, 95.0, 77.0, 79.0, 102.0, 99.0, 78.0, 103.0, 36.0, 154.0, 135.0, 150.0, 128.0, 85.0, 137.0, 76.0, 83.0, 17.0, 50.0, 85.0, 133.0, 170.0, 150.0, 102.0, 87.0, 103.0, 133.0, 113.0, 88.0, 102.0, 75.0, 83.0, 82.0, 77.0, 111.0, 146.0, 95.0, 94.0, 149.0, 92.0, 70.0, 88.0, 77.0, 89.0, 80.0, 147.0, 135.0, 89.0, 87.0, 103.0, 111.0, 138.0, 47.0, 84.0, 126.0, 75.0, 71.0, 98.0, 176.0, 144.0, 111.0, 112.0, 95.0, 98.0, 126.0, 93.0, 111.0, 89.0, 93.0, 106.0, 119.0, 99.0, 95.0, 131.0, 96.0, 91.0, 130.0, 86.0, 115.0, 142.0, 131.0, 104.0, 111.0, 146.0, 119.0, 97.0, 156.0, 97.0, 90.0, 124.0, 118.0, 106.0, 104.0, 88.0, 112.0, 95.0, 95.0, 140.0, 136.0, 154.0, 150.0, 128.0, 135.0, 127.0, 121.0, 157.0, 125.0, 143.0, 154.0, 97.0, 156.0, 113.0, 102.0, 86.0, 96.0, 30.0, 107.0, 91.0, 105.0, 113.0, 83.0, 174.0, 174.0, 146.0, 77.0, 92.0, 98.0, 94.0, 91.0, 108.0, 83.0, 98.0, 85.0, 95.0, 86.0, 76.0, 193.0, 61.0, 108.0, 91.0, 88.0, 80.0, 62.0, 100.0, 90.0, 119.0, 79.0, 74.0, 169.0, 108.0, 72.0, 123.0, 54.0, 105.0, 86.0, 105.0, 100.0, 79.0, 53.0, 103.0, 83.0, 145.0, 108.0, 90.0, 84.0, 100.0, 104.0, 65.0, 86.0, 97.0, 90.0, 87.0, 89.0, 101.0, 105.0, 99.0, 16.0, 19.0, 115.0, 113.0, 96.0, 90.0, 86.0, 90.0, 96.0, 111.0, 18.0, 59.0, 117.0, 81.0, 120.0, 100.0, 128.0, 88.0, 97.0, 94.0, 86.0, 103.0, 80.0, 161.0, 161.0, 83.0, 89.0, 91.0, 100.0, 92.0, 74.0, 108.0, 74.0, 150.0, 107.0, 88.0, 96.0, 14.0, 85.0, 10.0, 63.0, 97.0, 91.0, 88.0, 140.0, 89.0, 90.0, 56.0, 100.0, 79.0, 67.0, 115.0, 100.0, 152.0, 149.0, 125.0, 72.0, 130.0, 60.0, 87.0, 90.0, 84.0, 98.0, 88.0, 85.0, 110.0, 82.0, 147.0, 105.0, 80.0, 134.0, 13.0, 121.0, 70.0, 540.0, 49.0, 107.0, 86.0, 103.0, 147.0, 138.0, 63.0, 81.0, 105.0, 92.0, 91.0, 97.0, 85.0, 76.0, 78.0, 60.0, 88.0, 37.0, 90.0, 60.0, 71.0, 90.0, 95.0, 83.0, 85.0, 81.0, 83.0, 68.0, 85.0, 91.0, 99.0, 102.0, 89.0, 100.0, 113.0, 86.0, 122.0, 88.0, 105.0, 76.0, 111.0, 127.0, 132.0, 99.0, 150.0, 90.0, 131.0, 112.0, 92.0, 84.0, 70.0, 95.0, 92.0, 95.0, 99.0, 105.0, 94.0, 104.0, 85.0, 109.0, 87.0, 153.0, 96.0, 102.0, 116.0, 40.0, 84.0, 93.0, 100.0, 74.0, 74.0, 94.0, 134.0, 69.0, 105.0, 109.0, 56.0, 73.0, 93.0, 89.0, 82.0, 90.0, 79.0, 83.0, 58.0, 94.0, 100.0, 87.0, 76.0, 152.0, 111.0, 85.0, 92.0, 94.0, 86.0, 128.0, 80.0, 101.0, 90.0, 102.0, 102.0, 135.0, 87.0, 117.0, 101.0, 127.0, 129.0, 132.0, 78.0, 100.0, 74.0, 103.0, 80.0, 85.0, 97.0, 96.0, 92.0, 100.0, 82.0, 81.0, 60.0, 88.0, 113.0, 89.0, 64.0, 98.0, 129.0, 96.0, 72.0, 103.0, 91.0, 89.0, 147.0, 105.0, 109.0, 89.0, 120.0, 93.0, 87.0, 91.0, 74.0, 90.0, 86.0, 84.0, 62.0, 88.0, 126.0, 74.0, 94.0, 82.0, 89.0, 79.0, 100.0, 119.0, 108.0, 67.0, 117.0, 75.0, 114.0, 76.0, 63.0, 85.0, 67.0, 114.0, 94.0, 147.0, 102.0, 103.0, 120.0, 98.0, 106.0, 109.0, 111.0, 89.0, 40.0, 40.0, 72.0, 47.0, 122.0, 119.0, 83.0, 91.0, 120.0, 89.0, 79.0, 120.0, 90.0, 122.0, 101.0, 115.0, 95.0, 128.0, 108.0, 89.0, 145.0, 40.0, 106.0, 123.0, 96.0, 122.0, 96.0, 87.0, 81.0, 89.0, 91.0, 142.0, 85.0, 121.0, 147.0, 95.0, 90.0, 88.0, 93.0, 118.0, 135.0, 129.0, 92.0, 103.0, 85.0, 51.0, 94.0, 55.0, 90.0, 73.0, 83.0, 144.0, 90.0, 119.0, 89.0, 112.0, 90.0, 113.0, 95.0, 82.0, 28.0, 101.0, 105.0, 88.0, 50.0, 110.0, 84.0, 94.0, 103.0, 93.0, 82.0, 143.0, 94.0, 168.0, 97.0, 96.0, 68.0, 77.0, 115.0, 92.0, 88.0, 87.0, 87.0, 130.0, 94.0, 104.0, 156.0, 140.0, 51.0, 93.0, 112.0, 112.0, 100.0, 101.0, 110.0, 93.0, 96.0, 83.0, 96.0, 104.0, 123.0, 78.0, 90.0, 59.0, 91.0, 65.0, 75.0, 111.0, 105.0, 81.0, 80.0, 87.0, 99.0, 91.0, 94.0, 125.0, 75.0, 91.0, 89.0, 87.0, 85.0, 127.0, 88.0, 97.0, 86.0, 96.0, 138.0, 122.0, 90.0, 129.0, 98.0, 76.0, 58.0, 88.0, 143.0, 138.0, 96.0, 80.0, 97.0, 77.0, 87.0, 87.0, 49.0, 25.0, 86.0, 48.0, 95.0, 116.0, 109.0, 122.0, 76.0, 90.0, 99.0, 94.0, 93.0, 93.0, 103.0, 106.0, 85.0, 58.0, 85.0, 103.0, 62.0, 57.0, 156.0, 126.0, 94.0, 81.0, 75.0, 87.0, 79.0, 89.0, 103.0, 74.0, 127.0, 131.0, 90.0, 106.0, 111.0, 99.0, 115.0, 129.0, 118.0, 136.0, 135.0, 95.0, 128.0, 124.0, 151.0, 144.0, 175.0, 62.0, 150.0, 133.0, 99.0, 89.0, 170.0, 119.0, 97.0, 135.0, 80.0, 98.0, 62.0, 77.0, 114.0, 176.0, 88.0, 92.0, 166.0, 123.0, 106.0, 103.0, 100.0, 84.0, 137.0, 73.0, 88.0, 92.0, 86.0, 109.0, 96.0, 86.0, 88.0, 91.0, 93.0, 112.0, 10.0, 97.0, 144.0, 102.0, 83.0, 62.0, 99.0, 62.0, 92.0, 98.0, 269.0, 98.0, 91.0, 101.0, 109.0, 96.0, 100.0, 76.0, 100.0, 105.0, 136.0, 89.0, 101.0, 148.0, 89.0, 103.0, 92.0, 82.0, 107.0, 104.0, 92.0, 87.0, 82.0, 137.0, 127.0, 88.0, 87.0, 103.0, 76.0, 155.0, 92.0, 80.0, 54.0, 92.0, 119.0, 106.0, 95.0, 93.0, 47.0, 90.0, 90.0, 92.0, 118.0, 92.0, 73.0, 120.0, 117.0, 94.0, 112.0, 103.0, 84.0, 91.0, 58.0, 95.0, 92.0, 84.0, 91.0, 109.0, 99.0, 41.0, 85.0, 43.0, 103.0, 81.0, 95.0, 91.0, 115.0, 120.0, 101.0, 89.0, 101.0, 109.0, 84.0, 94.0, 89.0, 87.0, 90.0, 81.0, 90.0, 115.0, 93.0, 98.0, 88.0, 104.0, 95.0, 90.0, 96.0, 99.0, 81.0, 87.0, 87.0, 93.0, 99.0, 81.0, 9.0, 113.0, 107.0, 92.0, 101.0, 151.0, 91.0, 7.0, 105.0, 92.0, 125.0, 82.0, 113.0, 95.0, 94.0, 34.0, 136.0, 111.0, 107.0, 93.0, 83.0, 118.0, 95.0, 102.0, 91.0, 96.0, 91.0, 119.0, 91.0, 94.0, 94.0, 83.0, 101.0, 110.0, 89.0, 95.0, 90.0, 100.0, 106.0, 94.0, 84.0, 105.0, 87.0, 112.0, 94.0, 107.0, 107.0, 100.0, 84.0, 93.0, 109.0, 87.0, 98.0, 87.0, 103.0, 120.0, 63.0, 89.0, 81.0, 90.0, 111.0, 83.0, 94.0, 100.0, 95.0, 125.0, 103.0, 90.0, 97.0, 93.0, 91.0, 75.0, 116.0, 159.0, 125.0, 89.0, 89.0, 88.0, 120.0, 78.0, 67.0, 79.0, 87.0, 122.0, 110.0, 110.0, 81.0, 83.0, 92.0, 96.0, 59.0, 105.0, 107.0, 67.0, 54.0, 97.0, 102.0, 132.0, 84.0, 78.0, 85.0, 96.0, 81.0, 87.0, 107.0, 107.0, 71.0, 105.0, 107.0, 75.0, 106.0, 99.0, 88.0, 79.0, 99.0, 150.0, 81.0, 136.0, 82.0, 91.0, 172.0, 136.0, 74.0, 91.0, 122.0, 92.0, 101.0, 98.0, 127.0, 84.0, 92.0, 71.0, 92.0, 97.0, 98.0, 129.0, 94.0, 73.0, 100.0, 81.0, 154.0, 53.0, 137.0, 110.0, 94.0, 87.0, 82.0, 92.0, 106.0, 48.0, 103.0, 120.0, 108.0, 89.0, 80.0, 100.0, 100.0, 92.0, 98.0, 94.0, 121.0, 85.0, 92.0, 81.0, 133.0, 95.0, 92.0, 69.0, 120.0, 104.0, 109.0, 112.0, 54.0, 103.0, 105.0, 85.0, 6.0, 86.0, 75.0, 92.0, 86.0, 88.0, 104.0, 127.0, 78.0, 127.0, 95.0, 58.0, 70.0, 99.0, 117.0, 96.0, 137.0, 79.0, 107.0, 91.0, 71.0, 79.0, 85.0, 85.0, 70.0, 89.0, 103.0, 97.0, 79.0, 127.0, 78.0, 87.0, 87.0, 121.0, 57.0, 89.0, 90.0, 121.0, 123.0, 83.0, 107.0, 126.0, 99.0, 79.0, 70.0, 97.0, 73.0, 100.0, 108.0, 135.0, 81.0, 59.0, 75.0, 118.0, 131.0, 59.0, 91.0, 102.0, 92.0, 97.0, 88.0, 96.0, 54.0, 87.0, 105.0, 94.0, 191.0, 95.0, 102.0, 83.0, 100.0, 93.0, 92.0, 63.0, 94.0, 14.0, 114.0, 88.0, 87.0, 93.0, 155.0, 110.0, 87.0, 90.0, 82.0, 108.0, 85.0, 74.0, 75.0, 92.0, 69.0, 49.0, 91.0, 97.0, 52.0, 142.0, 93.0, 101.0, 75.0, 59.0, 93.0, 23.0, 39.0, 94.0, 99.0, 78.0, 115.0, 105.0, 146.0, 95.0, 84.0, 116.0, 85.0, 84.0, 81.0, 125.0, 100.0, 133.0, 84.0, 70.0, 70.0, 140.0, 92.0, 18.0, 114.0, 101.0, 153.0, 73.0, 80.0, 120.0, 139.0, 142.0, 125.0, 133.0, 88.0, 93.0, 110.0, 88.0, 69.0, 118.0, 85.0, 106.0, 66.0, 94.0, 110.0, 153.0, 61.0, 61.0, 90.0, 115.0, 91.0, 26.0, 77.0, 89.0, 88.0, 135.0, 143.0, 44.0, 97.0, 85.0, 80.0, 101.0, 85.0, 110.0, 85.0, 86.0, 88.0, 90.0, 138.0, 93.0, 66.0, 106.0, 96.0, 84.0, 92.0, 92.0, 91.0, 80.0, 91.0, 93.0, 82.0, 30.0, 89.0, 80.0, 93.0, 87.0, 100.0, 41.0, 81.0, 98.0, 79.0, 105.0, 96.0, 82.0, 86.0, 92.0, 108.0, 86.0, 86.0, 92.0, 59.0, 105.0, 89.0, 30.0, 77.0, 120.0, 145.0, 115.0, 112.0, 100.0, 87.0, 0.0, 6.0, 115.0, 96.0, 140.0, 136.0, 97.0, 83.0, 97.0, 46.0, 97.0, 86.0, 88.0, 88.0, 121.0, 53.0, 43.0, 108.0, 113.0, 102.0, 97.0, 96.0, 108.0, 92.0, 137.0, 107.0, 88.0, 80.0, 102.0, 101.0, 92.0, 131.0, 75.0, 86.0, 92.0, 104.0, 155.0, 73.0, 151.0, 102.0, 92.0, 115.0, 48.0, 104.0, 122.0, 76.0, 74.0, 83.0, 87.0, 142.0, 91.0, 99.0, 84.0, 106.0, 75.0, 122.0, 104.0, 113.0, 91.0, 89.0, 86.0, 106.0, 108.0, 60.0, 72.0, 83.0, 90.0, 88.0, 88.0, 83.0, 104.0, 63.0, 134.0, 88.0, 105.0, 87.0, 73.0, 112.0, 92.0, 92.0, 74.0, 73.0, 105.0, 52.0, 57.0, 95.0, 94.0, 90.0, 99.0, 111.0, 89.0, 13.0, 87.0, 127.0, 96.0, 109.0, 84.0, 91.0, 88.0, 62.0, 103.0, 110.0, 122.0, 74.0, 90.0, 94.0, 107.0, 94.0, 91.0, 105.0, 76.0, 45.0, 115.0, 91.0, 90.0, 94.0, 91.0, 85.0, 105.0, 91.0, 84.0, 117.0, 86.0, 42.0, 90.0, 131.0, 120.0, 67.0, 108.0, 79.0, 93.0, 109.0, 93.0, 122.0, 87.0, 98.0, 119.0, 91.0, 85.0, 100.0, 52.0, 90.0, 54.0, 49.0, 73.0, 89.0, 93.0, 68.0, 132.0, 123.0, 147.0, 106.0, 61.0, 61.0, 61.0, 61.0, 70.0, 112.0, 43.0, 96.0, 115.0, 96.0, 83.0, 86.0, 100.0, 100.0, 78.0, 96.0, 88.0, 72.0, 88.0, 94.0, 87.0, 50.0, 90.0, 92.0, 9.0, 105.0, 98.0, 71.0, 86.0, 75.0, 87.0, 97.0, 153.0, 136.0, 149.0, 103.0, 61.0, 86.0, 116.0, 120.0, 100.0, 103.0, 152.0, 134.0, 86.0, 93.0, 96.0, 90.0, 8.0, 97.0, 88.0, 108.0, 101.0, 95.0, 110.0, 39.0, 102.0, 100.0, 93.0, 93.0, 103.0, 83.0, 69.0, 58.0, 188.0, 45.0, 81.0, 0.0, 92.0, 80.0, 96.0, 56.0, 84.0, 96.0, 120.0, 92.0, 122.0, 90.0, 99.0, 76.0, 100.0, 85.0, 32.0, 76.0, 99.0, 52.0, 67.0, 114.0, 112.0, 144.0, 98.0, 105.0, 83.0, 113.0, 91.0, 120.0, 106.0, 104.0, 88.0, 91.0, 35.0, 99.0, 83.0, 101.0, 81.0, 83.0, 95.0, 145.0, 90.0, 51.0, 113.0, 79.0, 89.0, 95.0, 85.0, 119.0, 98.0, 105.0, 110.0, 83.0, 84.0, 118.0, 92.0, 91.0, 95.0, 82.0, 125.0, 90.0, 76.0, 92.0, 94.0, 94.0, 90.0, 72.0, 53.0, 167.0, 136.0, 95.0, 56.0, 112.0, 102.0, 93.0, 155.0, 78.0, 89.0, 114.0, 157.0, 188.0, 94.0, 22.0, 87.0, 88.0, 118.0, 73.0, 91.0, 88.0, 82.0, 103.0, 92.0, 97.0, 127.0, 92.0, 92.0, 90.0, 93.0, 89.0, 78.0, 90.0, 93.0, 93.0, 90.0, 93.0, 90.0, 81.0, 93.0, 92.0, 91.0, 93.0, 94.0, 86.0, 77.0, 81.0, 91.0, 136.0, 88.0, 83.0, 89.0, 96.0, 87.0, 88.0, 89.0, 82.0, 96.0, 92.0, 84.0, 49.0, 6.0, 87.0, 117.0, 76.0, 104.0, 98.0, 108.0, 120.0, 85.0, 78.0, 113.0, 96.0, 83.0, 93.0, 83.0, 45.0, 33.0, 42.0, 77.0, 74.0, 56.0, 81.0, 121.0, 116.0, 74.0, 81.0, 92.0, 109.0, 44.0, 84.0, 91.0, 108.0, 96.0, 84.0, 100.0, 94.0, 91.0, 86.0, 163.0, 153.0, 92.0, 102.0, 105.0, 104.0, 145.0, 83.0, 120.0, 109.0, 95.0, 103.0, 81.0, 84.0, 113.0, 105.0, 41.0, 22.0, 108.0, 121.0, 92.0, 119.0, 101.0, 102.0, 111.0, 102.0, 106.0, 90.0, 89.0, 83.0, 96.0, 91.0, 89.0, 124.0, 102.0, 89.0, 81.0, 73.0, 89.0, 91.0, 91.0, 92.0, 91.0, 92.0, 92.0, 91.0, 121.0, 93.0, 93.0, 68.0, 80.0, 94.0, 124.0, 89.0, 94.0, 95.0, 115.0, 83.0, 106.0, 123.0, 56.0, 81.0, 90.0, 92.0, 96.0, 96.0, 80.0, 94.0, 118.0, 88.0, 100.0, 80.0, 89.0, 89.0, 105.0, 121.0, 57.0, 78.0, 91.0, 102.0, 94.0, 59.0, 109.0, 88.0, 16.0, 89.0, 92.0, 93.0, 86.0, 92.0, 94.0, 90.0, 79.0, 102.0, 90.0, 60.0, 84.0, 83.0, 110.0, 147.0, 99.0, 94.0, 152.0, 86.0, 105.0, 114.0, 99.0, 59.0, 131.0, 131.0, 117.0, 117.0, 82.0, 100.0, 91.0, 48.0, 25.0, 159.0, 106.0, 100.0, 80.0, 113.0, 95.0, 94.0, 124.0, 96.0, 154.0, 105.0, 96.0, 87.0, 59.0, 83.0, 102.0, 98.0, 81.0, 82.0, 109.0, 113.0, 120.0, 92.0, 45.0, 84.0, 103.0, 113.0, 110.0, 108.0, 92.0, 90.0, 76.0, 104.0, 125.0, 83.0, 78.0, 129.0, 129.0, 132.0, 47.0, 95.0, 75.0, 80.0, 45.0, 102.0, 87.0, 1.0, 139.0, 98.0, 92.0, 91.0, 123.0, 123.0, 117.0, 112.0, 110.0, 110.0, 80.0, 104.0, 108.0, 89.0, 32.0, 92.0, 88.0, 113.0, 100.0, 41.0, 93.0, 109.0, 87.0, 86.0, 135.0, 83.0, 101.0, 100.0, 74.0, 96.0, 123.0, 140.0, 42.0, 73.0, 98.0, 108.0, 153.0, 105.0, 105.0, 87.0, 118.0, 118.0, 65.0, 55.0, 135.0, 111.0, 102.0, 89.0, 130.0, 100.0, 94.0, 95.0, 145.0, 99.0, 90.0, 106.0, 88.0, 124.0, 84.0, 80.0, 88.0, 99.0, 99.0, 107.0, 88.0, 73.0, 103.0, 97.0, 50.0, 91.0, 75.0, 122.0, 96.0, 79.0, 102.0, 92.0, 49.0, 90.0, 130.0, 42.0, 99.0, 132.0, 123.0, 132.0, 108.0, 94.0, 80.0, 159.0, 100.0, 52.0, 161.0, 87.0, 127.0, 99.0, 105.0, 91.0, 92.0, 90.0, 85.0, 114.0, 109.0, 95.0, 85.0, 79.0, 86.0, 122.0, 102.0, 90.0, 90.0, 102.0, 95.0, 88.0, 89.0, 111.0, 92.0, 103.0, 64.0, 80.0, 91.0, 72.0, 109.0, 102.0, 89.0, 43.0, 97.0, 127.0, 84.0, 100.0, 85.0, 88.0, 85.0, 94.0, 69.0, 124.0, 124.0, 119.0, 26.0, 137.0, 22.0, 113.0, 131.0, 86.0, 105.0, 75.0, 111.0, 87.0, 82.0, 92.0, 85.0, 94.0, 128.0, 92.0, 80.0, 108.0, 99.0, 88.0, 82.0, 92.0, 91.0, 106.0, 98.0, 140.0, 88.0, 90.0, 86.0, 81.0, 161.0, 90.0, 90.0, 94.0, 118.0, 40.0, 82.0, 77.0, 99.0, 106.0, 102.0, 80.0, 95.0, 80.0, 84.0, 97.0, 88.0, 97.0, 101.0, 83.0, 89.0, 99.0, 109.0, 74.0, 139.0, 86.0, 91.0, 94.0, 133.0, 48.0, 93.0, 86.0, 113.0, 106.0, 89.0, 115.0, 84.0, 74.0, 98.0, 8.0, 62.0, 92.0, 99.0, 123.0, 59.0, 92.0, 100.0, 40.0, 61.0, 61.0, 53.0, 102.0, 138.0, 146.0, 101.0, 147.0, 76.0, 93.0, 95.0, 87.0, 84.0, 82.0, 104.0, 80.0, 50.0, 120.0, 106.0, 109.0, 80.0, 66.0, 151.0, 55.0, 90.0, 97.0, 89.0, 97.0, 78.0, 59.0, 105.0, 90.0, 75.0, 22.0, 73.0, 94.0, 143.0, 85.0, 121.0, 91.0, 92.0, 123.0, 77.0, 5.0, 5.0, 5.0, 5.0, 87.0, 119.0, 119.0, 128.0, 128.0, 98.0, 99.0, 81.0, 44.0, 83.0, 88.0, 10.0, 106.0, 106.0, 122.0, 92.0, 141.0, 99.0, 98.0, 96.0, 81.0, 84.0, 119.0, 95.0, 97.0, 130.0, 130.0, 31.0, 91.0, 133.0, 133.0, 82.0, 88.0, 99.0, 5.0, 10.0, 145.0, 104.0, 86.0, 93.0, 105.0, 10.0, 110.0, 103.0, 90.0, 165.0, 94.0, 87.0, 82.0, 97.0, 114.0, 87.0, 85.0, 119.0, 96.0, 95.0, 114.0, 90.0, 100.0, 114.0, 93.0, 91.0, 84.0, 82.0, 110.0, 87.0, 83.0, 97.0, 90.0, 98.0, 97.0, 82.0, 88.0, 94.0, 94.0, 88.0, 120.0, 76.0, 89.0, 101.0, 92.0, 116.0, 90.0, 88.0, 94.0, 80.0, 87.0, 101.0, 99.0, 124.0, 90.0, 87.0, 81.0, 54.0, 99.0, 102.0, 98.0, 98.0, 109.0, 151.0, 151.0, 151.0, 151.0, 85.0, 114.0, 139.0, 120.0, 49.0, 2.0, 85.0, 86.0, 116.0, 112.0, 103.0, 117.0, 96.0, 113.0, 32.0, 111.0, 102.0, 87.0, 135.0, 84.0, 87.0, 97.0, 96.0, 93.0, 60.0, 90.0, 103.0], \"xaxis\": \"x\", \"xbins\": {\"end\": 601.0, \"size\": 0.7, \"start\": 0.0}, \"yaxis\": \"y\"}, {\"legendgroup\": \"a\", \"marker\": {\"color\": \"#6ad49b\"}, \"mode\": \"lines\", \"name\": \"a\", \"showlegend\": false, \"type\": \"scatter\", \"x\": [0.0, 1.202, 2.404, 3.606, 4.808, 6.01, 7.212, 8.414, 9.616, 10.818, 12.02, 13.222, 14.424, 15.626, 16.828, 18.03, 19.232, 20.434, 21.636, 22.838, 24.04, 25.242, 26.444, 27.646, 28.848, 30.05, 31.252, 32.454, 33.656, 34.858, 36.06, 37.262, 38.464, 39.666, 40.868, 42.07, 43.272, 44.474, 45.676, 46.878, 48.08, 49.282, 50.484, 51.686, 52.888, 54.09, 55.292, 56.494, 57.696, 58.898, 60.1, 61.302, 62.504, 63.706, 64.908, 66.11, 67.312, 68.514, 69.716, 70.918, 72.12, 73.322, 74.524, 75.726, 76.928, 78.13, 79.332, 80.534, 81.736, 82.938, 84.14, 85.342, 86.544, 87.746, 88.948, 90.15, 91.352, 92.554, 93.756, 94.958, 96.16, 97.362, 98.564, 99.766, 100.968, 102.17, 103.372, 104.574, 105.776, 106.978, 108.18, 109.382, 110.584, 111.786, 112.988, 114.19, 115.392, 116.594, 117.796, 118.998, 120.2, 121.402, 122.604, 123.806, 125.008, 126.21, 127.412, 128.614, 129.816, 131.018, 132.22, 133.422, 134.624, 135.826, 137.028, 138.23, 139.432, 140.634, 141.836, 143.038, 144.24, 145.442, 146.644, 147.846, 149.048, 150.25, 151.452, 152.654, 153.856, 155.058, 156.26, 157.462, 158.664, 159.866, 161.068, 162.27, 163.472, 164.674, 165.876, 167.078, 168.28, 169.482, 170.684, 171.886, 173.088, 174.29, 175.492, 176.694, 177.896, 179.098, 180.3, 181.502, 182.704, 183.906, 185.108, 186.31, 187.512, 188.714, 189.916, 191.118, 192.32, 193.522, 194.724, 195.926, 197.128, 198.33, 199.532, 200.734, 201.936, 203.138, 204.34, 205.542, 206.744, 207.946, 209.148, 210.35, 211.552, 212.754, 213.956, 215.158, 216.36, 217.562, 218.764, 219.966, 221.168, 222.37, 223.572, 224.774, 225.976, 227.178, 228.38, 229.582, 230.784, 231.986, 233.188, 234.39, 235.592, 236.794, 237.996, 239.198, 240.4, 241.602, 242.804, 244.006, 245.208, 246.41, 247.612, 248.814, 250.016, 251.218, 252.42, 253.622, 254.824, 256.026, 257.228, 258.43, 259.632, 260.834, 262.036, 263.238, 264.44, 265.642, 266.844, 268.046, 269.248, 270.45, 271.652, 272.854, 274.056, 275.258, 276.46, 277.662, 278.864, 280.066, 281.268, 282.47, 283.672, 284.874, 286.076, 287.278, 288.48, 289.682, 290.884, 292.086, 293.288, 294.49, 295.692, 296.894, 298.096, 299.298, 300.5, 301.702, 302.904, 304.106, 305.308, 306.51, 307.712, 308.914, 310.116, 311.318, 312.52, 313.722, 314.924, 316.126, 317.328, 318.53, 319.732, 320.934, 322.136, 323.338, 324.54, 325.742, 326.944, 328.146, 329.348, 330.55, 331.752, 332.954, 334.156, 335.358, 336.56, 337.762, 338.964, 340.166, 341.368, 342.57, 343.772, 344.974, 346.176, 347.378, 348.58, 349.782, 350.984, 352.186, 353.388, 354.59, 355.792, 356.994, 358.196, 359.398, 360.6, 361.802, 363.004, 364.206, 365.408, 366.61, 367.812, 369.014, 370.216, 371.418, 372.62, 373.822, 375.024, 376.226, 377.428, 378.63, 379.832, 381.034, 382.236, 383.438, 384.64, 385.842, 387.044, 388.246, 389.448, 390.65, 391.852, 393.054, 394.256, 395.458, 396.66, 397.862, 399.064, 400.266, 401.468, 402.67, 403.872, 405.074, 406.276, 407.478, 408.68, 409.882, 411.084, 412.286, 413.488, 414.69, 415.892, 417.094, 418.296, 419.498, 420.7, 421.902, 423.104, 424.306, 425.508, 426.71, 427.912, 429.114, 430.316, 431.518, 432.72, 433.922, 435.124, 436.326, 437.528, 438.73, 439.932, 441.134, 442.336, 443.538, 444.74, 445.942, 447.144, 448.346, 449.548, 450.75, 451.952, 453.154, 454.356, 455.558, 456.76, 457.962, 459.164, 460.366, 461.568, 462.77, 463.972, 465.174, 466.376, 467.578, 468.78, 469.982, 471.184, 472.386, 473.588, 474.79, 475.992, 477.194, 478.396, 479.598, 480.8, 482.002, 483.204, 484.406, 485.608, 486.81, 488.012, 489.214, 490.416, 491.618, 492.82, 494.022, 495.224, 496.426, 497.628, 498.83, 500.032, 501.234, 502.436, 503.638, 504.84, 506.042, 507.244, 508.446, 509.648, 510.85, 512.052, 513.254, 514.456, 515.658, 516.86, 518.062, 519.264, 520.466, 521.668, 522.87, 524.072, 525.274, 526.476, 527.678, 528.88, 530.082, 531.284, 532.486, 533.688, 534.89, 536.092, 537.294, 538.496, 539.698, 540.9, 542.102, 543.304, 544.506, 545.708, 546.91, 548.112, 549.314, 550.516, 551.718, 552.92, 554.122, 555.324, 556.526, 557.728, 558.93, 560.132, 561.334, 562.536, 563.738, 564.94, 566.142, 567.344, 568.546, 569.748, 570.95, 572.152, 573.354, 574.556, 575.758, 576.96, 578.162, 579.364, 580.566, 581.768, 582.97, 584.172, 585.374, 586.576, 587.778, 588.98, 590.182, 591.384, 592.586, 593.788, 594.99, 596.192, 597.394, 598.596, 599.798], \"xaxis\": \"x\", \"y\": [0.0007623555906227711, 0.0008152112748896231, 0.0008709575695269521, 0.0009296897666827814, 0.000991501408453524, 0.0010564838256947463, 0.0011247256561001536, 0.0011963123428213689, 0.0012713256151098355, 0.0013498429526737506, 0.0014319370356558146, 0.0015176751823499654, 0.0016071187769855627, 0.0017003226901136355, 0.001797334694330033, 0.0018981948782625052, 0.002002935061930835, 0.0021115782167591885, 0.0022241378936755374, 0.002340617662872496, 0.0024610105689249094, 0.002585298605060282, 0.002713452210456481, 0.0028454297944954703, 0.0029811772919303005, 0.0031206277529237554, 0.003263700971889408, 0.003410303159008396, 0.003560326658206801, 0.003713649715258558, 0.003870136299526688, 0.004029635982671242, 0.00419198387743573, 0.004357000639375177, 0.004524492534109299, 0.0046942515723742365, 0.004866055714807387, 0.0050396691480336445, 0.005214842633229614, 0.00539131392792759, 0.005568808281385522, 0.005747039003395716, 0.005925708105936823, 0.00610450701659384, 0.006283117362183033, 0.00646121182052649, 0.0066384550378284285, 0.0068145046086161955, 0.006989012114727343, 0.007161624219354233, 0.007331983811703583, 0.007499731197394174, 0.0076645053293056785, 0.00782594507320924, 0.007983690502159637, 0.008137384213313358, 0.008286672660559807, 0.00843120749611751, 0.008570646914056013, 0.008704656988559904, 0.0088329129996558, 0.008955100739078153, 0.009070917788956166, 0.009180074766063286, 0.009282296524482422, 0.009377323309704514, 0.009464911857394395, 0.00954483643032531, 0.009616889787300036, 0.009680884078240626, 0.00973665166003758, 0.009784045828200298, 0.009822941459840135, 0.009853235564042141, 0.009874847736237357, 0.009887720513770081, 0.009891819630459443, 0.00988713416857692, 0.00987367660729642, 0.009851482767315995, 0.00982061165199515, 0.00978114518599381, 0.009733187853033266, 0.009676866235020804, 0.009612328455383205, 0.009539743530035227, 0.009459300629963084, 0.009371208259925325, 0.009275693358260726, 0.009173000323240935, 0.00906338997181163, 0.008947138436926861, 0.008824536009994631, 0.008695885935215817, 0.008561503162811413, 0.008421713068294027, 0.008276850145047811, 0.008127256677536523, 0.007973281402462515, 0.007815278165150954, 0.0076536045783347105, 0.007488620690367914, 0.0073206876697019235, 0.00715016651221926, 0.0069774167777412865, 0.00680279536170743, 0.006626655307670744, 0.006449344665870283, 0.0062712054027287524, 0.006092572365688361, 0.005913772307342409, 0.005735122972349467, 0.005556932250134677, 0.005379497395893286, 0.005203104321918753, 0.005028026960785782, 0.004854526701431224, 0.004682851898696681, 0.00451323745642922, 0.004345904483784379, 0.00418106002394125, 0.004018896854026229, 0.0038595933546517977, 0.003703313447112354, 0.0035502065959419787, 0.0034004078742311053, 0.003254038088821264, 0.003111203962250761, 0.0029719983681095316, 0.0028365006162792187, 0.0027047767843845767, 0.0025768800916643846, 0.002452851311383831, 0.002332719217854781, 0.0022165010641048066, 0.002104203086238719, 0.0019958210305668035, 0.0018913406996297138, 0.001790738513330069, 0.001693982081482824, 0.001601030784218883, 0.0015118363568169695, 0.0014263434756955444, 0.0013444903424674475, 0.0012662092631427553, 0.001191427219758197, 0.0011200664319120678, 0.001052044905890144, 0.0009872769692785448, 0.0009256737891719729, 0.000867143872298626, 0.0008115935455944637, 0.0007589274159680882, 0.0007090488082016262, 0.0006618601801315539, 0.0006172635144450563, 0.0005751606866113497, 0.0005354538086424377, 0.0004980455485432306, 0.00046283942546630595, 0.00042974008073116434, 0.0003986535250014113, 0.00036948736203547, 0.00034215098953718694, 0.00031655577773189825, 0.0002926152263812852, 0.00027024510102682917, 0.0002493635493170928, 0.00022989119832875037, 0.00021175123383563156, 0.0001948694625145003, 0.00017917435810132316, 0.00016459709252797643, 0.000151071553077215, 0.0001385343465939301, 0.00012692479178381648, 0.00011618490061723648, 0.00010625934983688681, 9.709544354350239e-05, 8.864306780488314e-05, 8.085463820059997e-05, 7.36850411784376e-05, 6.70915700594935e-05, 6.103385648747171e-05, 5.547379807454074e-05, 5.0375482951697674e-05, 4.5705111886330364e-05, 4.1430918584004497e-05, 3.752308874583076e-05, 3.395367840741533e-05, 3.0696532040697684e-05, 2.7727200856196015e-05, 2.5022861700577014e-05, 2.2562236903239344e-05, 2.0325515385940552e-05, 1.829427531155267e-05, 1.645140851192253e-05, 1.4781046900636008e-05, 1.3268491044305722e-05, 1.1900141035868681e-05, 1.0663429785313984e-05, 9.546758817264525e-06, 8.539436640899606e-06, 7.631619735793528e-06, 6.81425617731701e-06, 6.079031907246721e-06, 5.418319639087358e-06, 4.825130373254868e-06, 4.293067484617427e-06, 3.816283333854265e-06, 3.3894383445804974e-06, 3.0076624801039833e-06, 2.6665190469315334e-06, 2.3619707466302145e-06, 2.0903478932794693e-06, 1.8483187104238109e-06, 1.632861619064309e-06, 1.4412394267162478e-06, 1.2709753268249165e-06, 1.119830617786818e-06, 9.857840513896275e-07, 8.670127215861042e-07, 7.618744060826534e-07, 6.688912751863281e-07, 5.867348846524349e-07, 5.14212371850929e-07, 4.502537773708581e-07, 3.9390041715985357e-07, 3.4429423340600504e-07, 3.0066805557301667e-07, 2.623367062607046e-07, 2.2868888985006565e-07, 1.9917980517765084e-07, 1.7332442674329204e-07, 1.5069140216752412e-07, 1.308975167622842e-07, 1.1360267914551187e-07, 9.850538480470057e-08, 8.53386173861227e-08, 7.38661502473796e-08, 6.387921345521727e-08, 5.519349393389924e-08, 4.764643886922696e-08, 4.109483474821267e-08, 3.5412636564385376e-08, 3.048902374470369e-08, 2.622666125788411e-08, 2.2540146148276994e-08, 1.9354621407430817e-08, 1.660454065094471e-08, 1.4232568515269459e-08, 1.2188603032229107e-08, 1.0428907482909271e-08, 8.915340382029382e-09, 7.614673303921118e-09, 6.4979872367403475e-09, 5.54013904749539e-09, 4.719290461757964e-09, 4.016492713337086e-09, 3.4153207053967103e-09, 2.9015511500069786e-09, 2.4628797222850857e-09, 2.0886727822693112e-09, 1.7697496864561123e-09, 1.4981921352873994e-09, 1.2671773863747485e-09, 1.070832509254347e-09, 9.041071691426356e-10, 7.626627074656036e-10, 6.427755386285258e-10, 5.412531081450098e-10, 4.5536085924127926e-10, 3.8275883559854227e-10, 3.2144670903063856e-10, 2.6971616449012655e-10, 2.2610970257576993e-10, 1.8938503325551594e-10, 1.5848433526364664e-10, 1.3250774489440998e-10, 1.1069051689436208e-10, 9.238336993932306e-11, 7.703559075504683e-11, 6.4180525195126e-11, 5.342313233029535e-11, 4.4429319555799924e-11, 3.691681354022685e-11, 3.0647354106172706e-11, 2.5420026375294122e-11, 2.1065571197416066e-11, 1.7441535434935502e-11, 1.4428142463760519e-11, 1.192477961332035e-11, 9.84701349656453e-12, 8.12405653873367e-12, 6.69661873342311e-12, 5.515087941592321e-12, 4.537990085144965e-12, 3.730687531461799e-12, 3.0642799596094787e-12, 2.5146771665962112e-12, 2.0618177215905143e-12, 1.6890112025970613e-12, 1.3823850369478364e-12, 1.1304197868444148e-12, 9.235591375349694e-13, 7.538829138072058e-13, 6.148332184172038e-13, 5.009852956347367e-13, 4.07856010513005e-13, 3.317439311854855e-13, 2.695959346225594e-13, 2.188960493166978e-13, 1.775729215599606e-13, 1.4392286278184765e-13, 1.1654591884579314e-13, 9.429281116431063e-14, 7.622094506209162e-14, 6.155797248714841e-14, 4.967164206971174e-14, 4.0044876605276184e-14, 3.225519222472597e-14, 2.595771987014532e-14, 2.0871212528615396e-14, 1.6766524653175812e-14, 1.3457136434016818e-14, 1.0791367715804846e-14, 8.645986627810456e-15, 6.920968297226038e-15, 5.535200954700041e-15, 4.422971667280788e-15, 3.5310929882945476e-15, 2.816555956909244e-15, 2.244614920504488e-15, 1.7872262695884784e-15, 1.421776937838331e-15, 1.130049906647038e-15, 8.973833643538298e-16, 7.119879396299357e-16, 5.643928357038895e-16, 4.469969703589534e-16, 3.5370557018273084e-16, 2.79636238093429e-16, 2.2088144514273747e-16, 1.7431680263948456e-16, 1.3744644135277627e-16, 1.082784376597904e-16, 8.52245454945355e-17, 6.701957031482055e-17, 5.2656600371223524e-17, 4.133502707537807e-17, 3.24188696694736e-17, 2.5403393923832886e-17, 1.988840014997056e-17, 1.5556868763937826e-17, 1.2157905378959885e-17, 9.493132932678022e-18, 7.40584465200399e-18, 5.772366075246781e-18, 4.4951828859031904e-18, 3.497478858000613e-18, 2.7187987551044323e-18, 2.1116078076875992e-18, 1.638565053219917e-18, 1.2703645010568458e-18, 9.840275165335928e-19, 7.615534126013815e-19, 5.888541316036965e-19, 4.549140149941541e-19, 3.5112773841848e-19, 2.7077913338445943e-19, 2.0863130803929898e-19, 1.6060460741560859e-19, 1.2352383073489558e-19, 9.492000125544292e-20, 7.28750643463403e-20, 5.590033356990806e-20, 4.284144195489292e-20, 3.280408983465496e-20, 2.5096094294309558e-20, 1.918220441154048e-20, 1.464890370211312e-20, 1.1177018396561757e-20, 8.520420716922391e-21, 6.489486686984563e-21, 4.938259231074543e-21, 3.754496077072892e-21, 2.85196149551629e-21, 2.164461637832149e-21, 1.6412334521849894e-21, 1.2433833857248941e-21, 9.411394794887875e-22, 7.117330873754574e-22, 5.37767500344953e-22, 4.0596274552482653e-22, 3.061907325792737e-22, 2.307342868417617e-22, 1.7371865584150057e-22, 1.3067575498453947e-22, 9.821047415192833e-23, 7.374538204782657e-23, 5.532559385087568e-23, 4.146976466609596e-23, 3.1056412725805965e-23, 2.323727730595364e-23, 1.737134413951784e-23, 1.2974655627422679e-23, 9.682165178740275e-24, 7.218772704961174e-24, 5.377352169075325e-24, 4.00209897087072e-24, 2.9759210216564164e-24, 2.2109005630211448e-24, 1.6410856637944037e-24, 1.217047490312284e-24, 9.017746673082461e-25, 6.675791572817429e-25, 4.937666338430378e-25, 3.6488410217681516e-25, 2.694029683341251e-25, 1.987302796063548e-25, 1.4646705281451498e-25, 1.0785246472214925e-25, 7.934771744120588e-26, 5.832476990260994e-26, 4.2833726802995555e-26, 3.142917078306514e-26, 2.3040622880460604e-26, 1.687600870096451e-26, 1.2349787869952678e-26, 9.029495530174051e-27, 6.59601613112903e-27, 4.814089532800266e-27, 3.510434299420292e-27, 2.557536071674547e-27, 1.8616452152649368e-27, 1.3538991058656705e-27, 9.837617138573447e-28, 7.141801317311344e-28, 5.1801202777125945e-28, 3.753929876538023e-28, 2.717982773925479e-28, 1.9661718609521054e-28, 1.4210536846837588e-28, 1.0261567966126097e-28, 7.403399736556431e-29, 5.336578529340952e-29, 3.843340321660797e-29, 2.765470385829147e-29, 1.988123754270289e-29, 1.428012630590908e-29, 1.0247900861780295e-29, 7.347710119924999e-30, 5.2636056622475754e-30, 3.767288751227027e-30, 2.693944873553743e-30, 1.9246986086019546e-30, 1.373886931405371e-30, 9.798362100573044e-31, 6.9818451033309606e-31, 4.970512454717525e-31, 3.535463479722613e-31, 2.5124983014805473e-31, 1.7839366603150906e-31, 1.2655150557430201e-31, 8.969524787641146e-32, 6.351638679174167e-32, 4.493827187035346e-32, 3.176590130056747e-32, 2.2434698078282063e-32, 1.5830459047068797e-32, 1.116043237242631e-32, 7.861089919257718e-33, 5.53221105351348e-33, 3.8898150147812266e-33, 2.732583168457087e-33, 1.9179269500244777e-33, 1.3449463690571859e-33, 9.423063203982069e-34, 6.596194812530453e-34, 4.613272148037686e-34, 3.223583391059269e-34, 2.2505205128682033e-34, 1.5697889738877287e-34, 1.093991140808718e-34, 7.617291368818971e-35, 5.29909326652644e-35, 3.683127819369231e-35, 2.5576802541639623e-35, 1.7745569546744305e-35, 1.2301210971322563e-35, 8.519616057278176e-36, 5.895306811479945e-36, 4.0757452694104386e-36, 2.815281888453939e-36, 1.9429023424179973e-36, 1.3396590725747622e-36, 9.228940362536395e-37, 6.3521920774709685e-37, 4.368271632296968e-37, 3.001303280954767e-37], \"yaxis\": \"y\"}, {\"legendgroup\": \"a\", \"marker\": {\"color\": \"#6ad49b\", \"symbol\": \"line-ns-open\"}, \"mode\": \"markers\", \"name\": \"a\", \"showlegend\": false, \"type\": \"scatter\", \"x\": [113.0, 110.0, 74.0, 69.0, 45.0, 52.0, 98.0, 131.0, 87.0, 92.0, 88.0, 93.0, 94.0, 46.0, 74.0, 96.0, 87.0, 104.0, 62.0, 94.0, 50.0, 86.0, 36.0, 37.0, 103.0, 98.0, 9.0, 18.0, 14.0, 20.0, 19.0, 18.0, 20.0, 20.0, 22.0, 60.0, 6.0, 54.0, 5.0, 84.0, 126.0, 125.0, 109.0, 89.0, 85.0, 56.0, 40.0, 111.0, 33.0, 34.0, 95.0, 99.0, 104.0, 111.0, 78.0, 77.0, 55.0, 126.0, 53.0, 115.0, 55.0, 58.0, 49.0, 104.0, 95.0, 109.0, 135.0, 91.0, 99.0, 64.0, 131.0, 59.0, 52.0, 48.0, 109.0, 62.0, 84.0, 85.0, 22.0, 22.0, 22.0, 22.0, 122.0, 103.0, 9.0, 92.0, 90.0, 102.0, 65.0, 114.0, 56.0, 59.0, 136.0, 70.0, 138.0, 89.0, 113.0, 100.0, 480.0, 4.0, 30.0, 104.0, 65.0, 152.0, 152.0, 55.0, 86.0, 68.0, 57.0, 89.0, 77.0, 92.0, 96.0, 109.0, 85.0, 98.0, 94.0, 88.0, 90.0, 31.0, 151.0, 92.0, 149.0, 111.0, 86.0, 113.0, 53.0, 125.0, 141.0, 121.0, 48.0, 99.0, 88.0, 79.0, 111.0, 140.0, 140.0, 140.0, 90.0, 46.0, 51.0, 51.0, 106.0, 75.0, 93.0, 60.0, 27.0, 90.0, 104.0, 60.0, 88.0, 69.0, 107.0, 108.0, 108.0, 91.0, 115.0, 93.0, 38.0, 104.0, 92.0, 102.0, 157.0, 43.0, 91.0, 91.0, 118.0, 139.0, 112.0, 15.0, 93.0, 87.0, 110.0, 27.0, 107.0, 95.0, 126.0, 72.0, 86.0, 93.0, 88.0, 87.0, 89.0, 88.0, 65.0, 116.0, 93.0, 142.0, 104.0, 75.0, 57.0, 84.0, 71.0, 104.0, 65.0, 91.0, 56.0, 57.0, 60.0, 42.0, 55.0, 81.0, 100.0, 46.0, 95.0, 95.0, 106.0, 57.0, 32.0, 52.0, 87.0, 95.0, 54.0, 66.0, 127.0, 96.0, 43.0, 159.0, 67.0, 92.0, 94.0, 29.0, 132.0, 101.0, 89.0, 164.0, 152.0, 116.0, 90.0, 73.0, 95.0, 57.0, 61.0, 60.0, 60.0, 62.0, 115.0, 91.0, 91.0, 118.0, 71.0, 93.0, 136.0, 99.0, 96.0, 92.0, 95.0, 60.0, 60.0, 60.0, 66.0, 110.0, 19.0, 65.0, 87.0, 99.0, 96.0, 104.0, 91.0, 88.0, 80.0, 61.0, 91.0, 79.0, 90.0, 91.0, 62.0, 85.0, 99.0, 75.0, 110.0, 89.0, 83.0, 106.0, 107.0, 91.0, 75.0, 44.0, 110.0, 45.0, 54.0, 91.0, 91.0, 94.0, 87.0, 94.0, 120.0, 113.0, 79.0, 69.0, 56.0, 90.0, 95.0, 93.0, 102.0, 111.0, 53.0, 91.0, 26.0, 97.0, 80.0, 107.0, 90.0, 93.0, 97.0, 48.0, 66.0, 104.0, 97.0, 36.0, 109.0, 93.0, 30.0, 79.0, 84.0, 86.0, 89.0, 59.0, 91.0, 102.0, 87.0, 22.0, 97.0, 74.0, 86.0, 97.0, 58.0, 23.0, 105.0, 107.0, 106.0, 89.0, 93.0, 49.0, 58.0, 55.0, 91.0, 56.0, 56.0, 26.0, 77.0, 82.0, 106.0, 88.0, 102.0, 78.0, 87.0, 11.0, 60.0, 95.0, 80.0, 74.0, 56.0, 53.0, 50.0, 50.0, 127.0, 127.0, 96.0, 89.0, 107.0, 9.0, 116.0, 103.0, 53.0, 80.0, 84.0, 82.0, 140.0, 93.0, 111.0, 89.0, 69.0, 105.0, 148.0, 121.0, 125.0, 88.0, 96.0, 109.0, 115.0, 88.0, 68.0, 82.0, 109.0, 95.0, 45.0, 70.0, 96.0, 86.0, 116.0, 99.0, 103.0, 57.0, 113.0, 106.0, 77.0, 101.0, 90.0, 99.0, 92.0, 91.0, 91.0, 88.0, 48.0, 71.0, 69.0, 97.0, 91.0, 110.0, 85.0, 89.0, 110.0, 83.0, 161.0, 73.0, 72.0, 78.0, 89.0, 68.0, 57.0, 111.0, 95.0, 97.0, 68.0, 81.0, 91.0, 100.0, 55.0, 68.0, 100.0, 82.0, 56.0, 91.0, 33.0, 90.0, 98.0, 92.0, 34.0, 123.0, 116.0, 77.0, 95.0, 95.0, 94.0, 99.0, 93.0, 107.0, 90.0, 64.0, 98.0, 80.0, 83.0, 96.0, 81.0, 92.0, 54.0, 92.0, 95.0, 101.0, 66.0, 103.0, 94.0, 104.0, 91.0, 126.0, 90.0, 98.0, 89.0, 52.0, 100.0, 90.0, 102.0, 43.0, 91.0, 103.0, 67.0, 89.0, 93.0, 103.0, 56.0, 103.0, 110.0, 79.0, 29.0, 77.0, 88.0, 93.0, 73.0, 107.0, 118.0, 103.0, 105.0, 87.0, 96.0, 92.0, 98.0, 103.0, 49.0, 36.0, 83.0, 112.0, 54.0, 62.0, 105.0, 58.0, 102.0, 66.0, 112.0, 94.0, 102.0, 142.0, 142.0, 56.0, 55.0, 0.0, 98.0, 56.0, 90.0, 72.0, 84.0, 96.0, 124.0, 86.0, 80.0, 59.0, 45.0, 45.0, 86.0, 86.0, 70.0, 49.0, 22.0, 138.0, 98.0, 34.0, 90.0, 143.0, 85.0, 35.0, 60.0, 47.0, 82.0, 81.0, 170.0, 170.0, 170.0, 170.0, 74.0, 34.0, 103.0, 52.0, 103.0, 99.0, 3.0, 60.0, 60.0, 60.0, 60.0, 59.0, 141.0, 99.0, 55.0, 30.0, 101.0, 70.0, 90.0, 84.0, 122.0, 123.0, 146.0, 96.0, 99.0, 114.0, 85.0, 48.0, 38.0, 99.0, 88.0, 86.0, 82.0, 103.0, 85.0, 27.0, 72.0, 65.0, 73.0, 84.0, 56.0, 106.0, 90.0, 89.0, 73.0, 88.0, 88.0, 91.0, 96.0, 135.0, 53.0, 100.0, 71.0, 96.0, 78.0, 109.0, 53.0, 94.0, 60.0, 601.0, 480.0, 60.0, 138.0, 88.0, 24.0, 53.0, 53.0, 60.0, 71.0, 96.0, 91.0, 88.0, 111.0, 42.0, 90.0, 101.0, 83.0, 83.0, 96.0, 94.0, 36.0, 4.0, 84.0, 89.0, 95.0, 92.0, 132.0, 104.0, 110.0, 87.0, 55.0, 88.0, 90.0, 78.0, 62.0, 109.0, 90.0, 87.0, 64.0, 53.0, 83.0, 157.0, 52.0, 30.0, 33.0, 60.0, 59.0, 45.0, 47.0, 35.0, 95.0, 90.0, 84.0, 98.0, 59.0, 70.0, 115.0, 85.0, 126.0, 126.0, 29.0, 105.0, 35.0, 99.0, 123.0, 154.0, 60.0, 100.0, 69.0, 71.0, 88.0, 61.0, 86.0, 85.0, 54.0, 33.0, 100.0, 65.0, 127.0, 103.0, 44.0, 128.0, 133.0, 92.0, 106.0, 93.0, 86.0, 97.0, 98.0, 74.0, 92.0, 123.0, 55.0, 57.0, 50.0, 95.0, 14.0, 110.0, 74.0, 29.0, 78.0, 107.0, 89.0, 95.0, 153.0, 148.0, 34.0, 95.0, 85.0, 73.0, 67.0, 72.0, 94.0, 53.0, 119.0, 92.0, 63.0, 124.0, 95.0, 72.0, 170.0, 170.0, 170.0, 169.0, 26.0, 110.0, 148.0, 127.0, 101.0, 111.0, 92.0, 102.0, 78.0, 22.0, 95.0, 94.0, 118.0, 53.0, 118.0, 68.0, 88.0, 121.0, 94.0, 60.0, 96.0, 74.0, 49.0, 91.0, 70.0, 59.0, 93.0, 115.0, 59.0, 55.0, 57.0, 59.0, 53.0, 18.0, 53.0, 4.0, 84.0, 93.0, 101.0, 56.0, 57.0, 63.0, 60.0, 60.0, 60.0, 70.0, 90.0, 90.0, 90.0, 91.0, 94.0, 54.0, 90.0, 73.0, 53.0, 174.0, 93.0, 85.0, 128.0, 144.0, 52.0, 88.0, 7.0, 111.0, 72.0, 110.0, 92.0, 159.0, 137.0, 60.0, 76.0, 112.0, 104.0, 102.0, 39.0, 92.0, 68.0, 88.0, 73.0, 48.0, 46.0, 72.0, 86.0, 132.0, 98.0, 19.0, 106.0, 110.0, 93.0, 42.0, 82.0, 93.0, 98.0, 22.0, 59.0, 60.0, 50.0, 125.0, 43.0, 100.0, 81.0, 94.0, 67.0, 78.0, 58.0, 109.0, 80.0, 115.0, 127.0, 70.0, 63.0, 148.0, 132.0, 132.0, 84.0, 48.0, 93.0, 94.0, 76.0, 27.0, 140.0, 118.0, 100.0, 64.0, 75.0, 62.0, 71.0, 101.0, 134.0, 91.0, 0.0, 53.0, 97.0, 78.0, 96.0, 73.0, 149.0, 163.0, 61.0, 138.0, 138.0, 161.0, 38.0, 73.0, 82.0, 91.0, 99.0, 139.0, 92.0, 120.0, 1.0, 87.0, 105.0, 83.0, 159.0, 60.0, 60.0, 113.0, 145.0, 110.0, 69.0, 85.0, 73.0, 58.0, 84.0, 55.0, 98.0, 120.0, 112.0, 90.0, 162.0, 162.0, 32.0, 95.0, 97.0, 47.0, 50.0, 47.0, 53.0, 49.0, 53.0, 46.0, 39.0, 49.0, 50.0, 67.0, 33.0, 41.0, 39.0, 103.0, 97.0, 112.0, 144.0, 91.0, 109.0, 78.0, 101.0, 91.0, 48.0, 126.0, 126.0, 93.0, 86.0, 93.0, 114.0, 65.0, 52.0, 52.0, 45.0, 60.0, 43.0, 56.0, 46.0, 64.0, 97.0, 50.0, 76.0, 147.0, 97.0, 86.0, 95.0, 31.0, 58.0, 62.0, 111.0, 90.0, 90.0, 44.0, 110.0, 61.0, 87.0, 53.0, 53.0, 53.0, 53.0, 53.0, 53.0, 69.0, 80.0, 98.0, 105.0, 155.0, 117.0, 167.0, 125.0, 121.0, 72.0, 66.0, 79.0, 75.0, 60.0, 92.0, 117.0, 93.0, 15.0, 84.0, 99.0, 93.0, 91.0, 106.0, 100.0, 54.0, 53.0, 92.0, 70.0, 57.0, 58.0, 139.0, 90.0, 111.0, 74.0, 69.0, 87.0, 55.0, 125.0, 59.0, 1.0, 1.0, 0.0, 85.0, 109.0, 89.0, 88.0, 87.0, 96.0, 45.0, 51.0, 52.0, 27.0, 30.0, 28.0, 49.0, 25.0, 31.0, 58.0, 120.0, 180.0, 50.0, 90.0, 53.0, 113.0, 117.0, 33.0, 94.0, 61.0, 30.0, 2.0, 3.0, 138.0, 100.0, 88.0, 66.0, 98.0, 96.0, 97.0, 120.0, 71.0, 81.0, 85.0, 89.0, 88.0, 66.0, 89.0, 88.0, 48.0, 42.0, 41.0, 32.0, 57.0, 76.0, 480.0, 541.0, 90.0, 240.0, 136.0, 41.0, 60.0, 78.0, 83.0, 113.0, 61.0, 88.0, 14.0, 67.0, 97.0, 68.0, 101.0, 86.0, 94.0, 135.0, 127.0, 95.0, 138.0, 86.0, 88.0, 42.0, 44.0, 45.0, 43.0, 64.0, 66.0, 70.0, 129.0, 101.0, 178.0, 178.0, 178.0, 178.0, 178.0, 178.0, 89.0, 94.0, 95.0, 90.0, 86.0, 113.0, 33.0, 18.0, 124.0, 104.0, 75.0, 50.0, 82.0, 118.0, 88.0, 106.0, 127.0, 120.0, 85.0, 82.0, 70.0, 106.0, 89.0, 24.0, 107.0, 104.0, 36.0, 82.0, 151.0, 81.0, 171.0, 49.0, 57.0, 111.0, 21.0, 55.0, 92.0, 87.0, 105.0, 126.0, 107.0, 91.0, 93.0, 109.0, 56.0, 172.0, 173.0, 172.0, 83.0, 86.0, 133.0, 90.0, 92.0, 44.0, 61.0, 86.0, 90.0, 94.0, 97.0, 103.0, 80.0, 78.0, 101.0, 108.0, 101.0, 60.0, 88.0, 49.0, 50.0, 95.0, 140.0, 69.0, 50.0, 24.0, 90.0, 133.0, 93.0, 77.0, 139.0, 21.0, 37.0, 33.0, 31.0, 26.0, 33.0, 89.0, 99.0, 55.0, 81.0, 25.0, 120.0, 95.0, 113.0, 34.0, 85.0, 107.0, 91.0, 96.0, 44.0, 50.0, 68.0, 73.0, 55.0, 104.0, 93.0, 67.0, 27.0, 91.0, 38.0, 37.0, 60.0, 7.0, 30.0, 10.0, 9.0, 120.0, 107.0, 92.0, 97.0, 96.0, 90.0, 84.0, 59.0, 59.0, 104.0, 153.0, 90.0, 92.0, 114.0, 114.0, 78.0, 95.0, 91.0, 86.0, 100.0, 55.0, 102.0, 87.0, 53.0, 77.0, 28.0, 30.0, 26.0, 30.0, 92.0, 123.0, 85.0, 57.0, 81.0, 83.0, 68.0, 153.0, 83.0, 65.0, 97.0, 154.0, 127.0, 137.0, 137.0, 58.0, 52.0, 60.0, 166.0, 123.0, 148.0, 137.0, 137.0, 164.0, 160.0, 161.0, 161.0, 53.0, 155.0, 155.0, 154.0, 155.0, 84.0, 100.0, 94.0, 55.0, 60.0, 81.0, 92.0, 60.0, 103.0, 93.0, 60.0, 42.0, 112.0, 75.0, 63.0, 110.0, 95.0, 51.0, 66.0, 66.0, 90.0, 57.0, 58.0, 39.0, 76.0, 60.0, 68.0, 63.0, 62.0, 41.0, 105.0, 57.0, 59.0, 59.0, 94.0, 58.0, 58.0, 58.0, 80.0, 97.0, 84.0, 61.0, 106.0, 63.0, 64.0, 54.0, 130.0, 62.0, 84.0, 65.0, 56.0, 104.0, 54.0, 129.0, 134.0, 91.0, 52.0, 80.0, 104.0, 87.0, 31.0, 77.0, 83.0, 157.0, 57.0, 479.0, 88.0, 118.0, 133.0, 132.0, 82.0, 93.0, 77.0, 140.0, 80.0, 53.0, 120.0, 84.0, 61.0, 105.0, 53.0, 13.0, 103.0, 107.0, 10.0, 63.0, 106.0, 91.0, 89.0, 65.0, 129.0, 104.0, 11.0, 98.0, 100.0, 1.0, 93.0, 90.0, 75.0, 60.0, 126.0, 38.0, 28.0, 86.0, 89.0, 108.0, 84.0, 90.0, 57.0, 54.0, 74.0, 77.0, 98.0, 51.0, 38.0, 80.0, 61.0, 113.0, 61.0, 77.0, 8.0, 68.0, 120.0, 73.0, 52.0, 141.0, 112.0, 56.0, 43.0, 82.0, 57.0, 76.0, 126.0, 92.0, 84.0, 111.0, 38.0, 84.0, 57.0, 90.0, 95.0, 17.0, 72.0, 99.0, 84.0, 103.0, 87.0, 26.0, 85.0, 106.0, 141.0, 86.0, 110.0, 87.0, 70.0, 96.0, 99.0, 56.0, 71.0, 79.0, 106.0, 118.0, 159.0, 56.0, 97.0, 94.0, 58.0, 105.0, 136.0, 99.0, 60.0, 111.0, 114.0, 110.0, 99.0, 108.0, 30.0, 107.0, 85.0, 128.0, 81.0, 85.0, 52.0, 92.0, 35.0, 101.0, 102.0, 104.0, 99.0, 93.0, 100.0, 112.0, 109.0, 85.0, 92.0, 76.0, 120.0, 91.0, 115.0, 139.0, 75.0, 125.0, 46.0, 141.0, 74.0, 70.0, 61.0, 91.0, 82.0, 153.0, 88.0, 99.0, 118.0, 60.0, 95.0, 101.0, 142.0, 85.0, 146.0, 108.0, 83.0, 86.0, 99.0, 26.0, 32.0, 35.0, 20.0, 31.0, 34.0, 32.0, 23.0, 34.0, 92.0, 111.0, 94.0, 135.0, 70.0, 77.0, 92.0, 69.0, 58.0, 68.0, 109.0, 55.0, 65.0, 84.0, 98.0, 93.0, 7.0, 134.0, 138.0, 103.0, 91.0, 87.0, 91.0, 63.0, 541.0, 541.0, 106.0, 119.0, 39.0, 40.0, 48.0, 41.0, 35.0, 40.0, 33.0, 105.0, 87.0, 48.0, 61.0, 58.0, 125.0, 93.0, 58.0, 58.0, 63.0, 58.0, 54.0, 58.0, 58.0, 60.0, 57.0, 53.0, 148.0, 104.0, 108.0, 2.0, 38.0, 20.0, 53.0, 57.0, 94.0, 83.0, 117.0, 86.0, 58.0, 117.0, 74.0, 114.0, 115.0, 86.0, 97.0, 88.0, 75.0, 95.0, 110.0, 58.0, 112.0, 95.0, 75.0, 92.0, 16.0, 89.0, 126.0, 106.0, 106.0, 89.0, 27.0, 60.0, 126.0, 106.0, 112.0, 48.0, 94.0, 114.0, 42.0, 55.0, 90.0, 82.0, 56.0, 95.0, 103.0, 63.0, 50.0, 40.0, 76.0, 116.0, 97.0, 103.0, 77.0, 90.0, 96.0, 101.0, 145.0, 92.0, 98.0, 81.0, 128.0, 34.0, 66.0, 148.0, 71.0, 92.0, 89.0, 58.0, 109.0, 49.0, 39.0, 36.0, 86.0, 87.0, 53.0, 65.0, 91.0, 55.0, 90.0, 78.0, 54.0, 58.0, 94.0, 98.0, 101.0, 60.0, 44.0, 151.0, 93.0, 106.0, 98.0, 60.0, 88.0, 105.0, 100.0, 51.0, 63.0, 66.0, 70.0, 80.0, 133.0, 33.0, 113.0, 102.0, 98.0, 64.0, 59.0, 73.0, 96.0, 95.0, 106.0, 36.0, 106.0, 90.0, 104.0, 72.0, 68.0, 75.0, 141.0, 120.0, 14.0, 153.0, 92.0, 90.0, 82.0, 109.0, 91.0, 39.0, 98.0, 80.0, 59.0, 60.0, 71.0, 61.0, 80.0, 86.0, 82.0, 109.0, 81.0, 72.0, 111.0, 59.0, 97.0, 40.0, 99.0, 101.0, 60.0, 92.0, 59.0, 48.0, 98.0, 87.0, 79.0, 79.0, 98.0, 91.0, 31.0, 95.0, 26.0, 2.0, 83.0, 89.0, 77.0, 110.0, 99.0, 6.0, 56.0, 90.0, 61.0, 86.0, 107.0, 140.0, 129.0, 137.0, 85.0, 94.0, 93.0, 27.0, 53.0, 100.0, 52.0, 91.0, 79.0, 27.0, 94.0, 167.0, 89.0, 100.0, 26.0, 92.0, 92.0, 28.0, 91.0, 94.0, 36.0, 92.0, 94.0, 76.0, 70.0, 107.0, 158.0, 158.0, 158.0, 59.0, 84.0, 78.0, 65.0, 85.0, 97.0, 55.0, 61.0, 76.0, 43.0, 82.0, 58.0, 53.0, 55.0, 42.0, 87.0, 52.0, 100.0, 56.0, 10.0, 80.0, 90.0, 94.0, 62.0, 103.0, 97.0, 89.0, 107.0, 82.0, 90.0, 92.0, 100.0, 58.0, 129.0, 73.0, 58.0, 95.0, 53.0, 135.0, 102.0, 68.0, 90.0, 79.0, 131.0, 3.0, 72.0, 95.0, 54.0, 100.0, 10.0, 56.0, 105.0, 88.0, 66.0, 96.0, 93.0, 85.0, 74.0, 4.0, 183.0, 12.0, 89.0, 72.0, 48.0, 35.0, 27.0, 35.0, 90.0, 83.0, 92.0, 126.0, 79.0, 89.0, 37.0, 88.0, 88.0, 93.0, 20.0, 93.0, 22.0, 89.0, 61.0, 61.0, 71.0, 132.0, 93.0, 91.0, 119.0, 76.0, 53.0, 92.0, 107.0, 83.0, 97.0, 88.0, 89.0, 80.0, 136.0, 62.0, 79.0, 103.0, 93.0, 97.0, 101.0, 107.0, 94.0, 88.0, 30.0, 52.0, 122.0, 97.0, 116.0, 59.0, 183.0, 85.0, 90.0, 83.0, 53.0, 78.0, 96.0, 74.0, 53.0, 76.0, 83.0, 104.0, 71.0, 52.0, 97.0, 96.0, 84.0, 97.0, 95.0, 98.0, 98.0, 90.0, 106.0, 58.0, 78.0, 90.0, 84.0, 95.0, 31.0, 49.0, 97.0, 21.0, 120.0, 102.0, 58.0, 64.0, 46.0, 69.0, 30.0, 85.0, 78.0, 88.0, 10.0, 114.0, 82.0, 65.0, 30.0, 102.0, 61.0, 60.0, 89.0, 77.0, 105.0, 103.0, 78.0, 62.0, 62.0, 111.0, 145.0, 102.0, 59.0, 88.0, 90.0, 69.0, 44.0, 64.0, 62.0, 57.0, 65.0, 55.0, 109.0, 51.0, 101.0, 91.0, 79.0, 89.0, 94.0, 100.0, 62.0, 87.0, 67.0, 29.0, 71.0, 48.0, 92.0, 40.0, 86.0, 67.0, 92.0, 94.0, 137.0, 98.0, 75.0, 39.0, 105.0, 70.0, 55.0, 101.0, 91.0, 97.0, 48.0, 86.0, 76.0, 90.0, 120.0, 30.0, 86.0, 71.0, 108.0, 81.0, 56.0, 178.0, 77.0, 80.0, 30.0, 110.0, 98.0, 141.0, 155.0, 137.0, 82.0, 110.0, 62.0, 54.0, 99.0, 104.0, 114.0, 86.0, 60.0, 90.0, 96.0, 122.0, 82.0, 87.0, 54.0, 99.0, 64.0, 81.0, 50.0, 96.0, 83.0, 102.0, 73.0, 30.0, 60.0, 30.0, 60.0, 62.0, 59.0, 89.0, 95.0, 129.0, 87.0, 96.0, 124.0, 96.0, 139.0, 71.0, 96.0, 76.0, 78.0, 102.0, 60.0, 46.0, 98.0, 164.0, 88.0, 78.0, 84.0, 92.0, 83.0, 101.0, 93.0, 85.0, 91.0, 90.0, 100.0, 63.0, 72.0, 25.0, 48.0, 12.0, 84.0, 106.0, 60.0, 148.0, 5.0, 87.0, 112.0, 46.0, 31.0, 59.0, 90.0, 99.0, 112.0, 37.0, 91.0, 54.0, 82.0, 131.0, 21.0, 22.0, 21.0, 21.0, 23.0, 22.0, 21.0, 22.0, 21.0, 60.0, 90.0, 30.0, 62.0, 61.0, 42.0, 87.0, 74.0, 113.0, 54.0, 51.0, 86.0, 98.0, 107.0, 102.0, 140.0, 81.0, 103.0, 87.0, 99.0, 77.0, 82.0, 47.0, 108.0, 90.0, 146.0, 101.0, 100.0, 59.0, 109.0, 47.0, 46.0, 87.0, 94.0, 74.0, 82.0, 94.0, 118.0, 89.0, 60.0, 53.0, 53.0, 114.0, 54.0, 52.0, 54.0, 114.0, 53.0, 117.0, 138.0, 24.0, 31.0, 76.0, 89.0, 148.0, 104.0, 7.0, 85.0, 60.0, 54.0, 62.0, 88.0, 83.0, 89.0, 113.0, 64.0, 107.0, 101.0, 67.0, 101.0, 48.0, 87.0, 106.0, 90.0, 70.0, 95.0, 145.0, 133.0, 87.0, 90.0, 51.0, 140.0, 61.0, 111.0, 86.0, 57.0, 100.0, 97.0, 89.0, 27.0, 89.0, 17.0, 150.0, 65.0, 127.0, 86.0, 82.0, 89.0, 73.0, 93.0, 93.0, 6.0, 3.0, 60.0, 60.0, 60.0, 60.0, 137.0, 91.0, 113.0, 94.0, 63.0, 81.0, 93.0, 56.0, 89.0, 122.0, 60.0, 73.0, 89.0, 89.0, 108.0, 60.0, 60.0, 87.0, 110.0, 85.0, 77.0, 84.0, 74.0, 133.0, 105.0, 92.0, 51.0, 51.0, 112.0, 96.0, 91.0, 106.0, 97.0, 94.0, 57.0, 87.0, 89.0, 86.0, 101.0, 100.0, 112.0, 91.0, 102.0, 92.0, 30.0, 104.0, 74.0, 10.0, 541.0, 8.0, 481.0, 480.0, 89.0, 104.0, 7.0, 89.0, 6.0, 98.0, 108.0, 83.0, 5.0, 45.0, 81.0, 85.0, 92.0, 83.0, 90.0, 94.0, 30.0, 80.0, 30.0, 30.0, 30.0, 30.0, 30.0, 30.0, 30.0, 30.0, 30.0, 100.0, 10.0, 71.0, 108.0, 99.0, 92.0, 55.0, 141.0, 141.0, 141.0, 48.0, 52.0, 16.0, 22.0, 20.0, 21.0, 19.0, 21.0, 22.0, 21.0, 19.0, 19.0, 17.0, 17.0, 17.0, 20.0, 18.0, 20.0, 18.0, 20.0, 25.0, 20.0, 22.0, 22.0, 18.0, 20.0, 20.0, 19.0, 20.0, 22.0, 22.0, 22.0, 18.0, 23.0, 17.0, 19.0, 19.0, 20.0, 20.0, 18.0, 24.0, 21.0, 21.0, 15.0, 98.0, 15.0, 15.0, 15.0, 15.0, 106.0, 90.0, 104.0, 109.0, 23.0, 31.0, 75.0, 84.0, 101.0, 101.0, 106.0, 91.0, 92.0, 120.0, 91.0, 67.0, 80.0, 87.0, 52.0, 111.0, 52.0, 67.0, 106.0, 89.0, 109.0, 149.0, 91.0, 119.0, 92.0, 120.0, 100.0, 99.0, 44.0, 101.0, 96.0, 89.0, 91.0, 96.0, 101.0, 92.0, 91.0, 102.0, 100.0, 94.0, 92.0, 91.0, 64.0, 81.0, 103.0, 88.0, 147.0, 97.0, 150.0, 107.0, 95.0, 85.0, 105.0, 98.0, 91.0, 95.0, 97.0, 88.0, 105.0, 81.0, 98.0, 116.0, 94.0, 94.0, 91.0, 80.0, 114.0, 181.0, 87.0, 94.0, 91.0, 4.0, 93.0, 96.0, 88.0, 80.0, 86.0, 106.0, 103.0, 25.0, 61.0, 124.0, 124.0, 142.0, 70.0, 121.0, 82.0, 156.0, 52.0, 92.0, 53.0, 105.0, 74.0, 110.0, 97.0, 47.0, 94.0, 90.0, 94.0, 95.0, 87.0, 108.0, 88.0, 88.0, 89.0, 67.0, 102.0, 92.0, 99.0, 111.0, 70.0, 84.0, 540.0, 105.0, 93.0, 169.0, 59.0, 139.0, 89.0, 111.0, 123.0, 114.0, 111.0, 86.0, 50.0, 13.0, 105.0, 52.0, 61.0, 88.0, 57.0, 91.0, 83.0, 145.0, 90.0, 96.0, 139.0, 102.0, 96.0, 94.0, 480.0, 59.0, 32.0, 61.0, 73.0, 82.0, 71.0, 88.0, 90.0, 96.0, 94.0, 129.0, 77.0, 90.0, 89.0, 49.0, 88.0, 139.0, 88.0, 108.0, 121.0, 107.0, 89.0, 107.0, 146.0, 106.0, 85.0, 100.0, 86.0, 58.0, 58.0, 58.0, 34.0, 84.0, 73.0, 89.0, 138.0, 57.0, 91.0, 112.0, 50.0, 55.0, 101.0, 88.0, 87.0, 86.0, 139.0, 107.0, 105.0, 150.0, 21.0, 82.0, 95.0, 42.0, 94.0, 118.0, 85.0, 89.0, 74.0, 107.0, 90.0, 140.0, 89.0, 110.0, 91.0, 89.0, 89.0, 97.0, 98.0, 96.0, 97.0, 133.0, 129.0, 92.0, 118.0, 106.0, 120.0, 89.0, 92.0, 153.0, 112.0, 82.0, 97.0, 540.0, 96.0, 94.0, 57.0, 52.0, 62.0, 68.0, 84.0, 71.0, 116.0, 94.0, 108.0, 110.0, 101.0, 90.0, 103.0, 133.0, 58.0, 103.0, 141.0, 177.0, 99.0, 104.0, 67.0, 86.0, 94.0, 96.0, 103.0, 95.0, 60.0, 95.0, 53.0, 81.0, 81.0, 64.0, 135.0, 63.0, 155.0, 82.0, 57.0, 58.0, 69.0, 94.0, 103.0, 89.0, 151.0, 131.0, 89.0, 113.0, 97.0, 90.0, 550.0, 78.0, 99.0, 116.0, 90.0, 105.0, 57.0, 63.0, 154.0, 59.0, 133.0, 145.0, 87.0, 53.0, 100.0, 112.0, 96.0, 136.0, 109.0, 98.0, 85.0, 86.0, 103.0, 104.0, 89.0, 118.0, 93.0, 480.0, 115.0, 58.0, 86.0, 96.0, 90.0, 89.0, 156.0, 133.0, 60.0, 79.0, 78.0, 92.0, 130.0, 148.0, 59.0, 140.0, 90.0, 91.0, 135.0, 102.0, 96.0, 58.0, 119.0, 78.0, 109.0, 485.0, 75.0, 139.0, 118.0, 90.0, 540.0, 109.0, 83.0, 58.0, 69.0, 49.0, 101.0, 102.0, 31.0, 54.0, 103.0, 56.0, 139.0, 99.0, 105.0, 106.0, 86.0, 84.0, 59.0, 71.0, 90.0, 93.0, 89.0, 107.0, 87.0, 86.0, 81.0, 87.0, 87.0, 109.0, 20.0, 23.0, 17.0, 18.0, 150.0, 111.0, 88.0, 31.0, 105.0, 86.0, 96.0, 93.0, 100.0, 108.0, 100.0, 93.0, 95.0, 154.0, 69.0, 94.0, 98.0, 91.0, 43.0, 240.0, 60.0, 89.0, 30.0, 108.0, 104.0, 75.0, 103.0, 85.0, 38.0, 106.0, 129.0, 62.0, 136.0, 28.0, 95.0, 127.0, 69.0, 101.0, 69.0, 83.0, 48.0, 88.0, 108.0, 82.0, 98.0, 147.0, 79.0, 81.0, 90.0, 42.0, 88.0, 82.0, 101.0, 34.0, 103.0, 105.0, 149.0, 55.0, 64.0, 88.0, 60.0, 55.0, 79.0, 42.0, 95.0, 101.0, 94.0, 105.0, 88.0, 81.0, 114.0, 114.0, 52.0, 15.0, 71.0, 42.0, 81.0, 81.0, 54.0, 112.0, 69.0, 148.0, 95.0, 82.0, 58.0, 112.0, 115.0, 52.0, 60.0, 56.0, 57.0, 109.0, 151.0, 91.0, 18.0, 18.0, 22.0, 88.0, 89.0, 107.0, 85.0, 76.0, 90.0, 109.0, 46.0, 90.0, 152.0, 93.0, 100.0, 89.0, 89.0, 94.0, 95.0, 90.0, 145.0, 107.0, 90.0, 97.0, 76.0, 83.0, 59.0, 87.0, 125.0, 87.0, 110.0, 35.0, 88.0, 93.0, 85.0, 111.0, 89.0, 90.0, 72.0, 92.0, 53.0, 119.0, 84.0, 44.0, 49.0, 90.0, 86.0, 90.0, 541.0, 87.0, 176.0, 120.0, 82.0, 89.0, 95.0, 61.0, 105.0, 90.0, 120.0, 113.0, 90.0, 159.0, 94.0, 97.0, 136.0, 89.0, 116.0, 50.0, 55.0, 91.0, 95.0, 95.0, 115.0, 99.0, 81.0, 88.0, 108.0, 481.0, 33.0, 96.0, 100.0, 99.0, 35.0, 57.0, 86.0, 80.0, 541.0, 96.0, 111.0, 95.0, 136.0, 94.0, 85.0, 109.0, 94.0, 49.0, 109.0, 62.0, 57.0, 102.0, 46.0, 111.0, 82.0, 95.0, 74.0, 140.0, 90.0, 44.0, 98.0, 88.0, 120.0, 98.0, 89.0, 121.0, 89.0, 29.0, 83.0, 54.0, 84.0, 42.0, 89.0, 60.0, 120.0, 97.0, 102.0, 81.0, 26.0, 102.0, 65.0, 136.0, 93.0, 86.0, 88.0, 30.0, 18.0, 23.0, 20.0, 103.0, 102.0, 137.0, 81.0, 115.0, 114.0, 61.0, 90.0, 64.0, 106.0, 61.0, 102.0, 51.0, 49.0, 53.0, 85.0, 37.0, 47.0, 114.0, 117.0, 88.0, 99.0, 56.0, 59.0, 27.0, 87.0, 98.0, 109.0, 18.0, 22.0, 134.0, 104.0, 94.0, 97.0, 135.0, 124.0, 67.0, 94.0, 59.0, 96.0, 90.0, 51.0, 88.0, 57.0, 86.0, 80.0, 88.0, 91.0, 97.0, 10.0, 105.0, 45.0, 133.0, 49.0, 96.0, 27.0, 88.0, 97.0, 34.0, 57.0, 75.0, 101.0, 147.0, 106.0, 98.0, 94.0, 103.0, 26.0, 87.0, 96.0, 97.0, 95.0, 94.0, 140.0, 92.0, 90.0, 19.0, 21.0, 159.0, 75.0, 140.0, 102.0, 55.0, 108.0, 87.0, 129.0, 114.0, 58.0, 84.0, 87.0, 115.0, 541.0, 79.0, 91.0, 87.0, 75.0, 146.0, 47.0, 80.0, 130.0, 53.0, 91.0, 76.0, 94.0, 41.0, 90.0, 94.0, 99.0, 60.0, 64.0, 98.0, 81.0, 88.0, 81.0, 129.0, 115.0, 54.0, 80.0, 83.0, 30.0, 93.0, 84.0, 89.0, 99.0, 67.0, 61.0, 65.0, 70.0, 41.0, 42.0, 100.0, 96.0, 86.0, 115.0, 131.0, 59.0, 108.0, 119.0, 89.0, 88.0, 104.0, 118.0, 74.0, 69.0, 111.0, 75.0, 88.0, 74.0, 82.0, 144.0, 92.0, 142.0, 64.0, 67.0, 93.0, 88.0, 114.0, 82.0, 89.0, 89.0, 103.0, 88.0, 60.0, 80.0, 159.0, 159.0, 91.0, 86.0, 97.0, 145.0, 60.0, 193.0, 169.0, 104.0, 60.0, 132.0, 59.0, 29.0, 54.0, 49.0, 132.0, 119.0, 90.0, 77.0, 89.0, 95.0, 128.0, 70.0, 109.0, 83.0, 97.0, 120.0, 83.0, 82.0, 103.0, 53.0, 83.0, 91.0, 99.0, 45.0, 118.0, 81.0, 131.0, 90.0, 134.0, 158.0, 88.0, 89.0, 84.0, 108.0, 102.0, 154.0, 93.0, 96.0, 87.0, 104.0, 84.0, 79.0, 86.0, 85.0, 86.0, 78.0, 161.0, 92.0, 68.0, 56.0, 113.0, 151.0, 133.0, 94.0, 86.0, 80.0, 58.0, 55.0, 55.0, 136.0, 41.0, 107.0, 75.0, 94.0, 110.0, 116.0, 115.0, 85.0, 99.0, 95.0, 89.0, 104.0, 51.0, 94.0, 123.0, 56.0, 133.0, 102.0, 87.0, 95.0, 103.0, 94.0, 118.0, 95.0, 84.0, 102.0, 104.0, 100.0, 93.0, 94.0, 122.0, 93.0, 59.0, 82.0, 59.0, 93.0, 87.0, 54.0, 88.0, 111.0, 62.0, 131.0, 88.0, 106.0, 123.0, 109.0, 85.0, 86.0, 37.0, 85.0, 146.0, 95.0, 104.0, 60.0, 69.0, 85.0, 144.0, 98.0, 118.0, 106.0, 101.0, 105.0, 104.0, 134.0, 99.0, 151.0, 83.0, 83.0, 101.0, 96.0, 82.0, 95.0, 83.0, 84.0, 92.0, 117.0, 97.0, 77.0, 87.0, 99.0, 103.0, 1.0, 45.0, 88.0, 90.0, 78.0, 100.0, 82.0, 98.0, 143.0, 88.0, 88.0, 29.0, 61.0, 93.0, 48.0, 83.0, 87.0, 87.0, 98.0, 122.0, 88.0, 37.0, 70.0, 119.0, 107.0, 92.0, 97.0, 57.0, 85.0, 83.0, 70.0, 97.0, 89.0, 165.0, 165.0, 85.0, 99.0, 480.0, 171.0, 170.0, 66.0, 58.0, 91.0, 40.0, 85.0, 125.0, 51.0, 122.0, 51.0, 89.0, 71.0, 102.0, 111.0, 110.0, 91.0, 99.0, 541.0, 109.0, 86.0, 55.0, 128.0, 55.0, 177.0, 133.0, 91.0, 100.0, 79.0, 106.0, 75.0, 107.0, 64.0, 90.0, 163.0, 73.0, 131.0, 87.0, 87.0, 104.0, 18.0, 13.0, 91.0, 100.0, 88.0, 57.0, 96.0, 116.0, 5.0, 122.0, 57.0, 175.0, 165.0, 66.0, 131.0, 141.0, 84.0, 74.0, 100.0, 99.0, 124.0, 126.0, 86.0, 78.0, 116.0, 98.0, 6.0, 122.0, 88.0, 132.0, 131.0, 133.0, 89.0, 90.0, 87.0, 94.0, 118.0, 105.0, 126.0, 51.0, 79.0, 86.0, 95.0, 152.0, 74.0, 100.0, 100.0, 89.0, 50.0, 107.0, 97.0, 85.0, 105.0, 88.0, 125.0, 96.0, 99.0, 65.0, 135.0, 61.0, 70.0, 127.0, 111.0, 130.0, 98.0, 146.0, 100.0, 102.0, 96.0, 89.0, 86.0, 47.0, 90.0, 87.0, 92.0, 72.0, 63.0, 137.0, 78.0, 167.0, 80.0, 81.0, 86.0, 45.0, 89.0, 0.0, 109.0, 89.0, 153.0, 109.0, 89.0, 89.0, 91.0, 86.0, 126.0, 87.0, 103.0, 145.0, 111.0, 69.0, 90.0, 74.0, 110.0, 98.0, 114.0, 45.0, 61.0, 77.0, 85.0, 167.0, 96.0, 87.0, 46.0, 118.0, 80.0, 79.0, 122.0, 93.0, 97.0, 99.0, 94.0, 137.0, 80.0, 102.0, 99.0, 130.0, 101.0, 78.0, 122.0, 88.0, 81.0, 87.0, 78.0, 79.0, 102.0, 85.0, 112.0, 90.0, 95.0, 69.0, 94.0, 77.0, 71.0, 70.0, 109.0, 85.0, 61.0, 92.0, 95.0, 103.0, 79.0, 80.0, 110.0, 77.0, 126.0, 89.0, 112.0, 90.0, 84.0, 88.0, 100.0, 86.0, 84.0, 118.0, 113.0, 106.0, 74.0, 112.0, 92.0, 71.0, 104.0, 138.0, 88.0, 13.0, 121.0, 94.0, 142.0, 90.0, 93.0, 92.0, 99.0, 80.0, 91.0, 97.0, 139.0, 78.0, 79.0, 87.0, 104.0, 133.0, 105.0, 81.0, 98.0, 91.0, 112.0, 79.0, 60.0, 89.0, 142.0, 60.0, 79.0, 105.0, 91.0, 85.0, 89.0, 14.0, 21.0, 59.0, 143.0, 133.0, 93.0, 56.0, 100.0, 99.0, 100.0, 100.0, 48.0, 90.0, 79.0, 41.0, 54.0, 84.0, 129.0, 31.0, 74.0, 98.0, 81.0, 64.0, 94.0, 94.0, 75.0, 15.0, 80.0, 93.0, 90.0, 103.0, 80.0, 117.0, 93.0, 40.0, 85.0, 91.0, 24.0, 99.0, 114.0, 99.0, 94.0, 163.0, 127.0, 106.0, 170.0, 89.0, 117.0, 86.0, 112.0, 52.0, 71.0, 104.0, 96.0, 92.0, 93.0, 91.0, 102.0, 80.0, 101.0, 54.0, 86.0, 59.0, 94.0, 102.0, 109.0, 87.0, 61.0, 52.0, 92.0, 2.0, 75.0, 82.0, 48.0, 71.0, 76.0, 73.0, 97.0, 45.0, 23.0, 540.0, 150.0, 92.0, 87.0, 96.0, 92.0, 156.0, 85.0, 117.0, 92.0, 51.0, 51.0, 52.0, 52.0, 58.0, 52.0, 52.0, 149.0, 95.0, 136.0, 89.0, 129.0, 138.0, 53.0, 139.0, 41.0, 137.0, 22.0, 107.0, 93.0, 16.0, 150.0, 112.0, 78.0, 113.0, 100.0, 84.0, 105.0, 99.0, 82.0, 43.0, 97.0, 94.0, 120.0, 118.0, 100.0, 131.0, 99.0, 118.0, 108.0, 33.0, 63.0, 44.0, 109.0, 111.0, 80.0, 85.0, 103.0, 75.0, 104.0, 114.0, 83.0, 92.0, 91.0, 132.0, 98.0, 117.0, 86.0, 110.0, 105.0, 131.0, 89.0, 91.0, 91.0, 129.0, 92.0, 123.0, 93.0, 92.0, 67.0, 80.0, 124.0, 85.0, 89.0, 151.0, 88.0, 91.0, 61.0, 118.0, 107.0, 109.0, 86.0, 131.0, 28.0, 69.0, 148.0, 91.0, 87.0, 81.0, 102.0, 117.0, 59.0, 104.0, 92.0, 80.0, 93.0, 45.0, 158.0, 86.0, 139.0, 85.0, 87.0, 45.0, 94.0, 101.0, 91.0, 95.0, 94.0, 150.0, 92.0, 101.0, 91.0, 83.0, 92.0, 90.0, 83.0, 124.0, 139.0, 116.0, 105.0, 21.0, 130.0, 105.0, 15.0, 131.0, 50.0, 59.0, 86.0, 104.0, 49.0, 65.0, 155.0, 84.0, 86.0, 76.0, 103.0, 87.0, 58.0, 93.0, 120.0, 113.0, 82.0, 81.0, 18.0, 129.0, 85.0, 114.0, 75.0, 19.0, 98.0, 103.0, 74.0, 101.0, 84.0, 93.0, 82.0, 98.0, 157.0, 104.0, 85.0, 77.0, 109.0, 75.0, 104.0, 125.0, 90.0, 47.0, 51.0, 36.0, 118.0, 93.0, 152.0, 79.0, 92.0, 86.0, 94.0, 88.0, 96.0, 43.0, 100.0, 91.0, 87.0, 58.0, 60.0, 79.0, 92.0, 141.0, 27.0, 58.0, 44.0, 36.0, 88.0, 147.0, 92.0, 120.0, 89.0, 57.0, 105.0, 83.0, 104.0, 98.0, 127.0, 138.0, 147.0, 139.0, 0.0, 95.0, 9.0, 108.0, 101.0, 99.0, 127.0, 100.0, 31.0, 73.0, 138.0, 106.0, 158.0, 82.0, 98.0, 102.0, 92.0, 79.0, 12.0, 109.0, 89.0, 86.0, 46.0, 89.0, 91.0, 0.0, 75.0, 125.0, 91.0, 96.0, 164.0, 88.0, 89.0, 78.0, 92.0, 30.0, 96.0, 36.0, 102.0, 90.0, 45.0, 107.0, 75.0, 81.0, 96.0, 541.0, 99.0, 88.0, 82.0, 73.0, 107.0, 123.0, 111.0, 120.0, 125.0, 171.0, 30.0, 34.0, 171.0, 29.0, 65.0, 55.0, 88.0, 44.0, 104.0, 97.0, 154.0, 120.0, 130.0, 150.0, 156.0, 123.0, 147.0, 131.0, 180.0, 126.0, 152.0, 130.0, 158.0, 122.0, 150.0, 164.0, 128.0, 142.0, 123.0, 132.0, 99.0, 135.0, 45.0, 120.0, 126.0, 105.0, 105.0, 117.0, 139.0, 169.0, 90.0, 113.0, 136.0, 91.0, 188.0, 118.0, 187.0, 105.0, 173.0, 143.0, 162.0, 129.0, 176.0, 143.0, 128.0, 116.0, 116.0, 118.0, 150.0, 136.0, 168.0, 138.0, 169.0, 190.0, 146.0, 104.0, 152.0, 138.0, 177.0, 146.0, 180.0, 128.0, 130.0, 139.0, 139.0, 152.0, 156.0, 119.0, 138.0, 143.0, 150.0, 141.0, 99.0, 128.0, 50.0, 87.0, 78.0, 93.0, 141.0, 86.0, 53.0, 110.0, 87.0, 48.0, 95.0, 48.0, 47.0, 77.0, 95.0, 33.0, 130.0, 98.0, 30.0, 28.0, 21.0, 11.0, 121.0, 48.0, 91.0, 32.0, 31.0, 102.0, 131.0, 58.0, 76.0, 99.0, 160.0, 144.0, 80.0, 25.0, 112.0, 34.0, 31.0, 97.0, 37.0, 110.0, 97.0, 49.0, 31.0, 32.0, 126.0, 117.0, 22.0, 21.0, 21.0, 54.0, 37.0, 112.0, 89.0, 20.0, 79.0, 104.0, 94.0, 89.0, 10.0, 99.0, 98.0, 91.0, 42.0, 125.0, 115.0, 92.0, 97.0, 42.0, 91.0, 83.0, 41.0, 59.0, 97.0, 75.0, 110.0, 166.0, 118.0, 115.0, 113.0, 82.0, 90.0, 91.0, 91.0, 71.0, 44.0, 119.0, 89.0, 33.0, 84.0, 29.0, 117.0, 28.0, 98.0, 87.0, 23.0, 96.0, 122.0, 88.0, 127.0, 134.0, 10.0, 112.0, 94.0, 111.0, 129.0, 159.0, 117.0, 86.0, 30.0, 80.0, 81.0, 165.0, 51.0, 104.0, 171.0, 160.0, 80.0, 88.0, 97.0, 102.0, 87.0, 63.0, 116.0, 118.0, 142.0, 79.0, 97.0, 137.0, 105.0, 9.0, 136.0, 149.0, 111.0, 86.0, 76.0, 10.0, 83.0, 59.0, 35.0, 29.0, 9.0, 96.0, 21.0, 44.0, 75.0, 92.0, 118.0, 97.0, 96.0, 93.0, 116.0, 88.0, 70.0, 87.0, 96.0, 71.0, 70.0, 86.0, 87.0, 91.0, 71.0, 114.0, 97.0, 71.0, 101.0, 80.0, 46.0, 97.0, 94.0, 140.0, 92.0, 112.0, 94.0, 98.0, 81.0, 44.0, 98.0, 71.0, 107.0, 89.0, 82.0, 87.0, 98.0, 118.0, 83.0, 111.0, 124.0, 84.0, 89.0, 109.0, 44.0, 93.0, 109.0, 98.0, 95.0, 106.0, 87.0, 17.0, 84.0, 62.0, 82.0, 101.0, 71.0, 95.0, 120.0, 86.0, 56.0, 101.0, 106.0, 90.0, 48.0, 100.0, 113.0, 92.0, 94.0, 94.0, 117.0, 88.0, 72.0, 52.0, 89.0, 91.0, 85.0, 86.0, 44.0, 94.0, 99.0, 59.0, 114.0, 86.0, 49.0, 66.0, 36.0, 35.0, 52.0, 84.0, 119.0, 98.0, 120.0, 84.0, 85.0, 87.0, 109.0, 90.0, 52.0, 97.0, 108.0, 100.0, 109.0, 93.0, 92.0, 58.0, 135.0, 84.0, 109.0, 88.0, 22.0, 19.0, 59.0, 105.0, 86.0, 21.0, 114.0, 85.0, 89.0, 133.0, 95.0, 85.0, 103.0, 119.0, 95.0, 104.0, 87.0, 146.0, 27.0, 138.0, 78.0, 106.0, 121.0, 36.0, 81.0, 12.0, 52.0, 107.0, 94.0, 95.0, 99.0, 92.0, 84.0, 83.0, 117.0, 71.0, 90.0, 46.0, 49.0, 32.0, 95.0, 95.0, 116.0, 129.0, 58.0, 97.0, 114.0, 101.0, 109.0, 130.0, 86.0, 98.0, 105.0, 118.0, 119.0, 104.0, 96.0, 101.0, 120.0, 87.0, 86.0, 79.0, 91.0, 91.0, 105.0, 90.0, 88.0, 108.0, 90.0, 92.0, 125.0, 95.0, 106.0, 73.0, 94.0, 92.0, 72.0, 90.0, 86.0, 150.0, 85.0, 61.0, 130.0, 75.0, 82.0, 80.0, 127.0, 51.0, 149.0, 0.0, 72.0, 22.0, 138.0, 85.0, 72.0, 113.0, 81.0, 91.0, 79.0, 92.0, 95.0, 88.0, 81.0, 83.0, 86.0, 82.0, 100.0, 108.0, 61.0, 89.0, 89.0, 72.0, 11.0, 52.0, 65.0, 107.0, 125.0, 80.0, 50.0, 86.0, 106.0, 115.0, 125.0, 125.0, 47.0, 91.0, 30.0, 40.0, 41.0, 100.0, 52.0, 38.0, 41.0, 34.0, 53.0, 23.0, 25.0, 91.0, 92.0, 105.0, 86.0, 104.0, 98.0, 88.0, 87.0, 101.0, 90.0, 143.0, 91.0, 117.0, 99.0, 75.0, 70.0, 145.0, 97.0, 99.0, 41.0, 103.0, 15.0, 92.0, 121.0, 99.0, 62.0, 80.0, 87.0, 118.0, 93.0, 151.0, 65.0, 128.0, 84.0, 103.0, 71.0, 137.0, 89.0, 125.0, 94.0, 95.0, 97.0, 87.0, 41.0, 50.0, 52.0, 75.0, 13.0, 116.0, 132.0, 117.0, 80.0, 89.0, 87.0, 68.0, 146.0, 79.0, 72.0, 101.0, 15.0, 84.0, 104.0, 73.0, 48.0, 101.0, 145.0, 125.0, 97.0, 88.0, 82.0, 97.0, 83.0, 86.0, 99.0, 70.0, 83.0, 94.0, 99.0, 95.0, 99.0, 120.0, 151.0, 129.0, 94.0, 73.0, 158.0, 86.0, 88.0, 85.0, 132.0, 88.0, 112.0, 86.0, 52.0, 116.0, 53.0, 152.0, 92.0, 59.0, 87.0, 117.0, 119.0, 91.0, 94.0, 110.0, 134.0, 148.0, 44.0, 100.0, 90.0, 57.0, 74.0, 66.0, 53.0, 53.0, 124.0, 84.0, 23.0, 30.0, 31.0, 70.0, 91.0, 114.0, 88.0, 90.0, 102.0, 16.0, 82.0, 92.0, 107.0, 87.0, 91.0, 22.0, 91.0, 13.0, 83.0, 14.0, 15.0, 131.0, 90.0, 143.0, 97.0, 86.0, 79.0, 20.0, 20.0, 22.0, 126.0, 23.0, 97.0, 70.0, 185.0, 81.0, 26.0, 136.0, 138.0, 209.0, 192.0, 86.0, 126.0, 131.0, 85.0, 131.0, 14.0, 135.0, 23.0, 149.0, 10.0, 144.0, 86.0, 13.0, 117.0, 82.0, 165.0, 170.0, 82.0, 54.0, 72.0, 81.0, 14.0, 11.0, 16.0, 112.0, 131.0, 155.0, 99.0, 79.0, 136.0, 15.0, 174.0, 86.0, 96.0, 81.0, 90.0, 106.0, 98.0, 72.0, 94.0, 111.0, 71.0, 156.0, 82.0, 126.0, 96.0, 131.0, 60.0, 25.0, 88.0, 86.0, 62.0, 157.0, 86.0, 111.0, 132.0, 117.0, 158.0, 100.0, 133.0, 45.0, 91.0, 93.0, 85.0, 83.0, 102.0, 17.0, 51.0, 92.0, 52.0, 90.0, 128.0, 165.0, 121.0, 90.0, 154.0, 91.0, 96.0, 78.0, 85.0, 121.0, 110.0, 110.0, 95.0, 83.0, 101.0, 87.0, 99.0, 50.0, 91.0, 93.0, 118.0, 109.0, 96.0, 61.0, 89.0, 133.0, 89.0, 47.0, 90.0, 100.0, 56.0, 87.0, 98.0, 98.0, 106.0, 111.0, 61.0, 86.0, 64.0, 99.0, 92.0, 115.0, 102.0, 82.0, 69.0, 77.0, 82.0, 123.0, 160.0, 90.0, 84.0, 89.0, 122.0, 133.0, 72.0, 108.0, 113.0, 144.0, 84.0, 133.0, 83.0, 21.0, 120.0, 43.0, 104.0, 82.0, 119.0, 116.0, 82.0, 93.0, 112.0, 14.0, 120.0, 122.0, 98.0, 101.0, 99.0, 19.0, 105.0, 91.0, 100.0, 107.0, 98.0, 111.0, 133.0, 79.0, 80.0, 92.0, 88.0, 91.0, 31.0, 60.0, 77.0, 114.0, 58.0, 40.0, 84.0, 149.0, 91.0, 107.0, 81.0, 80.0, 46.0, 98.0, 98.0, 70.0, 42.0, 85.0, 102.0, 77.0, 138.0, 42.0, 112.0, 127.0, 43.0, 43.0, 9.0, 85.0, 157.0, 48.0, 96.0, 95.0, 120.0, 124.0, 37.0, 46.0, 48.0, 107.0, 29.0, 52.0, 73.0, 127.0, 88.0, 42.0, 91.0, 106.0, 91.0, 102.0, 90.0, 108.0, 96.0, 86.0, 93.0, 95.0, 91.0, 114.0, 86.0, 107.0, 99.0, 81.0, 83.0, 125.0, 88.0, 71.0, 89.0, 79.0, 70.0, 114.0, 89.0, 67.0, 97.0, 91.0, 109.0, 101.0, 82.0, 86.0, 106.0, 0.0, 96.0, 172.0, 52.0, 89.0, 100.0, 41.0, 91.0, 64.0, 113.0, 88.0, 70.0, 67.0, 79.0, 47.0, 97.0, 100.0, 106.0, 71.0, 101.0, 118.0, 112.0, 34.0, 102.0, 54.0, 96.0, 107.0, 84.0, 109.0, 109.0, 90.0, 98.0, 96.0, 70.0, 77.0, 91.0, 109.0, 68.0, 175.0, 97.0, 94.0, 103.0, 82.0, 91.0, 138.0, 121.0, 82.0, 84.0, 103.0, 75.0, 106.0, 45.0, 30.0, 87.0, 122.0, 36.0, 82.0, 104.0, 115.0, 93.0, 107.0, 70.0, 131.0, 88.0, 119.0, 50.0, 87.0, 91.0, 101.0, 96.0, 158.0, 60.0, 60.0, 60.0, 56.0, 75.0, 89.0, 104.0, 99.0, 145.0, 113.0, 63.0, 97.0, 103.0, 61.0, 140.0, 116.0, 22.0, 71.0, 80.0, 105.0, 72.0, 45.0, 75.0, 46.0, 5.0, 49.0, 92.0, 147.0, 75.0, 65.0, 153.0, 102.0, 96.0, 23.0, 99.0, 94.0, 78.0, 10.0, 82.0, 102.0, 74.0, 80.0, 80.0, 118.0, 56.0, 90.0, 70.0, 80.0, 99.0, 92.0, 85.0, 98.0, 70.0, 104.0, 96.0, 90.0, 103.0, 116.0, 148.0, 17.0, 84.0, 19.0, 102.0, 86.0, 53.0, 92.0, 106.0, 98.0, 92.0, 101.0, 91.0, 93.0, 90.0, 88.0, 74.0, 74.0, 98.0, 120.0, 90.0, 60.0, 65.0, 56.0, 107.0, 85.0, 75.0, 99.0, 90.0, 97.0, 127.0, 132.0, 41.0, 93.0, 55.0, 114.0, 54.0, 88.0, 138.0, 105.0, 108.0, 96.0, 126.0, 43.0, 23.0, 20.0, 71.0, 88.0, 102.0, 3.0, 75.0, 131.0, 125.0, 150.0, 52.0, 130.0, 103.0, 63.0, 78.0, 104.0, 74.0, 98.0, 82.0, 137.0, 93.0, 57.0, 89.0, 64.0, 58.0, 93.0, 111.0, 97.0, 83.0, 40.0, 70.0, 91.0, 159.0, 137.0, 138.0, 93.0, 26.0, 98.0, 100.0, 120.0, 140.0, 73.0, 86.0, 32.0, 111.0, 79.0, 87.0, 151.0, 93.0, 136.0, 120.0, 90.0, 71.0, 110.0, 87.0, 128.0, 134.0, 132.0, 154.0, 150.0, 113.0, 138.0, 133.0, 164.0, 161.0, 122.0, 122.0, 144.0, 103.0, 160.0, 122.0, 106.0, 160.0, 153.0, 103.0, 115.0, 18.0, 74.0, 66.0, 80.0, 35.0, 92.0, 99.0, 28.0, 83.0, 96.0, 80.0, 100.0, 85.0, 62.0, 103.0, 96.0, 67.0, 87.0, 93.0, 41.0, 77.0, 157.0, 82.0, 147.0, 162.0, 72.0, 88.0, 90.0, 5.0, 74.0, 133.0, 96.0, 93.0, 70.0, 149.0, 174.0, 12.0, 141.0, 85.0, 83.0, 155.0, 93.0, 107.0, 140.0, 84.0, 83.0, 117.0, 83.0, 65.0, 98.0, 165.0, 144.0, 81.0, 77.0, 119.0, 93.0, 80.0, 117.0, 122.0, 71.0, 90.0, 120.0, 112.0, 2.0, 103.0, 103.0, 80.0, 107.0, 103.0, 89.0, 86.0, 90.0, 61.0, 106.0, 100.0, 127.0, 78.0, 92.0, 83.0, 90.0, 99.0, 124.0, 149.0, 153.0, 132.0, 100.0, 88.0, 87.0, 85.0, 89.0, 108.0, 92.0, 79.0, 142.0, 97.0, 104.0, 100.0, 118.0, 102.0, 161.0, 161.0, 88.0, 83.0, 100.0, 82.0, 75.0, 71.0, 88.0, 91.0, 80.0, 34.0, 68.0, 60.0, 91.0, 120.0, 153.0, 107.0, 151.0, 105.0, 69.0, 122.0, 92.0, 138.0, 57.0, 111.0, 94.0, 87.0, 89.0, 135.0, 136.0, 157.0, 68.0, 91.0, 94.0, 170.0, 97.0, 92.0, 136.0, 171.0, 44.0, 129.0, 48.0, 78.0, 90.0, 95.0, 87.0, 71.0, 107.0, 91.0, 89.0, 92.0, 83.0, 99.0, 110.0, 158.0, 82.0, 149.0, 96.0, 74.0, 53.0, 57.0, 96.0, 148.0, 89.0, 94.0, 129.0, 90.0, 77.0, 90.0, 78.0, 107.0, 158.0, 85.0, 49.0, 81.0, 86.0, 99.0, 95.0, 80.0, 118.0, 94.0, 96.0, 126.0, 105.0, 46.0, 89.0, 69.0, 74.0, 90.0, 100.0, 103.0, 76.0, 98.0, 114.0, 121.0, 130.0, 73.0, 81.0, 63.0, 89.0, 91.0, 124.0, 93.0, 93.0, 78.0, 95.0, 76.0, 46.0, 72.0, 105.0, 72.0, 95.0, 132.0, 111.0, 90.0, 91.0, 125.0, 101.0, 85.0, 58.0, 114.0, 75.0, 182.0, 100.0, 90.0, 40.0, 85.0, 89.0, 45.0, 100.0, 89.0, 88.0, 144.0, 107.0, 112.0, 111.0, 136.0, 133.0, 100.0, 87.0, 94.0, 157.0, 168.0, 95.0, 158.0, 90.0, 93.0, 51.0, 154.0, 91.0, 91.0, 95.0, 138.0, 152.0, 28.0, 101.0, 95.0, 94.0, 9.0, 94.0, 99.0, 99.0, 122.0, 94.0, 83.0, 97.0, 98.0, 84.0, 86.0, 149.0, 109.0, 104.0, 99.0, 88.0, 84.0, 61.0, 86.0, 100.0, 97.0, 104.0, 22.0, 80.0, 110.0, 81.0, 121.0, 104.0, 67.0, 95.0, 98.0, 94.0, 91.0, 8.0, 59.0, 63.0, 16.0, 85.0, 81.0, 3.0, 57.0, 155.0, 53.0, 97.0, 139.0, 60.0, 77.0, 85.0, 159.0, 108.0, 86.0, 145.0, 79.0, 35.0, 26.0, 121.0, 27.0, 72.0, 117.0, 91.0, 93.0, 94.0, 80.0, 95.0, 165.0, 92.0, 105.0, 91.0, 106.0, 74.0, 26.0, 111.0, 79.0, 125.0, 88.0, 79.0, 88.0, 66.0, 110.0, 123.0, 138.0, 94.0, 78.0, 182.0, 119.0, 49.0, 102.0, 131.0, 104.0, 67.0, 91.0, 40.0, 135.0, 110.0, 97.0, 111.0, 100.0, 83.0, 47.0, 101.0, 89.0, 86.0, 52.0, 95.0, 1.0, 80.0, 87.0, 116.0, 92.0, 117.0, 82.0, 82.0, 90.0, 85.0, 107.0, 90.0, 69.0, 61.0, 114.0, 103.0, 104.0, 105.0, 96.0, 85.0, 79.0, 78.0, 167.0, 91.0, 91.0, 43.0, 123.0, 76.0, 101.0, 94.0, 46.0, 58.0, 91.0, 70.0, 83.0, 83.0, 88.0, 83.0, 80.0, 119.0, 106.0, 95.0, 101.0, 130.0, 84.0, 92.0, 95.0, 84.0, 104.0, 93.0, 99.0, 141.0, 120.0, 80.0, 109.0, 91.0, 207.0, 70.0, 86.0, 120.0, 70.0, 93.0, 162.0, 94.0, 133.0, 123.0, 62.0, 93.0, 93.0, 139.0, 114.0, 95.0, 108.0, 127.0, 127.0, 159.0, 102.0, 96.0, 140.0, 57.0, 85.0, 125.0, 97.0, 154.0, 95.0, 117.0, 159.0, 94.0, 76.0, 110.0, 59.0, 131.0, 65.0, 94.0, 105.0, 100.0, 109.0, 84.0, 130.0, 92.0, 70.0, 101.0, 92.0, 73.0, 116.0, 81.0, 90.0, 100.0, 124.0, 103.0, 83.0, 106.0, 84.0, 141.0, 84.0, 72.0, 72.0, 22.0, 96.0, 93.0, 92.0, 113.0, 99.0, 65.0, 123.0, 112.0, 103.0, 144.0, 86.0, 104.0, 89.0, 128.0, 85.0, 120.0, 83.0, 103.0, 94.0, 44.0, 111.0, 101.0, 108.0, 129.0, 102.0, 24.0, 90.0, 88.0, 99.0, 100.0, 141.0, 93.0, 68.0, 107.0, 124.0, 123.0, 94.0, 86.0, 48.0, 162.0, 145.0, 95.0, 102.0, 92.0, 121.0, 93.0, 95.0, 104.0, 97.0, 150.0, 85.0, 150.0, 101.0, 109.0, 102.0, 106.0, 166.0, 91.0, 93.0, 143.0, 44.0, 91.0, 76.0, 113.0, 93.0, 93.0, 104.0, 109.0, 98.0, 91.0, 99.0, 88.0, 61.0, 61.0, 93.0, 144.0, 90.0, 95.0, 123.0, 86.0, 104.0, 54.0, 3.0, 104.0, 63.0, 91.0, 105.0, 91.0, 78.0, 83.0, 106.0, 93.0, 85.0, 70.0, 110.0, 66.0, 105.0, 85.0, 93.0, 89.0, 113.0, 82.0, 101.0, 113.0, 95.0, 80.0, 92.0, 108.0, 61.0, 89.0, 100.0, 81.0, 102.0, 82.0, 91.0, 102.0, 97.0, 88.0, 83.0, 125.0, 68.0, 94.0, 92.0, 102.0, 100.0, 131.0, 109.0, 92.0, 100.0, 125.0, 135.0, 158.0, 142.0, 98.0, 69.0, 119.0, 74.0, 93.0, 175.0, 99.0, 123.0, 134.0, 159.0, 117.0, 128.0, 114.0, 135.0, 93.0, 158.0, 141.0, 156.0, 154.0, 46.0, 116.0, 103.0, 96.0, 126.0, 171.0, 101.0, 106.0, 116.0, 149.0, 122.0, 61.0, 61.0, 72.0, 145.0, 50.0, 97.0, 132.0, 61.0, 78.0, 74.0, 109.0, 137.0, 107.0, 70.0, 136.0, 123.0, 90.0, 79.0, 61.0, 167.0, 83.0, 115.0, 97.0, 91.0, 105.0, 84.0, 60.0, 85.0, 48.0, 95.0, 84.0, 67.0, 98.0, 85.0, 75.0, 75.0, 99.0, 121.0, 65.0, 75.0, 60.0, 80.0, 134.0, 74.0, 77.0, 80.0, 71.0, 71.0, 78.0, 95.0, 94.0, 86.0, 73.0, 81.0, 89.0, 88.0, 96.0, 71.0, 78.0, 92.0, 90.0, 91.0, 87.0, 59.0, 122.0, 91.0, 46.0, 88.0, 84.0, 87.0, 115.0, 90.0, 85.0, 82.0, 92.0, 124.0, 122.0, 95.0, 77.0, 79.0, 102.0, 99.0, 78.0, 103.0, 36.0, 154.0, 135.0, 150.0, 128.0, 85.0, 137.0, 76.0, 83.0, 17.0, 50.0, 85.0, 133.0, 170.0, 150.0, 102.0, 87.0, 103.0, 133.0, 113.0, 88.0, 102.0, 75.0, 83.0, 82.0, 77.0, 111.0, 146.0, 95.0, 94.0, 149.0, 92.0, 70.0, 88.0, 77.0, 89.0, 80.0, 147.0, 135.0, 89.0, 87.0, 103.0, 111.0, 138.0, 47.0, 84.0, 126.0, 75.0, 71.0, 98.0, 176.0, 144.0, 111.0, 112.0, 95.0, 98.0, 126.0, 93.0, 111.0, 89.0, 93.0, 106.0, 119.0, 99.0, 95.0, 131.0, 96.0, 91.0, 130.0, 86.0, 115.0, 142.0, 131.0, 104.0, 111.0, 146.0, 119.0, 97.0, 156.0, 97.0, 90.0, 124.0, 118.0, 106.0, 104.0, 88.0, 112.0, 95.0, 95.0, 140.0, 136.0, 154.0, 150.0, 128.0, 135.0, 127.0, 121.0, 157.0, 125.0, 143.0, 154.0, 97.0, 156.0, 113.0, 102.0, 86.0, 96.0, 30.0, 107.0, 91.0, 105.0, 113.0, 83.0, 174.0, 174.0, 146.0, 77.0, 92.0, 98.0, 94.0, 91.0, 108.0, 83.0, 98.0, 85.0, 95.0, 86.0, 76.0, 193.0, 61.0, 108.0, 91.0, 88.0, 80.0, 62.0, 100.0, 90.0, 119.0, 79.0, 74.0, 169.0, 108.0, 72.0, 123.0, 54.0, 105.0, 86.0, 105.0, 100.0, 79.0, 53.0, 103.0, 83.0, 145.0, 108.0, 90.0, 84.0, 100.0, 104.0, 65.0, 86.0, 97.0, 90.0, 87.0, 89.0, 101.0, 105.0, 99.0, 16.0, 19.0, 115.0, 113.0, 96.0, 90.0, 86.0, 90.0, 96.0, 111.0, 18.0, 59.0, 117.0, 81.0, 120.0, 100.0, 128.0, 88.0, 97.0, 94.0, 86.0, 103.0, 80.0, 161.0, 161.0, 83.0, 89.0, 91.0, 100.0, 92.0, 74.0, 108.0, 74.0, 150.0, 107.0, 88.0, 96.0, 14.0, 85.0, 10.0, 63.0, 97.0, 91.0, 88.0, 140.0, 89.0, 90.0, 56.0, 100.0, 79.0, 67.0, 115.0, 100.0, 152.0, 149.0, 125.0, 72.0, 130.0, 60.0, 87.0, 90.0, 84.0, 98.0, 88.0, 85.0, 110.0, 82.0, 147.0, 105.0, 80.0, 134.0, 13.0, 121.0, 70.0, 540.0, 49.0, 107.0, 86.0, 103.0, 147.0, 138.0, 63.0, 81.0, 105.0, 92.0, 91.0, 97.0, 85.0, 76.0, 78.0, 60.0, 88.0, 37.0, 90.0, 60.0, 71.0, 90.0, 95.0, 83.0, 85.0, 81.0, 83.0, 68.0, 85.0, 91.0, 99.0, 102.0, 89.0, 100.0, 113.0, 86.0, 122.0, 88.0, 105.0, 76.0, 111.0, 127.0, 132.0, 99.0, 150.0, 90.0, 131.0, 112.0, 92.0, 84.0, 70.0, 95.0, 92.0, 95.0, 99.0, 105.0, 94.0, 104.0, 85.0, 109.0, 87.0, 153.0, 96.0, 102.0, 116.0, 40.0, 84.0, 93.0, 100.0, 74.0, 74.0, 94.0, 134.0, 69.0, 105.0, 109.0, 56.0, 73.0, 93.0, 89.0, 82.0, 90.0, 79.0, 83.0, 58.0, 94.0, 100.0, 87.0, 76.0, 152.0, 111.0, 85.0, 92.0, 94.0, 86.0, 128.0, 80.0, 101.0, 90.0, 102.0, 102.0, 135.0, 87.0, 117.0, 101.0, 127.0, 129.0, 132.0, 78.0, 100.0, 74.0, 103.0, 80.0, 85.0, 97.0, 96.0, 92.0, 100.0, 82.0, 81.0, 60.0, 88.0, 113.0, 89.0, 64.0, 98.0, 129.0, 96.0, 72.0, 103.0, 91.0, 89.0, 147.0, 105.0, 109.0, 89.0, 120.0, 93.0, 87.0, 91.0, 74.0, 90.0, 86.0, 84.0, 62.0, 88.0, 126.0, 74.0, 94.0, 82.0, 89.0, 79.0, 100.0, 119.0, 108.0, 67.0, 117.0, 75.0, 114.0, 76.0, 63.0, 85.0, 67.0, 114.0, 94.0, 147.0, 102.0, 103.0, 120.0, 98.0, 106.0, 109.0, 111.0, 89.0, 40.0, 40.0, 72.0, 47.0, 122.0, 119.0, 83.0, 91.0, 120.0, 89.0, 79.0, 120.0, 90.0, 122.0, 101.0, 115.0, 95.0, 128.0, 108.0, 89.0, 145.0, 40.0, 106.0, 123.0, 96.0, 122.0, 96.0, 87.0, 81.0, 89.0, 91.0, 142.0, 85.0, 121.0, 147.0, 95.0, 90.0, 88.0, 93.0, 118.0, 135.0, 129.0, 92.0, 103.0, 85.0, 51.0, 94.0, 55.0, 90.0, 73.0, 83.0, 144.0, 90.0, 119.0, 89.0, 112.0, 90.0, 113.0, 95.0, 82.0, 28.0, 101.0, 105.0, 88.0, 50.0, 110.0, 84.0, 94.0, 103.0, 93.0, 82.0, 143.0, 94.0, 168.0, 97.0, 96.0, 68.0, 77.0, 115.0, 92.0, 88.0, 87.0, 87.0, 130.0, 94.0, 104.0, 156.0, 140.0, 51.0, 93.0, 112.0, 112.0, 100.0, 101.0, 110.0, 93.0, 96.0, 83.0, 96.0, 104.0, 123.0, 78.0, 90.0, 59.0, 91.0, 65.0, 75.0, 111.0, 105.0, 81.0, 80.0, 87.0, 99.0, 91.0, 94.0, 125.0, 75.0, 91.0, 89.0, 87.0, 85.0, 127.0, 88.0, 97.0, 86.0, 96.0, 138.0, 122.0, 90.0, 129.0, 98.0, 76.0, 58.0, 88.0, 143.0, 138.0, 96.0, 80.0, 97.0, 77.0, 87.0, 87.0, 49.0, 25.0, 86.0, 48.0, 95.0, 116.0, 109.0, 122.0, 76.0, 90.0, 99.0, 94.0, 93.0, 93.0, 103.0, 106.0, 85.0, 58.0, 85.0, 103.0, 62.0, 57.0, 156.0, 126.0, 94.0, 81.0, 75.0, 87.0, 79.0, 89.0, 103.0, 74.0, 127.0, 131.0, 90.0, 106.0, 111.0, 99.0, 115.0, 129.0, 118.0, 136.0, 135.0, 95.0, 128.0, 124.0, 151.0, 144.0, 175.0, 62.0, 150.0, 133.0, 99.0, 89.0, 170.0, 119.0, 97.0, 135.0, 80.0, 98.0, 62.0, 77.0, 114.0, 176.0, 88.0, 92.0, 166.0, 123.0, 106.0, 103.0, 100.0, 84.0, 137.0, 73.0, 88.0, 92.0, 86.0, 109.0, 96.0, 86.0, 88.0, 91.0, 93.0, 112.0, 10.0, 97.0, 144.0, 102.0, 83.0, 62.0, 99.0, 62.0, 92.0, 98.0, 269.0, 98.0, 91.0, 101.0, 109.0, 96.0, 100.0, 76.0, 100.0, 105.0, 136.0, 89.0, 101.0, 148.0, 89.0, 103.0, 92.0, 82.0, 107.0, 104.0, 92.0, 87.0, 82.0, 137.0, 127.0, 88.0, 87.0, 103.0, 76.0, 155.0, 92.0, 80.0, 54.0, 92.0, 119.0, 106.0, 95.0, 93.0, 47.0, 90.0, 90.0, 92.0, 118.0, 92.0, 73.0, 120.0, 117.0, 94.0, 112.0, 103.0, 84.0, 91.0, 58.0, 95.0, 92.0, 84.0, 91.0, 109.0, 99.0, 41.0, 85.0, 43.0, 103.0, 81.0, 95.0, 91.0, 115.0, 120.0, 101.0, 89.0, 101.0, 109.0, 84.0, 94.0, 89.0, 87.0, 90.0, 81.0, 90.0, 115.0, 93.0, 98.0, 88.0, 104.0, 95.0, 90.0, 96.0, 99.0, 81.0, 87.0, 87.0, 93.0, 99.0, 81.0, 9.0, 113.0, 107.0, 92.0, 101.0, 151.0, 91.0, 7.0, 105.0, 92.0, 125.0, 82.0, 113.0, 95.0, 94.0, 34.0, 136.0, 111.0, 107.0, 93.0, 83.0, 118.0, 95.0, 102.0, 91.0, 96.0, 91.0, 119.0, 91.0, 94.0, 94.0, 83.0, 101.0, 110.0, 89.0, 95.0, 90.0, 100.0, 106.0, 94.0, 84.0, 105.0, 87.0, 112.0, 94.0, 107.0, 107.0, 100.0, 84.0, 93.0, 109.0, 87.0, 98.0, 87.0, 103.0, 120.0, 63.0, 89.0, 81.0, 90.0, 111.0, 83.0, 94.0, 100.0, 95.0, 125.0, 103.0, 90.0, 97.0, 93.0, 91.0, 75.0, 116.0, 159.0, 125.0, 89.0, 89.0, 88.0, 120.0, 78.0, 67.0, 79.0, 87.0, 122.0, 110.0, 110.0, 81.0, 83.0, 92.0, 96.0, 59.0, 105.0, 107.0, 67.0, 54.0, 97.0, 102.0, 132.0, 84.0, 78.0, 85.0, 96.0, 81.0, 87.0, 107.0, 107.0, 71.0, 105.0, 107.0, 75.0, 106.0, 99.0, 88.0, 79.0, 99.0, 150.0, 81.0, 136.0, 82.0, 91.0, 172.0, 136.0, 74.0, 91.0, 122.0, 92.0, 101.0, 98.0, 127.0, 84.0, 92.0, 71.0, 92.0, 97.0, 98.0, 129.0, 94.0, 73.0, 100.0, 81.0, 154.0, 53.0, 137.0, 110.0, 94.0, 87.0, 82.0, 92.0, 106.0, 48.0, 103.0, 120.0, 108.0, 89.0, 80.0, 100.0, 100.0, 92.0, 98.0, 94.0, 121.0, 85.0, 92.0, 81.0, 133.0, 95.0, 92.0, 69.0, 120.0, 104.0, 109.0, 112.0, 54.0, 103.0, 105.0, 85.0, 6.0, 86.0, 75.0, 92.0, 86.0, 88.0, 104.0, 127.0, 78.0, 127.0, 95.0, 58.0, 70.0, 99.0, 117.0, 96.0, 137.0, 79.0, 107.0, 91.0, 71.0, 79.0, 85.0, 85.0, 70.0, 89.0, 103.0, 97.0, 79.0, 127.0, 78.0, 87.0, 87.0, 121.0, 57.0, 89.0, 90.0, 121.0, 123.0, 83.0, 107.0, 126.0, 99.0, 79.0, 70.0, 97.0, 73.0, 100.0, 108.0, 135.0, 81.0, 59.0, 75.0, 118.0, 131.0, 59.0, 91.0, 102.0, 92.0, 97.0, 88.0, 96.0, 54.0, 87.0, 105.0, 94.0, 191.0, 95.0, 102.0, 83.0, 100.0, 93.0, 92.0, 63.0, 94.0, 14.0, 114.0, 88.0, 87.0, 93.0, 155.0, 110.0, 87.0, 90.0, 82.0, 108.0, 85.0, 74.0, 75.0, 92.0, 69.0, 49.0, 91.0, 97.0, 52.0, 142.0, 93.0, 101.0, 75.0, 59.0, 93.0, 23.0, 39.0, 94.0, 99.0, 78.0, 115.0, 105.0, 146.0, 95.0, 84.0, 116.0, 85.0, 84.0, 81.0, 125.0, 100.0, 133.0, 84.0, 70.0, 70.0, 140.0, 92.0, 18.0, 114.0, 101.0, 153.0, 73.0, 80.0, 120.0, 139.0, 142.0, 125.0, 133.0, 88.0, 93.0, 110.0, 88.0, 69.0, 118.0, 85.0, 106.0, 66.0, 94.0, 110.0, 153.0, 61.0, 61.0, 90.0, 115.0, 91.0, 26.0, 77.0, 89.0, 88.0, 135.0, 143.0, 44.0, 97.0, 85.0, 80.0, 101.0, 85.0, 110.0, 85.0, 86.0, 88.0, 90.0, 138.0, 93.0, 66.0, 106.0, 96.0, 84.0, 92.0, 92.0, 91.0, 80.0, 91.0, 93.0, 82.0, 30.0, 89.0, 80.0, 93.0, 87.0, 100.0, 41.0, 81.0, 98.0, 79.0, 105.0, 96.0, 82.0, 86.0, 92.0, 108.0, 86.0, 86.0, 92.0, 59.0, 105.0, 89.0, 30.0, 77.0, 120.0, 145.0, 115.0, 112.0, 100.0, 87.0, 0.0, 6.0, 115.0, 96.0, 140.0, 136.0, 97.0, 83.0, 97.0, 46.0, 97.0, 86.0, 88.0, 88.0, 121.0, 53.0, 43.0, 108.0, 113.0, 102.0, 97.0, 96.0, 108.0, 92.0, 137.0, 107.0, 88.0, 80.0, 102.0, 101.0, 92.0, 131.0, 75.0, 86.0, 92.0, 104.0, 155.0, 73.0, 151.0, 102.0, 92.0, 115.0, 48.0, 104.0, 122.0, 76.0, 74.0, 83.0, 87.0, 142.0, 91.0, 99.0, 84.0, 106.0, 75.0, 122.0, 104.0, 113.0, 91.0, 89.0, 86.0, 106.0, 108.0, 60.0, 72.0, 83.0, 90.0, 88.0, 88.0, 83.0, 104.0, 63.0, 134.0, 88.0, 105.0, 87.0, 73.0, 112.0, 92.0, 92.0, 74.0, 73.0, 105.0, 52.0, 57.0, 95.0, 94.0, 90.0, 99.0, 111.0, 89.0, 13.0, 87.0, 127.0, 96.0, 109.0, 84.0, 91.0, 88.0, 62.0, 103.0, 110.0, 122.0, 74.0, 90.0, 94.0, 107.0, 94.0, 91.0, 105.0, 76.0, 45.0, 115.0, 91.0, 90.0, 94.0, 91.0, 85.0, 105.0, 91.0, 84.0, 117.0, 86.0, 42.0, 90.0, 131.0, 120.0, 67.0, 108.0, 79.0, 93.0, 109.0, 93.0, 122.0, 87.0, 98.0, 119.0, 91.0, 85.0, 100.0, 52.0, 90.0, 54.0, 49.0, 73.0, 89.0, 93.0, 68.0, 132.0, 123.0, 147.0, 106.0, 61.0, 61.0, 61.0, 61.0, 70.0, 112.0, 43.0, 96.0, 115.0, 96.0, 83.0, 86.0, 100.0, 100.0, 78.0, 96.0, 88.0, 72.0, 88.0, 94.0, 87.0, 50.0, 90.0, 92.0, 9.0, 105.0, 98.0, 71.0, 86.0, 75.0, 87.0, 97.0, 153.0, 136.0, 149.0, 103.0, 61.0, 86.0, 116.0, 120.0, 100.0, 103.0, 152.0, 134.0, 86.0, 93.0, 96.0, 90.0, 8.0, 97.0, 88.0, 108.0, 101.0, 95.0, 110.0, 39.0, 102.0, 100.0, 93.0, 93.0, 103.0, 83.0, 69.0, 58.0, 188.0, 45.0, 81.0, 0.0, 92.0, 80.0, 96.0, 56.0, 84.0, 96.0, 120.0, 92.0, 122.0, 90.0, 99.0, 76.0, 100.0, 85.0, 32.0, 76.0, 99.0, 52.0, 67.0, 114.0, 112.0, 144.0, 98.0, 105.0, 83.0, 113.0, 91.0, 120.0, 106.0, 104.0, 88.0, 91.0, 35.0, 99.0, 83.0, 101.0, 81.0, 83.0, 95.0, 145.0, 90.0, 51.0, 113.0, 79.0, 89.0, 95.0, 85.0, 119.0, 98.0, 105.0, 110.0, 83.0, 84.0, 118.0, 92.0, 91.0, 95.0, 82.0, 125.0, 90.0, 76.0, 92.0, 94.0, 94.0, 90.0, 72.0, 53.0, 167.0, 136.0, 95.0, 56.0, 112.0, 102.0, 93.0, 155.0, 78.0, 89.0, 114.0, 157.0, 188.0, 94.0, 22.0, 87.0, 88.0, 118.0, 73.0, 91.0, 88.0, 82.0, 103.0, 92.0, 97.0, 127.0, 92.0, 92.0, 90.0, 93.0, 89.0, 78.0, 90.0, 93.0, 93.0, 90.0, 93.0, 90.0, 81.0, 93.0, 92.0, 91.0, 93.0, 94.0, 86.0, 77.0, 81.0, 91.0, 136.0, 88.0, 83.0, 89.0, 96.0, 87.0, 88.0, 89.0, 82.0, 96.0, 92.0, 84.0, 49.0, 6.0, 87.0, 117.0, 76.0, 104.0, 98.0, 108.0, 120.0, 85.0, 78.0, 113.0, 96.0, 83.0, 93.0, 83.0, 45.0, 33.0, 42.0, 77.0, 74.0, 56.0, 81.0, 121.0, 116.0, 74.0, 81.0, 92.0, 109.0, 44.0, 84.0, 91.0, 108.0, 96.0, 84.0, 100.0, 94.0, 91.0, 86.0, 163.0, 153.0, 92.0, 102.0, 105.0, 104.0, 145.0, 83.0, 120.0, 109.0, 95.0, 103.0, 81.0, 84.0, 113.0, 105.0, 41.0, 22.0, 108.0, 121.0, 92.0, 119.0, 101.0, 102.0, 111.0, 102.0, 106.0, 90.0, 89.0, 83.0, 96.0, 91.0, 89.0, 124.0, 102.0, 89.0, 81.0, 73.0, 89.0, 91.0, 91.0, 92.0, 91.0, 92.0, 92.0, 91.0, 121.0, 93.0, 93.0, 68.0, 80.0, 94.0, 124.0, 89.0, 94.0, 95.0, 115.0, 83.0, 106.0, 123.0, 56.0, 81.0, 90.0, 92.0, 96.0, 96.0, 80.0, 94.0, 118.0, 88.0, 100.0, 80.0, 89.0, 89.0, 105.0, 121.0, 57.0, 78.0, 91.0, 102.0, 94.0, 59.0, 109.0, 88.0, 16.0, 89.0, 92.0, 93.0, 86.0, 92.0, 94.0, 90.0, 79.0, 102.0, 90.0, 60.0, 84.0, 83.0, 110.0, 147.0, 99.0, 94.0, 152.0, 86.0, 105.0, 114.0, 99.0, 59.0, 131.0, 131.0, 117.0, 117.0, 82.0, 100.0, 91.0, 48.0, 25.0, 159.0, 106.0, 100.0, 80.0, 113.0, 95.0, 94.0, 124.0, 96.0, 154.0, 105.0, 96.0, 87.0, 59.0, 83.0, 102.0, 98.0, 81.0, 82.0, 109.0, 113.0, 120.0, 92.0, 45.0, 84.0, 103.0, 113.0, 110.0, 108.0, 92.0, 90.0, 76.0, 104.0, 125.0, 83.0, 78.0, 129.0, 129.0, 132.0, 47.0, 95.0, 75.0, 80.0, 45.0, 102.0, 87.0, 1.0, 139.0, 98.0, 92.0, 91.0, 123.0, 123.0, 117.0, 112.0, 110.0, 110.0, 80.0, 104.0, 108.0, 89.0, 32.0, 92.0, 88.0, 113.0, 100.0, 41.0, 93.0, 109.0, 87.0, 86.0, 135.0, 83.0, 101.0, 100.0, 74.0, 96.0, 123.0, 140.0, 42.0, 73.0, 98.0, 108.0, 153.0, 105.0, 105.0, 87.0, 118.0, 118.0, 65.0, 55.0, 135.0, 111.0, 102.0, 89.0, 130.0, 100.0, 94.0, 95.0, 145.0, 99.0, 90.0, 106.0, 88.0, 124.0, 84.0, 80.0, 88.0, 99.0, 99.0, 107.0, 88.0, 73.0, 103.0, 97.0, 50.0, 91.0, 75.0, 122.0, 96.0, 79.0, 102.0, 92.0, 49.0, 90.0, 130.0, 42.0, 99.0, 132.0, 123.0, 132.0, 108.0, 94.0, 80.0, 159.0, 100.0, 52.0, 161.0, 87.0, 127.0, 99.0, 105.0, 91.0, 92.0, 90.0, 85.0, 114.0, 109.0, 95.0, 85.0, 79.0, 86.0, 122.0, 102.0, 90.0, 90.0, 102.0, 95.0, 88.0, 89.0, 111.0, 92.0, 103.0, 64.0, 80.0, 91.0, 72.0, 109.0, 102.0, 89.0, 43.0, 97.0, 127.0, 84.0, 100.0, 85.0, 88.0, 85.0, 94.0, 69.0, 124.0, 124.0, 119.0, 26.0, 137.0, 22.0, 113.0, 131.0, 86.0, 105.0, 75.0, 111.0, 87.0, 82.0, 92.0, 85.0, 94.0, 128.0, 92.0, 80.0, 108.0, 99.0, 88.0, 82.0, 92.0, 91.0, 106.0, 98.0, 140.0, 88.0, 90.0, 86.0, 81.0, 161.0, 90.0, 90.0, 94.0, 118.0, 40.0, 82.0, 77.0, 99.0, 106.0, 102.0, 80.0, 95.0, 80.0, 84.0, 97.0, 88.0, 97.0, 101.0, 83.0, 89.0, 99.0, 109.0, 74.0, 139.0, 86.0, 91.0, 94.0, 133.0, 48.0, 93.0, 86.0, 113.0, 106.0, 89.0, 115.0, 84.0, 74.0, 98.0, 8.0, 62.0, 92.0, 99.0, 123.0, 59.0, 92.0, 100.0, 40.0, 61.0, 61.0, 53.0, 102.0, 138.0, 146.0, 101.0, 147.0, 76.0, 93.0, 95.0, 87.0, 84.0, 82.0, 104.0, 80.0, 50.0, 120.0, 106.0, 109.0, 80.0, 66.0, 151.0, 55.0, 90.0, 97.0, 89.0, 97.0, 78.0, 59.0, 105.0, 90.0, 75.0, 22.0, 73.0, 94.0, 143.0, 85.0, 121.0, 91.0, 92.0, 123.0, 77.0, 5.0, 5.0, 5.0, 5.0, 87.0, 119.0, 119.0, 128.0, 128.0, 98.0, 99.0, 81.0, 44.0, 83.0, 88.0, 10.0, 106.0, 106.0, 122.0, 92.0, 141.0, 99.0, 98.0, 96.0, 81.0, 84.0, 119.0, 95.0, 97.0, 130.0, 130.0, 31.0, 91.0, 133.0, 133.0, 82.0, 88.0, 99.0, 5.0, 10.0, 145.0, 104.0, 86.0, 93.0, 105.0, 10.0, 110.0, 103.0, 90.0, 165.0, 94.0, 87.0, 82.0, 97.0, 114.0, 87.0, 85.0, 119.0, 96.0, 95.0, 114.0, 90.0, 100.0, 114.0, 93.0, 91.0, 84.0, 82.0, 110.0, 87.0, 83.0, 97.0, 90.0, 98.0, 97.0, 82.0, 88.0, 94.0, 94.0, 88.0, 120.0, 76.0, 89.0, 101.0, 92.0, 116.0, 90.0, 88.0, 94.0, 80.0, 87.0, 101.0, 99.0, 124.0, 90.0, 87.0, 81.0, 54.0, 99.0, 102.0, 98.0, 98.0, 109.0, 151.0, 151.0, 151.0, 151.0, 85.0, 114.0, 139.0, 120.0, 49.0, 2.0, 85.0, 86.0, 116.0, 112.0, 103.0, 117.0, 96.0, 113.0, 32.0, 111.0, 102.0, 87.0, 135.0, 84.0, 87.0, 97.0, 96.0, 93.0, 60.0, 90.0, 103.0], \"xaxis\": \"x\", \"y\": [\"a\", \"a\", \"a\", \"a\", \"a\", \"a\", \"a\", \"a\", \"a\", \"a\", \"a\", \"a\", \"a\", \"a\", \"a\", \"a\", \"a\", \"a\", \"a\", \"a\", \"a\", \"a\", \"a\", \"a\", \"a\", \"a\", \"a\", \"a\", \"a\", \"a\", \"a\", \"a\", \"a\", \"a\", \"a\", \"a\", \"a\", \"a\", \"a\", \"a\", \"a\", \"a\", \"a\", \"a\", \"a\", \"a\", \"a\", \"a\", \"a\", \"a\", \"a\", \"a\", \"a\", \"a\", \"a\", \"a\", \"a\", \"a\", \"a\", \"a\", \"a\", \"a\", \"a\", \"a\", \"a\", \"a\", \"a\", \"a\", \"a\", \"a\", \"a\", \"a\", \"a\", \"a\", \"a\", \"a\", \"a\", \"a\", \"a\", \"a\", \"a\", \"a\", \"a\", \"a\", \"a\", \"a\", \"a\", \"a\", \"a\", \"a\", \"a\", \"a\", \"a\", \"a\", \"a\", \"a\", \"a\", \"a\", \"a\", \"a\", \"a\", \"a\", \"a\", \"a\", \"a\", \"a\", \"a\", \"a\", \"a\", \"a\", \"a\", \"a\", \"a\", \"a\", \"a\", \"a\", \"a\", \"a\", \"a\", \"a\", \"a\", \"a\", \"a\", \"a\", \"a\", \"a\", \"a\", \"a\", \"a\", \"a\", \"a\", \"a\", \"a\", \"a\", \"a\", \"a\", \"a\", \"a\", \"a\", \"a\", \"a\", \"a\", \"a\", \"a\", \"a\", \"a\", \"a\", \"a\", \"a\", \"a\", \"a\", \"a\", \"a\", \"a\", \"a\", \"a\", \"a\", \"a\", \"a\", \"a\", \"a\", \"a\", \"a\", \"a\", \"a\", \"a\", \"a\", \"a\", \"a\", \"a\", \"a\", \"a\", \"a\", \"a\", \"a\", \"a\", \"a\", \"a\", \"a\", \"a\", \"a\", \"a\", \"a\", \"a\", \"a\", \"a\", \"a\", \"a\", \"a\", \"a\", \"a\", \"a\", \"a\", \"a\", \"a\", \"a\", \"a\", \"a\", \"a\", \"a\", \"a\", \"a\", \"a\", \"a\", \"a\", \"a\", \"a\", \"a\", \"a\", \"a\", \"a\", \"a\", \"a\", \"a\", \"a\", \"a\", \"a\", \"a\", \"a\", \"a\", \"a\", \"a\", \"a\", \"a\", \"a\", \"a\", \"a\", \"a\", \"a\", \"a\", \"a\", \"a\", \"a\", \"a\", \"a\", \"a\", \"a\", \"a\", \"a\", \"a\", \"a\", \"a\", \"a\", \"a\", \"a\", \"a\", \"a\", \"a\", \"a\", \"a\", \"a\", \"a\", \"a\", \"a\", \"a\", \"a\", \"a\", \"a\", \"a\", \"a\", \"a\", \"a\", \"a\", \"a\", \"a\", \"a\", \"a\", \"a\", \"a\", \"a\", \"a\", \"a\", \"a\", \"a\", \"a\", \"a\", \"a\", \"a\", \"a\", \"a\", \"a\", \"a\", \"a\", \"a\", \"a\", \"a\", \"a\", \"a\", \"a\", \"a\", \"a\", \"a\", \"a\", \"a\", \"a\", \"a\", \"a\", \"a\", \"a\", \"a\", \"a\", \"a\", \"a\", \"a\", \"a\", \"a\", \"a\", \"a\", \"a\", \"a\", \"a\", \"a\", \"a\", \"a\", \"a\", \"a\", \"a\", \"a\", \"a\", \"a\", \"a\", \"a\", \"a\", \"a\", \"a\", \"a\", \"a\", \"a\", \"a\", \"a\", \"a\", \"a\", \"a\", \"a\", \"a\", \"a\", \"a\", \"a\", \"a\", \"a\", \"a\", \"a\", \"a\", \"a\", \"a\", \"a\", \"a\", \"a\", \"a\", \"a\", \"a\", \"a\", \"a\", \"a\", \"a\", \"a\", \"a\", \"a\", \"a\", \"a\", \"a\", \"a\", \"a\", \"a\", \"a\", \"a\", \"a\", \"a\", \"a\", \"a\", \"a\", \"a\", \"a\", \"a\", \"a\", \"a\", \"a\", \"a\", \"a\", \"a\", \"a\", \"a\", \"a\", \"a\", \"a\", \"a\", \"a\", \"a\", \"a\", \"a\", \"a\", \"a\", \"a\", \"a\", \"a\", \"a\", \"a\", \"a\", \"a\", \"a\", \"a\", \"a\", \"a\", \"a\", \"a\", \"a\", \"a\", \"a\", \"a\", \"a\", \"a\", \"a\", \"a\", \"a\", \"a\", \"a\", \"a\", \"a\", \"a\", \"a\", \"a\", \"a\", \"a\", \"a\", \"a\", \"a\", \"a\", \"a\", \"a\", \"a\", \"a\", \"a\", \"a\", \"a\", \"a\", \"a\", \"a\", \"a\", \"a\", \"a\", \"a\", \"a\", \"a\", \"a\", \"a\", \"a\", \"a\", \"a\", \"a\", \"a\", \"a\", \"a\", \"a\", \"a\", \"a\", \"a\", \"a\", \"a\", \"a\", \"a\", \"a\", \"a\", \"a\", \"a\", \"a\", \"a\", \"a\", \"a\", \"a\", \"a\", \"a\", \"a\", \"a\", \"a\", \"a\", \"a\", \"a\", \"a\", \"a\", \"a\", \"a\", \"a\", \"a\", \"a\", \"a\", \"a\", \"a\", \"a\", \"a\", \"a\", \"a\", \"a\", \"a\", \"a\", \"a\", \"a\", \"a\", \"a\", \"a\", \"a\", \"a\", \"a\", \"a\", \"a\", \"a\", \"a\", \"a\", \"a\", \"a\", \"a\", \"a\", \"a\", \"a\", \"a\", \"a\", \"a\", \"a\", \"a\", \"a\", \"a\", \"a\", \"a\", \"a\", \"a\", \"a\", \"a\", \"a\", \"a\", \"a\", \"a\", \"a\", \"a\", \"a\", \"a\", \"a\", \"a\", \"a\", \"a\", \"a\", \"a\", \"a\", \"a\", \"a\", \"a\", \"a\", \"a\", \"a\", \"a\", \"a\", \"a\", \"a\", \"a\", \"a\", \"a\", \"a\", \"a\", \"a\", \"a\", \"a\", \"a\", \"a\", \"a\", \"a\", \"a\", \"a\", \"a\", \"a\", \"a\", \"a\", \"a\", \"a\", \"a\", \"a\", \"a\", \"a\", \"a\", \"a\", \"a\", \"a\", \"a\", \"a\", \"a\", \"a\", \"a\", \"a\", \"a\", \"a\", \"a\", \"a\", \"a\", \"a\", \"a\", \"a\", \"a\", \"a\", \"a\", \"a\", \"a\", \"a\", \"a\", \"a\", \"a\", \"a\", \"a\", \"a\", \"a\", \"a\", \"a\", \"a\", \"a\", \"a\", \"a\", \"a\", \"a\", \"a\", \"a\", \"a\", \"a\", \"a\", \"a\", \"a\", \"a\", \"a\", \"a\", \"a\", \"a\", \"a\", \"a\", \"a\", \"a\", \"a\", \"a\", \"a\", \"a\", \"a\", \"a\", \"a\", \"a\", \"a\", \"a\", \"a\", \"a\", \"a\", \"a\", \"a\", \"a\", \"a\", \"a\", \"a\", \"a\", \"a\", \"a\", \"a\", \"a\", \"a\", \"a\", \"a\", \"a\", \"a\", \"a\", \"a\", \"a\", \"a\", \"a\", \"a\", \"a\", \"a\", \"a\", \"a\", \"a\", \"a\", \"a\", \"a\", \"a\", \"a\", \"a\", \"a\", \"a\", \"a\", \"a\", \"a\", \"a\", \"a\", \"a\", \"a\", \"a\", \"a\", \"a\", \"a\", \"a\", \"a\", \"a\", \"a\", \"a\", \"a\", \"a\", \"a\", \"a\", \"a\", \"a\", \"a\", \"a\", \"a\", \"a\", \"a\", \"a\", \"a\", \"a\", \"a\", \"a\", \"a\", \"a\", \"a\", \"a\", \"a\", \"a\", \"a\", \"a\", \"a\", \"a\", \"a\", \"a\", \"a\", \"a\", \"a\", \"a\", \"a\", \"a\", \"a\", \"a\", \"a\", \"a\", \"a\", \"a\", \"a\", \"a\", \"a\", \"a\", \"a\", \"a\", \"a\", \"a\", \"a\", \"a\", \"a\", \"a\", \"a\", \"a\", \"a\", \"a\", \"a\", \"a\", \"a\", \"a\", \"a\", \"a\", \"a\", \"a\", \"a\", \"a\", \"a\", \"a\", \"a\", \"a\", \"a\", \"a\", \"a\", \"a\", \"a\", \"a\", \"a\", \"a\", \"a\", \"a\", \"a\", \"a\", \"a\", \"a\", \"a\", \"a\", \"a\", \"a\", \"a\", \"a\", \"a\", \"a\", \"a\", \"a\", \"a\", \"a\", \"a\", \"a\", \"a\", \"a\", \"a\", \"a\", \"a\", \"a\", \"a\", \"a\", \"a\", \"a\", \"a\", \"a\", \"a\", \"a\", \"a\", \"a\", \"a\", \"a\", \"a\", \"a\", \"a\", \"a\", \"a\", \"a\", \"a\", \"a\", \"a\", \"a\", \"a\", \"a\", \"a\", \"a\", \"a\", \"a\", \"a\", \"a\", \"a\", \"a\", \"a\", \"a\", \"a\", \"a\", \"a\", \"a\", \"a\", \"a\", \"a\", \"a\", \"a\", \"a\", \"a\", \"a\", \"a\", \"a\", \"a\", \"a\", \"a\", \"a\", \"a\", \"a\", \"a\", \"a\", \"a\", \"a\", \"a\", \"a\", \"a\", \"a\", \"a\", \"a\", \"a\", \"a\", \"a\", \"a\", \"a\", \"a\", \"a\", \"a\", \"a\", \"a\", \"a\", \"a\", \"a\", \"a\", \"a\", \"a\", \"a\", \"a\", \"a\", \"a\", \"a\", \"a\", \"a\", \"a\", \"a\", \"a\", \"a\", \"a\", \"a\", \"a\", \"a\", \"a\", \"a\", \"a\", \"a\", \"a\", \"a\", \"a\", \"a\", \"a\", \"a\", \"a\", \"a\", \"a\", \"a\", \"a\", \"a\", \"a\", \"a\", \"a\", \"a\", \"a\", \"a\", \"a\", \"a\", \"a\", \"a\", \"a\", \"a\", \"a\", \"a\", \"a\", \"a\", \"a\", \"a\", \"a\", \"a\", \"a\", \"a\", \"a\", \"a\", \"a\", \"a\", \"a\", \"a\", \"a\", \"a\", \"a\", \"a\", \"a\", \"a\", \"a\", \"a\", \"a\", \"a\", \"a\", \"a\", \"a\", \"a\", \"a\", \"a\", \"a\", \"a\", \"a\", \"a\", \"a\", \"a\", \"a\", \"a\", \"a\", \"a\", \"a\", \"a\", \"a\", \"a\", \"a\", \"a\", \"a\", \"a\", \"a\", \"a\", \"a\", \"a\", \"a\", \"a\", \"a\", \"a\", \"a\", \"a\", \"a\", \"a\", \"a\", \"a\", \"a\", \"a\", \"a\", \"a\", \"a\", \"a\", \"a\", \"a\", \"a\", \"a\", \"a\", \"a\", \"a\", \"a\", \"a\", \"a\", \"a\", \"a\", \"a\", \"a\", \"a\", \"a\", \"a\", \"a\", \"a\", \"a\", \"a\", \"a\", \"a\", \"a\", \"a\", \"a\", \"a\", \"a\", \"a\", \"a\", \"a\", \"a\", \"a\", \"a\", \"a\", \"a\", \"a\", \"a\", \"a\", \"a\", \"a\", \"a\", \"a\", \"a\", \"a\", \"a\", \"a\", \"a\", \"a\", \"a\", \"a\", \"a\", \"a\", \"a\", \"a\", \"a\", \"a\", \"a\", \"a\", \"a\", \"a\", \"a\", \"a\", \"a\", \"a\", \"a\", \"a\", \"a\", \"a\", \"a\", \"a\", \"a\", \"a\", \"a\", \"a\", \"a\", \"a\", \"a\", \"a\", \"a\", \"a\", \"a\", \"a\", \"a\", \"a\", \"a\", \"a\", \"a\", \"a\", \"a\", \"a\", \"a\", \"a\", \"a\", \"a\", \"a\", \"a\", \"a\", \"a\", \"a\", \"a\", \"a\", \"a\", \"a\", \"a\", \"a\", \"a\", \"a\", \"a\", \"a\", \"a\", \"a\", \"a\", \"a\", \"a\", \"a\", \"a\", \"a\", \"a\", \"a\", \"a\", \"a\", \"a\", \"a\", \"a\", \"a\", \"a\", \"a\", \"a\", \"a\", \"a\", \"a\", \"a\", \"a\", \"a\", \"a\", \"a\", \"a\", \"a\", \"a\", \"a\", \"a\", \"a\", \"a\", \"a\", \"a\", \"a\", \"a\", \"a\", \"a\", \"a\", \"a\", \"a\", \"a\", \"a\", \"a\", \"a\", \"a\", \"a\", \"a\", \"a\", \"a\", \"a\", \"a\", \"a\", \"a\", \"a\", \"a\", \"a\", \"a\", \"a\", \"a\", \"a\", \"a\", \"a\", \"a\", \"a\", \"a\", \"a\", \"a\", \"a\", \"a\", \"a\", \"a\", \"a\", \"a\", \"a\", \"a\", \"a\", \"a\", \"a\", \"a\", \"a\", \"a\", \"a\", \"a\", \"a\", \"a\", \"a\", \"a\", \"a\", \"a\", \"a\", \"a\", \"a\", \"a\", \"a\", \"a\", \"a\", \"a\", \"a\", \"a\", \"a\", \"a\", \"a\", \"a\", \"a\", \"a\", \"a\", \"a\", \"a\", \"a\", \"a\", \"a\", \"a\", \"a\", \"a\", \"a\", \"a\", \"a\", \"a\", \"a\", \"a\", \"a\", \"a\", \"a\", \"a\", \"a\", \"a\", \"a\", \"a\", \"a\", \"a\", \"a\", \"a\", \"a\", \"a\", \"a\", \"a\", \"a\", \"a\", \"a\", \"a\", \"a\", \"a\", \"a\", \"a\", \"a\", \"a\", \"a\", \"a\", \"a\", \"a\", \"a\", \"a\", \"a\", \"a\", \"a\", \"a\", \"a\", \"a\", \"a\", \"a\", \"a\", \"a\", \"a\", \"a\", \"a\", \"a\", \"a\", \"a\", \"a\", \"a\", \"a\", \"a\", \"a\", \"a\", \"a\", \"a\", \"a\", \"a\", \"a\", \"a\", \"a\", \"a\", \"a\", \"a\", \"a\", \"a\", \"a\", \"a\", \"a\", \"a\", \"a\", \"a\", \"a\", \"a\", \"a\", \"a\", \"a\", \"a\", \"a\", \"a\", \"a\", \"a\", \"a\", \"a\", \"a\", \"a\", \"a\", \"a\", \"a\", \"a\", \"a\", \"a\", \"a\", \"a\", \"a\", \"a\", \"a\", \"a\", \"a\", \"a\", \"a\", \"a\", \"a\", \"a\", \"a\", \"a\", \"a\", \"a\", \"a\", \"a\", \"a\", \"a\", \"a\", \"a\", \"a\", \"a\", \"a\", \"a\", \"a\", \"a\", \"a\", \"a\", \"a\", \"a\", \"a\", \"a\", \"a\", \"a\", \"a\", \"a\", \"a\", \"a\", \"a\", \"a\", \"a\", \"a\", \"a\", \"a\", \"a\", \"a\", \"a\", \"a\", \"a\", \"a\", \"a\", \"a\", \"a\", \"a\", \"a\", \"a\", \"a\", \"a\", \"a\", \"a\", \"a\", \"a\", \"a\", \"a\", \"a\", \"a\", \"a\", \"a\", \"a\", \"a\", \"a\", \"a\", \"a\", \"a\", \"a\", \"a\", \"a\", \"a\", \"a\", \"a\", \"a\", \"a\", \"a\", \"a\", \"a\", \"a\", \"a\", \"a\", \"a\", \"a\", \"a\", \"a\", \"a\", \"a\", \"a\", \"a\", \"a\", \"a\", \"a\", \"a\", \"a\", \"a\", \"a\", \"a\", \"a\", \"a\", \"a\", \"a\", \"a\", \"a\", \"a\", \"a\", \"a\", \"a\", \"a\", \"a\", \"a\", \"a\", \"a\", \"a\", \"a\", \"a\", \"a\", \"a\", \"a\", \"a\", \"a\", \"a\", \"a\", \"a\", \"a\", \"a\", \"a\", \"a\", \"a\", \"a\", \"a\", \"a\", \"a\", \"a\", \"a\", \"a\", \"a\", \"a\", \"a\", \"a\", \"a\", \"a\", \"a\", \"a\", \"a\", \"a\", \"a\", \"a\", \"a\", \"a\", \"a\", \"a\", \"a\", \"a\", \"a\", \"a\", \"a\", \"a\", \"a\", \"a\", \"a\", \"a\", \"a\", \"a\", \"a\", \"a\", \"a\", \"a\", \"a\", \"a\", \"a\", \"a\", \"a\", \"a\", \"a\", \"a\", \"a\", \"a\", \"a\", \"a\", \"a\", \"a\", \"a\", \"a\", \"a\", \"a\", \"a\", \"a\", \"a\", \"a\", \"a\", \"a\", \"a\", \"a\", \"a\", \"a\", \"a\", \"a\", \"a\", \"a\", \"a\", \"a\", \"a\", \"a\", \"a\", \"a\", \"a\", \"a\", \"a\", \"a\", \"a\", \"a\", \"a\", \"a\", \"a\", \"a\", \"a\", \"a\", \"a\", \"a\", \"a\", \"a\", \"a\", \"a\", \"a\", \"a\", \"a\", \"a\", \"a\", \"a\", \"a\", \"a\", \"a\", \"a\", \"a\", \"a\", \"a\", \"a\", \"a\", \"a\", \"a\", \"a\", \"a\", \"a\", \"a\", \"a\", \"a\", \"a\", \"a\", \"a\", \"a\", \"a\", \"a\", \"a\", \"a\", \"a\", \"a\", \"a\", \"a\", \"a\", \"a\", \"a\", \"a\", \"a\", \"a\", \"a\", \"a\", \"a\", \"a\", \"a\", \"a\", \"a\", \"a\", \"a\", \"a\", \"a\", \"a\", \"a\", \"a\", \"a\", \"a\", \"a\", \"a\", \"a\", \"a\", \"a\", \"a\", \"a\", \"a\", \"a\", \"a\", \"a\", \"a\", \"a\", \"a\", \"a\", \"a\", \"a\", \"a\", \"a\", \"a\", \"a\", \"a\", \"a\", \"a\", \"a\", \"a\", \"a\", \"a\", \"a\", \"a\", \"a\", \"a\", \"a\", \"a\", \"a\", \"a\", \"a\", \"a\", \"a\", \"a\", \"a\", \"a\", \"a\", \"a\", \"a\", \"a\", \"a\", \"a\", \"a\", \"a\", \"a\", \"a\", \"a\", \"a\", \"a\", \"a\", \"a\", \"a\", \"a\", \"a\", \"a\", \"a\", \"a\", \"a\", \"a\", \"a\", \"a\", \"a\", \"a\", \"a\", \"a\", \"a\", \"a\", \"a\", \"a\", \"a\", \"a\", \"a\", \"a\", \"a\", \"a\", \"a\", \"a\", \"a\", \"a\", \"a\", \"a\", \"a\", \"a\", \"a\", \"a\", \"a\", \"a\", \"a\", \"a\", \"a\", \"a\", \"a\", \"a\", \"a\", \"a\", \"a\", \"a\", \"a\", \"a\", \"a\", \"a\", \"a\", \"a\", \"a\", \"a\", \"a\", \"a\", \"a\", \"a\", \"a\", \"a\", \"a\", \"a\", \"a\", \"a\", \"a\", \"a\", \"a\", \"a\", \"a\", \"a\", \"a\", \"a\", \"a\", \"a\", \"a\", \"a\", \"a\", \"a\", \"a\", \"a\", \"a\", \"a\", \"a\", \"a\", \"a\", \"a\", \"a\", \"a\", \"a\", \"a\", \"a\", \"a\", \"a\", \"a\", \"a\", \"a\", \"a\", \"a\", \"a\", \"a\", \"a\", \"a\", \"a\", \"a\", \"a\", \"a\", \"a\", \"a\", \"a\", \"a\", \"a\", \"a\", \"a\", \"a\", \"a\", \"a\", \"a\", \"a\", \"a\", \"a\", \"a\", \"a\", \"a\", \"a\", \"a\", \"a\", \"a\", \"a\", \"a\", \"a\", \"a\", \"a\", \"a\", \"a\", \"a\", \"a\", \"a\", \"a\", \"a\", \"a\", \"a\", \"a\", \"a\", \"a\", \"a\", \"a\", \"a\", \"a\", \"a\", \"a\", \"a\", \"a\", \"a\", \"a\", \"a\", \"a\", \"a\", \"a\", \"a\", \"a\", \"a\", \"a\", \"a\", \"a\", \"a\", \"a\", \"a\", \"a\", \"a\", \"a\", \"a\", \"a\", \"a\", \"a\", \"a\", \"a\", \"a\", \"a\", \"a\", \"a\", \"a\", \"a\", \"a\", \"a\", \"a\", \"a\", \"a\", \"a\", \"a\", \"a\", \"a\", \"a\", \"a\", \"a\", \"a\", \"a\", \"a\", \"a\", \"a\", \"a\", \"a\", \"a\", \"a\", \"a\", \"a\", \"a\", \"a\", \"a\", \"a\", \"a\", \"a\", \"a\", \"a\", \"a\", \"a\", \"a\", \"a\", \"a\", \"a\", \"a\", \"a\", \"a\", \"a\", \"a\", \"a\", \"a\", \"a\", \"a\", \"a\", \"a\", \"a\", \"a\", \"a\", \"a\", \"a\", \"a\", \"a\", \"a\", \"a\", \"a\", \"a\", \"a\", \"a\", \"a\", \"a\", \"a\", \"a\", \"a\", \"a\", \"a\", \"a\", \"a\", \"a\", \"a\", \"a\", \"a\", \"a\", \"a\", \"a\", \"a\", \"a\", \"a\", \"a\", \"a\", \"a\", \"a\", \"a\", \"a\", \"a\", \"a\", \"a\", \"a\", \"a\", \"a\", \"a\", \"a\", \"a\", \"a\", \"a\", \"a\", \"a\", \"a\", \"a\", \"a\", \"a\", \"a\", \"a\", \"a\", \"a\", \"a\", \"a\", \"a\", \"a\", \"a\", \"a\", \"a\", \"a\", \"a\", \"a\", \"a\", \"a\", \"a\", \"a\", \"a\", \"a\", \"a\", \"a\", \"a\", \"a\", \"a\", \"a\", \"a\", \"a\", \"a\", \"a\", \"a\", \"a\", \"a\", \"a\", \"a\", \"a\", \"a\", \"a\", \"a\", \"a\", \"a\", \"a\", \"a\", \"a\", \"a\", \"a\", \"a\", \"a\", \"a\", \"a\", \"a\", \"a\", \"a\", \"a\", \"a\", \"a\", \"a\", \"a\", \"a\", \"a\", \"a\", \"a\", \"a\", \"a\", \"a\", \"a\", \"a\", \"a\", \"a\", \"a\", \"a\", \"a\", \"a\", \"a\", \"a\", \"a\", \"a\", \"a\", \"a\", \"a\", \"a\", \"a\", \"a\", \"a\", \"a\", \"a\", \"a\", \"a\", \"a\", \"a\", \"a\", \"a\", \"a\", \"a\", \"a\", \"a\", \"a\", \"a\", \"a\", \"a\", \"a\", \"a\", \"a\", \"a\", \"a\", \"a\", \"a\", \"a\", \"a\", \"a\", \"a\", \"a\", \"a\", \"a\", \"a\", \"a\", \"a\", \"a\", \"a\", \"a\", \"a\", \"a\", \"a\", \"a\", \"a\", \"a\", \"a\", \"a\", \"a\", \"a\", \"a\", \"a\", \"a\", \"a\", \"a\", \"a\", \"a\", \"a\", \"a\", \"a\", \"a\", \"a\", \"a\", \"a\", \"a\", \"a\", \"a\", \"a\", \"a\", \"a\", \"a\", \"a\", \"a\", \"a\", \"a\", \"a\", \"a\", \"a\", \"a\", \"a\", \"a\", \"a\", \"a\", \"a\", \"a\", \"a\", \"a\", \"a\", \"a\", \"a\", \"a\", \"a\", \"a\", \"a\", \"a\", \"a\", \"a\", \"a\", \"a\", \"a\", \"a\", \"a\", \"a\", \"a\", \"a\", \"a\", \"a\", \"a\", \"a\", \"a\", \"a\", \"a\", \"a\", \"a\", \"a\", \"a\", \"a\", \"a\", \"a\", \"a\", \"a\", \"a\", \"a\", \"a\", \"a\", \"a\", \"a\", \"a\", \"a\", \"a\", \"a\", \"a\", \"a\", \"a\", \"a\", \"a\", \"a\", \"a\", \"a\", \"a\", \"a\", \"a\", \"a\", \"a\", \"a\", \"a\", \"a\", \"a\", \"a\", \"a\", \"a\", \"a\", \"a\", \"a\", \"a\", \"a\", \"a\", \"a\", \"a\", \"a\", \"a\", \"a\", \"a\", \"a\", \"a\", \"a\", \"a\", \"a\", \"a\", \"a\", \"a\", \"a\", \"a\", \"a\", \"a\", \"a\", \"a\", \"a\", \"a\", \"a\", \"a\", \"a\", \"a\", \"a\", \"a\", \"a\", \"a\", \"a\", \"a\", \"a\", \"a\", \"a\", \"a\", \"a\", \"a\", \"a\", \"a\", \"a\", \"a\", \"a\", \"a\", \"a\", \"a\", \"a\", \"a\", \"a\", \"a\", \"a\", \"a\", \"a\", \"a\", \"a\", \"a\", \"a\", \"a\", \"a\", \"a\", \"a\", \"a\", \"a\", \"a\", \"a\", \"a\", \"a\", \"a\", \"a\", \"a\", \"a\", \"a\", \"a\", \"a\", \"a\", \"a\", \"a\", \"a\", \"a\", \"a\", \"a\", \"a\", \"a\", \"a\", \"a\", \"a\", \"a\", \"a\", \"a\", \"a\", \"a\", \"a\", \"a\", \"a\", \"a\", \"a\", \"a\", \"a\", \"a\", \"a\", \"a\", \"a\", \"a\", \"a\", \"a\", \"a\", \"a\", \"a\", \"a\", \"a\", \"a\", \"a\", \"a\", \"a\", \"a\", \"a\", \"a\", \"a\", \"a\", \"a\", \"a\", \"a\", \"a\", \"a\", \"a\", \"a\", \"a\", \"a\", \"a\", \"a\", \"a\", \"a\", \"a\", \"a\", \"a\", \"a\", \"a\", \"a\", \"a\", \"a\", \"a\", \"a\", \"a\", \"a\", \"a\", \"a\", \"a\", \"a\", \"a\", \"a\", \"a\", \"a\", \"a\", \"a\", \"a\", \"a\", \"a\", \"a\", \"a\", \"a\", \"a\", \"a\", \"a\", \"a\", \"a\", \"a\", \"a\", \"a\", \"a\", \"a\", \"a\", \"a\", \"a\", \"a\", \"a\", \"a\", \"a\", \"a\", \"a\", \"a\", \"a\", \"a\", \"a\", \"a\", \"a\", \"a\", \"a\", \"a\", \"a\", \"a\", \"a\", \"a\", \"a\", \"a\", \"a\", \"a\", \"a\", \"a\", \"a\", \"a\", \"a\", \"a\", \"a\", \"a\", \"a\", \"a\", \"a\", \"a\", \"a\", \"a\", \"a\", \"a\", \"a\", \"a\", \"a\", \"a\", \"a\", \"a\", \"a\", \"a\", \"a\", \"a\", \"a\", \"a\", \"a\", \"a\", \"a\", \"a\", \"a\", \"a\", \"a\", \"a\", \"a\", \"a\", \"a\", \"a\", \"a\", \"a\", \"a\", \"a\", \"a\", \"a\", \"a\", \"a\", \"a\", \"a\", \"a\", \"a\", \"a\", \"a\", \"a\", \"a\", \"a\", \"a\", \"a\", \"a\", \"a\", \"a\", \"a\", \"a\", \"a\", \"a\", \"a\", \"a\", \"a\", \"a\", \"a\", \"a\", \"a\", \"a\", \"a\", \"a\", \"a\", \"a\", \"a\", \"a\", \"a\", \"a\", \"a\", \"a\", \"a\", \"a\", \"a\", \"a\", \"a\", \"a\", \"a\", \"a\", \"a\", \"a\", \"a\", \"a\", \"a\", \"a\", \"a\", \"a\", \"a\", \"a\", \"a\", \"a\", \"a\", \"a\", \"a\", \"a\", \"a\", \"a\", \"a\", \"a\", \"a\", \"a\", \"a\", \"a\", \"a\", \"a\", \"a\", \"a\", \"a\", \"a\", \"a\", \"a\", \"a\", \"a\", \"a\", \"a\", \"a\", \"a\", \"a\", \"a\", \"a\", \"a\", \"a\", \"a\", \"a\", \"a\", \"a\", \"a\", \"a\", \"a\", \"a\", \"a\", \"a\", \"a\", \"a\", \"a\", \"a\", \"a\", \"a\", \"a\", \"a\", \"a\", \"a\", \"a\", \"a\", \"a\", \"a\", \"a\", \"a\", \"a\", \"a\", \"a\", \"a\", \"a\", \"a\", \"a\", \"a\", \"a\", \"a\", \"a\", \"a\", \"a\", \"a\", \"a\", \"a\", \"a\", \"a\", \"a\", \"a\", \"a\", \"a\", \"a\", \"a\", \"a\", \"a\", \"a\", \"a\", \"a\", \"a\", \"a\", \"a\", \"a\", \"a\", \"a\", \"a\", \"a\", \"a\", \"a\", \"a\", \"a\", \"a\", \"a\", \"a\", \"a\", \"a\", \"a\", \"a\", \"a\", \"a\", \"a\", \"a\", \"a\", \"a\", \"a\", \"a\", \"a\", \"a\", \"a\", \"a\", \"a\", \"a\", \"a\", \"a\", \"a\", \"a\", \"a\", \"a\", \"a\", \"a\", \"a\", \"a\", \"a\", \"a\", \"a\", \"a\", \"a\", \"a\", \"a\", \"a\", \"a\", \"a\", \"a\", \"a\", \"a\", \"a\", \"a\", \"a\", \"a\", \"a\", \"a\", \"a\", \"a\", \"a\", \"a\", \"a\", \"a\", \"a\", \"a\", \"a\", \"a\", \"a\", \"a\", \"a\", \"a\", \"a\", \"a\", \"a\", \"a\", \"a\", \"a\", \"a\", \"a\", \"a\", \"a\", \"a\", \"a\", \"a\", \"a\", \"a\", \"a\", \"a\", \"a\", \"a\", \"a\", \"a\", \"a\", \"a\", \"a\", \"a\", \"a\", \"a\", \"a\", \"a\", \"a\", \"a\", \"a\", \"a\", \"a\", \"a\", \"a\", \"a\", \"a\", \"a\", \"a\", \"a\", \"a\", \"a\", \"a\", \"a\", \"a\", \"a\", \"a\", \"a\", \"a\", \"a\", \"a\", \"a\", \"a\", \"a\", \"a\", \"a\", \"a\", \"a\", \"a\", \"a\", \"a\", \"a\", \"a\", \"a\", \"a\", \"a\", \"a\", \"a\", \"a\", \"a\", \"a\", \"a\", \"a\", \"a\", \"a\", \"a\", \"a\", \"a\", \"a\", \"a\", \"a\", \"a\", \"a\", \"a\", \"a\", \"a\", \"a\", \"a\", \"a\", \"a\", \"a\", \"a\", \"a\", \"a\", \"a\", \"a\", \"a\", \"a\", \"a\", \"a\", \"a\", \"a\", \"a\", \"a\", \"a\", \"a\", \"a\", \"a\", \"a\", \"a\", \"a\", \"a\", \"a\", \"a\", \"a\", \"a\", \"a\", \"a\", \"a\", \"a\", \"a\", \"a\", \"a\", \"a\", \"a\", \"a\", \"a\", \"a\", \"a\", \"a\", \"a\", \"a\", \"a\", \"a\", \"a\", \"a\", \"a\", \"a\", \"a\", \"a\", \"a\", \"a\", \"a\", \"a\", \"a\", \"a\", \"a\", \"a\", \"a\", \"a\", \"a\", \"a\", \"a\", \"a\", \"a\", \"a\", \"a\", \"a\", \"a\", \"a\", \"a\", \"a\", \"a\", \"a\", \"a\", \"a\", \"a\", \"a\", \"a\", \"a\", \"a\", \"a\", \"a\", \"a\", \"a\", \"a\", \"a\", \"a\", \"a\", \"a\", \"a\", \"a\", \"a\", \"a\", \"a\", \"a\", \"a\", \"a\", \"a\", \"a\", \"a\", \"a\", \"a\", \"a\", \"a\", \"a\", \"a\", \"a\", \"a\", \"a\", \"a\", \"a\", \"a\", \"a\", \"a\", \"a\", \"a\", \"a\", \"a\", \"a\", \"a\", \"a\", \"a\", \"a\", \"a\", \"a\", \"a\", \"a\", \"a\", \"a\", \"a\", \"a\", \"a\", \"a\", \"a\", \"a\", \"a\", \"a\", \"a\", \"a\", \"a\", \"a\", \"a\", \"a\", \"a\", \"a\", \"a\", \"a\", \"a\", \"a\", \"a\", \"a\", \"a\", \"a\", \"a\", \"a\", \"a\", \"a\", \"a\", \"a\", \"a\", \"a\", \"a\", \"a\", \"a\", \"a\", \"a\", \"a\", \"a\", \"a\", \"a\", \"a\", \"a\", \"a\", \"a\", \"a\", \"a\", \"a\", \"a\", \"a\", \"a\", \"a\", \"a\", \"a\", \"a\", \"a\", \"a\", \"a\", \"a\", \"a\", \"a\", \"a\", \"a\", \"a\", \"a\", \"a\", \"a\", \"a\", \"a\", \"a\", \"a\", \"a\", \"a\", \"a\", \"a\", \"a\", \"a\", \"a\", \"a\", \"a\", \"a\", \"a\", \"a\", \"a\", \"a\", \"a\", \"a\", \"a\", \"a\", \"a\", \"a\", \"a\", \"a\", \"a\", \"a\", \"a\", \"a\", \"a\", \"a\", \"a\", \"a\", \"a\", \"a\", \"a\", \"a\", \"a\", \"a\", \"a\", \"a\", \"a\", \"a\", \"a\", \"a\", \"a\", \"a\", \"a\", \"a\", \"a\", \"a\", \"a\", \"a\", \"a\", \"a\", \"a\", \"a\", \"a\", \"a\", \"a\", \"a\", \"a\", \"a\", \"a\", \"a\", \"a\", \"a\", \"a\", \"a\", \"a\", \"a\", \"a\", \"a\", \"a\", \"a\", \"a\", \"a\", \"a\", \"a\", \"a\", \"a\", \"a\", \"a\", \"a\", \"a\", \"a\", \"a\", \"a\", \"a\", \"a\", \"a\", \"a\", \"a\", \"a\", \"a\", \"a\", \"a\", \"a\", \"a\", \"a\", \"a\", \"a\", \"a\", \"a\", \"a\", \"a\", \"a\", \"a\", \"a\", \"a\", \"a\", \"a\", \"a\", \"a\", \"a\", \"a\", \"a\", \"a\", \"a\", \"a\", \"a\", \"a\", \"a\", \"a\", \"a\", \"a\", \"a\", \"a\", \"a\", \"a\", \"a\", \"a\", \"a\", \"a\", \"a\", \"a\", \"a\", \"a\", \"a\", \"a\", \"a\", \"a\", \"a\", \"a\", \"a\", \"a\", \"a\", \"a\", \"a\", \"a\", \"a\", \"a\", \"a\", \"a\", \"a\", \"a\", \"a\", \"a\", \"a\", \"a\", \"a\", \"a\", \"a\", \"a\", \"a\", \"a\", \"a\", \"a\", \"a\", \"a\", \"a\", \"a\", \"a\", \"a\", \"a\", \"a\", \"a\", \"a\", \"a\", \"a\", \"a\", \"a\", \"a\", \"a\", \"a\", \"a\", \"a\", \"a\", \"a\", \"a\", \"a\", \"a\", \"a\", \"a\", \"a\", \"a\", \"a\", \"a\", \"a\", \"a\", \"a\", \"a\", \"a\", \"a\", \"a\", \"a\", \"a\", \"a\", \"a\", \"a\", \"a\", \"a\", \"a\", \"a\", \"a\", \"a\", \"a\", \"a\", \"a\", \"a\", \"a\", \"a\", \"a\", \"a\", \"a\", \"a\", \"a\", \"a\", \"a\", \"a\", \"a\", \"a\", \"a\", \"a\", \"a\", \"a\", \"a\", \"a\", \"a\", \"a\", \"a\", \"a\", \"a\", \"a\", \"a\", \"a\", \"a\", \"a\", \"a\", \"a\", \"a\", \"a\", \"a\", \"a\", \"a\", \"a\", \"a\", \"a\", \"a\", \"a\", \"a\", \"a\", \"a\", \"a\", \"a\", \"a\", \"a\", \"a\", \"a\", \"a\", \"a\", \"a\", \"a\", \"a\", \"a\", \"a\", \"a\", \"a\", \"a\", \"a\", \"a\", \"a\", \"a\", \"a\", \"a\", \"a\", \"a\", \"a\", \"a\", \"a\", \"a\", \"a\", \"a\", \"a\", \"a\", \"a\", \"a\", \"a\", \"a\", \"a\", \"a\", \"a\", \"a\", \"a\", \"a\", \"a\", \"a\", \"a\", \"a\", \"a\", \"a\", \"a\", \"a\", \"a\", \"a\", \"a\", \"a\", \"a\", \"a\", \"a\", \"a\", \"a\", \"a\", \"a\", \"a\", \"a\", \"a\", \"a\", \"a\", \"a\", \"a\", \"a\", \"a\", \"a\", \"a\", \"a\", \"a\", \"a\", \"a\", \"a\", \"a\", \"a\", \"a\", \"a\", \"a\", \"a\", \"a\", \"a\", \"a\", \"a\", \"a\", \"a\", \"a\", \"a\", \"a\", \"a\", \"a\", \"a\", \"a\", \"a\", \"a\", \"a\", \"a\", \"a\", \"a\", \"a\", \"a\", \"a\", \"a\", \"a\", \"a\", \"a\", \"a\", \"a\", \"a\", \"a\", \"a\", \"a\", \"a\", \"a\", \"a\", \"a\", \"a\", \"a\", \"a\", \"a\", \"a\", \"a\", \"a\", \"a\", \"a\", \"a\", \"a\", \"a\", \"a\", \"a\", \"a\", \"a\", \"a\", \"a\", \"a\", \"a\", \"a\", \"a\", \"a\", \"a\", \"a\", \"a\", \"a\", \"a\", \"a\", \"a\", \"a\", \"a\", \"a\", \"a\", \"a\", \"a\", \"a\", \"a\", \"a\", \"a\", \"a\", \"a\", \"a\", \"a\", \"a\", \"a\", \"a\", \"a\", \"a\", \"a\", \"a\", \"a\", \"a\", \"a\", \"a\", \"a\", \"a\", \"a\", \"a\", \"a\", \"a\", \"a\", \"a\", \"a\", \"a\", \"a\", \"a\", \"a\", \"a\", \"a\", \"a\", \"a\", \"a\", \"a\", \"a\", \"a\", \"a\", \"a\", \"a\", \"a\", \"a\", \"a\", \"a\", \"a\", \"a\", \"a\", \"a\", \"a\", \"a\", \"a\", \"a\", \"a\", \"a\", \"a\", \"a\", \"a\", \"a\", \"a\", \"a\", \"a\", \"a\", \"a\", \"a\", \"a\", \"a\", \"a\", \"a\", \"a\", \"a\", \"a\", \"a\", \"a\", \"a\", \"a\", \"a\", \"a\", \"a\", \"a\", \"a\", \"a\", \"a\", \"a\", \"a\", \"a\", \"a\", \"a\", \"a\", \"a\", \"a\", \"a\", \"a\", \"a\", \"a\", \"a\", \"a\", \"a\", \"a\", \"a\", \"a\", \"a\", \"a\", \"a\", \"a\", \"a\", \"a\", \"a\", \"a\", \"a\", \"a\", \"a\", \"a\", \"a\", \"a\", \"a\", \"a\", \"a\", \"a\", \"a\", \"a\", \"a\", \"a\", \"a\", \"a\", \"a\", \"a\", \"a\", \"a\", \"a\", \"a\", \"a\", \"a\", \"a\", \"a\", \"a\", \"a\", \"a\", \"a\", \"a\", \"a\", \"a\", \"a\", \"a\", \"a\", \"a\", \"a\", \"a\", \"a\", \"a\", \"a\", \"a\", \"a\", \"a\", \"a\", \"a\", \"a\", \"a\", \"a\", \"a\", \"a\", \"a\", \"a\", \"a\", \"a\", \"a\", \"a\", \"a\", \"a\", \"a\", \"a\", \"a\", \"a\", \"a\", \"a\", \"a\", \"a\", \"a\", \"a\", \"a\", \"a\", \"a\", \"a\", \"a\", \"a\", \"a\", \"a\", \"a\", \"a\", \"a\", \"a\", \"a\", \"a\", \"a\", \"a\", \"a\", \"a\", \"a\", \"a\", \"a\", \"a\", \"a\", \"a\", \"a\", \"a\", \"a\", \"a\", \"a\", \"a\", \"a\", \"a\", \"a\", \"a\", \"a\", \"a\", \"a\", \"a\", \"a\", \"a\", \"a\", \"a\", \"a\", \"a\", \"a\", \"a\", \"a\", \"a\", \"a\", \"a\", \"a\", \"a\", \"a\", \"a\", \"a\", \"a\", \"a\", \"a\", \"a\", \"a\", \"a\", \"a\", \"a\", \"a\", \"a\", \"a\", \"a\", \"a\", \"a\", \"a\", \"a\", \"a\", \"a\", \"a\", \"a\", \"a\", \"a\", \"a\", \"a\", \"a\", \"a\", \"a\", \"a\", \"a\", \"a\", \"a\", \"a\", \"a\", \"a\", \"a\", \"a\", \"a\", \"a\", \"a\", \"a\", \"a\", \"a\", \"a\", \"a\", \"a\", \"a\", \"a\", \"a\", \"a\", \"a\", \"a\", \"a\", \"a\", \"a\", \"a\", \"a\", \"a\", \"a\", \"a\", \"a\", \"a\", \"a\", \"a\", \"a\", \"a\", \"a\", \"a\", \"a\", \"a\", \"a\", \"a\", \"a\", \"a\", \"a\", \"a\", \"a\", \"a\", \"a\", \"a\", \"a\", \"a\", \"a\", \"a\", \"a\", \"a\", \"a\", \"a\", \"a\", \"a\", \"a\", \"a\", \"a\", \"a\", \"a\", \"a\", \"a\", \"a\", \"a\", \"a\", \"a\", \"a\", \"a\", \"a\", \"a\", \"a\", \"a\", \"a\", \"a\", \"a\", \"a\", \"a\", \"a\", \"a\", \"a\", \"a\", \"a\", \"a\", \"a\", \"a\", \"a\", \"a\", \"a\", \"a\", \"a\", \"a\", \"a\", \"a\", \"a\", \"a\", \"a\", \"a\", \"a\", \"a\", \"a\", \"a\", \"a\", \"a\", \"a\", \"a\", \"a\", \"a\", \"a\", \"a\", \"a\", \"a\", \"a\", \"a\", \"a\", \"a\", \"a\", \"a\", \"a\", \"a\", \"a\", \"a\", \"a\", \"a\", \"a\", \"a\", \"a\", \"a\", \"a\", \"a\", \"a\", \"a\", \"a\", \"a\", \"a\", \"a\", \"a\", \"a\", \"a\", \"a\", \"a\", \"a\", \"a\", \"a\", \"a\", \"a\", \"a\", \"a\", \"a\", \"a\", \"a\", \"a\", \"a\", \"a\", \"a\", \"a\", \"a\", \"a\", \"a\", \"a\", \"a\", \"a\", \"a\", \"a\", \"a\", \"a\", \"a\", \"a\", \"a\", \"a\", \"a\", \"a\", \"a\", \"a\", \"a\", \"a\", \"a\", \"a\", \"a\", \"a\", \"a\", \"a\", \"a\", \"a\", \"a\", \"a\", \"a\", \"a\", \"a\", \"a\", \"a\", \"a\", \"a\", \"a\", \"a\", \"a\", \"a\", \"a\", \"a\", \"a\", \"a\", \"a\", \"a\", \"a\", \"a\", \"a\", \"a\", \"a\", \"a\", \"a\", \"a\", \"a\", \"a\", \"a\", \"a\", \"a\", \"a\", \"a\", \"a\", \"a\", \"a\", \"a\", \"a\", \"a\", \"a\", \"a\", \"a\", \"a\", \"a\", \"a\", \"a\", \"a\", \"a\", \"a\", \"a\", \"a\", \"a\", \"a\", \"a\", \"a\", \"a\", \"a\", \"a\", \"a\", \"a\", \"a\", \"a\", \"a\", \"a\", \"a\", \"a\", \"a\", \"a\", \"a\", \"a\", \"a\", \"a\", \"a\", \"a\", \"a\", \"a\", \"a\", \"a\", \"a\", \"a\", \"a\", \"a\", \"a\", \"a\", \"a\", \"a\", \"a\", \"a\", \"a\", \"a\", \"a\", \"a\", \"a\", \"a\", \"a\", \"a\", \"a\", \"a\", \"a\", \"a\", \"a\", \"a\", \"a\", \"a\", \"a\", \"a\", \"a\", \"a\", \"a\", \"a\", \"a\", \"a\", \"a\", \"a\", \"a\", \"a\", \"a\", \"a\", \"a\", \"a\", \"a\", \"a\", \"a\", \"a\", \"a\", \"a\", \"a\", \"a\", \"a\", \"a\", \"a\", \"a\", \"a\", \"a\", \"a\", \"a\", \"a\", \"a\", \"a\", \"a\", \"a\", \"a\", \"a\", \"a\", \"a\", \"a\", \"a\", \"a\", \"a\", \"a\", \"a\", \"a\", \"a\", \"a\", \"a\", \"a\", \"a\", \"a\", \"a\", \"a\", \"a\", \"a\", \"a\", \"a\", \"a\", \"a\", \"a\", \"a\", \"a\", \"a\", \"a\", \"a\", \"a\", \"a\", \"a\", \"a\", \"a\", \"a\", \"a\", \"a\", \"a\", \"a\", \"a\", \"a\", \"a\", \"a\", \"a\", \"a\", \"a\", \"a\", \"a\", \"a\", \"a\", \"a\", \"a\", \"a\", \"a\", \"a\", \"a\", \"a\", \"a\", \"a\", \"a\", \"a\", \"a\", \"a\", \"a\", \"a\", \"a\", \"a\", \"a\", \"a\", \"a\", \"a\", \"a\", \"a\", \"a\", \"a\", \"a\", \"a\", \"a\", \"a\", \"a\", \"a\", \"a\", \"a\", \"a\", \"a\", \"a\", \"a\", \"a\", \"a\", \"a\", \"a\", \"a\", \"a\", \"a\", \"a\", \"a\", \"a\", \"a\", \"a\", \"a\", \"a\", \"a\", \"a\", \"a\", \"a\", \"a\", \"a\", \"a\", \"a\", \"a\", \"a\", \"a\", \"a\", \"a\", \"a\", \"a\", \"a\", \"a\", \"a\", \"a\", \"a\", \"a\", \"a\", \"a\", \"a\", \"a\", \"a\", \"a\", \"a\", \"a\", \"a\", \"a\", \"a\", \"a\", \"a\", \"a\", \"a\", \"a\", \"a\", \"a\", \"a\", \"a\", \"a\", \"a\", \"a\", \"a\", \"a\", \"a\", \"a\", \"a\", \"a\", \"a\", \"a\", \"a\", \"a\", \"a\", \"a\", \"a\", \"a\", \"a\", \"a\", \"a\", \"a\", \"a\", \"a\", \"a\", \"a\", \"a\", \"a\", \"a\", \"a\", \"a\", \"a\", \"a\", \"a\", \"a\", \"a\", \"a\", \"a\", \"a\", \"a\", \"a\", \"a\", \"a\", \"a\", \"a\", \"a\", \"a\", \"a\", \"a\", \"a\", \"a\", \"a\", \"a\", \"a\", \"a\", \"a\", \"a\", \"a\", \"a\", \"a\", \"a\", \"a\", \"a\", \"a\", \"a\", \"a\", \"a\", \"a\", \"a\", \"a\", \"a\", \"a\", \"a\", \"a\", \"a\", \"a\", \"a\", \"a\", \"a\", \"a\", \"a\", \"a\", \"a\", \"a\", \"a\", \"a\", \"a\", \"a\", \"a\", \"a\", \"a\", \"a\", \"a\", \"a\", \"a\", \"a\", \"a\", \"a\", \"a\", \"a\", \"a\", \"a\", \"a\", \"a\", \"a\", \"a\", \"a\", \"a\", \"a\", \"a\", \"a\", \"a\", \"a\", \"a\", \"a\", \"a\", \"a\", \"a\", \"a\", \"a\", \"a\", \"a\", \"a\", \"a\", \"a\", \"a\", \"a\", \"a\", \"a\", \"a\", \"a\", \"a\", \"a\", \"a\", \"a\", \"a\", \"a\", \"a\", \"a\", \"a\", \"a\", \"a\", \"a\", \"a\", \"a\", \"a\", \"a\", \"a\", \"a\", \"a\", \"a\", \"a\", \"a\", \"a\", \"a\", \"a\", \"a\", \"a\", \"a\", \"a\", \"a\", \"a\", \"a\", \"a\", \"a\", \"a\", \"a\", \"a\", \"a\", \"a\", \"a\", \"a\", \"a\", \"a\", \"a\", \"a\", \"a\", \"a\", \"a\", \"a\", \"a\", \"a\", \"a\", \"a\", \"a\", \"a\", \"a\", \"a\", \"a\", \"a\", \"a\", \"a\", \"a\", \"a\", \"a\", \"a\", \"a\", \"a\", \"a\", \"a\", \"a\", \"a\", \"a\", \"a\", \"a\", \"a\", \"a\", \"a\", \"a\", \"a\", \"a\", \"a\", \"a\", \"a\", \"a\", \"a\", \"a\", \"a\", \"a\", \"a\", \"a\", \"a\", \"a\", \"a\", \"a\", \"a\", \"a\", \"a\", \"a\", \"a\", \"a\", \"a\", \"a\", \"a\", \"a\", \"a\", \"a\", \"a\", \"a\", \"a\", \"a\", \"a\", \"a\", \"a\", \"a\", \"a\", \"a\", \"a\", \"a\", \"a\", \"a\", \"a\", \"a\", \"a\", \"a\", \"a\", \"a\", \"a\", \"a\", \"a\", \"a\", \"a\", \"a\", \"a\", \"a\", \"a\", \"a\", \"a\", \"a\", \"a\", \"a\", \"a\", \"a\", \"a\", \"a\", \"a\", \"a\", \"a\", \"a\", \"a\", \"a\", \"a\", \"a\", \"a\", \"a\", \"a\", \"a\", \"a\", \"a\", \"a\", \"a\", \"a\", \"a\", \"a\", \"a\", \"a\", \"a\", \"a\", \"a\", \"a\", \"a\", \"a\", \"a\", \"a\", \"a\", \"a\", \"a\", \"a\", \"a\", \"a\", \"a\", \"a\", \"a\", \"a\", \"a\", \"a\", \"a\", \"a\", \"a\", \"a\", \"a\", \"a\", \"a\", \"a\", \"a\", \"a\", \"a\", \"a\", \"a\", \"a\", \"a\", \"a\", \"a\", \"a\", \"a\", \"a\", \"a\", \"a\", \"a\", \"a\", \"a\", \"a\", \"a\", \"a\", \"a\", \"a\", \"a\", \"a\", \"a\", \"a\", \"a\", \"a\", \"a\", \"a\", \"a\", \"a\", \"a\", \"a\", \"a\", \"a\", \"a\", \"a\", \"a\", \"a\", \"a\", \"a\", \"a\", \"a\", \"a\", \"a\", \"a\", \"a\", \"a\", \"a\", \"a\", \"a\", \"a\", \"a\", \"a\", \"a\", \"a\", \"a\", \"a\", \"a\", \"a\", \"a\", \"a\", \"a\", \"a\", \"a\", \"a\", \"a\", \"a\", \"a\", \"a\", \"a\", \"a\", \"a\", \"a\", \"a\", \"a\", \"a\", \"a\", \"a\", \"a\", \"a\", \"a\", \"a\", \"a\", \"a\", \"a\", \"a\", \"a\", \"a\", \"a\", \"a\", \"a\", \"a\", \"a\", \"a\", \"a\", \"a\", \"a\", \"a\", \"a\", \"a\", \"a\", \"a\", \"a\", \"a\", \"a\", \"a\", \"a\", \"a\", \"a\", \"a\", \"a\", \"a\", \"a\", \"a\", \"a\", \"a\", \"a\", \"a\", \"a\", \"a\", \"a\", \"a\", \"a\", \"a\", \"a\", \"a\", \"a\", \"a\", \"a\", \"a\", \"a\", \"a\", \"a\", \"a\", \"a\", \"a\", \"a\", \"a\", \"a\", \"a\", \"a\", \"a\", \"a\", \"a\", \"a\", \"a\", \"a\", \"a\", \"a\", \"a\", \"a\", \"a\", \"a\", \"a\", \"a\", \"a\", \"a\", \"a\", \"a\", \"a\", \"a\", \"a\", \"a\", \"a\", \"a\", \"a\", \"a\", \"a\", \"a\", \"a\", \"a\", \"a\", \"a\", \"a\", \"a\", \"a\", \"a\", \"a\", \"a\", \"a\", \"a\", \"a\", \"a\", \"a\", \"a\", \"a\", \"a\", \"a\", \"a\", \"a\", \"a\", \"a\", \"a\", \"a\", \"a\", \"a\", \"a\", \"a\", \"a\", \"a\", \"a\", \"a\", \"a\", \"a\", \"a\", \"a\", \"a\", \"a\", \"a\", \"a\", \"a\", \"a\", \"a\", \"a\", \"a\", \"a\", \"a\", \"a\", \"a\", \"a\", \"a\", \"a\", \"a\", \"a\", \"a\", \"a\", \"a\", \"a\", \"a\", \"a\", \"a\", \"a\", \"a\", \"a\", \"a\", \"a\", \"a\", \"a\", \"a\", \"a\", \"a\", \"a\", \"a\", \"a\", \"a\", \"a\", \"a\", \"a\", \"a\", \"a\", \"a\", \"a\", \"a\", \"a\", \"a\", \"a\", \"a\", \"a\", \"a\", \"a\", \"a\", \"a\", \"a\", \"a\", \"a\", \"a\", \"a\", \"a\", \"a\", \"a\", \"a\", \"a\", \"a\", \"a\", \"a\", \"a\", \"a\", \"a\", \"a\", \"a\", \"a\", \"a\", \"a\", \"a\", \"a\", \"a\", \"a\", \"a\", \"a\", \"a\", \"a\", \"a\", \"a\", \"a\", \"a\", \"a\", \"a\", \"a\", \"a\", \"a\", \"a\", \"a\", \"a\", \"a\", \"a\", \"a\", \"a\", \"a\", \"a\", \"a\", \"a\", \"a\", \"a\", \"a\", \"a\", \"a\", \"a\", \"a\", \"a\", \"a\", \"a\", \"a\", \"a\", \"a\", \"a\", \"a\", \"a\", \"a\", \"a\", \"a\", \"a\", \"a\", \"a\", \"a\", \"a\", \"a\", \"a\", \"a\", \"a\", \"a\", \"a\", \"a\", \"a\", \"a\", \"a\", \"a\", \"a\", \"a\", \"a\", \"a\", \"a\", \"a\", \"a\", \"a\", \"a\", \"a\", \"a\", \"a\", \"a\", \"a\", \"a\", \"a\", \"a\", \"a\", \"a\", \"a\", \"a\", \"a\", \"a\", \"a\", \"a\", \"a\", \"a\", \"a\", \"a\", \"a\", \"a\", \"a\", \"a\", \"a\", \"a\", \"a\", \"a\", \"a\", \"a\", \"a\", \"a\", \"a\", \"a\", \"a\", \"a\", \"a\", \"a\", \"a\", \"a\", \"a\", \"a\", \"a\", \"a\", \"a\", \"a\", \"a\", \"a\", \"a\", \"a\", \"a\", \"a\", \"a\", \"a\", \"a\", \"a\", \"a\", \"a\", \"a\", \"a\", \"a\", \"a\", \"a\", \"a\", \"a\", \"a\", \"a\", \"a\", \"a\", \"a\", \"a\", \"a\", \"a\", \"a\", \"a\", \"a\", \"a\", \"a\", \"a\", \"a\", \"a\", \"a\", \"a\", \"a\", \"a\", \"a\", \"a\", \"a\", \"a\", \"a\", \"a\", \"a\", \"a\", \"a\", \"a\", \"a\", \"a\", \"a\", \"a\", \"a\", \"a\", \"a\", \"a\", \"a\", \"a\", \"a\", \"a\", \"a\", \"a\", \"a\", \"a\", \"a\", \"a\", \"a\", \"a\", \"a\", \"a\", \"a\", \"a\", \"a\", \"a\", \"a\", \"a\", \"a\", \"a\", \"a\", \"a\", \"a\", \"a\", \"a\", \"a\", \"a\", \"a\", \"a\", \"a\", \"a\", \"a\", \"a\", \"a\", \"a\", \"a\", \"a\", \"a\", \"a\", \"a\", \"a\", \"a\", \"a\", \"a\", \"a\", \"a\", \"a\", \"a\", \"a\", \"a\", \"a\", \"a\", \"a\", \"a\", \"a\", \"a\", \"a\", \"a\", \"a\", \"a\", \"a\", \"a\", \"a\", \"a\", \"a\", \"a\", \"a\", \"a\", \"a\", \"a\", \"a\", \"a\", \"a\", \"a\", \"a\", \"a\", \"a\", \"a\", \"a\", \"a\", \"a\", \"a\", \"a\", \"a\", \"a\", \"a\", \"a\", \"a\", \"a\", \"a\", \"a\", \"a\", \"a\", \"a\", \"a\", \"a\", \"a\", \"a\", \"a\", \"a\", \"a\", \"a\", \"a\", \"a\", \"a\", \"a\", \"a\", \"a\", \"a\", \"a\", \"a\", \"a\", \"a\", \"a\", \"a\", \"a\", \"a\", \"a\", \"a\", \"a\", \"a\", \"a\", \"a\", \"a\", \"a\", \"a\", \"a\", \"a\", \"a\", \"a\", \"a\", \"a\", \"a\", \"a\", \"a\", \"a\", \"a\", \"a\", \"a\", \"a\", \"a\", \"a\", \"a\", \"a\", \"a\", \"a\", \"a\", \"a\", \"a\", \"a\", \"a\", \"a\", \"a\", \"a\", \"a\", \"a\", \"a\", \"a\", \"a\", \"a\", \"a\", \"a\", \"a\", \"a\", \"a\", \"a\", \"a\", \"a\", \"a\", \"a\", \"a\", \"a\", \"a\", \"a\", \"a\", \"a\", \"a\", \"a\", \"a\", \"a\", \"a\", \"a\", \"a\", \"a\", \"a\", \"a\", \"a\", \"a\", \"a\", \"a\", \"a\", \"a\", \"a\", \"a\", \"a\", \"a\", \"a\", \"a\", \"a\", \"a\", \"a\", \"a\", \"a\", \"a\", \"a\", \"a\", \"a\", \"a\", \"a\", \"a\", \"a\", \"a\", \"a\", \"a\", \"a\", \"a\", \"a\", \"a\", \"a\", \"a\", \"a\", \"a\", \"a\", \"a\", \"a\", \"a\", \"a\", \"a\", \"a\", \"a\", \"a\", \"a\", \"a\", \"a\", \"a\", \"a\", \"a\", \"a\", \"a\", \"a\", \"a\", \"a\", \"a\", \"a\", \"a\", \"a\", \"a\", \"a\", \"a\", \"a\", \"a\", \"a\", \"a\", \"a\", \"a\", \"a\", \"a\", \"a\", \"a\", \"a\", \"a\", \"a\", \"a\", \"a\", \"a\", \"a\", \"a\", \"a\", \"a\", \"a\", \"a\", \"a\", \"a\", \"a\", \"a\", \"a\", \"a\", \"a\", \"a\", \"a\", \"a\", \"a\", \"a\", \"a\", \"a\", \"a\", \"a\", \"a\", \"a\", \"a\", \"a\", \"a\", \"a\", \"a\", \"a\", \"a\", \"a\", \"a\", \"a\", \"a\", \"a\", \"a\", \"a\", \"a\", \"a\", \"a\", \"a\", \"a\", \"a\", \"a\", \"a\", \"a\", \"a\", \"a\", \"a\", \"a\", \"a\", \"a\", \"a\", \"a\", \"a\", \"a\", \"a\", \"a\", \"a\", \"a\", \"a\", \"a\", \"a\", \"a\", \"a\", \"a\", \"a\", \"a\", \"a\", \"a\", \"a\", \"a\", \"a\", \"a\", \"a\", \"a\", \"a\", \"a\", \"a\", \"a\", \"a\", \"a\", \"a\", \"a\", \"a\", \"a\", \"a\", \"a\", \"a\", \"a\", \"a\", \"a\", \"a\", \"a\", \"a\", \"a\", \"a\", \"a\", \"a\", \"a\", \"a\", \"a\", \"a\", \"a\", \"a\", \"a\", \"a\", \"a\", \"a\", \"a\", \"a\", \"a\", \"a\", \"a\", \"a\", \"a\", \"a\", \"a\", \"a\", \"a\", \"a\", \"a\", \"a\", \"a\", \"a\", \"a\", \"a\", \"a\", \"a\", \"a\", \"a\", \"a\", \"a\", \"a\", \"a\", \"a\", \"a\", \"a\", \"a\", \"a\", \"a\", \"a\", \"a\", \"a\", \"a\", \"a\", \"a\", \"a\", \"a\", \"a\", \"a\", \"a\", \"a\", \"a\", \"a\", \"a\", \"a\", \"a\", \"a\", \"a\", \"a\", \"a\", \"a\", \"a\", \"a\", \"a\", \"a\", \"a\", \"a\", \"a\", \"a\", \"a\", \"a\", \"a\", \"a\", \"a\", \"a\", \"a\", \"a\", \"a\", \"a\", \"a\", \"a\", \"a\", \"a\", \"a\", \"a\", \"a\", \"a\", \"a\", \"a\", \"a\", \"a\", \"a\", \"a\", \"a\", \"a\", \"a\", \"a\", \"a\", \"a\", \"a\", \"a\", \"a\", \"a\", \"a\", \"a\", \"a\", \"a\", \"a\", \"a\", \"a\", \"a\", \"a\", \"a\", \"a\", \"a\", \"a\", \"a\", \"a\", \"a\", \"a\", \"a\", \"a\", \"a\", \"a\", \"a\", \"a\", \"a\", \"a\", \"a\", \"a\", \"a\", \"a\", \"a\", \"a\", \"a\", \"a\", \"a\", \"a\", \"a\", \"a\", \"a\", \"a\", \"a\", \"a\", \"a\", \"a\", \"a\", \"a\", \"a\", \"a\", \"a\", \"a\", \"a\", \"a\", \"a\", \"a\", \"a\", \"a\", \"a\", \"a\", \"a\", \"a\", \"a\", \"a\", \"a\", \"a\", \"a\", \"a\", \"a\", \"a\", \"a\", \"a\", \"a\", \"a\", \"a\", \"a\", \"a\", \"a\", \"a\", \"a\", \"a\", \"a\", \"a\", \"a\", \"a\", \"a\", \"a\", \"a\", \"a\", \"a\", \"a\", \"a\", \"a\", \"a\", \"a\", \"a\", \"a\", \"a\", \"a\", \"a\", \"a\", \"a\", \"a\", \"a\", \"a\", \"a\", \"a\", \"a\", \"a\", \"a\", \"a\", \"a\", \"a\", \"a\", \"a\", \"a\", \"a\", \"a\", \"a\", \"a\", \"a\", \"a\", \"a\", \"a\", \"a\", \"a\", \"a\", \"a\", \"a\", \"a\", \"a\", \"a\", \"a\", \"a\", \"a\", \"a\", \"a\", \"a\", \"a\", \"a\", \"a\", \"a\", \"a\", \"a\", \"a\", \"a\", \"a\", \"a\", \"a\", \"a\", \"a\", \"a\", \"a\", \"a\", \"a\", \"a\", \"a\", \"a\", \"a\", \"a\", \"a\", \"a\", \"a\", \"a\", \"a\", \"a\", \"a\", \"a\", \"a\", \"a\", \"a\", \"a\", \"a\", \"a\", \"a\", \"a\", \"a\", \"a\", \"a\", \"a\", \"a\", \"a\", \"a\", \"a\", \"a\", \"a\", \"a\", \"a\", \"a\", \"a\", \"a\", \"a\", \"a\", \"a\", \"a\", \"a\", \"a\", \"a\", \"a\", \"a\", \"a\", \"a\", \"a\", \"a\", \"a\", \"a\", \"a\", \"a\", \"a\", \"a\", \"a\", \"a\", \"a\", \"a\", \"a\", \"a\", \"a\", \"a\", \"a\", \"a\", \"a\", \"a\", \"a\", \"a\", \"a\", \"a\", \"a\", \"a\", \"a\", \"a\", \"a\", \"a\", \"a\", \"a\", \"a\", \"a\", \"a\", \"a\", \"a\", \"a\", \"a\", \"a\", \"a\", \"a\", \"a\", \"a\", \"a\", \"a\", \"a\", \"a\", \"a\", \"a\", \"a\", \"a\", \"a\", \"a\", \"a\", \"a\", \"a\", \"a\", \"a\", \"a\", \"a\", \"a\", \"a\", \"a\", \"a\", \"a\", \"a\", \"a\", \"a\", \"a\", \"a\", \"a\", \"a\", \"a\", \"a\", \"a\", \"a\", \"a\", \"a\", \"a\", \"a\", \"a\", \"a\", \"a\", \"a\", \"a\", \"a\", \"a\", \"a\", \"a\", \"a\", \"a\", \"a\", \"a\", \"a\", \"a\", \"a\", \"a\", \"a\", \"a\", \"a\", \"a\", \"a\", \"a\", \"a\", \"a\", \"a\", \"a\", \"a\", \"a\", \"a\", \"a\", \"a\", \"a\", \"a\", \"a\", \"a\", \"a\", \"a\", \"a\", \"a\", \"a\", \"a\", \"a\", \"a\", \"a\", \"a\", \"a\", \"a\", \"a\", \"a\", \"a\", \"a\", \"a\", \"a\", \"a\", \"a\", \"a\", \"a\", \"a\", \"a\", \"a\", \"a\", \"a\", \"a\", \"a\", \"a\", \"a\", \"a\", \"a\", \"a\", \"a\", \"a\", \"a\", \"a\", \"a\", \"a\", \"a\", \"a\", \"a\", \"a\", \"a\", \"a\", \"a\", \"a\", \"a\", \"a\", \"a\", \"a\", \"a\", \"a\", \"a\", \"a\", \"a\", \"a\", \"a\", \"a\", \"a\", \"a\", \"a\", \"a\", \"a\", \"a\", \"a\", \"a\", \"a\", \"a\", \"a\", \"a\", \"a\", \"a\", \"a\", \"a\", \"a\", \"a\", \"a\", \"a\", \"a\", \"a\", \"a\", \"a\", \"a\", \"a\", \"a\", \"a\", \"a\", \"a\", \"a\", \"a\", \"a\", \"a\", \"a\", \"a\", \"a\", \"a\", \"a\", \"a\", \"a\", \"a\", \"a\", \"a\", \"a\", \"a\", \"a\", \"a\", \"a\", \"a\", \"a\", \"a\", \"a\", \"a\", \"a\", \"a\", \"a\", \"a\", \"a\", \"a\", \"a\", \"a\", \"a\", \"a\", \"a\", \"a\", \"a\", \"a\", \"a\", \"a\", \"a\", \"a\", \"a\", \"a\", \"a\", \"a\", \"a\", \"a\", \"a\", \"a\", \"a\", \"a\", \"a\", \"a\", \"a\", \"a\", \"a\", \"a\", \"a\", \"a\", \"a\", \"a\", \"a\", \"a\", \"a\", \"a\", \"a\", \"a\", \"a\", \"a\", \"a\", \"a\", \"a\", \"a\", \"a\", \"a\", \"a\", \"a\", \"a\", \"a\", \"a\", \"a\", \"a\", \"a\", \"a\", \"a\", \"a\", \"a\", \"a\", \"a\", \"a\", \"a\", \"a\", \"a\", \"a\", \"a\", \"a\", \"a\", \"a\", \"a\", \"a\", \"a\", \"a\", \"a\", \"a\", \"a\", \"a\", \"a\", \"a\", \"a\", \"a\", \"a\", \"a\", \"a\", \"a\", \"a\", \"a\", \"a\", \"a\", \"a\", \"a\", \"a\", \"a\", \"a\", \"a\", \"a\", \"a\", \"a\", \"a\", \"a\", \"a\", \"a\", \"a\", \"a\", \"a\", \"a\", \"a\", \"a\", \"a\", \"a\", \"a\", \"a\", \"a\", \"a\", \"a\", \"a\", \"a\", \"a\", \"a\", \"a\", \"a\", \"a\", \"a\", \"a\", \"a\", \"a\", \"a\", \"a\", \"a\", \"a\", \"a\", \"a\", \"a\", \"a\", \"a\", \"a\", \"a\", \"a\", \"a\", \"a\", \"a\", \"a\", \"a\", \"a\", \"a\", \"a\", \"a\", \"a\", \"a\", \"a\", \"a\", \"a\", \"a\", \"a\", \"a\", \"a\", \"a\", \"a\", \"a\", \"a\", \"a\", \"a\", \"a\", \"a\", \"a\", \"a\", \"a\", \"a\", \"a\", \"a\", \"a\", \"a\", \"a\", \"a\", \"a\", \"a\", \"a\", \"a\", \"a\", \"a\", \"a\", \"a\", \"a\", \"a\", \"a\", \"a\", \"a\", \"a\", \"a\", \"a\", \"a\", \"a\", \"a\", \"a\", \"a\", \"a\", \"a\", \"a\", \"a\", \"a\", \"a\", \"a\", \"a\", \"a\", \"a\", \"a\", \"a\", \"a\", \"a\", \"a\", \"a\", \"a\", \"a\", \"a\", \"a\", \"a\", \"a\", \"a\", \"a\", \"a\", \"a\", \"a\", \"a\", \"a\", \"a\", \"a\", \"a\", \"a\", \"a\", \"a\", \"a\", \"a\", \"a\", \"a\", \"a\", \"a\", \"a\", \"a\", \"a\", \"a\", \"a\", \"a\", \"a\", \"a\", \"a\", \"a\", \"a\", \"a\", \"a\", \"a\", \"a\", \"a\", \"a\", \"a\", \"a\", \"a\", \"a\", \"a\", \"a\", \"a\", \"a\", \"a\", \"a\", \"a\", \"a\", \"a\", \"a\", \"a\", \"a\", \"a\", \"a\", \"a\", \"a\", \"a\", \"a\", \"a\", \"a\", \"a\", \"a\", \"a\", \"a\", \"a\", \"a\", \"a\", \"a\", \"a\", \"a\", \"a\", \"a\", \"a\", \"a\", \"a\", \"a\", \"a\", \"a\", \"a\", \"a\", \"a\", \"a\", \"a\", \"a\", \"a\", \"a\", \"a\", \"a\", \"a\", \"a\", \"a\", \"a\", \"a\", \"a\", \"a\", \"a\", \"a\", \"a\", \"a\", \"a\", \"a\", \"a\", \"a\", \"a\", \"a\", \"a\", \"a\", \"a\", \"a\", \"a\", \"a\", \"a\", \"a\", \"a\", \"a\", \"a\", \"a\", \"a\", \"a\", \"a\", \"a\", \"a\", \"a\", \"a\", \"a\", \"a\", \"a\", \"a\", \"a\", \"a\", \"a\", \"a\", \"a\", \"a\", \"a\", \"a\", \"a\", \"a\", \"a\", \"a\", \"a\", \"a\", \"a\", \"a\", \"a\", \"a\", \"a\", \"a\", \"a\", \"a\", \"a\", \"a\", \"a\", \"a\", \"a\", \"a\", \"a\", \"a\", \"a\", \"a\", \"a\", \"a\", \"a\", \"a\", \"a\", \"a\", \"a\", \"a\", \"a\", \"a\", \"a\", \"a\", \"a\", \"a\", \"a\", \"a\", \"a\", \"a\", \"a\", \"a\", \"a\", \"a\", \"a\", \"a\", \"a\", \"a\", \"a\", \"a\", \"a\", \"a\", \"a\", \"a\", \"a\", \"a\", \"a\", \"a\", \"a\", \"a\", \"a\", \"a\", \"a\", \"a\", \"a\", \"a\", \"a\", \"a\", \"a\", \"a\", \"a\", \"a\", \"a\", \"a\", \"a\", \"a\", \"a\", \"a\", \"a\", \"a\", \"a\", \"a\", \"a\", \"a\", \"a\", \"a\", \"a\", \"a\", \"a\", \"a\", \"a\", \"a\", \"a\", \"a\", \"a\", \"a\", \"a\", \"a\", \"a\", \"a\", \"a\", \"a\", \"a\", \"a\", \"a\", \"a\", \"a\", \"a\", \"a\", \"a\", \"a\", \"a\", \"a\", \"a\", \"a\", \"a\", \"a\", \"a\", \"a\", \"a\", \"a\", \"a\", \"a\", \"a\", \"a\", \"a\", \"a\", \"a\", \"a\", \"a\", \"a\", \"a\", \"a\", \"a\", \"a\", \"a\", \"a\", \"a\", \"a\", \"a\", \"a\", \"a\", \"a\", \"a\", \"a\", \"a\", \"a\", \"a\", \"a\", \"a\", \"a\", \"a\", \"a\", \"a\", \"a\", \"a\", \"a\", \"a\", \"a\", \"a\", \"a\", \"a\", \"a\", \"a\", \"a\", \"a\", \"a\", \"a\", \"a\", \"a\", \"a\", \"a\", \"a\", \"a\", \"a\", \"a\", \"a\", \"a\", \"a\", \"a\", \"a\", \"a\", \"a\", \"a\", \"a\", \"a\", \"a\", \"a\", \"a\", \"a\", \"a\", \"a\", \"a\", \"a\", \"a\", \"a\", \"a\", \"a\", \"a\", \"a\", \"a\", \"a\", \"a\", \"a\", \"a\", \"a\", \"a\", \"a\", \"a\", \"a\", \"a\", \"a\", \"a\", \"a\", \"a\", \"a\", \"a\", \"a\", \"a\", \"a\", \"a\", \"a\", \"a\", \"a\", \"a\", \"a\", \"a\", \"a\", \"a\", \"a\", \"a\", \"a\", \"a\", \"a\", \"a\", \"a\", \"a\", \"a\", \"a\", \"a\", \"a\", \"a\", \"a\", \"a\", \"a\", \"a\", \"a\", \"a\", \"a\", \"a\", \"a\", \"a\", \"a\", \"a\", \"a\", \"a\", \"a\", \"a\", \"a\", \"a\", \"a\", \"a\", \"a\", \"a\", \"a\", \"a\", \"a\", \"a\", \"a\", \"a\", \"a\", \"a\", \"a\", \"a\", \"a\", \"a\", \"a\", \"a\", \"a\", \"a\", \"a\", \"a\", \"a\", \"a\", \"a\", \"a\", \"a\", \"a\", \"a\", \"a\", \"a\", \"a\", \"a\", \"a\", \"a\", \"a\", \"a\", \"a\", \"a\", \"a\", \"a\", \"a\", \"a\", \"a\", \"a\", \"a\", \"a\", \"a\", \"a\", \"a\", \"a\", \"a\", \"a\", \"a\", \"a\", \"a\", \"a\", \"a\", \"a\", \"a\", \"a\", \"a\", \"a\", \"a\", \"a\", \"a\", \"a\", \"a\", \"a\", \"a\", \"a\", \"a\", \"a\", \"a\", \"a\", \"a\", \"a\", \"a\", \"a\", \"a\", \"a\", \"a\", \"a\", \"a\", \"a\", \"a\", \"a\", \"a\", \"a\", \"a\", \"a\", \"a\", \"a\", \"a\", \"a\", \"a\", \"a\", \"a\", \"a\", \"a\", \"a\", \"a\", \"a\", \"a\", \"a\", \"a\", \"a\", \"a\", \"a\", \"a\", \"a\", \"a\", \"a\", \"a\", \"a\", \"a\", \"a\", \"a\", \"a\", \"a\", \"a\", \"a\", \"a\", \"a\", \"a\", \"a\", \"a\", \"a\", \"a\", \"a\", \"a\", \"a\", \"a\", \"a\", \"a\", \"a\", \"a\", \"a\", \"a\", \"a\", \"a\", \"a\", \"a\", \"a\", \"a\", \"a\", \"a\", \"a\", \"a\", \"a\", \"a\", \"a\", \"a\", \"a\", \"a\", \"a\", \"a\", \"a\", \"a\", \"a\", \"a\", \"a\", \"a\", \"a\", \"a\", \"a\", \"a\", \"a\", \"a\", \"a\", \"a\", \"a\", \"a\", \"a\", \"a\", \"a\", \"a\", \"a\", \"a\", \"a\", \"a\", \"a\", \"a\", \"a\", \"a\", \"a\", \"a\", \"a\", \"a\", \"a\", \"a\", \"a\", \"a\", \"a\", \"a\", \"a\", \"a\", \"a\", \"a\", \"a\", \"a\", \"a\", \"a\", \"a\", \"a\", \"a\", \"a\", \"a\", \"a\", \"a\", \"a\", \"a\", \"a\", \"a\", \"a\", \"a\", \"a\", \"a\", \"a\", \"a\", \"a\", \"a\", \"a\", \"a\", \"a\", \"a\", \"a\", \"a\", \"a\", \"a\", \"a\", \"a\", \"a\", \"a\", \"a\", \"a\", \"a\", \"a\", \"a\", \"a\", \"a\", \"a\", \"a\", \"a\", \"a\", \"a\", \"a\", \"a\", \"a\", \"a\", \"a\", \"a\", \"a\", \"a\", \"a\", \"a\", \"a\", \"a\", \"a\", \"a\", \"a\", \"a\", \"a\", \"a\", \"a\", \"a\", \"a\", \"a\", \"a\", \"a\", \"a\", \"a\", \"a\", \"a\", \"a\", \"a\", \"a\", \"a\", \"a\", \"a\", \"a\", \"a\", \"a\", \"a\", \"a\", \"a\", \"a\", \"a\", \"a\", \"a\", \"a\", \"a\", \"a\", \"a\", \"a\", \"a\", \"a\", \"a\", \"a\", \"a\", \"a\", \"a\", \"a\", \"a\", \"a\", \"a\", \"a\", \"a\", \"a\", \"a\", \"a\", \"a\", \"a\", \"a\", \"a\", \"a\", \"a\", \"a\", \"a\", \"a\", \"a\", \"a\", \"a\", \"a\", \"a\", \"a\", \"a\", \"a\", \"a\", \"a\", \"a\", \"a\", \"a\", \"a\", \"a\", \"a\", \"a\", \"a\", \"a\", \"a\", \"a\", \"a\", \"a\", \"a\", \"a\", \"a\", \"a\", \"a\", \"a\", \"a\", \"a\", \"a\", \"a\", \"a\", \"a\", \"a\", \"a\", \"a\", \"a\", \"a\", \"a\", \"a\", \"a\", \"a\", \"a\", \"a\", \"a\", \"a\", \"a\", \"a\", \"a\", \"a\", \"a\", \"a\", \"a\", \"a\", \"a\", \"a\", \"a\", \"a\", \"a\", \"a\", \"a\", \"a\", \"a\", \"a\", \"a\", \"a\", \"a\", \"a\", \"a\", \"a\", \"a\", \"a\", \"a\", \"a\", \"a\", \"a\", \"a\", \"a\", \"a\", \"a\", \"a\", \"a\", \"a\", \"a\", \"a\", \"a\", \"a\", \"a\", \"a\", \"a\", \"a\", \"a\", \"a\", \"a\", \"a\", \"a\", \"a\", \"a\", \"a\", \"a\", \"a\", \"a\", \"a\", \"a\", \"a\", \"a\", \"a\", \"a\", \"a\", \"a\", \"a\", \"a\", \"a\", \"a\", \"a\", \"a\", \"a\", \"a\", \"a\", \"a\", \"a\", \"a\", \"a\", \"a\", \"a\", \"a\", \"a\", \"a\", \"a\", \"a\", \"a\", \"a\", \"a\", \"a\", \"a\", \"a\", \"a\", \"a\", \"a\", \"a\", \"a\", \"a\", \"a\", \"a\", \"a\", \"a\", \"a\", \"a\", \"a\", \"a\", \"a\", \"a\", \"a\", \"a\", \"a\", \"a\", \"a\", \"a\", \"a\", \"a\", \"a\", \"a\", \"a\", \"a\", \"a\", \"a\", \"a\", \"a\", \"a\", \"a\", \"a\", \"a\", \"a\", \"a\", \"a\", \"a\", \"a\", \"a\", \"a\", \"a\", \"a\", \"a\", \"a\", \"a\", \"a\", \"a\", \"a\", \"a\", \"a\", \"a\", \"a\", \"a\", \"a\", \"a\", \"a\", \"a\", \"a\", \"a\", \"a\", \"a\", \"a\", \"a\", \"a\", \"a\", \"a\", \"a\", \"a\", \"a\", \"a\", \"a\", \"a\", \"a\", \"a\", \"a\", \"a\", \"a\", \"a\", \"a\", \"a\", \"a\", \"a\", \"a\", \"a\", \"a\", \"a\", \"a\", \"a\", \"a\", \"a\", \"a\", \"a\", \"a\", \"a\", \"a\", \"a\", \"a\", \"a\", \"a\", \"a\", \"a\", \"a\", \"a\", \"a\", \"a\", \"a\", \"a\", \"a\", \"a\", \"a\", \"a\", \"a\", \"a\", \"a\", \"a\", \"a\", \"a\", \"a\", \"a\", \"a\", \"a\", \"a\", \"a\", \"a\", \"a\", \"a\", \"a\", \"a\", \"a\", \"a\", \"a\", \"a\", \"a\", \"a\", \"a\", \"a\", \"a\", \"a\", \"a\", \"a\", \"a\", \"a\", \"a\", \"a\", \"a\", \"a\", \"a\", \"a\", \"a\", \"a\", \"a\", \"a\", \"a\", \"a\", \"a\", \"a\", \"a\", \"a\", \"a\", \"a\", \"a\", \"a\", \"a\", \"a\", \"a\", \"a\", \"a\", \"a\", \"a\", \"a\", \"a\", \"a\", \"a\", \"a\", \"a\", \"a\", \"a\", \"a\", \"a\", \"a\", \"a\", \"a\", \"a\", \"a\", \"a\", \"a\", \"a\", \"a\", \"a\", \"a\", \"a\", \"a\", \"a\", \"a\", \"a\", \"a\", \"a\", \"a\", \"a\", \"a\", \"a\", \"a\", \"a\", \"a\", \"a\", \"a\", \"a\", \"a\", \"a\", \"a\", \"a\", \"a\", \"a\", \"a\", \"a\", \"a\", \"a\", \"a\", \"a\", \"a\", \"a\", \"a\", \"a\", \"a\", \"a\", \"a\", \"a\", \"a\", \"a\", \"a\", \"a\", \"a\", \"a\", \"a\", \"a\", \"a\", \"a\", \"a\", \"a\", \"a\", \"a\", \"a\", \"a\", \"a\", \"a\", \"a\", \"a\", \"a\", \"a\", \"a\", \"a\", \"a\", \"a\", \"a\", \"a\", \"a\", \"a\", \"a\", \"a\", \"a\", \"a\", \"a\", \"a\", \"a\", \"a\", \"a\", \"a\", \"a\", \"a\", \"a\", \"a\", \"a\", \"a\", \"a\", \"a\", \"a\", \"a\", \"a\", \"a\", \"a\", \"a\", \"a\", \"a\", \"a\", \"a\", \"a\", \"a\", \"a\", \"a\", \"a\", \"a\", \"a\", \"a\", \"a\", \"a\", \"a\", \"a\", \"a\", \"a\", \"a\", \"a\", \"a\", \"a\", \"a\", \"a\", \"a\", \"a\", \"a\", \"a\", \"a\", \"a\", \"a\", \"a\", \"a\", \"a\", \"a\", \"a\", \"a\", \"a\", \"a\", \"a\", \"a\", \"a\", \"a\", \"a\", \"a\", \"a\", \"a\", \"a\", \"a\", \"a\", \"a\", \"a\", \"a\", \"a\", \"a\", \"a\", \"a\", \"a\", \"a\", \"a\", \"a\", \"a\", \"a\", \"a\", \"a\", \"a\", \"a\", \"a\", \"a\", \"a\", \"a\", \"a\", \"a\", \"a\", \"a\", \"a\", \"a\", \"a\", \"a\", \"a\", \"a\", \"a\", \"a\", \"a\", \"a\", \"a\", \"a\", \"a\", \"a\", \"a\", \"a\", \"a\", \"a\", \"a\", \"a\", \"a\", \"a\", \"a\", \"a\", \"a\", \"a\", \"a\", \"a\", \"a\", \"a\", \"a\", \"a\", \"a\", \"a\", \"a\", \"a\", \"a\", \"a\", \"a\", \"a\", \"a\", \"a\", \"a\", \"a\", \"a\", \"a\", \"a\", \"a\", \"a\", \"a\", \"a\", \"a\", \"a\", \"a\", \"a\", \"a\", \"a\", \"a\", \"a\", \"a\", \"a\", \"a\", \"a\", \"a\", \"a\", \"a\", \"a\", \"a\", \"a\", \"a\", \"a\", \"a\", \"a\", \"a\", \"a\", \"a\", \"a\", \"a\", \"a\", \"a\", \"a\", \"a\", \"a\", \"a\", \"a\", \"a\", \"a\", \"a\", \"a\", \"a\", \"a\", \"a\", \"a\", \"a\", \"a\", \"a\", \"a\", \"a\", \"a\", \"a\", \"a\", \"a\", \"a\", \"a\", \"a\", \"a\", \"a\", \"a\", \"a\", \"a\", \"a\", \"a\", \"a\", \"a\", \"a\", \"a\", \"a\", \"a\", \"a\", \"a\", \"a\", \"a\", \"a\", \"a\", \"a\", \"a\", \"a\", \"a\", \"a\", \"a\", \"a\", \"a\", \"a\", \"a\", \"a\", \"a\", \"a\", \"a\", \"a\", \"a\", \"a\", \"a\", \"a\", \"a\", \"a\", \"a\", \"a\", \"a\", \"a\", \"a\", \"a\", \"a\", \"a\", \"a\", \"a\", \"a\", \"a\", \"a\", \"a\", \"a\", \"a\", \"a\", \"a\", \"a\", \"a\", \"a\", \"a\", \"a\", \"a\", \"a\", \"a\", \"a\", \"a\", \"a\", \"a\", \"a\", \"a\", \"a\", \"a\", \"a\", \"a\", \"a\", \"a\", \"a\", \"a\", \"a\", \"a\", \"a\", \"a\", \"a\", \"a\", \"a\", \"a\", \"a\", \"a\", \"a\", \"a\", \"a\", \"a\", \"a\", \"a\", \"a\", \"a\", \"a\", \"a\", \"a\", \"a\", \"a\", \"a\", \"a\", \"a\", \"a\", \"a\", \"a\", \"a\", \"a\", \"a\", \"a\", \"a\", \"a\", \"a\", \"a\", \"a\", \"a\", \"a\", \"a\", \"a\", \"a\", \"a\", \"a\", \"a\", \"a\", \"a\", \"a\", \"a\", \"a\", \"a\", \"a\", \"a\", \"a\", \"a\", \"a\", \"a\", \"a\", \"a\", \"a\", \"a\", \"a\", \"a\", \"a\", \"a\", \"a\", \"a\", \"a\", \"a\", \"a\", \"a\", \"a\", \"a\", \"a\", \"a\", \"a\", \"a\", \"a\", \"a\", \"a\", \"a\", \"a\", \"a\", \"a\", \"a\", \"a\", \"a\", \"a\", \"a\", \"a\", \"a\", \"a\", \"a\", \"a\", \"a\", \"a\", \"a\", \"a\", \"a\", \"a\", \"a\", \"a\", \"a\", \"a\", \"a\", \"a\", \"a\", \"a\", \"a\", \"a\", \"a\", \"a\", \"a\", \"a\", \"a\", \"a\", \"a\", \"a\", \"a\", \"a\", \"a\", \"a\", \"a\", \"a\", \"a\", \"a\", \"a\", \"a\", \"a\", \"a\", \"a\", \"a\", \"a\", \"a\", \"a\", \"a\", \"a\", \"a\", \"a\", \"a\", \"a\", \"a\", \"a\", \"a\", \"a\", \"a\", \"a\", \"a\", \"a\", \"a\", \"a\", \"a\", \"a\", \"a\", \"a\", \"a\", \"a\", \"a\", \"a\", \"a\", \"a\", \"a\", \"a\", \"a\", \"a\", \"a\", \"a\", \"a\", \"a\", \"a\", \"a\", \"a\", \"a\", \"a\", \"a\", \"a\", \"a\", \"a\", \"a\", \"a\", \"a\", \"a\", \"a\", \"a\", \"a\", \"a\", \"a\", \"a\", \"a\", \"a\", \"a\", \"a\", \"a\", \"a\", \"a\", \"a\", \"a\", \"a\", \"a\", \"a\", \"a\", \"a\", \"a\", \"a\", \"a\", \"a\", \"a\", \"a\", \"a\", \"a\", \"a\", \"a\", \"a\", \"a\", \"a\", \"a\", \"a\", \"a\", \"a\", \"a\", \"a\", \"a\", \"a\", \"a\", \"a\", \"a\", \"a\", \"a\", \"a\", \"a\", \"a\", \"a\", \"a\", \"a\", \"a\", \"a\", \"a\", \"a\", \"a\", \"a\", \"a\", \"a\", \"a\", \"a\", \"a\", \"a\", \"a\", \"a\", \"a\", \"a\", \"a\", \"a\", \"a\", \"a\", \"a\", \"a\", \"a\", \"a\", \"a\", \"a\", \"a\", \"a\", \"a\", \"a\", \"a\", \"a\", \"a\", \"a\", \"a\", \"a\", \"a\", \"a\", \"a\", \"a\", \"a\", \"a\", \"a\", \"a\", \"a\", \"a\", \"a\", \"a\", \"a\", \"a\", \"a\", \"a\", \"a\", \"a\", \"a\", \"a\", \"a\", \"a\", \"a\", \"a\", \"a\", \"a\", \"a\", \"a\", \"a\", \"a\", \"a\", \"a\", \"a\", \"a\", \"a\", \"a\", \"a\", \"a\", \"a\", \"a\", \"a\", \"a\", \"a\", \"a\", \"a\", \"a\", \"a\", \"a\", \"a\", \"a\", \"a\", \"a\", \"a\", \"a\", \"a\", \"a\", \"a\", \"a\", \"a\", \"a\", \"a\", \"a\", \"a\", \"a\", \"a\", \"a\", \"a\", \"a\", \"a\", \"a\", \"a\", \"a\", \"a\", \"a\", \"a\", \"a\", \"a\", \"a\", \"a\", \"a\", \"a\", \"a\", \"a\", \"a\", \"a\", \"a\", \"a\", \"a\", \"a\", \"a\", \"a\", \"a\", \"a\", \"a\", \"a\", \"a\", \"a\", \"a\", \"a\", \"a\", \"a\", \"a\", \"a\", \"a\", \"a\", \"a\", \"a\", \"a\", \"a\", \"a\", \"a\", \"a\", \"a\", \"a\", \"a\", \"a\", \"a\", \"a\", \"a\", \"a\", \"a\", \"a\", \"a\", \"a\", \"a\", \"a\", \"a\", \"a\", \"a\", \"a\", \"a\", \"a\", \"a\", \"a\", \"a\", \"a\", \"a\", \"a\", \"a\", \"a\", \"a\", \"a\"], \"yaxis\": \"y2\"}],\n",
              "                        {\"barmode\": \"overlay\", \"hovermode\": \"closest\", \"legend\": {\"traceorder\": \"reversed\"}, \"template\": {\"data\": {\"bar\": [{\"error_x\": {\"color\": \"#2a3f5f\"}, \"error_y\": {\"color\": \"#2a3f5f\"}, \"marker\": {\"line\": {\"color\": \"#E5ECF6\", \"width\": 0.5}}, \"type\": \"bar\"}], \"barpolar\": [{\"marker\": {\"line\": {\"color\": \"#E5ECF6\", \"width\": 0.5}}, \"type\": \"barpolar\"}], \"carpet\": [{\"aaxis\": {\"endlinecolor\": \"#2a3f5f\", \"gridcolor\": \"white\", \"linecolor\": \"white\", \"minorgridcolor\": \"white\", \"startlinecolor\": \"#2a3f5f\"}, \"baxis\": {\"endlinecolor\": \"#2a3f5f\", \"gridcolor\": \"white\", \"linecolor\": \"white\", \"minorgridcolor\": \"white\", \"startlinecolor\": \"#2a3f5f\"}, \"type\": \"carpet\"}], \"choropleth\": [{\"colorbar\": {\"outlinewidth\": 0, \"ticks\": \"\"}, \"type\": \"choropleth\"}], \"contour\": [{\"colorbar\": {\"outlinewidth\": 0, \"ticks\": \"\"}, \"colorscale\": [[0.0, \"#0d0887\"], [0.1111111111111111, \"#46039f\"], [0.2222222222222222, \"#7201a8\"], [0.3333333333333333, \"#9c179e\"], [0.4444444444444444, \"#bd3786\"], [0.5555555555555556, \"#d8576b\"], [0.6666666666666666, \"#ed7953\"], [0.7777777777777778, \"#fb9f3a\"], [0.8888888888888888, \"#fdca26\"], [1.0, \"#f0f921\"]], \"type\": \"contour\"}], \"contourcarpet\": [{\"colorbar\": {\"outlinewidth\": 0, \"ticks\": \"\"}, \"type\": \"contourcarpet\"}], \"heatmap\": [{\"colorbar\": {\"outlinewidth\": 0, \"ticks\": \"\"}, \"colorscale\": [[0.0, \"#0d0887\"], [0.1111111111111111, \"#46039f\"], [0.2222222222222222, \"#7201a8\"], [0.3333333333333333, \"#9c179e\"], [0.4444444444444444, \"#bd3786\"], [0.5555555555555556, \"#d8576b\"], [0.6666666666666666, \"#ed7953\"], [0.7777777777777778, \"#fb9f3a\"], [0.8888888888888888, \"#fdca26\"], [1.0, \"#f0f921\"]], \"type\": \"heatmap\"}], \"heatmapgl\": [{\"colorbar\": {\"outlinewidth\": 0, \"ticks\": \"\"}, \"colorscale\": [[0.0, \"#0d0887\"], [0.1111111111111111, \"#46039f\"], [0.2222222222222222, \"#7201a8\"], [0.3333333333333333, \"#9c179e\"], [0.4444444444444444, \"#bd3786\"], [0.5555555555555556, \"#d8576b\"], [0.6666666666666666, \"#ed7953\"], [0.7777777777777778, \"#fb9f3a\"], [0.8888888888888888, \"#fdca26\"], [1.0, \"#f0f921\"]], \"type\": \"heatmapgl\"}], \"histogram\": [{\"marker\": {\"colorbar\": {\"outlinewidth\": 0, \"ticks\": \"\"}}, \"type\": \"histogram\"}], \"histogram2d\": [{\"colorbar\": {\"outlinewidth\": 0, \"ticks\": \"\"}, \"colorscale\": [[0.0, \"#0d0887\"], [0.1111111111111111, \"#46039f\"], [0.2222222222222222, \"#7201a8\"], [0.3333333333333333, \"#9c179e\"], [0.4444444444444444, \"#bd3786\"], [0.5555555555555556, \"#d8576b\"], [0.6666666666666666, \"#ed7953\"], [0.7777777777777778, \"#fb9f3a\"], [0.8888888888888888, \"#fdca26\"], [1.0, \"#f0f921\"]], \"type\": \"histogram2d\"}], \"histogram2dcontour\": [{\"colorbar\": {\"outlinewidth\": 0, \"ticks\": \"\"}, \"colorscale\": [[0.0, \"#0d0887\"], [0.1111111111111111, \"#46039f\"], [0.2222222222222222, \"#7201a8\"], [0.3333333333333333, \"#9c179e\"], [0.4444444444444444, \"#bd3786\"], [0.5555555555555556, \"#d8576b\"], [0.6666666666666666, \"#ed7953\"], [0.7777777777777778, \"#fb9f3a\"], [0.8888888888888888, \"#fdca26\"], [1.0, \"#f0f921\"]], \"type\": \"histogram2dcontour\"}], \"mesh3d\": [{\"colorbar\": {\"outlinewidth\": 0, \"ticks\": \"\"}, \"type\": \"mesh3d\"}], \"parcoords\": [{\"line\": {\"colorbar\": {\"outlinewidth\": 0, \"ticks\": \"\"}}, \"type\": \"parcoords\"}], \"pie\": [{\"automargin\": true, \"type\": \"pie\"}], \"scatter\": [{\"marker\": {\"colorbar\": {\"outlinewidth\": 0, \"ticks\": \"\"}}, \"type\": \"scatter\"}], \"scatter3d\": [{\"line\": {\"colorbar\": {\"outlinewidth\": 0, \"ticks\": \"\"}}, \"marker\": {\"colorbar\": {\"outlinewidth\": 0, \"ticks\": \"\"}}, \"type\": \"scatter3d\"}], \"scattercarpet\": [{\"marker\": {\"colorbar\": {\"outlinewidth\": 0, \"ticks\": \"\"}}, \"type\": \"scattercarpet\"}], \"scattergeo\": [{\"marker\": {\"colorbar\": {\"outlinewidth\": 0, \"ticks\": \"\"}}, \"type\": \"scattergeo\"}], \"scattergl\": [{\"marker\": {\"colorbar\": {\"outlinewidth\": 0, \"ticks\": \"\"}}, \"type\": \"scattergl\"}], \"scattermapbox\": [{\"marker\": {\"colorbar\": {\"outlinewidth\": 0, \"ticks\": \"\"}}, \"type\": \"scattermapbox\"}], \"scatterpolar\": [{\"marker\": {\"colorbar\": {\"outlinewidth\": 0, \"ticks\": \"\"}}, \"type\": \"scatterpolar\"}], \"scatterpolargl\": [{\"marker\": {\"colorbar\": {\"outlinewidth\": 0, \"ticks\": \"\"}}, \"type\": \"scatterpolargl\"}], \"scatterternary\": [{\"marker\": {\"colorbar\": {\"outlinewidth\": 0, \"ticks\": \"\"}}, \"type\": \"scatterternary\"}], \"surface\": [{\"colorbar\": {\"outlinewidth\": 0, \"ticks\": \"\"}, \"colorscale\": [[0.0, \"#0d0887\"], [0.1111111111111111, \"#46039f\"], [0.2222222222222222, \"#7201a8\"], [0.3333333333333333, \"#9c179e\"], [0.4444444444444444, \"#bd3786\"], [0.5555555555555556, \"#d8576b\"], [0.6666666666666666, \"#ed7953\"], [0.7777777777777778, \"#fb9f3a\"], [0.8888888888888888, \"#fdca26\"], [1.0, \"#f0f921\"]], \"type\": \"surface\"}], \"table\": [{\"cells\": {\"fill\": {\"color\": \"#EBF0F8\"}, \"line\": {\"color\": \"white\"}}, \"header\": {\"fill\": {\"color\": \"#C8D4E3\"}, \"line\": {\"color\": \"white\"}}, \"type\": \"table\"}]}, \"layout\": {\"annotationdefaults\": {\"arrowcolor\": \"#2a3f5f\", \"arrowhead\": 0, \"arrowwidth\": 1}, \"coloraxis\": {\"colorbar\": {\"outlinewidth\": 0, \"ticks\": \"\"}}, \"colorscale\": {\"diverging\": [[0, \"#8e0152\"], [0.1, \"#c51b7d\"], [0.2, \"#de77ae\"], [0.3, \"#f1b6da\"], [0.4, \"#fde0ef\"], [0.5, \"#f7f7f7\"], [0.6, \"#e6f5d0\"], [0.7, \"#b8e186\"], [0.8, \"#7fbc41\"], [0.9, \"#4d9221\"], [1, \"#276419\"]], \"sequential\": [[0.0, \"#0d0887\"], [0.1111111111111111, \"#46039f\"], [0.2222222222222222, \"#7201a8\"], [0.3333333333333333, \"#9c179e\"], [0.4444444444444444, \"#bd3786\"], [0.5555555555555556, \"#d8576b\"], [0.6666666666666666, \"#ed7953\"], [0.7777777777777778, \"#fb9f3a\"], [0.8888888888888888, \"#fdca26\"], [1.0, \"#f0f921\"]], \"sequentialminus\": [[0.0, \"#0d0887\"], [0.1111111111111111, \"#46039f\"], [0.2222222222222222, \"#7201a8\"], [0.3333333333333333, \"#9c179e\"], [0.4444444444444444, \"#bd3786\"], [0.5555555555555556, \"#d8576b\"], [0.6666666666666666, \"#ed7953\"], [0.7777777777777778, \"#fb9f3a\"], [0.8888888888888888, \"#fdca26\"], [1.0, \"#f0f921\"]]}, \"colorway\": [\"#636efa\", \"#EF553B\", \"#00cc96\", \"#ab63fa\", \"#FFA15A\", \"#19d3f3\", \"#FF6692\", \"#B6E880\", \"#FF97FF\", \"#FECB52\"], \"font\": {\"color\": \"#2a3f5f\"}, \"geo\": {\"bgcolor\": \"white\", \"lakecolor\": \"white\", \"landcolor\": \"#E5ECF6\", \"showlakes\": true, \"showland\": true, \"subunitcolor\": \"white\"}, \"hoverlabel\": {\"align\": \"left\"}, \"hovermode\": \"closest\", \"mapbox\": {\"style\": \"light\"}, \"paper_bgcolor\": \"white\", \"plot_bgcolor\": \"#E5ECF6\", \"polar\": {\"angularaxis\": {\"gridcolor\": \"white\", \"linecolor\": \"white\", \"ticks\": \"\"}, \"bgcolor\": \"#E5ECF6\", \"radialaxis\": {\"gridcolor\": \"white\", \"linecolor\": \"white\", \"ticks\": \"\"}}, \"scene\": {\"xaxis\": {\"backgroundcolor\": \"#E5ECF6\", \"gridcolor\": \"white\", \"gridwidth\": 2, \"linecolor\": \"white\", \"showbackground\": true, \"ticks\": \"\", \"zerolinecolor\": \"white\"}, \"yaxis\": {\"backgroundcolor\": \"#E5ECF6\", \"gridcolor\": \"white\", \"gridwidth\": 2, \"linecolor\": \"white\", \"showbackground\": true, \"ticks\": \"\", \"zerolinecolor\": \"white\"}, \"zaxis\": {\"backgroundcolor\": \"#E5ECF6\", \"gridcolor\": \"white\", \"gridwidth\": 2, \"linecolor\": \"white\", \"showbackground\": true, \"ticks\": \"\", \"zerolinecolor\": \"white\"}}, \"shapedefaults\": {\"line\": {\"color\": \"#2a3f5f\"}}, \"ternary\": {\"aaxis\": {\"gridcolor\": \"white\", \"linecolor\": \"white\", \"ticks\": \"\"}, \"baxis\": {\"gridcolor\": \"white\", \"linecolor\": \"white\", \"ticks\": \"\"}, \"bgcolor\": \"#E5ECF6\", \"caxis\": {\"gridcolor\": \"white\", \"linecolor\": \"white\", \"ticks\": \"\"}}, \"title\": {\"x\": 0.05}, \"xaxis\": {\"automargin\": true, \"gridcolor\": \"white\", \"linecolor\": \"white\", \"ticks\": \"\", \"title\": {\"standoff\": 15}, \"zerolinecolor\": \"white\", \"zerolinewidth\": 2}, \"yaxis\": {\"automargin\": true, \"gridcolor\": \"white\", \"linecolor\": \"white\", \"ticks\": \"\", \"title\": {\"standoff\": 15}, \"zerolinecolor\": \"white\", \"zerolinewidth\": 2}}}, \"title\": {\"text\": \"Distplot with Normal Distribution\"}, \"xaxis\": {\"anchor\": \"y2\", \"domain\": [0.0, 1.0], \"zeroline\": false}, \"yaxis\": {\"anchor\": \"free\", \"domain\": [0.35, 1], \"position\": 0.0}, \"yaxis2\": {\"anchor\": \"x\", \"domain\": [0, 0.25], \"dtick\": 1, \"showticklabels\": false}},\n",
              "                        {\"responsive\": true}\n",
              "                    ).then(function(){\n",
              "                            \n",
              "var gd = document.getElementById('21d2d7eb-6f16-4e7e-a2c2-e60c521e9064');\n",
              "var x = new MutationObserver(function (mutations, observer) {{\n",
              "        var display = window.getComputedStyle(gd).display;\n",
              "        if (!display || display === 'none') {{\n",
              "            console.log([gd, 'removed!']);\n",
              "            Plotly.purge(gd);\n",
              "            observer.disconnect();\n",
              "        }}\n",
              "}});\n",
              "\n",
              "// Listen for the removal of the full notebook cells\n",
              "var notebookContainer = gd.closest('#notebook-container');\n",
              "if (notebookContainer) {{\n",
              "    x.observe(notebookContainer, {childList: true});\n",
              "}}\n",
              "\n",
              "// Listen for the clearing of the current output cell\n",
              "var outputEl = gd.closest('.output');\n",
              "if (outputEl) {{\n",
              "    x.observe(outputEl, {childList: true});\n",
              "}}\n",
              "\n",
              "                        })\n",
              "                };\n",
              "                \n",
              "            </script>\n",
              "        </div>\n",
              "</body>\n",
              "</html>"
            ]
          },
          "metadata": {}
        }
      ]
    },
    {
      "cell_type": "code",
      "source": [
        "col = \"rating\"\n",
        "\n",
        "vc1 = tvshows[col].value_counts().reset_index()\n",
        "vc1 = vc1.rename(columns = {col : \"count\", \"index\" : col})\n",
        "vc1['percent'] = vc1['count'].apply(lambda x : 100*x/sum(vc1['count']))\n",
        "vc1 = vc1.sort_values(col)\n",
        "\n",
        "vc2 = movies[col].value_counts().reset_index()\n",
        "vc2 = vc2.rename(columns = {col : \"count\", \"index\" : col})\n",
        "vc2['percent'] = vc2['count'].apply(lambda x : 100*x/sum(vc2['count']))\n",
        "vc2 = vc2.sort_values(col)\n",
        "\n",
        "trace1 = go.Bar(x=vc1[col], y=vc1[\"count\"], name=\"TV Shows\", marker=dict(color=\"#a678de\"))\n",
        "trace2 = go.Bar(x=vc2[col], y=vc2[\"count\"], name=\"Movies\", marker=dict(color=\"#6ad49b\"))\n",
        "data = [trace1, trace2]\n",
        "layout = go.Layout(title=\"Content added over the years\", legend=dict(x=0.1, y=1.1, orientation=\"h\"))\n",
        "fig = go.Figure(data, layout=layout)\n",
        "fig.show()"
      ],
      "metadata": {
        "colab": {
          "base_uri": "https://localhost:8080/",
          "height": 542
        },
        "id": "rbS8kz6_IoA3",
        "outputId": "95d7ca20-43c5-4b5d-87cb-1fe334a9b028"
      },
      "execution_count": null,
      "outputs": [
        {
          "output_type": "display_data",
          "data": {
            "text/html": [
              "<html>\n",
              "<head><meta charset=\"utf-8\" /></head>\n",
              "<body>\n",
              "    <div>\n",
              "            <script src=\"https://cdnjs.cloudflare.com/ajax/libs/mathjax/2.7.5/MathJax.js?config=TeX-AMS-MML_SVG\"></script><script type=\"text/javascript\">if (window.MathJax) {MathJax.Hub.Config({SVG: {font: \"STIX-Web\"}});}</script>\n",
              "                <script type=\"text/javascript\">window.PlotlyConfig = {MathJaxConfig: 'local'};</script>\n",
              "        <script src=\"https://cdn.plot.ly/plotly-latest.min.js\"></script>    \n",
              "            <div id=\"77ccceb5-611d-4dd8-9af2-493f186e4263\" class=\"plotly-graph-div\" style=\"height:525px; width:100%;\"></div>\n",
              "            <script type=\"text/javascript\">\n",
              "                \n",
              "                    window.PLOTLYENV=window.PLOTLYENV || {};\n",
              "                    \n",
              "                if (document.getElementById(\"77ccceb5-611d-4dd8-9af2-493f186e4263\")) {\n",
              "                    Plotly.newPlot(\n",
              "                        '77ccceb5-611d-4dd8-9af2-493f186e4263',\n",
              "                        [{\"marker\": {\"color\": \"#a678de\"}, \"name\": \"TV Shows\", \"type\": \"bar\", \"x\": [\"13+\", \"16+\", \"18+\", \"7+\", \"ALL\", \"NR\", \"TV-14\", \"TV-G\", \"TV-MA\", \"TV-NR\", \"TV-PG\", \"TV-Y\", \"TV-Y7\"], \"y\": [268, 275, 146, 97, 280, 29, 208, 81, 77, 105, 169, 74, 39]}, {\"marker\": {\"color\": \"#6ad49b\"}, \"name\": \"Movies\", \"type\": \"bar\", \"x\": [\"13+\", \"16\", \"16+\", \"18+\", \"7+\", \"AGES_16_\", \"AGES_18_\", \"ALL\", \"ALL_AGES\", \"G\", \"NC-17\", \"NOT_RATE\", \"NR\", \"PG\", \"PG-13\", \"R\", \"UNRATED\"], \"y\": [1849, 1, 1272, 1097, 288, 2, 3, 988, 1, 93, 3, 3, 194, 253, 393, 1010, 33]}],\n",
              "                        {\"legend\": {\"orientation\": \"h\", \"x\": 0.1, \"y\": 1.1}, \"template\": {\"data\": {\"bar\": [{\"error_x\": {\"color\": \"#2a3f5f\"}, \"error_y\": {\"color\": \"#2a3f5f\"}, \"marker\": {\"line\": {\"color\": \"#E5ECF6\", \"width\": 0.5}}, \"type\": \"bar\"}], \"barpolar\": [{\"marker\": {\"line\": {\"color\": \"#E5ECF6\", \"width\": 0.5}}, \"type\": \"barpolar\"}], \"carpet\": [{\"aaxis\": {\"endlinecolor\": \"#2a3f5f\", \"gridcolor\": \"white\", \"linecolor\": \"white\", \"minorgridcolor\": \"white\", \"startlinecolor\": \"#2a3f5f\"}, \"baxis\": {\"endlinecolor\": \"#2a3f5f\", \"gridcolor\": \"white\", \"linecolor\": \"white\", \"minorgridcolor\": \"white\", \"startlinecolor\": \"#2a3f5f\"}, \"type\": \"carpet\"}], \"choropleth\": [{\"colorbar\": {\"outlinewidth\": 0, \"ticks\": \"\"}, \"type\": \"choropleth\"}], \"contour\": [{\"colorbar\": {\"outlinewidth\": 0, \"ticks\": \"\"}, \"colorscale\": [[0.0, \"#0d0887\"], [0.1111111111111111, \"#46039f\"], [0.2222222222222222, \"#7201a8\"], [0.3333333333333333, \"#9c179e\"], [0.4444444444444444, \"#bd3786\"], [0.5555555555555556, \"#d8576b\"], [0.6666666666666666, \"#ed7953\"], [0.7777777777777778, \"#fb9f3a\"], [0.8888888888888888, \"#fdca26\"], [1.0, \"#f0f921\"]], \"type\": \"contour\"}], \"contourcarpet\": [{\"colorbar\": {\"outlinewidth\": 0, \"ticks\": \"\"}, \"type\": \"contourcarpet\"}], \"heatmap\": [{\"colorbar\": {\"outlinewidth\": 0, \"ticks\": \"\"}, \"colorscale\": [[0.0, \"#0d0887\"], [0.1111111111111111, \"#46039f\"], [0.2222222222222222, \"#7201a8\"], [0.3333333333333333, \"#9c179e\"], [0.4444444444444444, \"#bd3786\"], [0.5555555555555556, \"#d8576b\"], [0.6666666666666666, \"#ed7953\"], [0.7777777777777778, \"#fb9f3a\"], [0.8888888888888888, \"#fdca26\"], [1.0, \"#f0f921\"]], \"type\": \"heatmap\"}], \"heatmapgl\": [{\"colorbar\": {\"outlinewidth\": 0, \"ticks\": \"\"}, \"colorscale\": [[0.0, \"#0d0887\"], [0.1111111111111111, \"#46039f\"], [0.2222222222222222, \"#7201a8\"], [0.3333333333333333, \"#9c179e\"], [0.4444444444444444, \"#bd3786\"], [0.5555555555555556, \"#d8576b\"], [0.6666666666666666, \"#ed7953\"], [0.7777777777777778, \"#fb9f3a\"], [0.8888888888888888, \"#fdca26\"], [1.0, \"#f0f921\"]], \"type\": \"heatmapgl\"}], \"histogram\": [{\"marker\": {\"colorbar\": {\"outlinewidth\": 0, \"ticks\": \"\"}}, \"type\": \"histogram\"}], \"histogram2d\": [{\"colorbar\": {\"outlinewidth\": 0, \"ticks\": \"\"}, \"colorscale\": [[0.0, \"#0d0887\"], [0.1111111111111111, \"#46039f\"], [0.2222222222222222, \"#7201a8\"], [0.3333333333333333, \"#9c179e\"], [0.4444444444444444, \"#bd3786\"], [0.5555555555555556, \"#d8576b\"], [0.6666666666666666, \"#ed7953\"], [0.7777777777777778, \"#fb9f3a\"], [0.8888888888888888, \"#fdca26\"], [1.0, \"#f0f921\"]], \"type\": \"histogram2d\"}], \"histogram2dcontour\": [{\"colorbar\": {\"outlinewidth\": 0, \"ticks\": \"\"}, \"colorscale\": [[0.0, \"#0d0887\"], [0.1111111111111111, \"#46039f\"], [0.2222222222222222, \"#7201a8\"], [0.3333333333333333, \"#9c179e\"], [0.4444444444444444, \"#bd3786\"], [0.5555555555555556, \"#d8576b\"], [0.6666666666666666, \"#ed7953\"], [0.7777777777777778, \"#fb9f3a\"], [0.8888888888888888, \"#fdca26\"], [1.0, \"#f0f921\"]], \"type\": \"histogram2dcontour\"}], \"mesh3d\": [{\"colorbar\": {\"outlinewidth\": 0, \"ticks\": \"\"}, \"type\": \"mesh3d\"}], \"parcoords\": [{\"line\": {\"colorbar\": {\"outlinewidth\": 0, \"ticks\": \"\"}}, \"type\": \"parcoords\"}], \"pie\": [{\"automargin\": true, \"type\": \"pie\"}], \"scatter\": [{\"marker\": {\"colorbar\": {\"outlinewidth\": 0, \"ticks\": \"\"}}, \"type\": \"scatter\"}], \"scatter3d\": [{\"line\": {\"colorbar\": {\"outlinewidth\": 0, \"ticks\": \"\"}}, \"marker\": {\"colorbar\": {\"outlinewidth\": 0, \"ticks\": \"\"}}, \"type\": \"scatter3d\"}], \"scattercarpet\": [{\"marker\": {\"colorbar\": {\"outlinewidth\": 0, \"ticks\": \"\"}}, \"type\": \"scattercarpet\"}], \"scattergeo\": [{\"marker\": {\"colorbar\": {\"outlinewidth\": 0, \"ticks\": \"\"}}, \"type\": \"scattergeo\"}], \"scattergl\": [{\"marker\": {\"colorbar\": {\"outlinewidth\": 0, \"ticks\": \"\"}}, \"type\": \"scattergl\"}], \"scattermapbox\": [{\"marker\": {\"colorbar\": {\"outlinewidth\": 0, \"ticks\": \"\"}}, \"type\": \"scattermapbox\"}], \"scatterpolar\": [{\"marker\": {\"colorbar\": {\"outlinewidth\": 0, \"ticks\": \"\"}}, \"type\": \"scatterpolar\"}], \"scatterpolargl\": [{\"marker\": {\"colorbar\": {\"outlinewidth\": 0, \"ticks\": \"\"}}, \"type\": \"scatterpolargl\"}], \"scatterternary\": [{\"marker\": {\"colorbar\": {\"outlinewidth\": 0, \"ticks\": \"\"}}, \"type\": \"scatterternary\"}], \"surface\": [{\"colorbar\": {\"outlinewidth\": 0, \"ticks\": \"\"}, \"colorscale\": [[0.0, \"#0d0887\"], [0.1111111111111111, \"#46039f\"], [0.2222222222222222, \"#7201a8\"], [0.3333333333333333, \"#9c179e\"], [0.4444444444444444, \"#bd3786\"], [0.5555555555555556, \"#d8576b\"], [0.6666666666666666, \"#ed7953\"], [0.7777777777777778, \"#fb9f3a\"], [0.8888888888888888, \"#fdca26\"], [1.0, \"#f0f921\"]], \"type\": \"surface\"}], \"table\": [{\"cells\": {\"fill\": {\"color\": \"#EBF0F8\"}, \"line\": {\"color\": \"white\"}}, \"header\": {\"fill\": {\"color\": \"#C8D4E3\"}, \"line\": {\"color\": \"white\"}}, \"type\": \"table\"}]}, \"layout\": {\"annotationdefaults\": {\"arrowcolor\": \"#2a3f5f\", \"arrowhead\": 0, \"arrowwidth\": 1}, \"coloraxis\": {\"colorbar\": {\"outlinewidth\": 0, \"ticks\": \"\"}}, \"colorscale\": {\"diverging\": [[0, \"#8e0152\"], [0.1, \"#c51b7d\"], [0.2, \"#de77ae\"], [0.3, \"#f1b6da\"], [0.4, \"#fde0ef\"], [0.5, \"#f7f7f7\"], [0.6, \"#e6f5d0\"], [0.7, \"#b8e186\"], [0.8, \"#7fbc41\"], [0.9, \"#4d9221\"], [1, \"#276419\"]], \"sequential\": [[0.0, \"#0d0887\"], [0.1111111111111111, \"#46039f\"], [0.2222222222222222, \"#7201a8\"], [0.3333333333333333, \"#9c179e\"], [0.4444444444444444, \"#bd3786\"], [0.5555555555555556, \"#d8576b\"], [0.6666666666666666, \"#ed7953\"], [0.7777777777777778, \"#fb9f3a\"], [0.8888888888888888, \"#fdca26\"], [1.0, \"#f0f921\"]], \"sequentialminus\": [[0.0, \"#0d0887\"], [0.1111111111111111, \"#46039f\"], [0.2222222222222222, \"#7201a8\"], [0.3333333333333333, \"#9c179e\"], [0.4444444444444444, \"#bd3786\"], [0.5555555555555556, \"#d8576b\"], [0.6666666666666666, \"#ed7953\"], [0.7777777777777778, \"#fb9f3a\"], [0.8888888888888888, \"#fdca26\"], [1.0, \"#f0f921\"]]}, \"colorway\": [\"#636efa\", \"#EF553B\", \"#00cc96\", \"#ab63fa\", \"#FFA15A\", \"#19d3f3\", \"#FF6692\", \"#B6E880\", \"#FF97FF\", \"#FECB52\"], \"font\": {\"color\": \"#2a3f5f\"}, \"geo\": {\"bgcolor\": \"white\", \"lakecolor\": \"white\", \"landcolor\": \"#E5ECF6\", \"showlakes\": true, \"showland\": true, \"subunitcolor\": \"white\"}, \"hoverlabel\": {\"align\": \"left\"}, \"hovermode\": \"closest\", \"mapbox\": {\"style\": \"light\"}, \"paper_bgcolor\": \"white\", \"plot_bgcolor\": \"#E5ECF6\", \"polar\": {\"angularaxis\": {\"gridcolor\": \"white\", \"linecolor\": \"white\", \"ticks\": \"\"}, \"bgcolor\": \"#E5ECF6\", \"radialaxis\": {\"gridcolor\": \"white\", \"linecolor\": \"white\", \"ticks\": \"\"}}, \"scene\": {\"xaxis\": {\"backgroundcolor\": \"#E5ECF6\", \"gridcolor\": \"white\", \"gridwidth\": 2, \"linecolor\": \"white\", \"showbackground\": true, \"ticks\": \"\", \"zerolinecolor\": \"white\"}, \"yaxis\": {\"backgroundcolor\": \"#E5ECF6\", \"gridcolor\": \"white\", \"gridwidth\": 2, \"linecolor\": \"white\", \"showbackground\": true, \"ticks\": \"\", \"zerolinecolor\": \"white\"}, \"zaxis\": {\"backgroundcolor\": \"#E5ECF6\", \"gridcolor\": \"white\", \"gridwidth\": 2, \"linecolor\": \"white\", \"showbackground\": true, \"ticks\": \"\", \"zerolinecolor\": \"white\"}}, \"shapedefaults\": {\"line\": {\"color\": \"#2a3f5f\"}}, \"ternary\": {\"aaxis\": {\"gridcolor\": \"white\", \"linecolor\": \"white\", \"ticks\": \"\"}, \"baxis\": {\"gridcolor\": \"white\", \"linecolor\": \"white\", \"ticks\": \"\"}, \"bgcolor\": \"#E5ECF6\", \"caxis\": {\"gridcolor\": \"white\", \"linecolor\": \"white\", \"ticks\": \"\"}}, \"title\": {\"x\": 0.05}, \"xaxis\": {\"automargin\": true, \"gridcolor\": \"white\", \"linecolor\": \"white\", \"ticks\": \"\", \"title\": {\"standoff\": 15}, \"zerolinecolor\": \"white\", \"zerolinewidth\": 2}, \"yaxis\": {\"automargin\": true, \"gridcolor\": \"white\", \"linecolor\": \"white\", \"ticks\": \"\", \"title\": {\"standoff\": 15}, \"zerolinecolor\": \"white\", \"zerolinewidth\": 2}}}, \"title\": {\"text\": \"Content added over the years\"}},\n",
              "                        {\"responsive\": true}\n",
              "                    ).then(function(){\n",
              "                            \n",
              "var gd = document.getElementById('77ccceb5-611d-4dd8-9af2-493f186e4263');\n",
              "var x = new MutationObserver(function (mutations, observer) {{\n",
              "        var display = window.getComputedStyle(gd).display;\n",
              "        if (!display || display === 'none') {{\n",
              "            console.log([gd, 'removed!']);\n",
              "            Plotly.purge(gd);\n",
              "            observer.disconnect();\n",
              "        }}\n",
              "}});\n",
              "\n",
              "// Listen for the removal of the full notebook cells\n",
              "var notebookContainer = gd.closest('#notebook-container');\n",
              "if (notebookContainer) {{\n",
              "    x.observe(notebookContainer, {childList: true});\n",
              "}}\n",
              "\n",
              "// Listen for the clearing of the current output cell\n",
              "var outputEl = gd.closest('.output');\n",
              "if (outputEl) {{\n",
              "    x.observe(outputEl, {childList: true});\n",
              "}}\n",
              "\n",
              "                        })\n",
              "                };\n",
              "                \n",
              "            </script>\n",
              "        </div>\n",
              "</body>\n",
              "</html>"
            ]
          },
          "metadata": {}
        }
      ]
    },
    {
      "cell_type": "code",
      "source": [
        "col = \"listed_in\"\n",
        "categories = \", \".join(movies['listed_in']).split(\", \")\n",
        "counter_list = collections.Counter(categories).most_common(25)\n",
        "labels = [_[0] for _ in counter_list][::-1]\n",
        "values = [_[1] for _ in counter_list][::-1]\n",
        "trace1 = go.Bar(y=labels, x=values, orientation=\"h\", name=\"TV Shows\", marker=dict(color=\"#a678de\"))\n",
        "\n",
        "data = [trace1]\n",
        "layout = go.Layout(title=\"Content added over the years\", height=600, legend=dict(x=0.1, y=1.1, orientation=\"h\"))\n",
        "fig = go.Figure(data, layout=layout)\n",
        "fig.show()"
      ],
      "metadata": {
        "colab": {
          "base_uri": "https://localhost:8080/",
          "height": 617
        },
        "id": "VZm_sVViIvt_",
        "outputId": "347b4486-890a-4024-d6e2-49b80fa5ad1c"
      },
      "execution_count": null,
      "outputs": [
        {
          "output_type": "display_data",
          "data": {
            "text/html": [
              "<html>\n",
              "<head><meta charset=\"utf-8\" /></head>\n",
              "<body>\n",
              "    <div>\n",
              "            <script src=\"https://cdnjs.cloudflare.com/ajax/libs/mathjax/2.7.5/MathJax.js?config=TeX-AMS-MML_SVG\"></script><script type=\"text/javascript\">if (window.MathJax) {MathJax.Hub.Config({SVG: {font: \"STIX-Web\"}});}</script>\n",
              "                <script type=\"text/javascript\">window.PlotlyConfig = {MathJaxConfig: 'local'};</script>\n",
              "        <script src=\"https://cdn.plot.ly/plotly-latest.min.js\"></script>    \n",
              "            <div id=\"9f1d43f3-a676-4f65-9fd2-6eb7febd7cb8\" class=\"plotly-graph-div\" style=\"height:600px; width:100%;\"></div>\n",
              "            <script type=\"text/javascript\">\n",
              "                \n",
              "                    window.PLOTLYENV=window.PLOTLYENV || {};\n",
              "                    \n",
              "                if (document.getElementById(\"9f1d43f3-a676-4f65-9fd2-6eb7febd7cb8\")) {\n",
              "                    Plotly.newPlot(\n",
              "                        '9f1d43f3-a676-4f65-9fd2-6eb7febd7cb8',\n",
              "                        [{\"marker\": {\"color\": \"#a678de\"}, \"name\": \"TV Shows\", \"orientation\": \"h\", \"type\": \"bar\", \"x\": [51, 57, 72, 75, 91, 106, 140, 149, 224, 230, 279, 284, 399, 444, 444, 444, 592, 679, 679, 707, 845, 1381, 1502, 1821, 3206], \"y\": [\"Fantasy\", \"Faith and Spirituality\", \"Fitness\", \"Young Adult Audience\", \"LGBTQ\", \"Sports\", \"Arthouse\", \"Music Videos and Concerts\", \"Western\", \"Adventure\", \"Animation\", \"International\", \"Science Fiction\", \"and Culture\", \"Entertainment\", \"Arts\", \"Romance\", \"Kids\", \"Documentary\", \"Special Interest\", \"Horror\", \"Suspense\", \"Action\", \"Comedy\", \"Drama\"]}],\n",
              "                        {\"height\": 600, \"legend\": {\"orientation\": \"h\", \"x\": 0.1, \"y\": 1.1}, \"template\": {\"data\": {\"bar\": [{\"error_x\": {\"color\": \"#2a3f5f\"}, \"error_y\": {\"color\": \"#2a3f5f\"}, \"marker\": {\"line\": {\"color\": \"#E5ECF6\", \"width\": 0.5}}, \"type\": \"bar\"}], \"barpolar\": [{\"marker\": {\"line\": {\"color\": \"#E5ECF6\", \"width\": 0.5}}, \"type\": \"barpolar\"}], \"carpet\": [{\"aaxis\": {\"endlinecolor\": \"#2a3f5f\", \"gridcolor\": \"white\", \"linecolor\": \"white\", \"minorgridcolor\": \"white\", \"startlinecolor\": \"#2a3f5f\"}, \"baxis\": {\"endlinecolor\": \"#2a3f5f\", \"gridcolor\": \"white\", \"linecolor\": \"white\", \"minorgridcolor\": \"white\", \"startlinecolor\": \"#2a3f5f\"}, \"type\": \"carpet\"}], \"choropleth\": [{\"colorbar\": {\"outlinewidth\": 0, \"ticks\": \"\"}, \"type\": \"choropleth\"}], \"contour\": [{\"colorbar\": {\"outlinewidth\": 0, \"ticks\": \"\"}, \"colorscale\": [[0.0, \"#0d0887\"], [0.1111111111111111, \"#46039f\"], [0.2222222222222222, \"#7201a8\"], [0.3333333333333333, \"#9c179e\"], [0.4444444444444444, \"#bd3786\"], [0.5555555555555556, \"#d8576b\"], [0.6666666666666666, \"#ed7953\"], [0.7777777777777778, \"#fb9f3a\"], [0.8888888888888888, \"#fdca26\"], [1.0, \"#f0f921\"]], \"type\": \"contour\"}], \"contourcarpet\": [{\"colorbar\": {\"outlinewidth\": 0, \"ticks\": \"\"}, \"type\": \"contourcarpet\"}], \"heatmap\": [{\"colorbar\": {\"outlinewidth\": 0, \"ticks\": \"\"}, \"colorscale\": [[0.0, \"#0d0887\"], [0.1111111111111111, \"#46039f\"], [0.2222222222222222, \"#7201a8\"], [0.3333333333333333, \"#9c179e\"], [0.4444444444444444, \"#bd3786\"], [0.5555555555555556, \"#d8576b\"], [0.6666666666666666, \"#ed7953\"], [0.7777777777777778, \"#fb9f3a\"], [0.8888888888888888, \"#fdca26\"], [1.0, \"#f0f921\"]], \"type\": \"heatmap\"}], \"heatmapgl\": [{\"colorbar\": {\"outlinewidth\": 0, \"ticks\": \"\"}, \"colorscale\": [[0.0, \"#0d0887\"], [0.1111111111111111, \"#46039f\"], [0.2222222222222222, \"#7201a8\"], [0.3333333333333333, \"#9c179e\"], [0.4444444444444444, \"#bd3786\"], [0.5555555555555556, \"#d8576b\"], [0.6666666666666666, \"#ed7953\"], [0.7777777777777778, \"#fb9f3a\"], [0.8888888888888888, \"#fdca26\"], [1.0, \"#f0f921\"]], \"type\": \"heatmapgl\"}], \"histogram\": [{\"marker\": {\"colorbar\": {\"outlinewidth\": 0, \"ticks\": \"\"}}, \"type\": \"histogram\"}], \"histogram2d\": [{\"colorbar\": {\"outlinewidth\": 0, \"ticks\": \"\"}, \"colorscale\": [[0.0, \"#0d0887\"], [0.1111111111111111, \"#46039f\"], [0.2222222222222222, \"#7201a8\"], [0.3333333333333333, \"#9c179e\"], [0.4444444444444444, \"#bd3786\"], [0.5555555555555556, \"#d8576b\"], [0.6666666666666666, \"#ed7953\"], [0.7777777777777778, \"#fb9f3a\"], [0.8888888888888888, \"#fdca26\"], [1.0, \"#f0f921\"]], \"type\": \"histogram2d\"}], \"histogram2dcontour\": [{\"colorbar\": {\"outlinewidth\": 0, \"ticks\": \"\"}, \"colorscale\": [[0.0, \"#0d0887\"], [0.1111111111111111, \"#46039f\"], [0.2222222222222222, \"#7201a8\"], [0.3333333333333333, \"#9c179e\"], [0.4444444444444444, \"#bd3786\"], [0.5555555555555556, \"#d8576b\"], [0.6666666666666666, \"#ed7953\"], [0.7777777777777778, \"#fb9f3a\"], [0.8888888888888888, \"#fdca26\"], [1.0, \"#f0f921\"]], \"type\": \"histogram2dcontour\"}], \"mesh3d\": [{\"colorbar\": {\"outlinewidth\": 0, \"ticks\": \"\"}, \"type\": \"mesh3d\"}], \"parcoords\": [{\"line\": {\"colorbar\": {\"outlinewidth\": 0, \"ticks\": \"\"}}, \"type\": \"parcoords\"}], \"pie\": [{\"automargin\": true, \"type\": \"pie\"}], \"scatter\": [{\"marker\": {\"colorbar\": {\"outlinewidth\": 0, \"ticks\": \"\"}}, \"type\": \"scatter\"}], \"scatter3d\": [{\"line\": {\"colorbar\": {\"outlinewidth\": 0, \"ticks\": \"\"}}, \"marker\": {\"colorbar\": {\"outlinewidth\": 0, \"ticks\": \"\"}}, \"type\": \"scatter3d\"}], \"scattercarpet\": [{\"marker\": {\"colorbar\": {\"outlinewidth\": 0, \"ticks\": \"\"}}, \"type\": \"scattercarpet\"}], \"scattergeo\": [{\"marker\": {\"colorbar\": {\"outlinewidth\": 0, \"ticks\": \"\"}}, \"type\": \"scattergeo\"}], \"scattergl\": [{\"marker\": {\"colorbar\": {\"outlinewidth\": 0, \"ticks\": \"\"}}, \"type\": \"scattergl\"}], \"scattermapbox\": [{\"marker\": {\"colorbar\": {\"outlinewidth\": 0, \"ticks\": \"\"}}, \"type\": \"scattermapbox\"}], \"scatterpolar\": [{\"marker\": {\"colorbar\": {\"outlinewidth\": 0, \"ticks\": \"\"}}, \"type\": \"scatterpolar\"}], \"scatterpolargl\": [{\"marker\": {\"colorbar\": {\"outlinewidth\": 0, \"ticks\": \"\"}}, \"type\": \"scatterpolargl\"}], \"scatterternary\": [{\"marker\": {\"colorbar\": {\"outlinewidth\": 0, \"ticks\": \"\"}}, \"type\": \"scatterternary\"}], \"surface\": [{\"colorbar\": {\"outlinewidth\": 0, \"ticks\": \"\"}, \"colorscale\": [[0.0, \"#0d0887\"], [0.1111111111111111, \"#46039f\"], [0.2222222222222222, \"#7201a8\"], [0.3333333333333333, \"#9c179e\"], [0.4444444444444444, \"#bd3786\"], [0.5555555555555556, \"#d8576b\"], [0.6666666666666666, \"#ed7953\"], [0.7777777777777778, \"#fb9f3a\"], [0.8888888888888888, \"#fdca26\"], [1.0, \"#f0f921\"]], \"type\": \"surface\"}], \"table\": [{\"cells\": {\"fill\": {\"color\": \"#EBF0F8\"}, \"line\": {\"color\": \"white\"}}, \"header\": {\"fill\": {\"color\": \"#C8D4E3\"}, \"line\": {\"color\": \"white\"}}, \"type\": \"table\"}]}, \"layout\": {\"annotationdefaults\": {\"arrowcolor\": \"#2a3f5f\", \"arrowhead\": 0, \"arrowwidth\": 1}, \"coloraxis\": {\"colorbar\": {\"outlinewidth\": 0, \"ticks\": \"\"}}, \"colorscale\": {\"diverging\": [[0, \"#8e0152\"], [0.1, \"#c51b7d\"], [0.2, \"#de77ae\"], [0.3, \"#f1b6da\"], [0.4, \"#fde0ef\"], [0.5, \"#f7f7f7\"], [0.6, \"#e6f5d0\"], [0.7, \"#b8e186\"], [0.8, \"#7fbc41\"], [0.9, \"#4d9221\"], [1, \"#276419\"]], \"sequential\": [[0.0, \"#0d0887\"], [0.1111111111111111, \"#46039f\"], [0.2222222222222222, \"#7201a8\"], [0.3333333333333333, \"#9c179e\"], [0.4444444444444444, \"#bd3786\"], [0.5555555555555556, \"#d8576b\"], [0.6666666666666666, \"#ed7953\"], [0.7777777777777778, \"#fb9f3a\"], [0.8888888888888888, \"#fdca26\"], [1.0, \"#f0f921\"]], \"sequentialminus\": [[0.0, \"#0d0887\"], [0.1111111111111111, \"#46039f\"], [0.2222222222222222, \"#7201a8\"], [0.3333333333333333, \"#9c179e\"], [0.4444444444444444, \"#bd3786\"], [0.5555555555555556, \"#d8576b\"], [0.6666666666666666, \"#ed7953\"], [0.7777777777777778, \"#fb9f3a\"], [0.8888888888888888, \"#fdca26\"], [1.0, \"#f0f921\"]]}, \"colorway\": [\"#636efa\", \"#EF553B\", \"#00cc96\", \"#ab63fa\", \"#FFA15A\", \"#19d3f3\", \"#FF6692\", \"#B6E880\", \"#FF97FF\", \"#FECB52\"], \"font\": {\"color\": \"#2a3f5f\"}, \"geo\": {\"bgcolor\": \"white\", \"lakecolor\": \"white\", \"landcolor\": \"#E5ECF6\", \"showlakes\": true, \"showland\": true, \"subunitcolor\": \"white\"}, \"hoverlabel\": {\"align\": \"left\"}, \"hovermode\": \"closest\", \"mapbox\": {\"style\": \"light\"}, \"paper_bgcolor\": \"white\", \"plot_bgcolor\": \"#E5ECF6\", \"polar\": {\"angularaxis\": {\"gridcolor\": \"white\", \"linecolor\": \"white\", \"ticks\": \"\"}, \"bgcolor\": \"#E5ECF6\", \"radialaxis\": {\"gridcolor\": \"white\", \"linecolor\": \"white\", \"ticks\": \"\"}}, \"scene\": {\"xaxis\": {\"backgroundcolor\": \"#E5ECF6\", \"gridcolor\": \"white\", \"gridwidth\": 2, \"linecolor\": \"white\", \"showbackground\": true, \"ticks\": \"\", \"zerolinecolor\": \"white\"}, \"yaxis\": {\"backgroundcolor\": \"#E5ECF6\", \"gridcolor\": \"white\", \"gridwidth\": 2, \"linecolor\": \"white\", \"showbackground\": true, \"ticks\": \"\", \"zerolinecolor\": \"white\"}, \"zaxis\": {\"backgroundcolor\": \"#E5ECF6\", \"gridcolor\": \"white\", \"gridwidth\": 2, \"linecolor\": \"white\", \"showbackground\": true, \"ticks\": \"\", \"zerolinecolor\": \"white\"}}, \"shapedefaults\": {\"line\": {\"color\": \"#2a3f5f\"}}, \"ternary\": {\"aaxis\": {\"gridcolor\": \"white\", \"linecolor\": \"white\", \"ticks\": \"\"}, \"baxis\": {\"gridcolor\": \"white\", \"linecolor\": \"white\", \"ticks\": \"\"}, \"bgcolor\": \"#E5ECF6\", \"caxis\": {\"gridcolor\": \"white\", \"linecolor\": \"white\", \"ticks\": \"\"}}, \"title\": {\"x\": 0.05}, \"xaxis\": {\"automargin\": true, \"gridcolor\": \"white\", \"linecolor\": \"white\", \"ticks\": \"\", \"title\": {\"standoff\": 15}, \"zerolinecolor\": \"white\", \"zerolinewidth\": 2}, \"yaxis\": {\"automargin\": true, \"gridcolor\": \"white\", \"linecolor\": \"white\", \"ticks\": \"\", \"title\": {\"standoff\": 15}, \"zerolinecolor\": \"white\", \"zerolinewidth\": 2}}}, \"title\": {\"text\": \"Content added over the years\"}},\n",
              "                        {\"responsive\": true}\n",
              "                    ).then(function(){\n",
              "                            \n",
              "var gd = document.getElementById('9f1d43f3-a676-4f65-9fd2-6eb7febd7cb8');\n",
              "var x = new MutationObserver(function (mutations, observer) {{\n",
              "        var display = window.getComputedStyle(gd).display;\n",
              "        if (!display || display === 'none') {{\n",
              "            console.log([gd, 'removed!']);\n",
              "            Plotly.purge(gd);\n",
              "            observer.disconnect();\n",
              "        }}\n",
              "}});\n",
              "\n",
              "// Listen for the removal of the full notebook cells\n",
              "var notebookContainer = gd.closest('#notebook-container');\n",
              "if (notebookContainer) {{\n",
              "    x.observe(notebookContainer, {childList: true});\n",
              "}}\n",
              "\n",
              "// Listen for the clearing of the current output cell\n",
              "var outputEl = gd.closest('.output');\n",
              "if (outputEl) {{\n",
              "    x.observe(outputEl, {childList: true});\n",
              "}}\n",
              "\n",
              "                        })\n",
              "                };\n",
              "                \n",
              "            </script>\n",
              "        </div>\n",
              "</body>\n",
              "</html>"
            ]
          },
          "metadata": {}
        }
      ]
    },
    {
      "cell_type": "code",
      "source": [
        "col = \"director\"\n",
        "directors = movies[col]\n",
        "counter_list = collections.Counter(directors).most_common(25)\n",
        "labels = [_[0] for _ in counter_list][::-1]\n",
        "values = [_[1] for _ in counter_list][::-1]\n",
        "trace1 = go.Bar(y=labels, x=values, orientation=\"h\", name=\"Directors\", marker=dict(color=\"#a678de\"))\n",
        "\n",
        "data = [trace1]\n",
        "layout = go.Layout(title=\"Top movie directors\", height=600, legend=dict(x=0.1, y=1.1, orientation=\"h\"))\n",
        "fig = go.Figure(data, layout=layout)\n",
        "fig.show()"
      ],
      "metadata": {
        "colab": {
          "base_uri": "https://localhost:8080/",
          "height": 617
        },
        "id": "wrYE9V56RKyd",
        "outputId": "53549f94-84ef-4c20-ff34-47507496cfe2"
      },
      "execution_count": null,
      "outputs": [
        {
          "output_type": "display_data",
          "data": {
            "text/html": [
              "<html>\n",
              "<head><meta charset=\"utf-8\" /></head>\n",
              "<body>\n",
              "    <div>\n",
              "            <script src=\"https://cdnjs.cloudflare.com/ajax/libs/mathjax/2.7.5/MathJax.js?config=TeX-AMS-MML_SVG\"></script><script type=\"text/javascript\">if (window.MathJax) {MathJax.Hub.Config({SVG: {font: \"STIX-Web\"}});}</script>\n",
              "                <script type=\"text/javascript\">window.PlotlyConfig = {MathJaxConfig: 'local'};</script>\n",
              "        <script src=\"https://cdn.plot.ly/plotly-latest.min.js\"></script>    \n",
              "            <div id=\"05a83f7a-cf93-4926-bb14-205d479e4b39\" class=\"plotly-graph-div\" style=\"height:600px; width:100%;\"></div>\n",
              "            <script type=\"text/javascript\">\n",
              "                \n",
              "                    window.PLOTLYENV=window.PLOTLYENV || {};\n",
              "                    \n",
              "                if (document.getElementById(\"05a83f7a-cf93-4926-bb14-205d479e4b39\")) {\n",
              "                    Plotly.newPlot(\n",
              "                        '05a83f7a-cf93-4926-bb14-205d479e4b39',\n",
              "                        [{\"marker\": {\"color\": \"#a678de\"}, \"name\": \"Directors\", \"orientation\": \"h\", \"type\": \"bar\", \"x\": [9, 9, 9, 9, 9, 10, 10, 10, 11, 11, 11, 12, 12, 13, 14, 15, 16, 20, 22, 30, 34, 37, 61, 113, 228], \"y\": [\"Christian Hughes\", \"John Asher\", \"Doug Campbell\", \"Frank McDonald\", \"William Hoareau\", \"Mora TV\", \"Bruce Legg\", \"Tim Gray\", \"Pinkfong\", \"Aaron Michael\", \"William Nigh\", \"Michael J. Nelson\", \"George Archainbaud\", \"Joseph Kane\", \"Baeble Music\", \"Brian Volk-Weiss\", \"1\", \"John English\", \"Manny Rodriguez\", \"Arthur van Merwijk\", \"Jay Chapman\", \"Moonbug Entertainment\", \"Cannis Holder\", \"Mark Knight\", null]}],\n",
              "                        {\"height\": 600, \"legend\": {\"orientation\": \"h\", \"x\": 0.1, \"y\": 1.1}, \"template\": {\"data\": {\"bar\": [{\"error_x\": {\"color\": \"#2a3f5f\"}, \"error_y\": {\"color\": \"#2a3f5f\"}, \"marker\": {\"line\": {\"color\": \"#E5ECF6\", \"width\": 0.5}}, \"type\": \"bar\"}], \"barpolar\": [{\"marker\": {\"line\": {\"color\": \"#E5ECF6\", \"width\": 0.5}}, \"type\": \"barpolar\"}], \"carpet\": [{\"aaxis\": {\"endlinecolor\": \"#2a3f5f\", \"gridcolor\": \"white\", \"linecolor\": \"white\", \"minorgridcolor\": \"white\", \"startlinecolor\": \"#2a3f5f\"}, \"baxis\": {\"endlinecolor\": \"#2a3f5f\", \"gridcolor\": \"white\", \"linecolor\": \"white\", \"minorgridcolor\": \"white\", \"startlinecolor\": \"#2a3f5f\"}, \"type\": \"carpet\"}], \"choropleth\": [{\"colorbar\": {\"outlinewidth\": 0, \"ticks\": \"\"}, \"type\": \"choropleth\"}], \"contour\": [{\"colorbar\": {\"outlinewidth\": 0, \"ticks\": \"\"}, \"colorscale\": [[0.0, \"#0d0887\"], [0.1111111111111111, \"#46039f\"], [0.2222222222222222, \"#7201a8\"], [0.3333333333333333, \"#9c179e\"], [0.4444444444444444, \"#bd3786\"], [0.5555555555555556, \"#d8576b\"], [0.6666666666666666, \"#ed7953\"], [0.7777777777777778, \"#fb9f3a\"], [0.8888888888888888, \"#fdca26\"], [1.0, \"#f0f921\"]], \"type\": \"contour\"}], \"contourcarpet\": [{\"colorbar\": {\"outlinewidth\": 0, \"ticks\": \"\"}, \"type\": \"contourcarpet\"}], \"heatmap\": [{\"colorbar\": {\"outlinewidth\": 0, \"ticks\": \"\"}, \"colorscale\": [[0.0, \"#0d0887\"], [0.1111111111111111, \"#46039f\"], [0.2222222222222222, \"#7201a8\"], [0.3333333333333333, \"#9c179e\"], [0.4444444444444444, \"#bd3786\"], [0.5555555555555556, \"#d8576b\"], [0.6666666666666666, \"#ed7953\"], [0.7777777777777778, \"#fb9f3a\"], [0.8888888888888888, \"#fdca26\"], [1.0, \"#f0f921\"]], \"type\": \"heatmap\"}], \"heatmapgl\": [{\"colorbar\": {\"outlinewidth\": 0, \"ticks\": \"\"}, \"colorscale\": [[0.0, \"#0d0887\"], [0.1111111111111111, \"#46039f\"], [0.2222222222222222, \"#7201a8\"], [0.3333333333333333, \"#9c179e\"], [0.4444444444444444, \"#bd3786\"], [0.5555555555555556, \"#d8576b\"], [0.6666666666666666, \"#ed7953\"], [0.7777777777777778, \"#fb9f3a\"], [0.8888888888888888, \"#fdca26\"], [1.0, \"#f0f921\"]], \"type\": \"heatmapgl\"}], \"histogram\": [{\"marker\": {\"colorbar\": {\"outlinewidth\": 0, \"ticks\": \"\"}}, \"type\": \"histogram\"}], \"histogram2d\": [{\"colorbar\": {\"outlinewidth\": 0, \"ticks\": \"\"}, \"colorscale\": [[0.0, \"#0d0887\"], [0.1111111111111111, \"#46039f\"], [0.2222222222222222, \"#7201a8\"], [0.3333333333333333, \"#9c179e\"], [0.4444444444444444, \"#bd3786\"], [0.5555555555555556, \"#d8576b\"], [0.6666666666666666, \"#ed7953\"], [0.7777777777777778, \"#fb9f3a\"], [0.8888888888888888, \"#fdca26\"], [1.0, \"#f0f921\"]], \"type\": \"histogram2d\"}], \"histogram2dcontour\": [{\"colorbar\": {\"outlinewidth\": 0, \"ticks\": \"\"}, \"colorscale\": [[0.0, \"#0d0887\"], [0.1111111111111111, \"#46039f\"], [0.2222222222222222, \"#7201a8\"], [0.3333333333333333, \"#9c179e\"], [0.4444444444444444, \"#bd3786\"], [0.5555555555555556, \"#d8576b\"], [0.6666666666666666, \"#ed7953\"], [0.7777777777777778, \"#fb9f3a\"], [0.8888888888888888, \"#fdca26\"], [1.0, \"#f0f921\"]], \"type\": \"histogram2dcontour\"}], \"mesh3d\": [{\"colorbar\": {\"outlinewidth\": 0, \"ticks\": \"\"}, \"type\": \"mesh3d\"}], \"parcoords\": [{\"line\": {\"colorbar\": {\"outlinewidth\": 0, \"ticks\": \"\"}}, \"type\": \"parcoords\"}], \"pie\": [{\"automargin\": true, \"type\": \"pie\"}], \"scatter\": [{\"marker\": {\"colorbar\": {\"outlinewidth\": 0, \"ticks\": \"\"}}, \"type\": \"scatter\"}], \"scatter3d\": [{\"line\": {\"colorbar\": {\"outlinewidth\": 0, \"ticks\": \"\"}}, \"marker\": {\"colorbar\": {\"outlinewidth\": 0, \"ticks\": \"\"}}, \"type\": \"scatter3d\"}], \"scattercarpet\": [{\"marker\": {\"colorbar\": {\"outlinewidth\": 0, \"ticks\": \"\"}}, \"type\": \"scattercarpet\"}], \"scattergeo\": [{\"marker\": {\"colorbar\": {\"outlinewidth\": 0, \"ticks\": \"\"}}, \"type\": \"scattergeo\"}], \"scattergl\": [{\"marker\": {\"colorbar\": {\"outlinewidth\": 0, \"ticks\": \"\"}}, \"type\": \"scattergl\"}], \"scattermapbox\": [{\"marker\": {\"colorbar\": {\"outlinewidth\": 0, \"ticks\": \"\"}}, \"type\": \"scattermapbox\"}], \"scatterpolar\": [{\"marker\": {\"colorbar\": {\"outlinewidth\": 0, \"ticks\": \"\"}}, \"type\": \"scatterpolar\"}], \"scatterpolargl\": [{\"marker\": {\"colorbar\": {\"outlinewidth\": 0, \"ticks\": \"\"}}, \"type\": \"scatterpolargl\"}], \"scatterternary\": [{\"marker\": {\"colorbar\": {\"outlinewidth\": 0, \"ticks\": \"\"}}, \"type\": \"scatterternary\"}], \"surface\": [{\"colorbar\": {\"outlinewidth\": 0, \"ticks\": \"\"}, \"colorscale\": [[0.0, \"#0d0887\"], [0.1111111111111111, \"#46039f\"], [0.2222222222222222, \"#7201a8\"], [0.3333333333333333, \"#9c179e\"], [0.4444444444444444, \"#bd3786\"], [0.5555555555555556, \"#d8576b\"], [0.6666666666666666, \"#ed7953\"], [0.7777777777777778, \"#fb9f3a\"], [0.8888888888888888, \"#fdca26\"], [1.0, \"#f0f921\"]], \"type\": \"surface\"}], \"table\": [{\"cells\": {\"fill\": {\"color\": \"#EBF0F8\"}, \"line\": {\"color\": \"white\"}}, \"header\": {\"fill\": {\"color\": \"#C8D4E3\"}, \"line\": {\"color\": \"white\"}}, \"type\": \"table\"}]}, \"layout\": {\"annotationdefaults\": {\"arrowcolor\": \"#2a3f5f\", \"arrowhead\": 0, \"arrowwidth\": 1}, \"coloraxis\": {\"colorbar\": {\"outlinewidth\": 0, \"ticks\": \"\"}}, \"colorscale\": {\"diverging\": [[0, \"#8e0152\"], [0.1, \"#c51b7d\"], [0.2, \"#de77ae\"], [0.3, \"#f1b6da\"], [0.4, \"#fde0ef\"], [0.5, \"#f7f7f7\"], [0.6, \"#e6f5d0\"], [0.7, \"#b8e186\"], [0.8, \"#7fbc41\"], [0.9, \"#4d9221\"], [1, \"#276419\"]], \"sequential\": [[0.0, \"#0d0887\"], [0.1111111111111111, \"#46039f\"], [0.2222222222222222, \"#7201a8\"], [0.3333333333333333, \"#9c179e\"], [0.4444444444444444, \"#bd3786\"], [0.5555555555555556, \"#d8576b\"], [0.6666666666666666, \"#ed7953\"], [0.7777777777777778, \"#fb9f3a\"], [0.8888888888888888, \"#fdca26\"], [1.0, \"#f0f921\"]], \"sequentialminus\": [[0.0, \"#0d0887\"], [0.1111111111111111, \"#46039f\"], [0.2222222222222222, \"#7201a8\"], [0.3333333333333333, \"#9c179e\"], [0.4444444444444444, \"#bd3786\"], [0.5555555555555556, \"#d8576b\"], [0.6666666666666666, \"#ed7953\"], [0.7777777777777778, \"#fb9f3a\"], [0.8888888888888888, \"#fdca26\"], [1.0, \"#f0f921\"]]}, \"colorway\": [\"#636efa\", \"#EF553B\", \"#00cc96\", \"#ab63fa\", \"#FFA15A\", \"#19d3f3\", \"#FF6692\", \"#B6E880\", \"#FF97FF\", \"#FECB52\"], \"font\": {\"color\": \"#2a3f5f\"}, \"geo\": {\"bgcolor\": \"white\", \"lakecolor\": \"white\", \"landcolor\": \"#E5ECF6\", \"showlakes\": true, \"showland\": true, \"subunitcolor\": \"white\"}, \"hoverlabel\": {\"align\": \"left\"}, \"hovermode\": \"closest\", \"mapbox\": {\"style\": \"light\"}, \"paper_bgcolor\": \"white\", \"plot_bgcolor\": \"#E5ECF6\", \"polar\": {\"angularaxis\": {\"gridcolor\": \"white\", \"linecolor\": \"white\", \"ticks\": \"\"}, \"bgcolor\": \"#E5ECF6\", \"radialaxis\": {\"gridcolor\": \"white\", \"linecolor\": \"white\", \"ticks\": \"\"}}, \"scene\": {\"xaxis\": {\"backgroundcolor\": \"#E5ECF6\", \"gridcolor\": \"white\", \"gridwidth\": 2, \"linecolor\": \"white\", \"showbackground\": true, \"ticks\": \"\", \"zerolinecolor\": \"white\"}, \"yaxis\": {\"backgroundcolor\": \"#E5ECF6\", \"gridcolor\": \"white\", \"gridwidth\": 2, \"linecolor\": \"white\", \"showbackground\": true, \"ticks\": \"\", \"zerolinecolor\": \"white\"}, \"zaxis\": {\"backgroundcolor\": \"#E5ECF6\", \"gridcolor\": \"white\", \"gridwidth\": 2, \"linecolor\": \"white\", \"showbackground\": true, \"ticks\": \"\", \"zerolinecolor\": \"white\"}}, \"shapedefaults\": {\"line\": {\"color\": \"#2a3f5f\"}}, \"ternary\": {\"aaxis\": {\"gridcolor\": \"white\", \"linecolor\": \"white\", \"ticks\": \"\"}, \"baxis\": {\"gridcolor\": \"white\", \"linecolor\": \"white\", \"ticks\": \"\"}, \"bgcolor\": \"#E5ECF6\", \"caxis\": {\"gridcolor\": \"white\", \"linecolor\": \"white\", \"ticks\": \"\"}}, \"title\": {\"x\": 0.05}, \"xaxis\": {\"automargin\": true, \"gridcolor\": \"white\", \"linecolor\": \"white\", \"ticks\": \"\", \"title\": {\"standoff\": 15}, \"zerolinecolor\": \"white\", \"zerolinewidth\": 2}, \"yaxis\": {\"automargin\": true, \"gridcolor\": \"white\", \"linecolor\": \"white\", \"ticks\": \"\", \"title\": {\"standoff\": 15}, \"zerolinecolor\": \"white\", \"zerolinewidth\": 2}}}, \"title\": {\"text\": \"Top movie directors\"}},\n",
              "                        {\"responsive\": true}\n",
              "                    ).then(function(){\n",
              "                            \n",
              "var gd = document.getElementById('05a83f7a-cf93-4926-bb14-205d479e4b39');\n",
              "var x = new MutationObserver(function (mutations, observer) {{\n",
              "        var display = window.getComputedStyle(gd).display;\n",
              "        if (!display || display === 'none') {{\n",
              "            console.log([gd, 'removed!']);\n",
              "            Plotly.purge(gd);\n",
              "            observer.disconnect();\n",
              "        }}\n",
              "}});\n",
              "\n",
              "// Listen for the removal of the full notebook cells\n",
              "var notebookContainer = gd.closest('#notebook-container');\n",
              "if (notebookContainer) {{\n",
              "    x.observe(notebookContainer, {childList: true});\n",
              "}}\n",
              "\n",
              "// Listen for the clearing of the current output cell\n",
              "var outputEl = gd.closest('.output');\n",
              "if (outputEl) {{\n",
              "    x.observe(outputEl, {childList: true});\n",
              "}}\n",
              "\n",
              "                        })\n",
              "                };\n",
              "                \n",
              "            </script>\n",
              "        </div>\n",
              "</body>\n",
              "</html>"
            ]
          },
          "metadata": {}
        }
      ]
    },
    {
      "cell_type": "code",
      "source": [
        "tvshows.info()"
      ],
      "metadata": {
        "colab": {
          "base_uri": "https://localhost:8080/"
        },
        "id": "QBgvpIOSSwfl",
        "outputId": "b85d5650-74e8-42e6-b556-3f47ae33e836"
      },
      "execution_count": null,
      "outputs": [
        {
          "output_type": "stream",
          "name": "stdout",
          "text": [
            "<class 'pandas.core.frame.DataFrame'>\n",
            "Int64Index: 1854 entries, 17 to 9666\n",
            "Data columns (total 15 columns):\n",
            " #   Column        Non-Null Count  Dtype         \n",
            "---  ------        --------------  -----         \n",
            " 0   show_id       1854 non-null   object        \n",
            " 1   type          1854 non-null   object        \n",
            " 2   title         1854 non-null   object        \n",
            " 3   director      0 non-null      object        \n",
            " 4   cast          1385 non-null   object        \n",
            " 5   country       103 non-null    object        \n",
            " 6   date_added    139 non-null    datetime64[ns]\n",
            " 7   release_year  1854 non-null   int64         \n",
            " 8   rating        1848 non-null   object        \n",
            " 9   duration      1854 non-null   object        \n",
            " 10  listed_in     1854 non-null   object        \n",
            " 11  description   1854 non-null   object        \n",
            " 12  year_added    139 non-null    float64       \n",
            " 13  month_added   139 non-null    float64       \n",
            " 14  season_count  1854 non-null   object        \n",
            "dtypes: datetime64[ns](1), float64(2), int64(1), object(11)\n",
            "memory usage: 231.8+ KB\n"
          ]
        }
      ]
    },
    {
      "cell_type": "code",
      "source": [
        "movies.info()"
      ],
      "metadata": {
        "colab": {
          "base_uri": "https://localhost:8080/"
        },
        "id": "vPdzW4rddt5R",
        "outputId": "495e3bd1-7a36-40a1-8a86-1222b39a1673"
      },
      "execution_count": null,
      "outputs": [
        {
          "output_type": "stream",
          "name": "stdout",
          "text": [
            "<class 'pandas.core.frame.DataFrame'>\n",
            "Int64Index: 7814 entries, 0 to 9667\n",
            "Data columns (total 15 columns):\n",
            " #   Column        Non-Null Count  Dtype         \n",
            "---  ------        --------------  -----         \n",
            " 0   show_id       7814 non-null   object        \n",
            " 1   type          7814 non-null   object        \n",
            " 2   title         7814 non-null   object        \n",
            " 3   director      7586 non-null   object        \n",
            " 4   cast          7050 non-null   object        \n",
            " 5   country       569 non-null    object        \n",
            " 6   date_added    16 non-null     datetime64[ns]\n",
            " 7   release_year  7814 non-null   int64         \n",
            " 8   rating        7483 non-null   object        \n",
            " 9   duration      7814 non-null   object        \n",
            " 10  listed_in     7814 non-null   object        \n",
            " 11  description   7814 non-null   object        \n",
            " 12  year_added    16 non-null     float64       \n",
            " 13  month_added   16 non-null     float64       \n",
            " 14  season_count  7814 non-null   object        \n",
            "dtypes: datetime64[ns](1), float64(2), int64(1), object(11)\n",
            "memory usage: 976.8+ KB\n"
          ]
        }
      ]
    },
    {
      "cell_type": "code",
      "source": [
        "df.drop(columns=['data_added', 'country', 'description'], inplace=True)\n",
        "df['rating'] = df['rating'].replace([''],'ALL')"
      ],
      "metadata": {
        "colab": {
          "base_uri": "https://localhost:8080/",
          "height": 165
        },
        "id": "wrgn-UYPkujL",
        "outputId": "5b125338-43e3-4b64-b0e6-a60e319bd1b5"
      },
      "execution_count": null,
      "outputs": [
        {
          "output_type": "error",
          "ename": "NameError",
          "evalue": "ignored",
          "traceback": [
            "\u001b[0;31m---------------------------------------------------------------------------\u001b[0m",
            "\u001b[0;31mNameError\u001b[0m                                 Traceback (most recent call last)",
            "\u001b[0;32m<ipython-input-14-11b0740a500c>\u001b[0m in \u001b[0;36m<module>\u001b[0;34m()\u001b[0m\n\u001b[0;32m----> 1\u001b[0;31m \u001b[0mdf\u001b[0m\u001b[0;34m.\u001b[0m\u001b[0mdrop\u001b[0m\u001b[0;34m(\u001b[0m\u001b[0mcolumns\u001b[0m\u001b[0;34m=\u001b[0m\u001b[0;34m[\u001b[0m\u001b[0;34m'data_added'\u001b[0m\u001b[0;34m,\u001b[0m \u001b[0;34m'country'\u001b[0m\u001b[0;34m,\u001b[0m \u001b[0;34m'description'\u001b[0m\u001b[0;34m]\u001b[0m\u001b[0;34m,\u001b[0m \u001b[0minplace\u001b[0m\u001b[0;34m=\u001b[0m\u001b[0;32mTrue\u001b[0m\u001b[0;34m)\u001b[0m\u001b[0;34m\u001b[0m\u001b[0;34m\u001b[0m\u001b[0m\n\u001b[0m",
            "\u001b[0;31mNameError\u001b[0m: name 'df' is not defined"
          ]
        }
      ]
    }
  ]
}